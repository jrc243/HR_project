{
 "cells": [
  {
   "cell_type": "code",
   "execution_count": 1,
   "metadata": {},
   "outputs": [],
   "source": [
    "import pandas as pd"
   ]
  },
  {
   "cell_type": "code",
   "execution_count": 2,
   "metadata": {},
   "outputs": [],
   "source": [
    "import numpy as np"
   ]
  },
  {
   "cell_type": "code",
   "execution_count": 3,
   "metadata": {},
   "outputs": [],
   "source": [
    "import matplotlib.pyplot as plt"
   ]
  },
  {
   "cell_type": "code",
   "execution_count": 4,
   "metadata": {},
   "outputs": [],
   "source": [
    "import seaborn as sns"
   ]
  },
  {
   "cell_type": "code",
   "execution_count": 5,
   "metadata": {},
   "outputs": [],
   "source": [
    "import itertools\n",
    "## used for concatenation"
   ]
  },
  {
   "cell_type": "code",
   "execution_count": 6,
   "metadata": {},
   "outputs": [],
   "source": [
    "from scipy import stats"
   ]
  },
  {
   "cell_type": "code",
   "execution_count": 7,
   "metadata": {},
   "outputs": [],
   "source": [
    "from numpy import percentile"
   ]
  },
  {
   "cell_type": "code",
   "execution_count": 8,
   "metadata": {},
   "outputs": [],
   "source": [
    "df=pd.read_csv(\"Test.csv\")"
   ]
  },
  {
   "cell_type": "code",
   "execution_count": 9,
   "metadata": {},
   "outputs": [
    {
     "name": "stdout",
     "output_type": "stream",
     "text": [
      "  Employee_ID Gender   Age  Education_Level Relationship_Status     Hometown  \\\n",
      "0   EID_22713      F  32.0                5              Single  Springfield   \n",
      "1    EID_9658      M  65.0                2              Single      Lebanon   \n",
      "2   EID_22203      M  52.0                3             Married  Springfield   \n",
      "3    EID_7652      M  50.0                5              Single   Washington   \n",
      "4    EID_6516      F  44.0                3             Married     Franklin   \n",
      "\n",
      "        Unit Decision_skill_possess  Time_of_service  Time_since_promotion  \\\n",
      "0        R&D             Conceptual              7.0                     4   \n",
      "1         IT              Directive             41.0                     2   \n",
      "2      Sales              Directive             21.0                     3   \n",
      "3  Marketing             Analytical             11.0                     4   \n",
      "4        R&D             Conceptual             12.0                     4   \n",
      "\n",
      "   ...  Pay_Scale  Compensation_and_Benefits  Work_Life_balance  VAR1    VAR2  \\\n",
      "0  ...        4.0                      type2                1.0     3 -0.9612   \n",
      "1  ...        1.0                      type2                1.0     4 -0.9612   \n",
      "2  ...        8.0                      type3                1.0     4 -0.1048   \n",
      "3  ...        2.0                      type0                4.0     3 -0.1048   \n",
      "4  ...        2.0                      type2                4.0     4  1.6081   \n",
      "\n",
      "     VAR3  VAR4  VAR5  VAR6  VAR7  \n",
      "0 -0.4537   2.0     1     8     4  \n",
      "1  0.7075   1.0     2     8     2  \n",
      "2  0.7075   2.0     1     9     3  \n",
      "3  0.7075   2.0     2     8     3  \n",
      "4  0.7075   2.0     2     7     4  \n",
      "\n",
      "[5 rows x 23 columns]\n"
     ]
    }
   ],
   "source": [
    "print(df.head())"
   ]
  },
  {
   "cell_type": "code",
   "execution_count": 10,
   "metadata": {},
   "outputs": [
    {
     "name": "stdout",
     "output_type": "stream",
     "text": [
      "<class 'pandas.core.frame.DataFrame'>\n",
      "RangeIndex: 3000 entries, 0 to 2999\n",
      "Data columns (total 23 columns):\n",
      " #   Column                     Non-Null Count  Dtype  \n",
      "---  ------                     --------------  -----  \n",
      " 0   Employee_ID                3000 non-null   object \n",
      " 1   Gender                     3000 non-null   object \n",
      " 2   Age                        2839 non-null   float64\n",
      " 3   Education_Level            3000 non-null   int64  \n",
      " 4   Relationship_Status        3000 non-null   object \n",
      " 5   Hometown                   3000 non-null   object \n",
      " 6   Unit                       3000 non-null   object \n",
      " 7   Decision_skill_possess     3000 non-null   object \n",
      " 8   Time_of_service            2948 non-null   float64\n",
      " 9   Time_since_promotion       3000 non-null   int64  \n",
      " 10  growth_rate                3000 non-null   int64  \n",
      " 11  Travel_Rate                3000 non-null   int64  \n",
      " 12  Post_Level                 3000 non-null   int64  \n",
      " 13  Pay_Scale                  2997 non-null   float64\n",
      " 14  Compensation_and_Benefits  3000 non-null   object \n",
      " 15  Work_Life_balance          2995 non-null   float64\n",
      " 16  VAR1                       3000 non-null   int64  \n",
      " 17  VAR2                       2783 non-null   float64\n",
      " 18  VAR3                       3000 non-null   float64\n",
      " 19  VAR4                       2702 non-null   float64\n",
      " 20  VAR5                       3000 non-null   int64  \n",
      " 21  VAR6                       3000 non-null   int64  \n",
      " 22  VAR7                       3000 non-null   int64  \n",
      "dtypes: float64(7), int64(9), object(7)\n",
      "memory usage: 457.1+ KB\n"
     ]
    }
   ],
   "source": [
    "df.info()"
   ]
  },
  {
   "cell_type": "code",
   "execution_count": 11,
   "metadata": {},
   "outputs": [
    {
     "data": {
      "text/plain": [
       "Employee_ID                    0\n",
       "Gender                         0\n",
       "Age                          161\n",
       "Education_Level                0\n",
       "Relationship_Status            0\n",
       "Hometown                       0\n",
       "Unit                           0\n",
       "Decision_skill_possess         0\n",
       "Time_of_service               52\n",
       "Time_since_promotion           0\n",
       "growth_rate                    0\n",
       "Travel_Rate                    0\n",
       "Post_Level                     0\n",
       "Pay_Scale                      3\n",
       "Compensation_and_Benefits      0\n",
       "Work_Life_balance              5\n",
       "VAR1                           0\n",
       "VAR2                         217\n",
       "VAR3                           0\n",
       "VAR4                         298\n",
       "VAR5                           0\n",
       "VAR6                           0\n",
       "VAR7                           0\n",
       "dtype: int64"
      ]
     },
     "execution_count": 11,
     "metadata": {},
     "output_type": "execute_result"
    }
   ],
   "source": [
    "df.isnull().sum(axis = 0)"
   ]
  },
  {
   "cell_type": "code",
   "execution_count": 12,
   "metadata": {},
   "outputs": [
    {
     "data": {
      "text/html": [
       "<div>\n",
       "<style scoped>\n",
       "    .dataframe tbody tr th:only-of-type {\n",
       "        vertical-align: middle;\n",
       "    }\n",
       "\n",
       "    .dataframe tbody tr th {\n",
       "        vertical-align: top;\n",
       "    }\n",
       "\n",
       "    .dataframe thead th {\n",
       "        text-align: right;\n",
       "    }\n",
       "</style>\n",
       "<table border=\"1\" class=\"dataframe\">\n",
       "  <thead>\n",
       "    <tr style=\"text-align: right;\">\n",
       "      <th></th>\n",
       "      <th>Age</th>\n",
       "      <th>Education_Level</th>\n",
       "      <th>Time_of_service</th>\n",
       "      <th>Time_since_promotion</th>\n",
       "      <th>growth_rate</th>\n",
       "      <th>Travel_Rate</th>\n",
       "      <th>Post_Level</th>\n",
       "      <th>Pay_Scale</th>\n",
       "      <th>Work_Life_balance</th>\n",
       "      <th>VAR1</th>\n",
       "      <th>VAR2</th>\n",
       "      <th>VAR3</th>\n",
       "      <th>VAR4</th>\n",
       "      <th>VAR5</th>\n",
       "      <th>VAR6</th>\n",
       "      <th>VAR7</th>\n",
       "    </tr>\n",
       "  </thead>\n",
       "  <tbody>\n",
       "    <tr>\n",
       "      <th>count</th>\n",
       "      <td>2839.000000</td>\n",
       "      <td>3000.000000</td>\n",
       "      <td>2948.000000</td>\n",
       "      <td>3000.000000</td>\n",
       "      <td>3000.000000</td>\n",
       "      <td>3000.000000</td>\n",
       "      <td>3000.000000</td>\n",
       "      <td>2997.000000</td>\n",
       "      <td>2995.000000</td>\n",
       "      <td>3000.000000</td>\n",
       "      <td>2783.000000</td>\n",
       "      <td>3000.000000</td>\n",
       "      <td>2702.000000</td>\n",
       "      <td>3000.000000</td>\n",
       "      <td>3000.000000</td>\n",
       "      <td>3000.000000</td>\n",
       "    </tr>\n",
       "    <tr>\n",
       "      <th>mean</th>\n",
       "      <td>39.797816</td>\n",
       "      <td>3.226333</td>\n",
       "      <td>13.403664</td>\n",
       "      <td>2.405333</td>\n",
       "      <td>46.878000</td>\n",
       "      <td>0.827333</td>\n",
       "      <td>2.794667</td>\n",
       "      <td>6.060727</td>\n",
       "      <td>2.380968</td>\n",
       "      <td>3.067000</td>\n",
       "      <td>0.027530</td>\n",
       "      <td>0.012328</td>\n",
       "      <td>1.907476</td>\n",
       "      <td>2.836333</td>\n",
       "      <td>7.130333</td>\n",
       "      <td>3.232333</td>\n",
       "    </tr>\n",
       "    <tr>\n",
       "      <th>std</th>\n",
       "      <td>13.501754</td>\n",
       "      <td>1.065904</td>\n",
       "      <td>10.189245</td>\n",
       "      <td>1.150426</td>\n",
       "      <td>16.051947</td>\n",
       "      <td>0.642643</td>\n",
       "      <td>1.188125</td>\n",
       "      <td>2.096866</td>\n",
       "      <td>1.142826</td>\n",
       "      <td>0.821017</td>\n",
       "      <td>0.999799</td>\n",
       "      <td>0.999734</td>\n",
       "      <td>0.544526</td>\n",
       "      <td>0.940837</td>\n",
       "      <td>1.152876</td>\n",
       "      <td>0.903305</td>\n",
       "    </tr>\n",
       "    <tr>\n",
       "      <th>min</th>\n",
       "      <td>19.000000</td>\n",
       "      <td>1.000000</td>\n",
       "      <td>0.000000</td>\n",
       "      <td>0.000000</td>\n",
       "      <td>20.000000</td>\n",
       "      <td>0.000000</td>\n",
       "      <td>1.000000</td>\n",
       "      <td>1.000000</td>\n",
       "      <td>1.000000</td>\n",
       "      <td>1.000000</td>\n",
       "      <td>-1.817600</td>\n",
       "      <td>-2.776200</td>\n",
       "      <td>1.000000</td>\n",
       "      <td>1.000000</td>\n",
       "      <td>5.000000</td>\n",
       "      <td>1.000000</td>\n",
       "    </tr>\n",
       "    <tr>\n",
       "      <th>25%</th>\n",
       "      <td>27.000000</td>\n",
       "      <td>3.000000</td>\n",
       "      <td>5.000000</td>\n",
       "      <td>1.000000</td>\n",
       "      <td>33.000000</td>\n",
       "      <td>0.000000</td>\n",
       "      <td>2.000000</td>\n",
       "      <td>5.000000</td>\n",
       "      <td>1.000000</td>\n",
       "      <td>3.000000</td>\n",
       "      <td>-0.961200</td>\n",
       "      <td>-0.453700</td>\n",
       "      <td>2.000000</td>\n",
       "      <td>2.000000</td>\n",
       "      <td>6.000000</td>\n",
       "      <td>3.000000</td>\n",
       "    </tr>\n",
       "    <tr>\n",
       "      <th>50%</th>\n",
       "      <td>38.000000</td>\n",
       "      <td>3.000000</td>\n",
       "      <td>10.000000</td>\n",
       "      <td>2.000000</td>\n",
       "      <td>47.000000</td>\n",
       "      <td>1.000000</td>\n",
       "      <td>3.000000</td>\n",
       "      <td>6.000000</td>\n",
       "      <td>2.000000</td>\n",
       "      <td>3.000000</td>\n",
       "      <td>-0.104800</td>\n",
       "      <td>-0.453700</td>\n",
       "      <td>2.000000</td>\n",
       "      <td>3.000000</td>\n",
       "      <td>7.000000</td>\n",
       "      <td>3.000000</td>\n",
       "    </tr>\n",
       "    <tr>\n",
       "      <th>75%</th>\n",
       "      <td>52.000000</td>\n",
       "      <td>4.000000</td>\n",
       "      <td>21.000000</td>\n",
       "      <td>3.000000</td>\n",
       "      <td>60.000000</td>\n",
       "      <td>1.000000</td>\n",
       "      <td>4.000000</td>\n",
       "      <td>8.000000</td>\n",
       "      <td>3.000000</td>\n",
       "      <td>3.000000</td>\n",
       "      <td>0.751600</td>\n",
       "      <td>0.707500</td>\n",
       "      <td>2.000000</td>\n",
       "      <td>3.000000</td>\n",
       "      <td>8.000000</td>\n",
       "      <td>4.000000</td>\n",
       "    </tr>\n",
       "    <tr>\n",
       "      <th>max</th>\n",
       "      <td>65.000000</td>\n",
       "      <td>5.000000</td>\n",
       "      <td>43.000000</td>\n",
       "      <td>4.000000</td>\n",
       "      <td>74.000000</td>\n",
       "      <td>2.000000</td>\n",
       "      <td>5.000000</td>\n",
       "      <td>10.000000</td>\n",
       "      <td>5.000000</td>\n",
       "      <td>5.000000</td>\n",
       "      <td>1.608100</td>\n",
       "      <td>1.868800</td>\n",
       "      <td>3.000000</td>\n",
       "      <td>5.000000</td>\n",
       "      <td>9.000000</td>\n",
       "      <td>5.000000</td>\n",
       "    </tr>\n",
       "  </tbody>\n",
       "</table>\n",
       "</div>"
      ],
      "text/plain": [
       "               Age  Education_Level  Time_of_service  Time_since_promotion  \\\n",
       "count  2839.000000      3000.000000      2948.000000           3000.000000   \n",
       "mean     39.797816         3.226333        13.403664              2.405333   \n",
       "std      13.501754         1.065904        10.189245              1.150426   \n",
       "min      19.000000         1.000000         0.000000              0.000000   \n",
       "25%      27.000000         3.000000         5.000000              1.000000   \n",
       "50%      38.000000         3.000000        10.000000              2.000000   \n",
       "75%      52.000000         4.000000        21.000000              3.000000   \n",
       "max      65.000000         5.000000        43.000000              4.000000   \n",
       "\n",
       "       growth_rate  Travel_Rate   Post_Level    Pay_Scale  Work_Life_balance  \\\n",
       "count  3000.000000  3000.000000  3000.000000  2997.000000        2995.000000   \n",
       "mean     46.878000     0.827333     2.794667     6.060727           2.380968   \n",
       "std      16.051947     0.642643     1.188125     2.096866           1.142826   \n",
       "min      20.000000     0.000000     1.000000     1.000000           1.000000   \n",
       "25%      33.000000     0.000000     2.000000     5.000000           1.000000   \n",
       "50%      47.000000     1.000000     3.000000     6.000000           2.000000   \n",
       "75%      60.000000     1.000000     4.000000     8.000000           3.000000   \n",
       "max      74.000000     2.000000     5.000000    10.000000           5.000000   \n",
       "\n",
       "              VAR1         VAR2         VAR3         VAR4         VAR5  \\\n",
       "count  3000.000000  2783.000000  3000.000000  2702.000000  3000.000000   \n",
       "mean      3.067000     0.027530     0.012328     1.907476     2.836333   \n",
       "std       0.821017     0.999799     0.999734     0.544526     0.940837   \n",
       "min       1.000000    -1.817600    -2.776200     1.000000     1.000000   \n",
       "25%       3.000000    -0.961200    -0.453700     2.000000     2.000000   \n",
       "50%       3.000000    -0.104800    -0.453700     2.000000     3.000000   \n",
       "75%       3.000000     0.751600     0.707500     2.000000     3.000000   \n",
       "max       5.000000     1.608100     1.868800     3.000000     5.000000   \n",
       "\n",
       "              VAR6         VAR7  \n",
       "count  3000.000000  3000.000000  \n",
       "mean      7.130333     3.232333  \n",
       "std       1.152876     0.903305  \n",
       "min       5.000000     1.000000  \n",
       "25%       6.000000     3.000000  \n",
       "50%       7.000000     3.000000  \n",
       "75%       8.000000     4.000000  \n",
       "max       9.000000     5.000000  "
      ]
     },
     "execution_count": 12,
     "metadata": {},
     "output_type": "execute_result"
    }
   ],
   "source": [
    "df.describe()"
   ]
  },
  {
   "cell_type": "code",
   "execution_count": 13,
   "metadata": {},
   "outputs": [],
   "source": [
    "# df.Age.value_counts(ascending=True)"
   ]
  },
  {
   "cell_type": "code",
   "execution_count": 14,
   "metadata": {},
   "outputs": [],
   "source": [
    "## To find percentages, divide each age group by 2839 (total employees 300 -162 null values)"
   ]
  },
  {
   "cell_type": "code",
   "execution_count": 15,
   "metadata": {},
   "outputs": [],
   "source": [
    "age_19_to_24=[62,54,71,112,60,79]\n",
    "# sum 438  #438/2839 = 0.15427968"
   ]
  },
  {
   "cell_type": "code",
   "execution_count": 16,
   "metadata": {},
   "outputs": [],
   "source": [
    "age_20s=[54,71,112,60,79,85,95,105,83,39]\n",
    "# sum =783\n",
    "# 783/2839 = 0.27580134\n"
   ]
  },
  {
   "cell_type": "code",
   "execution_count": 17,
   "metadata": {},
   "outputs": [],
   "source": [
    "age_25_to_34=[85,95,105,83,39,95,65,81,41,41]\n",
    "# sum =730  # 730/2839 = 0.25713279"
   ]
  },
  {
   "cell_type": "code",
   "execution_count": 18,
   "metadata": {},
   "outputs": [],
   "source": [
    "age_30s=[95,65,81,41,41,83,32,94,46,37]\n",
    "# sum =615\n",
    "# 615/2839 = 0.21662557"
   ]
  },
  {
   "cell_type": "code",
   "execution_count": 19,
   "metadata": {},
   "outputs": [],
   "source": [
    "age_35_to_44=[83,32,94,46,37,42,49,84,44,38]\n",
    "# sum =549   #549/2839 =0.19337795"
   ]
  },
  {
   "cell_type": "code",
   "execution_count": 20,
   "metadata": {},
   "outputs": [],
   "source": [
    "age_40s=[42,49,84,44,38,90,34,77,43,40]\n",
    "# sum =541\n",
    "# 541/2839 = 0.19056006"
   ]
  },
  {
   "cell_type": "code",
   "execution_count": 21,
   "metadata": {},
   "outputs": [],
   "source": [
    "age_45_to_54=[90,34,77,43,40,55,39,100,45,92]\n",
    "# sum = 615/2839 = 0.211662557"
   ]
  },
  {
   "cell_type": "code",
   "execution_count": 22,
   "metadata": {},
   "outputs": [
    {
     "data": {
      "text/plain": [
       "39.797816132441"
      ]
     },
     "execution_count": 22,
     "metadata": {},
     "output_type": "execute_result"
    }
   ],
   "source": [
    "np.mean(df['Age'])"
   ]
  },
  {
   "cell_type": "code",
   "execution_count": 23,
   "metadata": {},
   "outputs": [],
   "source": [
    "age_50s=[55,39,100,45,92,41,46,44,48,58]\n",
    "# sum =568\n",
    "# 568/2839 = 0.200007045"
   ]
  },
  {
   "cell_type": "code",
   "execution_count": 24,
   "metadata": {},
   "outputs": [],
   "source": [
    "age_55_and_over=[41,46,44,48,58,89,28,32,30,30,61]\n",
    "# sum = 507/2839 = 0.17858401"
   ]
  },
  {
   "cell_type": "code",
   "execution_count": 25,
   "metadata": {},
   "outputs": [],
   "source": [
    "age_60s=[89,28,32,30,30,61]\n",
    "# sum =270\n",
    "# = 0.09510391"
   ]
  },
  {
   "cell_type": "code",
   "execution_count": 26,
   "metadata": {},
   "outputs": [],
   "source": [
    "ee_ages=[783,615,541,568,270]"
   ]
  },
  {
   "cell_type": "code",
   "execution_count": 27,
   "metadata": {},
   "outputs": [],
   "source": [
    "pos=[2,4,6,8,10]"
   ]
  },
  {
   "cell_type": "code",
   "execution_count": 28,
   "metadata": {},
   "outputs": [],
   "source": [
    "bars=('20s', '30s', '40s', '50s', '60s')"
   ]
  },
  {
   "cell_type": "code",
   "execution_count": 29,
   "metadata": {},
   "outputs": [
    {
     "data": {
      "image/png": "[encoded data removed]",
      "text/plain": [
       "<Figure size 432x288 with 1 Axes>"
      ]
     },
     "metadata": {
      "needs_background": "light"
     },
     "output_type": "display_data"
    }
   ],
   "source": [
    "plt.clf()\n",
    "plt.bar(pos, ee_ages)\n",
    "plt.xticks(pos, bars)\n",
    "plt.ylabel(\"# of employees\")\n",
    "plt.title(\"All Employeess by Age Group\")\n",
    "plt.savefig(\"ees_by_age.jpg\")\n",
    "plt.show()\n"
   ]
  },
  {
   "cell_type": "code",
   "execution_count": 30,
   "metadata": {},
   "outputs": [],
   "source": [
    "ee_age_groups=[438,730,549,615,507]"
   ]
  },
  {
   "cell_type": "code",
   "execution_count": 31,
   "metadata": {},
   "outputs": [],
   "source": [
    "##by pct\n",
    "ee_age_group_pcts=[0.154,0.257,0.193,0.212,0.179]"
   ]
  },
  {
   "cell_type": "code",
   "execution_count": 32,
   "metadata": {},
   "outputs": [],
   "source": [
    "#2019 US Labor force data: \n",
    "us_age_group_pcts=[0.129,0.227,0.208,0.201,0.234]"
   ]
  },
  {
   "cell_type": "code",
   "execution_count": 33,
   "metadata": {},
   "outputs": [],
   "source": [
    "pos=[2,4,6,8,10]"
   ]
  },
  {
   "cell_type": "code",
   "execution_count": 34,
   "metadata": {},
   "outputs": [],
   "source": [
    "bars=('19 to 24', '25 to 34', '35 to 44', '45 to 54', '55 and older')"
   ]
  },
  {
   "cell_type": "code",
   "execution_count": 263,
   "metadata": {},
   "outputs": [
    {
     "data": {
      "image/png": "[encoded data removed]",
      "text/plain": [
       "<Figure size 432x288 with 1 Axes>"
      ]
     },
     "metadata": {
      "needs_background": "light"
     },
     "output_type": "display_data"
    }
   ],
   "source": [
    "plt.clf()\n",
    "plt.bar(pos, ee_age_group_pcts)\n",
    "plt.xticks(pos, bars)\n",
    "plt.ylabel(\"(By Percentage)\")\n",
    "plt.title(\"Company Employeess by Age Group\")\n",
    "plt.savefig(\"ees_by_age_group.jpg\")\n",
    "plt.show()\n"
   ]
  },
  {
   "cell_type": "code",
   "execution_count": null,
   "metadata": {},
   "outputs": [],
   "source": [
    "##Site the US Labor statistics for employment by age groups for comparison: https://www.bls.gov/emp/graphics/2019/labor-force-share-by-age-group.htm"
   ]
  },
  {
   "cell_type": "code",
   "execution_count": 264,
   "metadata": {},
   "outputs": [
    {
     "data": {
      "image/png": "[encoded data removed]",
      "text/plain": [
       "<Figure size 432x288 with 1 Axes>"
      ]
     },
     "metadata": {
      "needs_background": "light"
     },
     "output_type": "display_data"
    }
   ],
   "source": [
    "plt.clf()\n",
    "width = 0.8\n",
    "\n",
    "ee_age_group_pcts=[0.154,0.257,0.193,0.212,0.179]\n",
    "us_age_group_pcts=[0.129,0.227,0.208,0.201,0.234]\n",
    "\n",
    "pos=[2, 4, 6, 8, 10]\n",
    "bars=('19 to 24', '25 to 34', '35 to 44', '45 to 54', '55 and older')\n",
    "indices = np.arange(len(ee_age_groups))\n",
    "\n",
    "plt.bar(pos, ee_age_group_pcts, width=width, \n",
    "        color='b', label='Company')\n",
    "plt.bar([i+0.25*width for i in pos], us_age_group_pcts, \n",
    "       width=0.5*width, color='r', alpha=0.5, label='US')\n",
    "plt.ylabel(\"(By Percentage)\")\n",
    "plt.title(\"Company Vs. U.S. labor by Age Group\")\n",
    "plt.xticks(pos, bars )\n",
    "\n",
    "\n",
    "plt.legend()\n",
    "\n",
    "plt.show()"
   ]
  },
  {
   "cell_type": "code",
   "execution_count": 38,
   "metadata": {},
   "outputs": [],
   "source": [
    "## Getting an error here, trying to create dataframe by age bracket:\n",
    "# df_age_20s=df[(df['Age']>=20) & df[(df['Age']<=29"
   ]
  },
  {
   "cell_type": "code",
   "execution_count": 39,
   "metadata": {},
   "outputs": [],
   "source": [
    "older_ees=df[df['Age']>=50]\n",
    "# = 838"
   ]
  },
  {
   "cell_type": "code",
   "execution_count": 40,
   "metadata": {},
   "outputs": [],
   "source": [
    "younger_ees=df[df['Age']<=49]\n",
    "# = 2001"
   ]
  },
  {
   "cell_type": "code",
   "execution_count": 41,
   "metadata": {},
   "outputs": [],
   "source": [
    "older_ees_with_higher_pay=older_ees[older_ees['Pay_Scale']>=7]\n",
    "# = 377"
   ]
  },
  {
   "cell_type": "code",
   "execution_count": 42,
   "metadata": {},
   "outputs": [],
   "source": [
    "older_ees_with_higher_pay_pct=377/838\n",
    "# 0.4498806682577566\n",
    "# 44% of ees over 50 are at a higher pahy scale (7 or higher)"
   ]
  },
  {
   "cell_type": "code",
   "execution_count": 43,
   "metadata": {},
   "outputs": [
    {
     "data": {
      "text/plain": [
       "0.4498806682577566"
      ]
     },
     "execution_count": 43,
     "metadata": {},
     "output_type": "execute_result"
    }
   ],
   "source": [
    "older_ees_with_higher_pay_pct"
   ]
  },
  {
   "cell_type": "code",
   "execution_count": 44,
   "metadata": {},
   "outputs": [],
   "source": [
    "younger_ees_with_higher_pay=younger_ees[younger_ees['Pay_Scale']>=7]\n",
    "# = 824"
   ]
  },
  {
   "cell_type": "code",
   "execution_count": 45,
   "metadata": {},
   "outputs": [],
   "source": [
    "younger_ees_with_higher_pay_pct=824/2001"
   ]
  },
  {
   "cell_type": "code",
   "execution_count": 46,
   "metadata": {},
   "outputs": [
    {
     "data": {
      "text/plain": [
       "0.41179410294852575"
      ]
     },
     "execution_count": 46,
     "metadata": {},
     "output_type": "execute_result"
    }
   ],
   "source": [
    "younger_ees_with_higher_pay_pct\n",
    "# = 0.41179410294852575\n",
    "# 41% of ees under 50 are at a higher pahy scale (7 or higher)"
   ]
  },
  {
   "cell_type": "code",
   "execution_count": 47,
   "metadata": {},
   "outputs": [],
   "source": [
    "# single_female=gender_female.Relationship_Status==0"
   ]
  },
  {
   "cell_type": "code",
   "execution_count": 48,
   "metadata": {},
   "outputs": [],
   "source": [
    "import sqlite3"
   ]
  },
  {
   "cell_type": "code",
   "execution_count": 49,
   "metadata": {},
   "outputs": [],
   "source": [
    "connection = sqlite3.connect(\"da_project.db\")"
   ]
  },
  {
   "cell_type": "code",
   "execution_count": 50,
   "metadata": {},
   "outputs": [],
   "source": [
    "cursor =connection.cursor()"
   ]
  },
  {
   "cell_type": "code",
   "execution_count": 51,
   "metadata": {},
   "outputs": [
    {
     "data": {
      "text/plain": [
       "<sqlite3.Cursor at 0x1ba28260>"
      ]
     },
     "execution_count": 51,
     "metadata": {},
     "output_type": "execute_result"
    }
   ],
   "source": [
    "cursor.execute(\"select Age from Test\")"
   ]
  },
  {
   "cell_type": "code",
   "execution_count": 52,
   "metadata": {},
   "outputs": [],
   "source": [
    "#ans = cursor.fetchall() "
   ]
  },
  {
   "cell_type": "code",
   "execution_count": 53,
   "metadata": {},
   "outputs": [
    {
     "data": {
      "text/plain": [
       "<sqlite3.Cursor at 0x1ba28260>"
      ]
     },
     "execution_count": 53,
     "metadata": {},
     "output_type": "execute_result"
    }
   ],
   "source": [
    "cursor.execute(\"select Gender, count (*) from Test\")"
   ]
  },
  {
   "cell_type": "code",
   "execution_count": 54,
   "metadata": {},
   "outputs": [],
   "source": [
    "count=cursor.fetchall()"
   ]
  },
  {
   "cell_type": "code",
   "execution_count": 55,
   "metadata": {},
   "outputs": [
    {
     "name": "stdout",
     "output_type": "stream",
     "text": [
      "[('Gender', 3001)]\n"
     ]
    }
   ],
   "source": [
    "print(count)"
   ]
  },
  {
   "cell_type": "code",
   "execution_count": 56,
   "metadata": {},
   "outputs": [
    {
     "data": {
      "text/plain": [
       "<sqlite3.Cursor at 0x1ba28260>"
      ]
     },
     "execution_count": 56,
     "metadata": {},
     "output_type": "execute_result"
    }
   ],
   "source": [
    "cursor.execute(\"select sum(Age) from Test\")"
   ]
  },
  {
   "cell_type": "code",
   "execution_count": 57,
   "metadata": {},
   "outputs": [],
   "source": [
    "#sum=cursor.fetchall()"
   ]
  },
  {
   "cell_type": "code",
   "execution_count": 58,
   "metadata": {},
   "outputs": [
    {
     "data": {
      "text/plain": [
       "<sqlite3.Cursor at 0x1ba28260>"
      ]
     },
     "execution_count": 58,
     "metadata": {},
     "output_type": "execute_result"
    }
   ],
   "source": [
    "cursor.execute(\"select min(Age) from Test\")"
   ]
  },
  {
   "cell_type": "code",
   "execution_count": 59,
   "metadata": {},
   "outputs": [],
   "source": [
    "min=cursor.fetchall()\n",
    "# min =19"
   ]
  },
  {
   "cell_type": "code",
   "execution_count": 60,
   "metadata": {},
   "outputs": [
    {
     "data": {
      "text/plain": [
       "<sqlite3.Cursor at 0x1ba28260>"
      ]
     },
     "execution_count": 60,
     "metadata": {},
     "output_type": "execute_result"
    }
   ],
   "source": [
    "cursor.execute(\"select avg(Education_Level) from Test\")"
   ]
  },
  {
   "cell_type": "code",
   "execution_count": 61,
   "metadata": {},
   "outputs": [],
   "source": [
    "avg_Ed=cursor.fetchall()\n",
    "# [(3.2252582472509164,)]"
   ]
  },
  {
   "cell_type": "code",
   "execution_count": 62,
   "metadata": {},
   "outputs": [
    {
     "name": "stdout",
     "output_type": "stream",
     "text": [
      "('Relationship_Status',)\n",
      "('Single',)\n",
      "('Single',)\n",
      "('Married',)\n",
      "('Single',)\n",
      "('Married',)\n",
      "('Married',)\n",
      "('Married',)\n",
      "('Married',)\n",
      "('Single',)\n"
     ]
    }
   ],
   "source": [
    "for item in cursor.execute('SELECT Relationship_Status FROM Test limit 10'):\n",
    "    print(item)\n",
    "\n",
    "# Be sure to close the connection\n"
   ]
  },
  {
   "cell_type": "code",
   "execution_count": 63,
   "metadata": {},
   "outputs": [],
   "source": [
    "connection.close()"
   ]
  },
  {
   "cell_type": "code",
   "execution_count": 64,
   "metadata": {},
   "outputs": [],
   "source": [
    "df['Relationship_Status'] =df['Relationship_Status'].replace({'Single': 0, 'Married' :1})"
   ]
  },
  {
   "cell_type": "code",
   "execution_count": 65,
   "metadata": {},
   "outputs": [
    {
     "name": "stdout",
     "output_type": "stream",
     "text": [
      "  Employee_ID Gender   Age  Education_Level  Relationship_Status     Hometown  \\\n",
      "0   EID_22713      F  32.0                5                    0  Springfield   \n",
      "1    EID_9658      M  65.0                2                    0      Lebanon   \n",
      "2   EID_22203      M  52.0                3                    1  Springfield   \n",
      "3    EID_7652      M  50.0                5                    0   Washington   \n",
      "4    EID_6516      F  44.0                3                    1     Franklin   \n",
      "\n",
      "        Unit Decision_skill_possess  Time_of_service  Time_since_promotion  \\\n",
      "0        R&D             Conceptual              7.0                     4   \n",
      "1         IT              Directive             41.0                     2   \n",
      "2      Sales              Directive             21.0                     3   \n",
      "3  Marketing             Analytical             11.0                     4   \n",
      "4        R&D             Conceptual             12.0                     4   \n",
      "\n",
      "   ...  Pay_Scale  Compensation_and_Benefits  Work_Life_balance  VAR1    VAR2  \\\n",
      "0  ...        4.0                      type2                1.0     3 -0.9612   \n",
      "1  ...        1.0                      type2                1.0     4 -0.9612   \n",
      "2  ...        8.0                      type3                1.0     4 -0.1048   \n",
      "3  ...        2.0                      type0                4.0     3 -0.1048   \n",
      "4  ...        2.0                      type2                4.0     4  1.6081   \n",
      "\n",
      "     VAR3  VAR4  VAR5  VAR6  VAR7  \n",
      "0 -0.4537   2.0     1     8     4  \n",
      "1  0.7075   1.0     2     8     2  \n",
      "2  0.7075   2.0     1     9     3  \n",
      "3  0.7075   2.0     2     8     3  \n",
      "4  0.7075   2.0     2     7     4  \n",
      "\n",
      "[5 rows x 23 columns]\n"
     ]
    }
   ],
   "source": [
    "print(df.head())"
   ]
  },
  {
   "cell_type": "code",
   "execution_count": 66,
   "metadata": {},
   "outputs": [
    {
     "data": {
      "text/plain": [
       "1    1941\n",
       "0    1059\n",
       "Name: Relationship_Status, dtype: int64"
      ]
     },
     "execution_count": 66,
     "metadata": {},
     "output_type": "execute_result"
    }
   ],
   "source": [
    "df.Relationship_Status.value_counts()\n",
    "# single: 1059\n",
    "# Married: 1941"
   ]
  },
  {
   "cell_type": "code",
   "execution_count": 67,
   "metadata": {},
   "outputs": [],
   "source": [
    "df['Gender'] =df['Gender'].replace({'M': 0, 'F' :1})"
   ]
  },
  {
   "cell_type": "code",
   "execution_count": 68,
   "metadata": {},
   "outputs": [
    {
     "data": {
      "text/plain": [
       "1    1728\n",
       "0    1272\n",
       "Name: Gender, dtype: int64"
      ]
     },
     "execution_count": 68,
     "metadata": {},
     "output_type": "execute_result"
    }
   ],
   "source": [
    "df.Gender.value_counts()\n",
    "# .576% = Female\n",
    "# .424% = Male"
   ]
  },
  {
   "cell_type": "code",
   "execution_count": 69,
   "metadata": {},
   "outputs": [
    {
     "data": {
      "text/plain": [
       "3    1185\n",
       "4     942\n",
       "5     298\n",
       "2     291\n",
       "1     284\n",
       "Name: Education_Level, dtype: int64"
      ]
     },
     "execution_count": 69,
     "metadata": {},
     "output_type": "execute_result"
    }
   ],
   "source": [
    "df.Education_Level.value_counts()\n",
    "# 1 = 284  = 0.09466667%\n",
    "# 2 = 291  = 0.097%\n",
    "# 3 = 1185 = 0.395%\n",
    "# 4 = 942  = 0.314%\n",
    "# 5 = 298  = 0.09933333%"
   ]
  },
  {
   "cell_type": "code",
   "execution_count": 70,
   "metadata": {},
   "outputs": [
    {
     "data": {
      "text/plain": [
       "8.0     572\n",
       "6.0     536\n",
       "5.0     480\n",
       "4.0     422\n",
       "7.0     352\n",
       "9.0     239\n",
       "3.0     111\n",
       "2.0     106\n",
       "10.0    105\n",
       "1.0      74\n",
       "Name: Pay_Scale, dtype: int64"
      ]
     },
     "execution_count": 70,
     "metadata": {},
     "output_type": "execute_result"
    }
   ],
   "source": [
    "df.Pay_Scale.value_counts()\n",
    "# totals added up to 2997, but I divided each number by 3000 to get the pct\n",
    "# 8.0     572   =0.19066667%\n",
    "# 6.0     536   =0.17866667%\n",
    "# 5.0     480   =0.16%\n",
    "# 4.0     422   =0.14066667%\n",
    "# 7.0     352   =0.11733333%\n",
    "# 9.0     239   =0.07966667%\n",
    "# 3.0     111   =0.037%\n",
    "# 2.0     106   =0.03533333%\n",
    "# 10.0    105   =0.035%\n",
    "# 1.0      74   =0.0246667%"
   ]
  },
  {
   "cell_type": "code",
   "execution_count": 71,
   "metadata": {},
   "outputs": [
    {
     "data": {
      "text/plain": [
       "type2    1741\n",
       "type3     964\n",
       "type4     137\n",
       "type0      93\n",
       "type1      65\n",
       "Name: Compensation_and_Benefits, dtype: int64"
      ]
     },
     "execution_count": 71,
     "metadata": {},
     "output_type": "execute_result"
    }
   ],
   "source": [
    "df.Compensation_and_Benefits.value_counts()\n",
    "# type2    1741\n",
    "# type3     964\n",
    "# type4     137\n",
    "# type0      93\n",
    "# type1      65"
   ]
  },
  {
   "cell_type": "code",
   "execution_count": 72,
   "metadata": {},
   "outputs": [],
   "source": [
    "gender_male=df[df['Gender']==0]\n",
    "# 1272 Males"
   ]
  },
  {
   "cell_type": "code",
   "execution_count": 73,
   "metadata": {},
   "outputs": [],
   "source": [
    "gender_female=df[df['Gender']==1]\n",
    "# 1728 Females"
   ]
  },
  {
   "cell_type": "code",
   "execution_count": 74,
   "metadata": {},
   "outputs": [],
   "source": [
    "single_female=gender_female.Relationship_Status==0"
   ]
  },
  {
   "cell_type": "code",
   "execution_count": 75,
   "metadata": {},
   "outputs": [
    {
     "data": {
      "text/plain": [
       "False    1098\n",
       "True      630\n",
       "Name: Relationship_Status, dtype: int64"
      ]
     },
     "execution_count": 75,
     "metadata": {},
     "output_type": "execute_result"
    }
   ],
   "source": [
    "single_female.value_counts()\n",
    "#1098 False\n",
    "#630 True"
   ]
  },
  {
   "cell_type": "code",
   "execution_count": 76,
   "metadata": {},
   "outputs": [],
   "source": [
    "single_male=gender_male.Relationship_Status==1"
   ]
  },
  {
   "cell_type": "code",
   "execution_count": 77,
   "metadata": {},
   "outputs": [
    {
     "data": {
      "text/plain": [
       "True     843\n",
       "False    429\n",
       "Name: Relationship_Status, dtype: int64"
      ]
     },
     "execution_count": 77,
     "metadata": {},
     "output_type": "execute_result"
    }
   ],
   "source": [
    "single_male.value_counts()\n",
    "# True 843\n",
    "# False 429"
   ]
  },
  {
   "cell_type": "code",
   "execution_count": 78,
   "metadata": {},
   "outputs": [
    {
     "name": "stdout",
     "output_type": "stream",
     "text": [
      "10.0\n"
     ]
    }
   ],
   "source": [
    "print(max(df.Pay_Scale))"
   ]
  },
  {
   "cell_type": "code",
   "execution_count": 79,
   "metadata": {},
   "outputs": [],
   "source": [
    "high_pay=df[df['Pay_Scale']>=7]\n",
    "#Total of 1268"
   ]
  },
  {
   "cell_type": "code",
   "execution_count": 80,
   "metadata": {},
   "outputs": [],
   "source": [
    "female_high_pay=gender_female[gender_female['Pay_Scale']>=7]"
   ]
  },
  {
   "cell_type": "code",
   "execution_count": 81,
   "metadata": {},
   "outputs": [],
   "source": [
    "#female_high_pay.count()\n",
    "# = 722"
   ]
  },
  {
   "cell_type": "code",
   "execution_count": 82,
   "metadata": {},
   "outputs": [],
   "source": [
    "female_high_pay_pct=722/1728"
   ]
  },
  {
   "cell_type": "code",
   "execution_count": 83,
   "metadata": {},
   "outputs": [
    {
     "data": {
      "text/plain": [
       "0.41782407407407407"
      ]
     },
     "execution_count": 83,
     "metadata": {},
     "output_type": "execute_result"
    }
   ],
   "source": [
    "female_high_pay_pct\n",
    "# 42% of all females have pay scale at 7 or higher"
   ]
  },
  {
   "cell_type": "code",
   "execution_count": 84,
   "metadata": {},
   "outputs": [],
   "source": [
    "male_high_pay=gender_male[gender_male['Pay_Scale']>=7]"
   ]
  },
  {
   "cell_type": "code",
   "execution_count": 85,
   "metadata": {},
   "outputs": [],
   "source": [
    "#male_high_pay.count()\n",
    "# = 546"
   ]
  },
  {
   "cell_type": "code",
   "execution_count": 86,
   "metadata": {},
   "outputs": [],
   "source": [
    "male_high_pay_pct=546/1272\n",
    "# #43 % of all males have pay scale at 7 or higher"
   ]
  },
  {
   "cell_type": "code",
   "execution_count": 87,
   "metadata": {},
   "outputs": [
    {
     "data": {
      "text/plain": [
       "0.42924528301886794"
      ]
     },
     "execution_count": 87,
     "metadata": {},
     "output_type": "execute_result"
    }
   ],
   "source": [
    "male_high_pay_pct"
   ]
  },
  {
   "cell_type": "code",
   "execution_count": 266,
   "metadata": {},
   "outputs": [],
   "source": [
    "height =[0.41782407407407407, 0.42924528301886794]"
   ]
  },
  {
   "cell_type": "code",
   "execution_count": 267,
   "metadata": {},
   "outputs": [],
   "source": [
    "bars=('Female', 'Male')"
   ]
  },
  {
   "cell_type": "code",
   "execution_count": 268,
   "metadata": {},
   "outputs": [],
   "source": [
    "x_pos=[4,5]"
   ]
  },
  {
   "cell_type": "code",
   "execution_count": 283,
   "metadata": {},
   "outputs": [
    {
     "data": {
      "image/png": "[encoded data removed]",
      "text/plain": [
       "<Figure size 432x288 with 1 Axes>"
      ]
     },
     "metadata": {
      "needs_background": "light"
     },
     "output_type": "display_data"
    }
   ],
   "source": [
    "plt.clf()\n",
    "plt.bar(x_pos, height, color = ['lightpink', 'steelblue'], width= [0.75, 0.75])\n",
    "plt.xticks(x_pos, bars)\n",
    "plt.ylabel(\"Pay Scale\")\n",
    "plt.title(\"% of Females and Males who are High Earners\")\n",
    "plt.show()"
   ]
  },
  {
   "cell_type": "code",
   "execution_count": 92,
   "metadata": {},
   "outputs": [],
   "source": [
    "age=df['Age']"
   ]
  },
  {
   "cell_type": "code",
   "execution_count": 93,
   "metadata": {},
   "outputs": [
    {
     "data": {
      "text/plain": [
       "0       32.0\n",
       "1       65.0\n",
       "2       52.0\n",
       "3       50.0\n",
       "4       44.0\n",
       "        ... \n",
       "2994    62.0\n",
       "2995    32.0\n",
       "2997    60.0\n",
       "2998    51.0\n",
       "2999    45.0\n",
       "Name: Age, Length: 2839, dtype: float64"
      ]
     },
     "execution_count": 93,
     "metadata": {},
     "output_type": "execute_result"
    }
   ],
   "source": [
    "age.dropna()\n",
    "# age.count() = 2839"
   ]
  },
  {
   "cell_type": "code",
   "execution_count": 94,
   "metadata": {},
   "outputs": [
    {
     "data": {
      "text/plain": [
       "39.797816132441"
      ]
     },
     "execution_count": 94,
     "metadata": {},
     "output_type": "execute_result"
    }
   ],
   "source": [
    "np.mean(age)\n",
    "## This is the mean age after dropping the null values in the age column"
   ]
  },
  {
   "cell_type": "code",
   "execution_count": 95,
   "metadata": {},
   "outputs": [],
   "source": [
    "from numpy import percentile"
   ]
  },
  {
   "cell_type": "code",
   "execution_count": 96,
   "metadata": {},
   "outputs": [],
   "source": [
    "age=df['Age']"
   ]
  },
  {
   "cell_type": "code",
   "execution_count": 97,
   "metadata": {},
   "outputs": [
    {
     "data": {
      "text/plain": [
       "0       32.0\n",
       "1       65.0\n",
       "2       52.0\n",
       "3       50.0\n",
       "4       44.0\n",
       "        ... \n",
       "2995    32.0\n",
       "2996     NaN\n",
       "2997    60.0\n",
       "2998    51.0\n",
       "2999    45.0\n",
       "Name: Age, Length: 3000, dtype: float64"
      ]
     },
     "execution_count": 97,
     "metadata": {},
     "output_type": "execute_result"
    }
   ],
   "source": [
    "age"
   ]
  },
  {
   "cell_type": "code",
   "execution_count": 98,
   "metadata": {},
   "outputs": [],
   "source": [
    "# data_4_list=data_4.to_numpy()"
   ]
  },
  {
   "cell_type": "code",
   "execution_count": 99,
   "metadata": {},
   "outputs": [],
   "source": [
    "age=df['Age']\n"
   ]
  },
  {
   "cell_type": "code",
   "execution_count": 100,
   "metadata": {},
   "outputs": [],
   "source": [
    "ages=age[~pd.isnull(age)]"
   ]
  },
  {
   "cell_type": "code",
   "execution_count": 101,
   "metadata": {},
   "outputs": [
    {
     "name": "stdout",
     "output_type": "stream",
     "text": [
      "Min: 19\n",
      "Q1: 27.000\n",
      "Median: 38\n",
      "Q3: 52\n",
      "Max: 65\n"
     ]
    }
   ],
   "source": [
    "# 5 number summary showing age of employees\n",
    "\n",
    "data_min, data_max = ages.min(), ages.max()\n",
    "quartiles = percentile(ages, [25, 50, 75])\n",
    "# print 5-number summary\n",
    "print('Min: %.0f' % data_min)\n",
    "print('Q1: %.3f' % quartiles[0])\n",
    "print('Median: %.0f' % quartiles[1])\n",
    "print('Q3: %.0f' % quartiles[2])\n",
    "print('Max: %.0f' % data_max)"
   ]
  },
  {
   "cell_type": "code",
   "execution_count": 102,
   "metadata": {},
   "outputs": [
    {
     "data": {
      "text/plain": [
       "3.2263333333333333"
      ]
     },
     "execution_count": 102,
     "metadata": {},
     "output_type": "execute_result"
    }
   ],
   "source": [
    "avg_education=np.mean(df.Education_Level)\n",
    "##avg_education = \n",
    "3.2263333333333333"
   ]
  },
  {
   "cell_type": "code",
   "execution_count": 103,
   "metadata": {},
   "outputs": [],
   "source": [
    "higher_ed=df.where(df['Education_Level']>=3)\n",
    "# = 2425\n",
    "# = .80833333%"
   ]
  },
  {
   "cell_type": "code",
   "execution_count": 104,
   "metadata": {},
   "outputs": [],
   "source": [
    "lower_ed=df.where(df['Education_Level']<3)\n",
    "# = 575\n",
    "# - 0.19575166667%"
   ]
  },
  {
   "cell_type": "code",
   "execution_count": 105,
   "metadata": {},
   "outputs": [
    {
     "data": {
      "text/html": [
       "<div>\n",
       "<style scoped>\n",
       "    .dataframe tbody tr th:only-of-type {\n",
       "        vertical-align: middle;\n",
       "    }\n",
       "\n",
       "    .dataframe tbody tr th {\n",
       "        vertical-align: top;\n",
       "    }\n",
       "\n",
       "    .dataframe thead tr th {\n",
       "        text-align: left;\n",
       "    }\n",
       "\n",
       "    .dataframe thead tr:last-of-type th {\n",
       "        text-align: right;\n",
       "    }\n",
       "</style>\n",
       "<table border=\"1\" class=\"dataframe\">\n",
       "  <thead>\n",
       "    <tr>\n",
       "      <th></th>\n",
       "      <th colspan=\"10\" halign=\"left\">Pay_Scale</th>\n",
       "    </tr>\n",
       "    <tr>\n",
       "      <th>Pay_Scale</th>\n",
       "      <th>1.0</th>\n",
       "      <th>2.0</th>\n",
       "      <th>3.0</th>\n",
       "      <th>4.0</th>\n",
       "      <th>5.0</th>\n",
       "      <th>6.0</th>\n",
       "      <th>7.0</th>\n",
       "      <th>8.0</th>\n",
       "      <th>9.0</th>\n",
       "      <th>10.0</th>\n",
       "    </tr>\n",
       "    <tr>\n",
       "      <th>Education_Level</th>\n",
       "      <th></th>\n",
       "      <th></th>\n",
       "      <th></th>\n",
       "      <th></th>\n",
       "      <th></th>\n",
       "      <th></th>\n",
       "      <th></th>\n",
       "      <th></th>\n",
       "      <th></th>\n",
       "      <th></th>\n",
       "    </tr>\n",
       "  </thead>\n",
       "  <tbody>\n",
       "    <tr>\n",
       "      <th>1</th>\n",
       "      <td>8</td>\n",
       "      <td>4</td>\n",
       "      <td>8</td>\n",
       "      <td>42</td>\n",
       "      <td>46</td>\n",
       "      <td>50</td>\n",
       "      <td>39</td>\n",
       "      <td>55</td>\n",
       "      <td>23</td>\n",
       "      <td>9</td>\n",
       "    </tr>\n",
       "    <tr>\n",
       "      <th>2</th>\n",
       "      <td>10</td>\n",
       "      <td>11</td>\n",
       "      <td>11</td>\n",
       "      <td>46</td>\n",
       "      <td>50</td>\n",
       "      <td>47</td>\n",
       "      <td>33</td>\n",
       "      <td>52</td>\n",
       "      <td>23</td>\n",
       "      <td>7</td>\n",
       "    </tr>\n",
       "    <tr>\n",
       "      <th>3</th>\n",
       "      <td>29</td>\n",
       "      <td>40</td>\n",
       "      <td>53</td>\n",
       "      <td>153</td>\n",
       "      <td>196</td>\n",
       "      <td>209</td>\n",
       "      <td>132</td>\n",
       "      <td>226</td>\n",
       "      <td>94</td>\n",
       "      <td>52</td>\n",
       "    </tr>\n",
       "    <tr>\n",
       "      <th>4</th>\n",
       "      <td>16</td>\n",
       "      <td>40</td>\n",
       "      <td>29</td>\n",
       "      <td>132</td>\n",
       "      <td>140</td>\n",
       "      <td>172</td>\n",
       "      <td>115</td>\n",
       "      <td>192</td>\n",
       "      <td>77</td>\n",
       "      <td>28</td>\n",
       "    </tr>\n",
       "    <tr>\n",
       "      <th>5</th>\n",
       "      <td>11</td>\n",
       "      <td>11</td>\n",
       "      <td>10</td>\n",
       "      <td>49</td>\n",
       "      <td>48</td>\n",
       "      <td>58</td>\n",
       "      <td>33</td>\n",
       "      <td>47</td>\n",
       "      <td>22</td>\n",
       "      <td>9</td>\n",
       "    </tr>\n",
       "  </tbody>\n",
       "</table>\n",
       "</div>"
      ],
      "text/plain": [
       "                Pay_Scale                                             \n",
       "Pay_Scale            1.0  2.0  3.0  4.0  5.0  6.0  7.0  8.0  9.0  10.0\n",
       "Education_Level                                                       \n",
       "1                       8    4    8   42   46   50   39   55   23    9\n",
       "2                      10   11   11   46   50   47   33   52   23    7\n",
       "3                      29   40   53  153  196  209  132  226   94   52\n",
       "4                      16   40   29  132  140  172  115  192   77   28\n",
       "5                      11   11   10   49   48   58   33   47   22    9"
      ]
     },
     "execution_count": 105,
     "metadata": {},
     "output_type": "execute_result"
    }
   ],
   "source": [
    "df.pivot_table(index='Education_Level', columns='Pay_Scale', aggfunc={'Pay_Scale':len}, fill_value=0)"
   ]
  },
  {
   "cell_type": "code",
   "execution_count": 106,
   "metadata": {},
   "outputs": [],
   "source": [
    "data_crosstab = pd.crosstab([df.Gender, df.Pay_Scale], \n",
    "                             df.Education_Level, margins = False)   "
   ]
  },
  {
   "cell_type": "code",
   "execution_count": 107,
   "metadata": {},
   "outputs": [
    {
     "data": {
      "image/png": "[encoded data removed]",
      "text/plain": [
       "<Figure size 432x288 with 1 Axes>"
      ]
     },
     "metadata": {
      "needs_background": "light"
     },
     "output_type": "display_data"
    },
    {
     "data": {
      "text/plain": [
       "<Figure size 432x288 with 0 Axes>"
      ]
     },
     "metadata": {},
     "output_type": "display_data"
    }
   ],
   "source": [
    "data_crosstab.plot.bar(stacked=True)\n",
    "plt.show()\n",
    "plt.clf()\n",
    "## too hard to read"
   ]
  },
  {
   "cell_type": "code",
   "execution_count": 298,
   "metadata": {},
   "outputs": [],
   "source": [
    "height =[575, 2425]"
   ]
  },
  {
   "cell_type": "code",
   "execution_count": 299,
   "metadata": {},
   "outputs": [],
   "source": [
    "bars=('Education Level < 3', 'Education Level >= 3')"
   ]
  },
  {
   "cell_type": "code",
   "execution_count": 300,
   "metadata": {},
   "outputs": [],
   "source": [
    "x_pos=[4,5]"
   ]
  },
  {
   "cell_type": "code",
   "execution_count": 302,
   "metadata": {},
   "outputs": [
    {
     "data": {
      "image/png": "[encoded data removed]",
      "text/plain": [
       "<Figure size 432x288 with 1 Axes>"
      ]
     },
     "metadata": {
      "needs_background": "light"
     },
     "output_type": "display_data"
    }
   ],
   "source": [
    "plt.bar(x_pos, height, color = ['lightskyblue', 'deepskyblue'])\n",
    "plt.xticks(x_pos, bars)\n",
    "plt.ylabel(\"Number of Employees\")\n",
    "plt.title(\" Company Employees by Education Level\")\n",
    "plt.show()"
   ]
  },
  {
   "cell_type": "code",
   "execution_count": 112,
   "metadata": {},
   "outputs": [],
   "source": [
    "educated=df.where(df['Education_Level']>=3)"
   ]
  },
  {
   "cell_type": "code",
   "execution_count": 113,
   "metadata": {},
   "outputs": [],
   "source": [
    "less_educated=df.where(df['Education_Level']<3)"
   ]
  },
  {
   "cell_type": "code",
   "execution_count": 114,
   "metadata": {},
   "outputs": [],
   "source": [
    "#educated.count()\n",
    "# 2425 "
   ]
  },
  {
   "cell_type": "code",
   "execution_count": 115,
   "metadata": {},
   "outputs": [],
   "source": [
    "#less_educated.count()\n",
    "# 575"
   ]
  },
  {
   "cell_type": "code",
   "execution_count": 116,
   "metadata": {},
   "outputs": [],
   "source": [
    "educated_female=educated.where(educated['Gender']==1)"
   ]
  },
  {
   "cell_type": "code",
   "execution_count": 117,
   "metadata": {},
   "outputs": [
    {
     "data": {
      "text/plain": [
       "Employee_ID                  1388\n",
       "Gender                       1388\n",
       "Age                          1320\n",
       "Education_Level              1388\n",
       "Relationship_Status          1388\n",
       "Hometown                     1388\n",
       "Unit                         1388\n",
       "Decision_skill_possess       1388\n",
       "Time_of_service              1370\n",
       "Time_since_promotion         1388\n",
       "growth_rate                  1388\n",
       "Travel_Rate                  1388\n",
       "Post_Level                   1388\n",
       "Pay_Scale                    1386\n",
       "Compensation_and_Benefits    1388\n",
       "Work_Life_balance            1386\n",
       "VAR1                         1388\n",
       "VAR2                         1289\n",
       "VAR3                         1388\n",
       "VAR4                         1247\n",
       "VAR5                         1388\n",
       "VAR6                         1388\n",
       "VAR7                         1388\n",
       "dtype: int64"
      ]
     },
     "execution_count": 117,
     "metadata": {},
     "output_type": "execute_result"
    }
   ],
   "source": [
    "educated_female.count()\n",
    "# =1388"
   ]
  },
  {
   "cell_type": "code",
   "execution_count": 118,
   "metadata": {},
   "outputs": [],
   "source": [
    "educated_male=educated.where(educated['Gender']==0)"
   ]
  },
  {
   "cell_type": "code",
   "execution_count": 119,
   "metadata": {},
   "outputs": [
    {
     "data": {
      "text/plain": [
       "Employee_ID                  1037\n",
       "Gender                       1037\n",
       "Age                           981\n",
       "Education_Level              1037\n",
       "Relationship_Status          1037\n",
       "Hometown                     1037\n",
       "Unit                         1037\n",
       "Decision_skill_possess       1037\n",
       "Time_of_service              1017\n",
       "Time_since_promotion         1037\n",
       "growth_rate                  1037\n",
       "Travel_Rate                  1037\n",
       "Post_Level                   1037\n",
       "Pay_Scale                    1037\n",
       "Compensation_and_Benefits    1037\n",
       "Work_Life_balance            1036\n",
       "VAR1                         1037\n",
       "VAR2                          964\n",
       "VAR3                         1037\n",
       "VAR4                          937\n",
       "VAR5                         1037\n",
       "VAR6                         1037\n",
       "VAR7                         1037\n",
       "dtype: int64"
      ]
     },
     "execution_count": 119,
     "metadata": {},
     "output_type": "execute_result"
    }
   ],
   "source": [
    "educated_male.count()\n",
    "# =1037"
   ]
  },
  {
   "cell_type": "code",
   "execution_count": 120,
   "metadata": {},
   "outputs": [
    {
     "name": "stdout",
     "output_type": "stream",
     "text": [
      "Gender                   1.000000\n",
      "Age                     39.625000\n",
      "Education_Level          3.621758\n",
      "Relationship_Status      0.631124\n",
      "Time_of_service         13.200000\n",
      "Time_since_promotion     2.417147\n",
      "growth_rate             47.250000\n",
      "Travel_Rate              0.805476\n",
      "Post_Level               2.768012\n",
      "Pay_Scale                6.045455\n",
      "Work_Life_balance        2.401154\n",
      "VAR1                     3.028818\n",
      "VAR2                     0.065958\n",
      "VAR3                    -0.024526\n",
      "VAR4                     1.917402\n",
      "VAR5                     2.823487\n",
      "VAR6                     7.121758\n",
      "VAR7                     3.242795\n",
      "dtype: float64\n"
     ]
    }
   ],
   "source": [
    "print(np.mean(educated_female))"
   ]
  },
  {
   "cell_type": "code",
   "execution_count": 121,
   "metadata": {},
   "outputs": [
    {
     "name": "stdout",
     "output_type": "stream",
     "text": [
      "Gender                   0.000000\n",
      "Age                     39.422018\n",
      "Education_Level          3.650916\n",
      "Relationship_Status      0.662488\n",
      "Time_of_service         13.187807\n",
      "Time_since_promotion     2.387657\n",
      "growth_rate             46.505304\n",
      "Travel_Rate              0.848602\n",
      "Post_Level               2.778206\n",
      "Pay_Scale                6.106075\n",
      "Work_Life_balance        2.386100\n",
      "VAR1                     3.125362\n",
      "VAR2                    -0.036389\n",
      "VAR3                     0.044597\n",
      "VAR4                     1.880470\n",
      "VAR5                     2.840887\n",
      "VAR6                     7.132112\n",
      "VAR7                     3.220829\n",
      "dtype: float64\n"
     ]
    }
   ],
   "source": [
    "print(np.mean(educated_male))"
   ]
  },
  {
   "cell_type": "code",
   "execution_count": 122,
   "metadata": {},
   "outputs": [],
   "source": [
    "female_ed_pct=1388/1728"
   ]
  },
  {
   "cell_type": "code",
   "execution_count": 123,
   "metadata": {},
   "outputs": [
    {
     "name": "stdout",
     "output_type": "stream",
     "text": [
      "0.8032407407407407\n"
     ]
    }
   ],
   "source": [
    "print(female_ed_pct)"
   ]
  },
  {
   "cell_type": "code",
   "execution_count": 124,
   "metadata": {},
   "outputs": [],
   "source": [
    "male_ed_pct=1037/1272"
   ]
  },
  {
   "cell_type": "code",
   "execution_count": 125,
   "metadata": {},
   "outputs": [
    {
     "name": "stdout",
     "output_type": "stream",
     "text": [
      "0.815251572327044\n"
     ]
    }
   ],
   "source": [
    "print(male_ed_pct)"
   ]
  },
  {
   "cell_type": "code",
   "execution_count": 126,
   "metadata": {},
   "outputs": [],
   "source": [
    "male_ed_count=1341"
   ]
  },
  {
   "cell_type": "code",
   "execution_count": 289,
   "metadata": {},
   "outputs": [
    {
     "data": {
      "text/plain": [
       "<Figure size 432x288 with 0 Axes>"
      ]
     },
     "metadata": {},
     "output_type": "display_data"
    }
   ],
   "source": [
    "plt.clf()"
   ]
  },
  {
   "cell_type": "code",
   "execution_count": 290,
   "metadata": {},
   "outputs": [],
   "source": [
    "heights =[0.815251572327044, \n",
    "0.8032407407407407]"
   ]
  },
  {
   "cell_type": "code",
   "execution_count": 291,
   "metadata": {},
   "outputs": [],
   "source": [
    "bars=('Male', 'Female')"
   ]
  },
  {
   "cell_type": "code",
   "execution_count": 292,
   "metadata": {},
   "outputs": [],
   "source": [
    "x_pos=[4,5]"
   ]
  },
  {
   "cell_type": "code",
   "execution_count": 293,
   "metadata": {},
   "outputs": [],
   "source": [
    "#below shows the percentage of female and male highly educated employees"
   ]
  },
  {
   "cell_type": "code",
   "execution_count": 294,
   "metadata": {},
   "outputs": [
    {
     "data": {
      "image/png": "[encoded data removed]",
      "text/plain": [
       "<Figure size 432x288 with 1 Axes>"
      ]
     },
     "metadata": {
      "needs_background": "light"
     },
     "output_type": "display_data"
    }
   ],
   "source": [
    "plt.bar(x_pos, heights, color = ['lightpink', 'steelblue'])\n",
    "plt.xticks(x_pos, bars)\n",
    "plt.title(\"Highly Educated Employees\")\n",
    "plt.ylabel(\"Percentage\")\n",
    "plt.show()"
   ]
  },
  {
   "cell_type": "code",
   "execution_count": 133,
   "metadata": {},
   "outputs": [],
   "source": [
    "analytical_skill=df[df['Decision_skill_possess']==\"Analytical\"]"
   ]
  },
  {
   "cell_type": "code",
   "execution_count": 134,
   "metadata": {},
   "outputs": [
    {
     "data": {
      "text/plain": [
       "Employee_ID                  746\n",
       "Gender                       746\n",
       "Age                          702\n",
       "Education_Level              746\n",
       "Relationship_Status          746\n",
       "Hometown                     746\n",
       "Unit                         746\n",
       "Decision_skill_possess       746\n",
       "Time_of_service              731\n",
       "Time_since_promotion         746\n",
       "growth_rate                  746\n",
       "Travel_Rate                  746\n",
       "Post_Level                   746\n",
       "Pay_Scale                    746\n",
       "Compensation_and_Benefits    746\n",
       "Work_Life_balance            745\n",
       "VAR1                         746\n",
       "VAR2                         687\n",
       "VAR3                         746\n",
       "VAR4                         669\n",
       "VAR5                         746\n",
       "VAR6                         746\n",
       "VAR7                         746\n",
       "dtype: int64"
      ]
     },
     "execution_count": 134,
     "metadata": {},
     "output_type": "execute_result"
    }
   ],
   "source": [
    "analytical_skill.count()"
   ]
  },
  {
   "cell_type": "code",
   "execution_count": 135,
   "metadata": {},
   "outputs": [],
   "source": [
    "behavioral_skill=df[df['Decision_skill_possess']==\"Behavioral\"]"
   ]
  },
  {
   "cell_type": "code",
   "execution_count": 136,
   "metadata": {},
   "outputs": [
    {
     "data": {
      "text/plain": [
       "Employee_ID                  799\n",
       "Gender                       799\n",
       "Age                          761\n",
       "Education_Level              799\n",
       "Relationship_Status          799\n",
       "Hometown                     799\n",
       "Unit                         799\n",
       "Decision_skill_possess       799\n",
       "Time_of_service              783\n",
       "Time_since_promotion         799\n",
       "growth_rate                  799\n",
       "Travel_Rate                  799\n",
       "Post_Level                   799\n",
       "Pay_Scale                    799\n",
       "Compensation_and_Benefits    799\n",
       "Work_Life_balance            798\n",
       "VAR1                         799\n",
       "VAR2                         742\n",
       "VAR3                         799\n",
       "VAR4                         721\n",
       "VAR5                         799\n",
       "VAR6                         799\n",
       "VAR7                         799\n",
       "dtype: int64"
      ]
     },
     "execution_count": 136,
     "metadata": {},
     "output_type": "execute_result"
    }
   ],
   "source": [
    "behavioral_skill.count()"
   ]
  },
  {
   "cell_type": "code",
   "execution_count": 137,
   "metadata": {},
   "outputs": [],
   "source": [
    "conceptual_skill=df[df['Decision_skill_possess']==\"Conceptual\"]"
   ]
  },
  {
   "cell_type": "code",
   "execution_count": 138,
   "metadata": {},
   "outputs": [
    {
     "data": {
      "text/plain": [
       "Employee_ID                  720\n",
       "Gender                       720\n",
       "Age                          682\n",
       "Education_Level              720\n",
       "Relationship_Status          720\n",
       "Hometown                     720\n",
       "Unit                         720\n",
       "Decision_skill_possess       720\n",
       "Time_of_service              711\n",
       "Time_since_promotion         720\n",
       "growth_rate                  720\n",
       "Travel_Rate                  720\n",
       "Post_Level                   720\n",
       "Pay_Scale                    719\n",
       "Compensation_and_Benefits    720\n",
       "Work_Life_balance            717\n",
       "VAR1                         720\n",
       "VAR2                         671\n",
       "VAR3                         720\n",
       "VAR4                         644\n",
       "VAR5                         720\n",
       "VAR6                         720\n",
       "VAR7                         720\n",
       "dtype: int64"
      ]
     },
     "execution_count": 138,
     "metadata": {},
     "output_type": "execute_result"
    }
   ],
   "source": [
    "conceptual_skill.count()"
   ]
  },
  {
   "cell_type": "code",
   "execution_count": 139,
   "metadata": {},
   "outputs": [],
   "source": [
    "directive_skill=df[df['Decision_skill_possess']==\"Directive\"]"
   ]
  },
  {
   "cell_type": "code",
   "execution_count": 140,
   "metadata": {},
   "outputs": [
    {
     "data": {
      "text/plain": [
       "Employee_ID                  735\n",
       "Gender                       735\n",
       "Age                          694\n",
       "Education_Level              735\n",
       "Relationship_Status          735\n",
       "Hometown                     735\n",
       "Unit                         735\n",
       "Decision_skill_possess       735\n",
       "Time_of_service              723\n",
       "Time_since_promotion         735\n",
       "growth_rate                  735\n",
       "Travel_Rate                  735\n",
       "Post_Level                   735\n",
       "Pay_Scale                    733\n",
       "Compensation_and_Benefits    735\n",
       "Work_Life_balance            735\n",
       "VAR1                         735\n",
       "VAR2                         683\n",
       "VAR3                         735\n",
       "VAR4                         668\n",
       "VAR5                         735\n",
       "VAR6                         735\n",
       "VAR7                         735\n",
       "dtype: int64"
      ]
     },
     "execution_count": 140,
     "metadata": {},
     "output_type": "execute_result"
    }
   ],
   "source": [
    "directive_skill.count()"
   ]
  },
  {
   "cell_type": "code",
   "execution_count": 141,
   "metadata": {},
   "outputs": [],
   "source": [
    "analytical_skill_high_pay=analytical_skill[analytical_skill['Pay_Scale']>=7]"
   ]
  },
  {
   "cell_type": "code",
   "execution_count": 142,
   "metadata": {},
   "outputs": [
    {
     "data": {
      "text/plain": [
       "Employee_ID                  320\n",
       "Gender                       320\n",
       "Age                          306\n",
       "Education_Level              320\n",
       "Relationship_Status          320\n",
       "Hometown                     320\n",
       "Unit                         320\n",
       "Decision_skill_possess       320\n",
       "Time_of_service              313\n",
       "Time_since_promotion         320\n",
       "growth_rate                  320\n",
       "Travel_Rate                  320\n",
       "Post_Level                   320\n",
       "Pay_Scale                    320\n",
       "Compensation_and_Benefits    320\n",
       "Work_Life_balance            319\n",
       "VAR1                         320\n",
       "VAR2                         294\n",
       "VAR3                         320\n",
       "VAR4                         282\n",
       "VAR5                         320\n",
       "VAR6                         320\n",
       "VAR7                         320\n",
       "dtype: int64"
      ]
     },
     "execution_count": 142,
     "metadata": {},
     "output_type": "execute_result"
    }
   ],
   "source": [
    "analytical_skill_high_pay.count()"
   ]
  },
  {
   "cell_type": "code",
   "execution_count": 143,
   "metadata": {},
   "outputs": [],
   "source": [
    "behavioral_skill_high_pay=behavioral_skill[behavioral_skill['Pay_Scale']>=7]"
   ]
  },
  {
   "cell_type": "code",
   "execution_count": 144,
   "metadata": {},
   "outputs": [
    {
     "data": {
      "text/plain": [
       "Employee_ID                  348\n",
       "Gender                       348\n",
       "Age                          330\n",
       "Education_Level              348\n",
       "Relationship_Status          348\n",
       "Hometown                     348\n",
       "Unit                         348\n",
       "Decision_skill_possess       348\n",
       "Time_of_service              340\n",
       "Time_since_promotion         348\n",
       "growth_rate                  348\n",
       "Travel_Rate                  348\n",
       "Post_Level                   348\n",
       "Pay_Scale                    348\n",
       "Compensation_and_Benefits    348\n",
       "Work_Life_balance            347\n",
       "VAR1                         348\n",
       "VAR2                         323\n",
       "VAR3                         348\n",
       "VAR4                         320\n",
       "VAR5                         348\n",
       "VAR6                         348\n",
       "VAR7                         348\n",
       "dtype: int64"
      ]
     },
     "execution_count": 144,
     "metadata": {},
     "output_type": "execute_result"
    }
   ],
   "source": [
    "behavioral_skill_high_pay.count()"
   ]
  },
  {
   "cell_type": "code",
   "execution_count": 145,
   "metadata": {},
   "outputs": [],
   "source": [
    "conceptual_skill_high_pay=conceptual_skill[conceptual_skill['Pay_Scale']>=7]"
   ]
  },
  {
   "cell_type": "code",
   "execution_count": 146,
   "metadata": {},
   "outputs": [
    {
     "data": {
      "text/plain": [
       "Employee_ID                  294\n",
       "Gender                       294\n",
       "Age                          277\n",
       "Education_Level              294\n",
       "Relationship_Status          294\n",
       "Hometown                     294\n",
       "Unit                         294\n",
       "Decision_skill_possess       294\n",
       "Time_of_service              291\n",
       "Time_since_promotion         294\n",
       "growth_rate                  294\n",
       "Travel_Rate                  294\n",
       "Post_Level                   294\n",
       "Pay_Scale                    294\n",
       "Compensation_and_Benefits    294\n",
       "Work_Life_balance            292\n",
       "VAR1                         294\n",
       "VAR2                         270\n",
       "VAR3                         294\n",
       "VAR4                         260\n",
       "VAR5                         294\n",
       "VAR6                         294\n",
       "VAR7                         294\n",
       "dtype: int64"
      ]
     },
     "execution_count": 146,
     "metadata": {},
     "output_type": "execute_result"
    }
   ],
   "source": [
    "conceptual_skill_high_pay.count()"
   ]
  },
  {
   "cell_type": "code",
   "execution_count": 147,
   "metadata": {},
   "outputs": [],
   "source": [
    "directive_skill_high_pay=directive_skill[directive_skill['Pay_Scale']>=7]"
   ]
  },
  {
   "cell_type": "code",
   "execution_count": 148,
   "metadata": {},
   "outputs": [
    {
     "data": {
      "text/plain": [
       "Employee_ID                  306\n",
       "Gender                       306\n",
       "Age                          288\n",
       "Education_Level              306\n",
       "Relationship_Status          306\n",
       "Hometown                     306\n",
       "Unit                         306\n",
       "Decision_skill_possess       306\n",
       "Time_of_service              301\n",
       "Time_since_promotion         306\n",
       "growth_rate                  306\n",
       "Travel_Rate                  306\n",
       "Post_Level                   306\n",
       "Pay_Scale                    306\n",
       "Compensation_and_Benefits    306\n",
       "Work_Life_balance            306\n",
       "VAR1                         306\n",
       "VAR2                         284\n",
       "VAR3                         306\n",
       "VAR4                         274\n",
       "VAR5                         306\n",
       "VAR6                         306\n",
       "VAR7                         306\n",
       "dtype: int64"
      ]
     },
     "execution_count": 148,
     "metadata": {},
     "output_type": "execute_result"
    }
   ],
   "source": [
    "directive_skill_high_pay.count()"
   ]
  },
  {
   "cell_type": "code",
   "execution_count": 149,
   "metadata": {},
   "outputs": [],
   "source": [
    "skills=[294,306,320,348]"
   ]
  },
  {
   "cell_type": "code",
   "execution_count": 150,
   "metadata": {},
   "outputs": [],
   "source": [
    "pos=[2,4,6,8]"
   ]
  },
  {
   "cell_type": "code",
   "execution_count": 151,
   "metadata": {},
   "outputs": [],
   "source": [
    "bars=('Conceptual', 'Directive', 'Analytical', 'Behavioral')"
   ]
  },
  {
   "cell_type": "code",
   "execution_count": 152,
   "metadata": {},
   "outputs": [
    {
     "data": {
      "image/png": "[encoded data removed]",
      "text/plain": [
       "<Figure size 432x288 with 1 Axes>"
      ]
     },
     "metadata": {
      "needs_background": "light"
     },
     "output_type": "display_data"
    }
   ],
   "source": [
    "plt.bar(pos, skills)\n",
    "plt.xticks(pos, bars)\n",
    "plt.ylabel(\"# of Employees\")\n",
    "plt.title(\"Highly Paid Employees by Skill\")\n",
    "plt.show()\n",
    "#Behavioral is the only one that stands out"
   ]
  },
  {
   "cell_type": "code",
   "execution_count": 153,
   "metadata": {},
   "outputs": [
    {
     "data": {
      "text/html": [
       "<div>\n",
       "<style scoped>\n",
       "    .dataframe tbody tr th:only-of-type {\n",
       "        vertical-align: middle;\n",
       "    }\n",
       "\n",
       "    .dataframe tbody tr th {\n",
       "        vertical-align: top;\n",
       "    }\n",
       "\n",
       "    .dataframe thead th {\n",
       "        text-align: right;\n",
       "    }\n",
       "</style>\n",
       "<table border=\"1\" class=\"dataframe\">\n",
       "  <thead>\n",
       "    <tr style=\"text-align: right;\">\n",
       "      <th></th>\n",
       "      <th>Employee_ID</th>\n",
       "      <th>Gender</th>\n",
       "      <th>Age</th>\n",
       "      <th>Education_Level</th>\n",
       "      <th>Relationship_Status</th>\n",
       "      <th>Hometown</th>\n",
       "      <th>Unit</th>\n",
       "      <th>Decision_skill_possess</th>\n",
       "      <th>Time_of_service</th>\n",
       "      <th>Time_since_promotion</th>\n",
       "      <th>...</th>\n",
       "      <th>Pay_Scale</th>\n",
       "      <th>Compensation_and_Benefits</th>\n",
       "      <th>Work_Life_balance</th>\n",
       "      <th>VAR1</th>\n",
       "      <th>VAR2</th>\n",
       "      <th>VAR3</th>\n",
       "      <th>VAR4</th>\n",
       "      <th>VAR5</th>\n",
       "      <th>VAR6</th>\n",
       "      <th>VAR7</th>\n",
       "    </tr>\n",
       "  </thead>\n",
       "  <tbody>\n",
       "    <tr>\n",
       "      <th>2</th>\n",
       "      <td>EID_22203</td>\n",
       "      <td>0</td>\n",
       "      <td>52.0</td>\n",
       "      <td>3</td>\n",
       "      <td>1</td>\n",
       "      <td>Springfield</td>\n",
       "      <td>Sales</td>\n",
       "      <td>Directive</td>\n",
       "      <td>21.0</td>\n",
       "      <td>3</td>\n",
       "      <td>...</td>\n",
       "      <td>8.0</td>\n",
       "      <td>type3</td>\n",
       "      <td>1.0</td>\n",
       "      <td>4</td>\n",
       "      <td>-0.1048</td>\n",
       "      <td>0.7075</td>\n",
       "      <td>2.0</td>\n",
       "      <td>1</td>\n",
       "      <td>9</td>\n",
       "      <td>3</td>\n",
       "    </tr>\n",
       "    <tr>\n",
       "      <th>8</th>\n",
       "      <td>EID_13232</td>\n",
       "      <td>0</td>\n",
       "      <td>31.0</td>\n",
       "      <td>1</td>\n",
       "      <td>0</td>\n",
       "      <td>Springfield</td>\n",
       "      <td>IT</td>\n",
       "      <td>Analytical</td>\n",
       "      <td>7.0</td>\n",
       "      <td>3</td>\n",
       "      <td>...</td>\n",
       "      <td>8.0</td>\n",
       "      <td>type2</td>\n",
       "      <td>3.0</td>\n",
       "      <td>3</td>\n",
       "      <td>1.6081</td>\n",
       "      <td>0.7075</td>\n",
       "      <td>2.0</td>\n",
       "      <td>2</td>\n",
       "      <td>7</td>\n",
       "      <td>4</td>\n",
       "    </tr>\n",
       "    <tr>\n",
       "      <th>11</th>\n",
       "      <td>EID_14669</td>\n",
       "      <td>0</td>\n",
       "      <td>29.0</td>\n",
       "      <td>4</td>\n",
       "      <td>0</td>\n",
       "      <td>Washington</td>\n",
       "      <td>IT</td>\n",
       "      <td>Directive</td>\n",
       "      <td>7.0</td>\n",
       "      <td>2</td>\n",
       "      <td>...</td>\n",
       "      <td>9.0</td>\n",
       "      <td>type2</td>\n",
       "      <td>4.0</td>\n",
       "      <td>4</td>\n",
       "      <td>0.7516</td>\n",
       "      <td>-0.4537</td>\n",
       "      <td>1.0</td>\n",
       "      <td>3</td>\n",
       "      <td>5</td>\n",
       "      <td>4</td>\n",
       "    </tr>\n",
       "    <tr>\n",
       "      <th>14</th>\n",
       "      <td>EID_20157</td>\n",
       "      <td>0</td>\n",
       "      <td>54.0</td>\n",
       "      <td>3</td>\n",
       "      <td>0</td>\n",
       "      <td>Washington</td>\n",
       "      <td>IT</td>\n",
       "      <td>Analytical</td>\n",
       "      <td>18.0</td>\n",
       "      <td>4</td>\n",
       "      <td>...</td>\n",
       "      <td>7.0</td>\n",
       "      <td>type2</td>\n",
       "      <td>5.0</td>\n",
       "      <td>2</td>\n",
       "      <td>0.7516</td>\n",
       "      <td>-0.4537</td>\n",
       "      <td>2.0</td>\n",
       "      <td>2</td>\n",
       "      <td>7</td>\n",
       "      <td>4</td>\n",
       "    </tr>\n",
       "    <tr>\n",
       "      <th>18</th>\n",
       "      <td>EID_12838</td>\n",
       "      <td>0</td>\n",
       "      <td>38.0</td>\n",
       "      <td>3</td>\n",
       "      <td>1</td>\n",
       "      <td>Washington</td>\n",
       "      <td>Logistics</td>\n",
       "      <td>Directive</td>\n",
       "      <td>12.0</td>\n",
       "      <td>1</td>\n",
       "      <td>...</td>\n",
       "      <td>8.0</td>\n",
       "      <td>type3</td>\n",
       "      <td>1.0</td>\n",
       "      <td>3</td>\n",
       "      <td>-1.8176</td>\n",
       "      <td>-0.4537</td>\n",
       "      <td>NaN</td>\n",
       "      <td>2</td>\n",
       "      <td>7</td>\n",
       "      <td>3</td>\n",
       "    </tr>\n",
       "    <tr>\n",
       "      <th>...</th>\n",
       "      <td>...</td>\n",
       "      <td>...</td>\n",
       "      <td>...</td>\n",
       "      <td>...</td>\n",
       "      <td>...</td>\n",
       "      <td>...</td>\n",
       "      <td>...</td>\n",
       "      <td>...</td>\n",
       "      <td>...</td>\n",
       "      <td>...</td>\n",
       "      <td>...</td>\n",
       "      <td>...</td>\n",
       "      <td>...</td>\n",
       "      <td>...</td>\n",
       "      <td>...</td>\n",
       "      <td>...</td>\n",
       "      <td>...</td>\n",
       "      <td>...</td>\n",
       "      <td>...</td>\n",
       "      <td>...</td>\n",
       "      <td>...</td>\n",
       "    </tr>\n",
       "    <tr>\n",
       "      <th>2970</th>\n",
       "      <td>EID_1668</td>\n",
       "      <td>0</td>\n",
       "      <td>56.0</td>\n",
       "      <td>5</td>\n",
       "      <td>1</td>\n",
       "      <td>Washington</td>\n",
       "      <td>R&amp;D</td>\n",
       "      <td>Conceptual</td>\n",
       "      <td>19.0</td>\n",
       "      <td>1</td>\n",
       "      <td>...</td>\n",
       "      <td>7.0</td>\n",
       "      <td>type2</td>\n",
       "      <td>1.0</td>\n",
       "      <td>3</td>\n",
       "      <td>NaN</td>\n",
       "      <td>-1.6150</td>\n",
       "      <td>NaN</td>\n",
       "      <td>2</td>\n",
       "      <td>7</td>\n",
       "      <td>3</td>\n",
       "    </tr>\n",
       "    <tr>\n",
       "      <th>2975</th>\n",
       "      <td>EID_16121</td>\n",
       "      <td>0</td>\n",
       "      <td>23.0</td>\n",
       "      <td>3</td>\n",
       "      <td>1</td>\n",
       "      <td>Franklin</td>\n",
       "      <td>Quality</td>\n",
       "      <td>Conceptual</td>\n",
       "      <td>4.0</td>\n",
       "      <td>1</td>\n",
       "      <td>...</td>\n",
       "      <td>10.0</td>\n",
       "      <td>type3</td>\n",
       "      <td>1.0</td>\n",
       "      <td>4</td>\n",
       "      <td>-1.8176</td>\n",
       "      <td>-0.4537</td>\n",
       "      <td>NaN</td>\n",
       "      <td>1</td>\n",
       "      <td>8</td>\n",
       "      <td>3</td>\n",
       "    </tr>\n",
       "    <tr>\n",
       "      <th>2976</th>\n",
       "      <td>EID_14662</td>\n",
       "      <td>0</td>\n",
       "      <td>33.0</td>\n",
       "      <td>5</td>\n",
       "      <td>0</td>\n",
       "      <td>Franklin</td>\n",
       "      <td>Operarions</td>\n",
       "      <td>Behavioral</td>\n",
       "      <td>4.0</td>\n",
       "      <td>3</td>\n",
       "      <td>...</td>\n",
       "      <td>9.0</td>\n",
       "      <td>type3</td>\n",
       "      <td>5.0</td>\n",
       "      <td>3</td>\n",
       "      <td>-0.9612</td>\n",
       "      <td>-0.4537</td>\n",
       "      <td>1.0</td>\n",
       "      <td>2</td>\n",
       "      <td>7</td>\n",
       "      <td>5</td>\n",
       "    </tr>\n",
       "    <tr>\n",
       "      <th>2985</th>\n",
       "      <td>EID_4693</td>\n",
       "      <td>0</td>\n",
       "      <td>48.0</td>\n",
       "      <td>3</td>\n",
       "      <td>1</td>\n",
       "      <td>Springfield</td>\n",
       "      <td>Marketing</td>\n",
       "      <td>Analytical</td>\n",
       "      <td>17.0</td>\n",
       "      <td>2</td>\n",
       "      <td>...</td>\n",
       "      <td>8.0</td>\n",
       "      <td>type3</td>\n",
       "      <td>3.0</td>\n",
       "      <td>5</td>\n",
       "      <td>1.6081</td>\n",
       "      <td>-0.4537</td>\n",
       "      <td>1.0</td>\n",
       "      <td>2</td>\n",
       "      <td>7</td>\n",
       "      <td>3</td>\n",
       "    </tr>\n",
       "    <tr>\n",
       "      <th>2992</th>\n",
       "      <td>EID_6891</td>\n",
       "      <td>0</td>\n",
       "      <td>47.0</td>\n",
       "      <td>3</td>\n",
       "      <td>1</td>\n",
       "      <td>Franklin</td>\n",
       "      <td>Operarions</td>\n",
       "      <td>Behavioral</td>\n",
       "      <td>15.0</td>\n",
       "      <td>2</td>\n",
       "      <td>...</td>\n",
       "      <td>9.0</td>\n",
       "      <td>type2</td>\n",
       "      <td>3.0</td>\n",
       "      <td>3</td>\n",
       "      <td>-0.9612</td>\n",
       "      <td>0.7075</td>\n",
       "      <td>2.0</td>\n",
       "      <td>2</td>\n",
       "      <td>6</td>\n",
       "      <td>4</td>\n",
       "    </tr>\n",
       "  </tbody>\n",
       "</table>\n",
       "<p>546 rows × 23 columns</p>\n",
       "</div>"
      ],
      "text/plain": [
       "     Employee_ID  Gender   Age  Education_Level  Relationship_Status  \\\n",
       "2      EID_22203       0  52.0                3                    1   \n",
       "8      EID_13232       0  31.0                1                    0   \n",
       "11     EID_14669       0  29.0                4                    0   \n",
       "14     EID_20157       0  54.0                3                    0   \n",
       "18     EID_12838       0  38.0                3                    1   \n",
       "...          ...     ...   ...              ...                  ...   \n",
       "2970    EID_1668       0  56.0                5                    1   \n",
       "2975   EID_16121       0  23.0                3                    1   \n",
       "2976   EID_14662       0  33.0                5                    0   \n",
       "2985    EID_4693       0  48.0                3                    1   \n",
       "2992    EID_6891       0  47.0                3                    1   \n",
       "\n",
       "         Hometown        Unit Decision_skill_possess  Time_of_service  \\\n",
       "2     Springfield       Sales              Directive             21.0   \n",
       "8     Springfield          IT             Analytical              7.0   \n",
       "11     Washington          IT              Directive              7.0   \n",
       "14     Washington          IT             Analytical             18.0   \n",
       "18     Washington   Logistics              Directive             12.0   \n",
       "...           ...         ...                    ...              ...   \n",
       "2970   Washington         R&D             Conceptual             19.0   \n",
       "2975     Franklin     Quality             Conceptual              4.0   \n",
       "2976     Franklin  Operarions             Behavioral              4.0   \n",
       "2985  Springfield   Marketing             Analytical             17.0   \n",
       "2992     Franklin  Operarions             Behavioral             15.0   \n",
       "\n",
       "      Time_since_promotion  ...  Pay_Scale  Compensation_and_Benefits  \\\n",
       "2                        3  ...        8.0                      type3   \n",
       "8                        3  ...        8.0                      type2   \n",
       "11                       2  ...        9.0                      type2   \n",
       "14                       4  ...        7.0                      type2   \n",
       "18                       1  ...        8.0                      type3   \n",
       "...                    ...  ...        ...                        ...   \n",
       "2970                     1  ...        7.0                      type2   \n",
       "2975                     1  ...       10.0                      type3   \n",
       "2976                     3  ...        9.0                      type3   \n",
       "2985                     2  ...        8.0                      type3   \n",
       "2992                     2  ...        9.0                      type2   \n",
       "\n",
       "      Work_Life_balance  VAR1    VAR2    VAR3  VAR4  VAR5  VAR6  VAR7  \n",
       "2                   1.0     4 -0.1048  0.7075   2.0     1     9     3  \n",
       "8                   3.0     3  1.6081  0.7075   2.0     2     7     4  \n",
       "11                  4.0     4  0.7516 -0.4537   1.0     3     5     4  \n",
       "14                  5.0     2  0.7516 -0.4537   2.0     2     7     4  \n",
       "18                  1.0     3 -1.8176 -0.4537   NaN     2     7     3  \n",
       "...                 ...   ...     ...     ...   ...   ...   ...   ...  \n",
       "2970                1.0     3     NaN -1.6150   NaN     2     7     3  \n",
       "2975                1.0     4 -1.8176 -0.4537   NaN     1     8     3  \n",
       "2976                5.0     3 -0.9612 -0.4537   1.0     2     7     5  \n",
       "2985                3.0     5  1.6081 -0.4537   1.0     2     7     3  \n",
       "2992                3.0     3 -0.9612  0.7075   2.0     2     6     4  \n",
       "\n",
       "[546 rows x 23 columns]"
      ]
     },
     "execution_count": 153,
     "metadata": {},
     "output_type": "execute_result"
    }
   ],
   "source": [
    "male_high_pay"
   ]
  },
  {
   "cell_type": "code",
   "execution_count": 154,
   "metadata": {},
   "outputs": [
    {
     "data": {
      "text/plain": [
       "array(['R&D', 'IT', 'Sales', 'Marketing', 'Purchasing', 'Operarions',\n",
       "       'Human Resource Management', 'Logistics', 'Accounting and Finance',\n",
       "       'Security', 'Quality', 'Production'], dtype=object)"
      ]
     },
     "execution_count": 154,
     "metadata": {},
     "output_type": "execute_result"
    }
   ],
   "source": [
    "df.Unit.unique()"
   ]
  },
  {
   "cell_type": "code",
   "execution_count": 155,
   "metadata": {},
   "outputs": [],
   "source": [
    "RandD_high_pay=high_pay[high_pay['Unit']=='R&D']\n",
    "# RandD_high_pay.count()  =113"
   ]
  },
  {
   "cell_type": "code",
   "execution_count": 156,
   "metadata": {},
   "outputs": [],
   "source": [
    "IT_high_pay=high_pay[high_pay['Unit']=='IT']\n",
    "# IT_high_pay.count() =195"
   ]
  },
  {
   "cell_type": "code",
   "execution_count": 157,
   "metadata": {},
   "outputs": [],
   "source": [
    "sales_high_pay=high_pay[high_pay['Unit']=='Sales']\n",
    "# sales_high_pay.count()  =201"
   ]
  },
  {
   "cell_type": "code",
   "execution_count": 158,
   "metadata": {},
   "outputs": [],
   "source": [
    "marketing_high_pay=high_pay[high_pay['Unit']=='Marketing']\n",
    "# marketing_high_pay.count()  =46"
   ]
  },
  {
   "cell_type": "code",
   "execution_count": 159,
   "metadata": {},
   "outputs": [],
   "source": [
    "Purchasing_high_pay=high_pay[high_pay['Unit']=='Purchasing']\n",
    "# Purchasing_high_pay.count()  =64"
   ]
  },
  {
   "cell_type": "code",
   "execution_count": 160,
   "metadata": {},
   "outputs": [],
   "source": [
    "Operations_high_pay=high_pay[high_pay['Unit']=='Operarions']\n",
    "# Operations_high_pay.count()  =105    fix spelling of Operations"
   ]
  },
  {
   "cell_type": "code",
   "execution_count": 161,
   "metadata": {},
   "outputs": [],
   "source": [
    "Logistics_high_pay=high_pay[high_pay['Unit']=='Logistics']\n",
    "# Logistics_high_pay.count()  =142"
   ]
  },
  {
   "cell_type": "code",
   "execution_count": 162,
   "metadata": {},
   "outputs": [],
   "source": [
    "HR_high_pay=high_pay[high_pay['Unit']=='Human Resource Management']\n",
    "# HR_high_pay.count()  =45"
   ]
  },
  {
   "cell_type": "code",
   "execution_count": 163,
   "metadata": {},
   "outputs": [],
   "source": [
    "accounting_and_finance_high_pay=high_pay[high_pay['Unit']=='Accounting and Finance']\n",
    "# accounting_and_finance_high_pay.count()   =63"
   ]
  },
  {
   "cell_type": "code",
   "execution_count": 164,
   "metadata": {},
   "outputs": [],
   "source": [
    "security_high_pay=high_pay[high_pay['Unit']=='Security']\n",
    "# security_high_pay.count()  =16"
   ]
  },
  {
   "cell_type": "code",
   "execution_count": 165,
   "metadata": {},
   "outputs": [],
   "source": [
    "production_high_pay=high_pay[high_pay['Unit']=='Production']\n",
    "# production_high_pay.count()   =27"
   ]
  },
  {
   "cell_type": "code",
   "execution_count": 166,
   "metadata": {},
   "outputs": [],
   "source": [
    "quality_high_pay=high_pay[high_pay['Unit']=='Quality']\n",
    "# quality_high_pay.count()  =30"
   ]
  },
  {
   "cell_type": "code",
   "execution_count": 167,
   "metadata": {},
   "outputs": [],
   "source": [
    "high_pay_by_unit=[16,27,30,45,46,63,64,105,113, 142,195, 201]"
   ]
  },
  {
   "cell_type": "code",
   "execution_count": 168,
   "metadata": {},
   "outputs": [],
   "source": [
    "pos=[2,4,6,8,10,12,14,16,18,20,22,24]"
   ]
  },
  {
   "cell_type": "code",
   "execution_count": 169,
   "metadata": {},
   "outputs": [],
   "source": [
    "bars=('Security', 'Production', 'Quality', 'HR', 'Marketing', 'Acct & Finance', 'Purchasing', 'Operations', 'R & D', 'Logistics', 'IT', 'Sales')"
   ]
  },
  {
   "cell_type": "code",
   "execution_count": 170,
   "metadata": {},
   "outputs": [
    {
     "data": {
      "image/png": "[encoded data removed]",
      "text/plain": [
       "<Figure size 432x288 with 1 Axes>"
      ]
     },
     "metadata": {
      "needs_background": "light"
     },
     "output_type": "display_data"
    }
   ],
   "source": [
    "plt.clf()\n",
    "plt.bar(pos, high_pay_by_unit)\n",
    "plt.xticks(pos, bars, rotation=90, fontsize=10)\n",
    "plt.ylabel(\"# of Employees\")\n",
    "plt.title(\"Highly Paid Employees by Unit\")\n",
    "plt.savefig(\"pay_by_unit.jpg\")\n",
    "plt.show()"
   ]
  },
  {
   "cell_type": "code",
   "execution_count": 171,
   "metadata": {},
   "outputs": [],
   "source": [
    "wlb_1=df[df['Work_Life_balance']==1]\n",
    "# 909"
   ]
  },
  {
   "cell_type": "code",
   "execution_count": 172,
   "metadata": {},
   "outputs": [],
   "source": [
    "wlb_2=df[df['Work_Life_balance']==2]\n",
    "# 672"
   ]
  },
  {
   "cell_type": "code",
   "execution_count": 173,
   "metadata": {},
   "outputs": [],
   "source": [
    "wlb_3=df[df['Work_Life_balance']==3]\n",
    "# 6835"
   ]
  },
  {
   "cell_type": "code",
   "execution_count": 174,
   "metadata": {},
   "outputs": [],
   "source": [
    "wlb_4=df[df['Work_Life_balance']==4]\n",
    "# 522"
   ]
  },
  {
   "cell_type": "code",
   "execution_count": 175,
   "metadata": {},
   "outputs": [],
   "source": [
    "wlb_5=df[df['Work_Life_balance']==5]\n",
    "# 57"
   ]
  },
  {
   "cell_type": "code",
   "execution_count": 176,
   "metadata": {},
   "outputs": [
    {
     "data": {
      "text/plain": [
       "1.0    909\n",
       "3.0    835\n",
       "2.0    672\n",
       "4.0    522\n",
       "5.0     57\n",
       "Name: Work_Life_balance, dtype: int64"
      ]
     },
     "execution_count": 176,
     "metadata": {},
     "output_type": "execute_result"
    }
   ],
   "source": [
    "df.Work_Life_balance.value_counts()\n",
    "# Total count is 2995, which is correct, 5 = null"
   ]
  },
  {
   "cell_type": "code",
   "execution_count": 177,
   "metadata": {},
   "outputs": [],
   "source": [
    "#high_pay.count()\n",
    "# 1268"
   ]
  },
  {
   "cell_type": "code",
   "execution_count": 178,
   "metadata": {},
   "outputs": [],
   "source": [
    "high_pay_wlb_1=high_pay[high_pay['Work_Life_balance']==1]\n",
    "# 421   "
   ]
  },
  {
   "cell_type": "code",
   "execution_count": 179,
   "metadata": {},
   "outputs": [],
   "source": [
    "high_pay_wlb_1_pct=421/1268\n",
    "# percentage of wlb_1 that are highly paid employees = 0.33201892744479494"
   ]
  },
  {
   "cell_type": "code",
   "execution_count": 180,
   "metadata": {},
   "outputs": [],
   "source": [
    "high_pay_wlb_2=high_pay[high_pay['Work_Life_balance']==2]\n",
    "# 282    "
   ]
  },
  {
   "cell_type": "code",
   "execution_count": 181,
   "metadata": {},
   "outputs": [],
   "source": [
    "high_pay_wlb_2_pct=282/1268\n",
    "# percentage of wlb_2 that are highly paid employees = 0.222397476340694"
   ]
  },
  {
   "cell_type": "code",
   "execution_count": 182,
   "metadata": {},
   "outputs": [],
   "source": [
    "high_pay_wlb_3=high_pay[high_pay['Work_Life_balance']==3]\n",
    "# 333   "
   ]
  },
  {
   "cell_type": "code",
   "execution_count": 183,
   "metadata": {},
   "outputs": [],
   "source": [
    "high_pay_wlb_3_pct = 333/1268\n",
    "# percentage of wlb_3 that are highly paid employees = 0.26261829652996843"
   ]
  },
  {
   "cell_type": "code",
   "execution_count": 184,
   "metadata": {},
   "outputs": [],
   "source": [
    "high_pay_wlb_4=high_pay[high_pay['Work_Life_balance']==4]\n",
    "# 205    "
   ]
  },
  {
   "cell_type": "code",
   "execution_count": 185,
   "metadata": {},
   "outputs": [],
   "source": [
    "high_pay_wlb_4_pct=205/1268\n",
    "# percentage of wlb_4 that are highly paid employees = 0.16167192429022081"
   ]
  },
  {
   "cell_type": "code",
   "execution_count": 186,
   "metadata": {},
   "outputs": [],
   "source": [
    "high_pay_wlb_5=high_pay[high_pay['Work_Life_balance']==5]\n",
    "# 23   "
   ]
  },
  {
   "cell_type": "code",
   "execution_count": 187,
   "metadata": {},
   "outputs": [],
   "source": [
    "high_pay_wlb_5_pct=23/1268\n",
    "#  percentage of wlb_5 that are highly paid employees = 0.018138801261829655"
   ]
  },
  {
   "cell_type": "code",
   "execution_count": 188,
   "metadata": {},
   "outputs": [
    {
     "data": {
      "text/plain": [
       "0.018138801261829655"
      ]
     },
     "execution_count": 188,
     "metadata": {},
     "output_type": "execute_result"
    }
   ],
   "source": [
    "high_pay_wlb_5_pct"
   ]
  },
  {
   "cell_type": "code",
   "execution_count": 189,
   "metadata": {},
   "outputs": [],
   "source": [
    "all_high_paid_wlb=(421, 282, 333, 205, 23)"
   ]
  },
  {
   "cell_type": "code",
   "execution_count": 190,
   "metadata": {},
   "outputs": [],
   "source": [
    "pct_high_paid_ees_by_wlb=[0.33201892744479494, 0.222397476340694, 0.26261829652996843, 0.16167192429022081, 0.018138801261829655]"
   ]
  },
  {
   "cell_type": "code",
   "execution_count": 191,
   "metadata": {},
   "outputs": [],
   "source": [
    "pos=[2,4,6,8,10]"
   ]
  },
  {
   "cell_type": "code",
   "execution_count": 192,
   "metadata": {},
   "outputs": [],
   "source": [
    "bars=('Work Life Bal = 1', 'Work Life Bal = 2', 'Work Life Bal = 3', 'Work Life Bal = 4', 'Work Life Bal =5 ') "
   ]
  },
  {
   "cell_type": "code",
   "execution_count": 193,
   "metadata": {},
   "outputs": [
    {
     "data": {
      "image/png": "[encoded data removed]",
      "text/plain": [
       "<Figure size 432x288 with 1 Axes>"
      ]
     },
     "metadata": {
      "needs_background": "light"
     },
     "output_type": "display_data"
    }
   ],
   "source": [
    "plt.clf()\n",
    "plt.bar(pos, pct_high_paid_ees_by_wlb, color=['deepskyblue', 'lightskyblue', 'lightskyblue', 'lightskyblue', 'lightskyblue'])\n",
    "plt.xticks(pos, bars, rotation=90, fontsize=10)\n",
    "plt.ylabel(\"By Percentage\")\n",
    "plt.title(\"Highly Paid Employees by Work Life Balance Rating\")\n",
    "plt.savefig(\"high_paid_by_wlb.jpg\")\n",
    "plt.show()"
   ]
  },
  {
   "cell_type": "code",
   "execution_count": 194,
   "metadata": {},
   "outputs": [
    {
     "data": {
      "text/html": [
       "<div>\n",
       "<style scoped>\n",
       "    .dataframe tbody tr th:only-of-type {\n",
       "        vertical-align: middle;\n",
       "    }\n",
       "\n",
       "    .dataframe tbody tr th {\n",
       "        vertical-align: top;\n",
       "    }\n",
       "\n",
       "    .dataframe thead tr th {\n",
       "        text-align: left;\n",
       "    }\n",
       "\n",
       "    .dataframe thead tr:last-of-type th {\n",
       "        text-align: right;\n",
       "    }\n",
       "</style>\n",
       "<table border=\"1\" class=\"dataframe\">\n",
       "  <thead>\n",
       "    <tr>\n",
       "      <th></th>\n",
       "      <th colspan=\"4\" halign=\"left\">Pay_Scale</th>\n",
       "    </tr>\n",
       "    <tr>\n",
       "      <th>Pay_Scale</th>\n",
       "      <th>7.0</th>\n",
       "      <th>8.0</th>\n",
       "      <th>9.0</th>\n",
       "      <th>10.0</th>\n",
       "    </tr>\n",
       "    <tr>\n",
       "      <th>Work_Life_balance</th>\n",
       "      <th></th>\n",
       "      <th></th>\n",
       "      <th></th>\n",
       "      <th></th>\n",
       "    </tr>\n",
       "  </thead>\n",
       "  <tbody>\n",
       "    <tr>\n",
       "      <th>1.0</th>\n",
       "      <td>127</td>\n",
       "      <td>187</td>\n",
       "      <td>74</td>\n",
       "      <td>33</td>\n",
       "    </tr>\n",
       "    <tr>\n",
       "      <th>2.0</th>\n",
       "      <td>66</td>\n",
       "      <td>147</td>\n",
       "      <td>42</td>\n",
       "      <td>27</td>\n",
       "    </tr>\n",
       "    <tr>\n",
       "      <th>3.0</th>\n",
       "      <td>92</td>\n",
       "      <td>140</td>\n",
       "      <td>78</td>\n",
       "      <td>23</td>\n",
       "    </tr>\n",
       "    <tr>\n",
       "      <th>4.0</th>\n",
       "      <td>60</td>\n",
       "      <td>87</td>\n",
       "      <td>38</td>\n",
       "      <td>20</td>\n",
       "    </tr>\n",
       "    <tr>\n",
       "      <th>5.0</th>\n",
       "      <td>7</td>\n",
       "      <td>11</td>\n",
       "      <td>4</td>\n",
       "      <td>1</td>\n",
       "    </tr>\n",
       "  </tbody>\n",
       "</table>\n",
       "</div>"
      ],
      "text/plain": [
       "                  Pay_Scale               \n",
       "Pay_Scale              7.0  8.0  9.0  10.0\n",
       "Work_Life_balance                         \n",
       "1.0                     127  187   74   33\n",
       "2.0                      66  147   42   27\n",
       "3.0                      92  140   78   23\n",
       "4.0                      60   87   38   20\n",
       "5.0                       7   11    4    1"
      ]
     },
     "execution_count": 194,
     "metadata": {},
     "output_type": "execute_result"
    }
   ],
   "source": [
    "high_pay.pivot_table(index='Work_Life_balance', columns='Pay_Scale', aggfunc={'Pay_Scale':len}, fill_value=0)"
   ]
  },
  {
   "cell_type": "code",
   "execution_count": 195,
   "metadata": {},
   "outputs": [],
   "source": [
    "high_pay.to_csv('high_pay.csv')"
   ]
  },
  {
   "cell_type": "code",
   "execution_count": 196,
   "metadata": {},
   "outputs": [],
   "source": [
    "high_pay_educated_3=high_pay[high_pay['Education_Level']==3]\n",
    "# 504   "
   ]
  },
  {
   "cell_type": "code",
   "execution_count": 197,
   "metadata": {},
   "outputs": [],
   "source": [
    "pd.set_option(\"display.max_rows\", None)\n",
    "pd.set_option(\"display.max_columns\", None)"
   ]
  },
  {
   "cell_type": "code",
   "execution_count": 198,
   "metadata": {},
   "outputs": [],
   "source": [
    "##Below let's look at education level 3 by age and create a box plot"
   ]
  },
  {
   "cell_type": "code",
   "execution_count": 199,
   "metadata": {},
   "outputs": [],
   "source": [
    "data_3=high_pay_educated_3['Age']"
   ]
  },
  {
   "cell_type": "code",
   "execution_count": 200,
   "metadata": {},
   "outputs": [
    {
     "data": {
      "text/plain": [
       "40.5678496868476"
      ]
     },
     "execution_count": 200,
     "metadata": {},
     "output_type": "execute_result"
    }
   ],
   "source": [
    "np.mean(data_3)"
   ]
  },
  {
   "cell_type": "code",
   "execution_count": 201,
   "metadata": {},
   "outputs": [],
   "source": [
    "data_3_list=data_3.to_numpy()"
   ]
  },
  {
   "cell_type": "code",
   "execution_count": 202,
   "metadata": {},
   "outputs": [],
   "source": [
    "data_3_list = data_3_list[~pd.isnull(data_3_list)]\n",
    "#remove null values"
   ]
  },
  {
   "cell_type": "code",
   "execution_count": 203,
   "metadata": {},
   "outputs": [
    {
     "name": "stdout",
     "output_type": "stream",
     "text": [
      "40.5678496868476\n"
     ]
    }
   ],
   "source": [
    "print(np.mean(data_3_list))\n",
    "# 40.5678496868476\n",
    "# This is the average age of highly paid employees with education level 3"
   ]
  },
  {
   "cell_type": "code",
   "execution_count": 204,
   "metadata": {},
   "outputs": [],
   "source": [
    "high_pay_educated_4=high_pay[high_pay['Education_Level']==4]\n",
    "# 412"
   ]
  },
  {
   "cell_type": "code",
   "execution_count": 205,
   "metadata": {},
   "outputs": [],
   "source": [
    "data_4=high_pay_educated_4['Age']"
   ]
  },
  {
   "cell_type": "code",
   "execution_count": 206,
   "metadata": {},
   "outputs": [],
   "source": [
    "data_4_list=data_4.to_numpy()"
   ]
  },
  {
   "cell_type": "code",
   "execution_count": 207,
   "metadata": {},
   "outputs": [],
   "source": [
    "data_4_list = data_4_list[~pd.isnull(data_4_list)]"
   ]
  },
  {
   "cell_type": "code",
   "execution_count": 208,
   "metadata": {},
   "outputs": [
    {
     "name": "stdout",
     "output_type": "stream",
     "text": [
      "39.3359173126615\n"
     ]
    }
   ],
   "source": [
    "print(np.mean(data_4_list))\n",
    "# 39.3359173126615 \n",
    "# This is the average age of highly paid employees with education level 4"
   ]
  },
  {
   "cell_type": "code",
   "execution_count": 209,
   "metadata": {},
   "outputs": [],
   "source": [
    "high_pay_educated_5=high_pay[high_pay['Education_Level']==5]\n",
    "# 111"
   ]
  },
  {
   "cell_type": "code",
   "execution_count": 210,
   "metadata": {},
   "outputs": [],
   "source": [
    "data_5=high_pay_educated_5['Age']"
   ]
  },
  {
   "cell_type": "code",
   "execution_count": 211,
   "metadata": {},
   "outputs": [],
   "source": [
    "data_5_list=data_5.to_numpy()"
   ]
  },
  {
   "cell_type": "code",
   "execution_count": 212,
   "metadata": {},
   "outputs": [],
   "source": [
    "data_5_list = data_5_list[~pd.isnull(data_5_list)]"
   ]
  },
  {
   "cell_type": "code",
   "execution_count": 213,
   "metadata": {},
   "outputs": [
    {
     "name": "stdout",
     "output_type": "stream",
     "text": [
      "41.083333333333336\n"
     ]
    }
   ],
   "source": [
    "print(np.mean(data_5_list))\n",
    "# 41.083333333333336\n",
    "# This is the average age of highly paid employees with education level 5"
   ]
  },
  {
   "cell_type": "code",
   "execution_count": 214,
   "metadata": {},
   "outputs": [
    {
     "data": {
      "text/plain": [
       "<Figure size 432x288 with 0 Axes>"
      ]
     },
     "metadata": {},
     "output_type": "display_data"
    },
    {
     "data": {
      "image/png": "[encoded data removed]",
      "text/plain": [
       "<Figure size 720x504 with 1 Axes>"
      ]
     },
     "metadata": {
      "needs_background": "light"
     },
     "output_type": "display_data"
    }
   ],
   "source": [
    "  \n",
    "plt.clf()\n",
    "\n",
    "data = [data_3_list, data_4_list, data_5_list]\n",
    "  \n",
    "fig = plt.figure(figsize =(10, 7))\n",
    "  \n",
    "# Creating axes instance\n",
    "ax = fig.add_axes([0, 0, 0.65, 0.65])\n",
    "  \n",
    "# Creating plot\n",
    "bp = ax.boxplot(data)\n",
    "#plt.boxplot(data, notch=None, vert=None, patch_artist=None, widths=None)\n",
    "plt.title(\"The five-number summary for Highly Paid, Highly Educated Employees\")\n",
    "plt.ylabel(\"Age\")\n",
    "plt.xticks([1, 2, 3], ['Educ Level 3', 'Educ Level 4', 'Educ Level 5'])\n",
    "\n",
    "for box in bp['boxes']:\n",
    "    box.set(color='slategray', linewidth=5)\n",
    "\n",
    "plt.show()"
   ]
  },
  {
   "cell_type": "code",
   "execution_count": 215,
   "metadata": {},
   "outputs": [
    {
     "name": "stdout",
     "output_type": "stream",
     "text": [
      "Min: 19\n",
      "Q1: 28.000\n",
      "Median: 40\n",
      "Q3: 54\n",
      "Max: 65\n"
     ]
    }
   ],
   "source": [
    "#5 number summary showing ages of highly paid, educated employees\n",
    "### Highly Paid, Education Level 3\n",
    "\n",
    "data_min, data_max = data_3_list.min(), data_3_list.max()\n",
    "quartiles = percentile(data_3_list, [25, 50, 75])\n",
    "# print 5-number summary\n",
    "print('Min: %.0f' % data_min)\n",
    "print('Q1: %.3f' % quartiles[0])\n",
    "print('Median: %.0f' % quartiles[1])\n",
    "print('Q3: %.0f' % quartiles[2])\n",
    "print('Max: %.0f' % data_max)"
   ]
  },
  {
   "cell_type": "code",
   "execution_count": 216,
   "metadata": {},
   "outputs": [
    {
     "name": "stdout",
     "output_type": "stream",
     "text": [
      "Min: 19\n",
      "Q1: 27.000\n",
      "Median: 37\n",
      "Q3: 52\n",
      "Max: 65\n"
     ]
    }
   ],
   "source": [
    "#5 number summary showing ages of highly paid, educated employees\n",
    "### Highly Paid, Education Level 4\n",
    "\n",
    "data_min, data_max = data_4_list.min(), data_4_list.max()\n",
    "quartiles = percentile(data_4_list, [25, 50, 75])\n",
    "# print 5-number summary\n",
    "print('Min: %.0f' % data_min)\n",
    "print('Q1: %.3f' % quartiles[0])\n",
    "print('Median: %.0f' % quartiles[1])\n",
    "print('Q3: %.0f' % quartiles[2])\n",
    "print('Max: %.0f' % data_max)"
   ]
  },
  {
   "cell_type": "code",
   "execution_count": 217,
   "metadata": {},
   "outputs": [
    {
     "name": "stdout",
     "output_type": "stream",
     "text": [
      "Min: 19\n",
      "Q1: 30.000\n",
      "Median: 42\n",
      "Q3: 52\n",
      "Max: 65\n"
     ]
    }
   ],
   "source": [
    "#5 number summary showing ages of highly paid, educated employees\n",
    "### Highly Paid, Education Level 5\n",
    "\n",
    "data_min, data_max = data_5_list.min(), data_5_list.max()\n",
    "quartiles = percentile(data_5_list, [25, 50, 75])\n",
    "# print 5-number summary\n",
    "print('Min: %.0f' % data_min)\n",
    "print('Q1: %.3f' % quartiles[0])\n",
    "print('Median: %.0f' % quartiles[1])\n",
    "print('Q3: %.0f' % quartiles[2])\n",
    "print('Max: %.0f' % data_max)"
   ]
  },
  {
   "cell_type": "code",
   "execution_count": 218,
   "metadata": {},
   "outputs": [],
   "source": [
    "data_3_4_5_list=list(itertools.chain(data_3_list, data_4_list, data_5_list))"
   ]
  },
  {
   "cell_type": "code",
   "execution_count": 219,
   "metadata": {},
   "outputs": [
    {
     "data": {
      "text/plain": [
       "DescribeResult(nobs=479, minmax=(19.0, 65.0), mean=40.5678496868476, variance=188.35888051292355, skewness=0.10220277184229817, kurtosis=-1.3284419125278346)"
      ]
     },
     "execution_count": 219,
     "metadata": {},
     "output_type": "execute_result"
    }
   ],
   "source": [
    "stats.describe(data_3_list)"
   ]
  },
  {
   "cell_type": "code",
   "execution_count": 220,
   "metadata": {},
   "outputs": [],
   "source": [
    "quartiles = percentile(data_3_list, [25, 50, 75])"
   ]
  },
  {
   "cell_type": "code",
   "execution_count": 221,
   "metadata": {},
   "outputs": [
    {
     "data": {
      "text/plain": [
       "array([28., 40., 54.])"
      ]
     },
     "execution_count": 221,
     "metadata": {},
     "output_type": "execute_result"
    }
   ],
   "source": [
    "quartiles"
   ]
  },
  {
   "cell_type": "code",
   "execution_count": 222,
   "metadata": {},
   "outputs": [],
   "source": [
    "age=df['Age']"
   ]
  },
  {
   "cell_type": "code",
   "execution_count": 223,
   "metadata": {},
   "outputs": [
    {
     "name": "stdout",
     "output_type": "stream",
     "text": [
      "Min: 19.000\n",
      "Q1: 28.000\n",
      "Median: 40.000\n",
      "Q3: 54.000\n",
      "Max: 65.000\n"
     ]
    }
   ],
   "source": [
    "# 5 number summary showing age of employees\n",
    "\n",
    "data_min, data_max = age.min(), age.max()\n",
    "# print 5-number summary\n",
    "print('Min: %.3f' % data_min)\n",
    "print('Q1: %.3f' % quartiles[0])\n",
    "print('Median: %.3f' % quartiles[1])\n",
    "print('Q3: %.3f' % quartiles[2])\n",
    "print('Max: %.3f' % data_max)"
   ]
  },
  {
   "cell_type": "code",
   "execution_count": 224,
   "metadata": {},
   "outputs": [
    {
     "data": {
      "text/plain": [
       "DescribeResult(nobs=387, minmax=(19.0, 65.0), mean=39.3359173126615, variance=187.7107014231969, skewness=0.24089949963326548, kurtosis=-1.2774685483919945)"
      ]
     },
     "execution_count": 224,
     "metadata": {},
     "output_type": "execute_result"
    }
   ],
   "source": [
    "stats.describe(data_4_list)"
   ]
  },
  {
   "cell_type": "code",
   "execution_count": 225,
   "metadata": {},
   "outputs": [
    {
     "data": {
      "text/plain": [
       "DescribeResult(nobs=108, minmax=(19.0, 65.0), mean=41.083333333333336, variance=181.2172897196262, skewness=0.1079284823688218, kurtosis=-1.1730766254299174)"
      ]
     },
     "execution_count": 225,
     "metadata": {},
     "output_type": "execute_result"
    }
   ],
   "source": [
    "stats.describe(data_5_list)"
   ]
  },
  {
   "cell_type": "code",
   "execution_count": 226,
   "metadata": {},
   "outputs": [
    {
     "data": {
      "text/plain": [
       "DescribeResult(nobs=974, minmax=(19.0, 65.0), mean=40.13552361396304, variance=187.37524242852712, skewness=0.15678013489932646, kurtosis=-1.2986668485275505)"
      ]
     },
     "execution_count": 226,
     "metadata": {},
     "output_type": "execute_result"
    }
   ],
   "source": [
    "stats.describe(data_3_4_5_list)"
   ]
  },
  {
   "cell_type": "code",
   "execution_count": 227,
   "metadata": {},
   "outputs": [
    {
     "data": {
      "text/html": [
       "<div>\n",
       "<style scoped>\n",
       "    .dataframe tbody tr th:only-of-type {\n",
       "        vertical-align: middle;\n",
       "    }\n",
       "\n",
       "    .dataframe tbody tr th {\n",
       "        vertical-align: top;\n",
       "    }\n",
       "\n",
       "    .dataframe thead tr th {\n",
       "        text-align: left;\n",
       "    }\n",
       "\n",
       "    .dataframe thead tr:last-of-type th {\n",
       "        text-align: right;\n",
       "    }\n",
       "</style>\n",
       "<table border=\"1\" class=\"dataframe\">\n",
       "  <thead>\n",
       "    <tr>\n",
       "      <th></th>\n",
       "      <th colspan=\"4\" halign=\"left\">Pay_Scale</th>\n",
       "    </tr>\n",
       "    <tr>\n",
       "      <th>Pay_Scale</th>\n",
       "      <th>7.0</th>\n",
       "      <th>8.0</th>\n",
       "      <th>9.0</th>\n",
       "      <th>10.0</th>\n",
       "    </tr>\n",
       "    <tr>\n",
       "      <th>Education_Level</th>\n",
       "      <th></th>\n",
       "      <th></th>\n",
       "      <th></th>\n",
       "      <th></th>\n",
       "    </tr>\n",
       "  </thead>\n",
       "  <tbody>\n",
       "    <tr>\n",
       "      <th>1</th>\n",
       "      <td>39</td>\n",
       "      <td>55</td>\n",
       "      <td>23</td>\n",
       "      <td>9</td>\n",
       "    </tr>\n",
       "    <tr>\n",
       "      <th>2</th>\n",
       "      <td>33</td>\n",
       "      <td>52</td>\n",
       "      <td>23</td>\n",
       "      <td>7</td>\n",
       "    </tr>\n",
       "    <tr>\n",
       "      <th>3</th>\n",
       "      <td>132</td>\n",
       "      <td>226</td>\n",
       "      <td>94</td>\n",
       "      <td>52</td>\n",
       "    </tr>\n",
       "    <tr>\n",
       "      <th>4</th>\n",
       "      <td>115</td>\n",
       "      <td>192</td>\n",
       "      <td>77</td>\n",
       "      <td>28</td>\n",
       "    </tr>\n",
       "    <tr>\n",
       "      <th>5</th>\n",
       "      <td>33</td>\n",
       "      <td>47</td>\n",
       "      <td>22</td>\n",
       "      <td>9</td>\n",
       "    </tr>\n",
       "  </tbody>\n",
       "</table>\n",
       "</div>"
      ],
      "text/plain": [
       "                Pay_Scale               \n",
       "Pay_Scale            7.0  8.0  9.0  10.0\n",
       "Education_Level                         \n",
       "1                      39   55   23    9\n",
       "2                      33   52   23    7\n",
       "3                     132  226   94   52\n",
       "4                     115  192   77   28\n",
       "5                      33   47   22    9"
      ]
     },
     "execution_count": 227,
     "metadata": {},
     "output_type": "execute_result"
    }
   ],
   "source": [
    "high_pay.pivot_table(index='Education_Level', columns='Pay_Scale', aggfunc={'Pay_Scale':len}, fill_value=0)"
   ]
  },
  {
   "cell_type": "code",
   "execution_count": 228,
   "metadata": {},
   "outputs": [],
   "source": [
    "# high_pay.count() =1268"
   ]
  },
  {
   "cell_type": "code",
   "execution_count": 229,
   "metadata": {},
   "outputs": [],
   "source": [
    "# pct_high_pay_ed_3=504/1268  = 0.39747634069400634"
   ]
  },
  {
   "cell_type": "code",
   "execution_count": 230,
   "metadata": {},
   "outputs": [],
   "source": [
    "# pct_high_pay_ed_4= 412/1268   = 0.3249211356466877"
   ]
  },
  {
   "cell_type": "code",
   "execution_count": 231,
   "metadata": {},
   "outputs": [],
   "source": [
    "# pct_high_pay_ed_5 = 111/1268  = 0.08753943217665615"
   ]
  },
  {
   "cell_type": "code",
   "execution_count": 232,
   "metadata": {},
   "outputs": [],
   "source": [
    "pct_high_pay_high_ed=[0.39747634069400634,0.3249211356466877, 0.08753943217665615]"
   ]
  },
  {
   "cell_type": "code",
   "execution_count": 233,
   "metadata": {},
   "outputs": [],
   "source": [
    "pos=[2,4,6]"
   ]
  },
  {
   "cell_type": "code",
   "execution_count": 234,
   "metadata": {},
   "outputs": [],
   "source": [
    "bars=('Educ Level 3', 'Educ Level 4', 'Educ Level 5') "
   ]
  },
  {
   "cell_type": "code",
   "execution_count": 235,
   "metadata": {},
   "outputs": [
    {
     "data": {
      "image/png": "[encoded data removed]",
      "text/plain": [
       "<Figure size 432x288 with 1 Axes>"
      ]
     },
     "metadata": {
      "needs_background": "light"
     },
     "output_type": "display_data"
    }
   ],
   "source": [
    "plt.clf()\n",
    "plt.bar(pos, pct_high_pay_high_ed, color=['deepskyblue', 'lightskyblue', 'lightskyblue'])\n",
    "plt.xticks(pos, bars, rotation=90, fontsize=10)\n",
    "plt.ylabel(\"By Percentage\")\n",
    "plt.title(\"Highly Paid Employees by Education Level\")\n",
    "plt.savefig(\"high_paid_by_Ed.jpg\")\n",
    "plt.show()"
   ]
  },
  {
   "cell_type": "code",
   "execution_count": 236,
   "metadata": {},
   "outputs": [
    {
     "data": {
      "text/plain": [
       "1    1941\n",
       "0    1059\n",
       "Name: Relationship_Status, dtype: int64"
      ]
     },
     "execution_count": 236,
     "metadata": {},
     "output_type": "execute_result"
    }
   ],
   "source": [
    "df.Relationship_Status.value_counts()\n",
    "# single =0, married =1"
   ]
  },
  {
   "cell_type": "code",
   "execution_count": 237,
   "metadata": {},
   "outputs": [],
   "source": [
    "# Below let's find the relationship between relationship status and wlb"
   ]
  },
  {
   "cell_type": "code",
   "execution_count": 238,
   "metadata": {},
   "outputs": [],
   "source": [
    "data_crosstab = pd.crosstab(df['Relationship_Status'],\n",
    "                            df['Work_Life_balance'], \n",
    "                               margins = False)"
   ]
  },
  {
   "cell_type": "code",
   "execution_count": 239,
   "metadata": {},
   "outputs": [
    {
     "data": {
      "text/html": [
       "<div>\n",
       "<style scoped>\n",
       "    .dataframe tbody tr th:only-of-type {\n",
       "        vertical-align: middle;\n",
       "    }\n",
       "\n",
       "    .dataframe tbody tr th {\n",
       "        vertical-align: top;\n",
       "    }\n",
       "\n",
       "    .dataframe thead th {\n",
       "        text-align: right;\n",
       "    }\n",
       "</style>\n",
       "<table border=\"1\" class=\"dataframe\">\n",
       "  <thead>\n",
       "    <tr style=\"text-align: right;\">\n",
       "      <th>Work_Life_balance</th>\n",
       "      <th>1.0</th>\n",
       "      <th>2.0</th>\n",
       "      <th>3.0</th>\n",
       "      <th>4.0</th>\n",
       "      <th>5.0</th>\n",
       "    </tr>\n",
       "    <tr>\n",
       "      <th>Relationship_Status</th>\n",
       "      <th></th>\n",
       "      <th></th>\n",
       "      <th></th>\n",
       "      <th></th>\n",
       "      <th></th>\n",
       "    </tr>\n",
       "  </thead>\n",
       "  <tbody>\n",
       "    <tr>\n",
       "      <th>0</th>\n",
       "      <td>332</td>\n",
       "      <td>226</td>\n",
       "      <td>294</td>\n",
       "      <td>183</td>\n",
       "      <td>24</td>\n",
       "    </tr>\n",
       "    <tr>\n",
       "      <th>1</th>\n",
       "      <td>577</td>\n",
       "      <td>446</td>\n",
       "      <td>541</td>\n",
       "      <td>339</td>\n",
       "      <td>33</td>\n",
       "    </tr>\n",
       "  </tbody>\n",
       "</table>\n",
       "</div>"
      ],
      "text/plain": [
       "Work_Life_balance    1.0  2.0  3.0  4.0  5.0\n",
       "Relationship_Status                         \n",
       "0                    332  226  294  183   24\n",
       "1                    577  446  541  339   33"
      ]
     },
     "execution_count": 239,
     "metadata": {},
     "output_type": "execute_result"
    }
   ],
   "source": [
    "data_crosstab"
   ]
  },
  {
   "cell_type": "code",
   "execution_count": 240,
   "metadata": {},
   "outputs": [],
   "source": [
    "#######Need to account for % of employees who are single vs married to accuratlely view relationship"
   ]
  },
  {
   "cell_type": "code",
   "execution_count": 241,
   "metadata": {},
   "outputs": [],
   "source": [
    "#data_crosstab = pd.crosstab([data.grade, data.purpose], \n",
    "#                             data.loan_status, margins = False)"
   ]
  },
  {
   "cell_type": "code",
   "execution_count": 242,
   "metadata": {},
   "outputs": [],
   "source": [
    "data_crosstab = pd.crosstab([df.Relationship_Status, df.Work_Life_balance], \n",
    "                             df.Pay_Scale, margins = False)"
   ]
  },
  {
   "cell_type": "code",
   "execution_count": 243,
   "metadata": {},
   "outputs": [
    {
     "data": {
      "text/html": [
       "<div>\n",
       "<style scoped>\n",
       "    .dataframe tbody tr th:only-of-type {\n",
       "        vertical-align: middle;\n",
       "    }\n",
       "\n",
       "    .dataframe tbody tr th {\n",
       "        vertical-align: top;\n",
       "    }\n",
       "\n",
       "    .dataframe thead th {\n",
       "        text-align: right;\n",
       "    }\n",
       "</style>\n",
       "<table border=\"1\" class=\"dataframe\">\n",
       "  <thead>\n",
       "    <tr style=\"text-align: right;\">\n",
       "      <th></th>\n",
       "      <th>Pay_Scale</th>\n",
       "      <th>1.0</th>\n",
       "      <th>2.0</th>\n",
       "      <th>3.0</th>\n",
       "      <th>4.0</th>\n",
       "      <th>5.0</th>\n",
       "      <th>6.0</th>\n",
       "      <th>7.0</th>\n",
       "      <th>8.0</th>\n",
       "      <th>9.0</th>\n",
       "      <th>10.0</th>\n",
       "    </tr>\n",
       "    <tr>\n",
       "      <th>Relationship_Status</th>\n",
       "      <th>Work_Life_balance</th>\n",
       "      <th></th>\n",
       "      <th></th>\n",
       "      <th></th>\n",
       "      <th></th>\n",
       "      <th></th>\n",
       "      <th></th>\n",
       "      <th></th>\n",
       "      <th></th>\n",
       "      <th></th>\n",
       "      <th></th>\n",
       "    </tr>\n",
       "  </thead>\n",
       "  <tbody>\n",
       "    <tr>\n",
       "      <th rowspan=\"5\" valign=\"top\">0</th>\n",
       "      <th>1.0</th>\n",
       "      <td>7</td>\n",
       "      <td>14</td>\n",
       "      <td>12</td>\n",
       "      <td>41</td>\n",
       "      <td>49</td>\n",
       "      <td>53</td>\n",
       "      <td>53</td>\n",
       "      <td>59</td>\n",
       "      <td>34</td>\n",
       "      <td>9</td>\n",
       "    </tr>\n",
       "    <tr>\n",
       "      <th>2.0</th>\n",
       "      <td>8</td>\n",
       "      <td>8</td>\n",
       "      <td>8</td>\n",
       "      <td>32</td>\n",
       "      <td>40</td>\n",
       "      <td>36</td>\n",
       "      <td>23</td>\n",
       "      <td>51</td>\n",
       "      <td>15</td>\n",
       "      <td>5</td>\n",
       "    </tr>\n",
       "    <tr>\n",
       "      <th>3.0</th>\n",
       "      <td>5</td>\n",
       "      <td>10</td>\n",
       "      <td>9</td>\n",
       "      <td>38</td>\n",
       "      <td>45</td>\n",
       "      <td>60</td>\n",
       "      <td>36</td>\n",
       "      <td>53</td>\n",
       "      <td>28</td>\n",
       "      <td>10</td>\n",
       "    </tr>\n",
       "    <tr>\n",
       "      <th>4.0</th>\n",
       "      <td>6</td>\n",
       "      <td>6</td>\n",
       "      <td>9</td>\n",
       "      <td>24</td>\n",
       "      <td>30</td>\n",
       "      <td>38</td>\n",
       "      <td>16</td>\n",
       "      <td>31</td>\n",
       "      <td>15</td>\n",
       "      <td>8</td>\n",
       "    </tr>\n",
       "    <tr>\n",
       "      <th>5.0</th>\n",
       "      <td>1</td>\n",
       "      <td>1</td>\n",
       "      <td>2</td>\n",
       "      <td>2</td>\n",
       "      <td>4</td>\n",
       "      <td>5</td>\n",
       "      <td>3</td>\n",
       "      <td>5</td>\n",
       "      <td>1</td>\n",
       "      <td>0</td>\n",
       "    </tr>\n",
       "    <tr>\n",
       "      <th rowspan=\"5\" valign=\"top\">1</th>\n",
       "      <th>1.0</th>\n",
       "      <td>13</td>\n",
       "      <td>17</td>\n",
       "      <td>20</td>\n",
       "      <td>78</td>\n",
       "      <td>87</td>\n",
       "      <td>96</td>\n",
       "      <td>74</td>\n",
       "      <td>128</td>\n",
       "      <td>40</td>\n",
       "      <td>24</td>\n",
       "    </tr>\n",
       "    <tr>\n",
       "      <th>2.0</th>\n",
       "      <td>10</td>\n",
       "      <td>12</td>\n",
       "      <td>11</td>\n",
       "      <td>63</td>\n",
       "      <td>76</td>\n",
       "      <td>85</td>\n",
       "      <td>43</td>\n",
       "      <td>96</td>\n",
       "      <td>27</td>\n",
       "      <td>22</td>\n",
       "    </tr>\n",
       "    <tr>\n",
       "      <th>3.0</th>\n",
       "      <td>17</td>\n",
       "      <td>18</td>\n",
       "      <td>24</td>\n",
       "      <td>90</td>\n",
       "      <td>82</td>\n",
       "      <td>103</td>\n",
       "      <td>56</td>\n",
       "      <td>87</td>\n",
       "      <td>50</td>\n",
       "      <td>13</td>\n",
       "    </tr>\n",
       "    <tr>\n",
       "      <th>4.0</th>\n",
       "      <td>7</td>\n",
       "      <td>19</td>\n",
       "      <td>16</td>\n",
       "      <td>50</td>\n",
       "      <td>58</td>\n",
       "      <td>54</td>\n",
       "      <td>44</td>\n",
       "      <td>56</td>\n",
       "      <td>23</td>\n",
       "      <td>12</td>\n",
       "    </tr>\n",
       "    <tr>\n",
       "      <th>5.0</th>\n",
       "      <td>0</td>\n",
       "      <td>1</td>\n",
       "      <td>0</td>\n",
       "      <td>4</td>\n",
       "      <td>8</td>\n",
       "      <td>6</td>\n",
       "      <td>4</td>\n",
       "      <td>6</td>\n",
       "      <td>3</td>\n",
       "      <td>1</td>\n",
       "    </tr>\n",
       "  </tbody>\n",
       "</table>\n",
       "</div>"
      ],
      "text/plain": [
       "Pay_Scale                              1.0   2.0   3.0   4.0   5.0   6.0   \\\n",
       "Relationship_Status Work_Life_balance                                       \n",
       "0                   1.0                   7    14    12    41    49    53   \n",
       "                    2.0                   8     8     8    32    40    36   \n",
       "                    3.0                   5    10     9    38    45    60   \n",
       "                    4.0                   6     6     9    24    30    38   \n",
       "                    5.0                   1     1     2     2     4     5   \n",
       "1                   1.0                  13    17    20    78    87    96   \n",
       "                    2.0                  10    12    11    63    76    85   \n",
       "                    3.0                  17    18    24    90    82   103   \n",
       "                    4.0                   7    19    16    50    58    54   \n",
       "                    5.0                   0     1     0     4     8     6   \n",
       "\n",
       "Pay_Scale                              7.0   8.0   9.0   10.0  \n",
       "Relationship_Status Work_Life_balance                          \n",
       "0                   1.0                  53    59    34     9  \n",
       "                    2.0                  23    51    15     5  \n",
       "                    3.0                  36    53    28    10  \n",
       "                    4.0                  16    31    15     8  \n",
       "                    5.0                   3     5     1     0  \n",
       "1                   1.0                  74   128    40    24  \n",
       "                    2.0                  43    96    27    22  \n",
       "                    3.0                  56    87    50    13  \n",
       "                    4.0                  44    56    23    12  \n",
       "                    5.0                   4     6     3     1  "
      ]
     },
     "execution_count": 243,
     "metadata": {},
     "output_type": "execute_result"
    }
   ],
   "source": [
    "data_crosstab"
   ]
  },
  {
   "cell_type": "code",
   "execution_count": 244,
   "metadata": {},
   "outputs": [],
   "source": [
    "data_crosstab = pd.crosstab([df.Relationship_Status, df.Pay_Scale], \n",
    "                             df.Work_Life_balance, margins = False)   "
   ]
  },
  {
   "cell_type": "code",
   "execution_count": 245,
   "metadata": {},
   "outputs": [
    {
     "data": {
      "text/html": [
       "<div>\n",
       "<style scoped>\n",
       "    .dataframe tbody tr th:only-of-type {\n",
       "        vertical-align: middle;\n",
       "    }\n",
       "\n",
       "    .dataframe tbody tr th {\n",
       "        vertical-align: top;\n",
       "    }\n",
       "\n",
       "    .dataframe thead th {\n",
       "        text-align: right;\n",
       "    }\n",
       "</style>\n",
       "<table border=\"1\" class=\"dataframe\">\n",
       "  <thead>\n",
       "    <tr style=\"text-align: right;\">\n",
       "      <th></th>\n",
       "      <th>Work_Life_balance</th>\n",
       "      <th>1.0</th>\n",
       "      <th>2.0</th>\n",
       "      <th>3.0</th>\n",
       "      <th>4.0</th>\n",
       "      <th>5.0</th>\n",
       "    </tr>\n",
       "    <tr>\n",
       "      <th>Relationship_Status</th>\n",
       "      <th>Pay_Scale</th>\n",
       "      <th></th>\n",
       "      <th></th>\n",
       "      <th></th>\n",
       "      <th></th>\n",
       "      <th></th>\n",
       "    </tr>\n",
       "  </thead>\n",
       "  <tbody>\n",
       "    <tr>\n",
       "      <th rowspan=\"10\" valign=\"top\">0</th>\n",
       "      <th>1.0</th>\n",
       "      <td>7</td>\n",
       "      <td>8</td>\n",
       "      <td>5</td>\n",
       "      <td>6</td>\n",
       "      <td>1</td>\n",
       "    </tr>\n",
       "    <tr>\n",
       "      <th>2.0</th>\n",
       "      <td>14</td>\n",
       "      <td>8</td>\n",
       "      <td>10</td>\n",
       "      <td>6</td>\n",
       "      <td>1</td>\n",
       "    </tr>\n",
       "    <tr>\n",
       "      <th>3.0</th>\n",
       "      <td>12</td>\n",
       "      <td>8</td>\n",
       "      <td>9</td>\n",
       "      <td>9</td>\n",
       "      <td>2</td>\n",
       "    </tr>\n",
       "    <tr>\n",
       "      <th>4.0</th>\n",
       "      <td>41</td>\n",
       "      <td>32</td>\n",
       "      <td>38</td>\n",
       "      <td>24</td>\n",
       "      <td>2</td>\n",
       "    </tr>\n",
       "    <tr>\n",
       "      <th>5.0</th>\n",
       "      <td>49</td>\n",
       "      <td>40</td>\n",
       "      <td>45</td>\n",
       "      <td>30</td>\n",
       "      <td>4</td>\n",
       "    </tr>\n",
       "    <tr>\n",
       "      <th>6.0</th>\n",
       "      <td>53</td>\n",
       "      <td>36</td>\n",
       "      <td>60</td>\n",
       "      <td>38</td>\n",
       "      <td>5</td>\n",
       "    </tr>\n",
       "    <tr>\n",
       "      <th>7.0</th>\n",
       "      <td>53</td>\n",
       "      <td>23</td>\n",
       "      <td>36</td>\n",
       "      <td>16</td>\n",
       "      <td>3</td>\n",
       "    </tr>\n",
       "    <tr>\n",
       "      <th>8.0</th>\n",
       "      <td>59</td>\n",
       "      <td>51</td>\n",
       "      <td>53</td>\n",
       "      <td>31</td>\n",
       "      <td>5</td>\n",
       "    </tr>\n",
       "    <tr>\n",
       "      <th>9.0</th>\n",
       "      <td>34</td>\n",
       "      <td>15</td>\n",
       "      <td>28</td>\n",
       "      <td>15</td>\n",
       "      <td>1</td>\n",
       "    </tr>\n",
       "    <tr>\n",
       "      <th>10.0</th>\n",
       "      <td>9</td>\n",
       "      <td>5</td>\n",
       "      <td>10</td>\n",
       "      <td>8</td>\n",
       "      <td>0</td>\n",
       "    </tr>\n",
       "    <tr>\n",
       "      <th rowspan=\"10\" valign=\"top\">1</th>\n",
       "      <th>1.0</th>\n",
       "      <td>13</td>\n",
       "      <td>10</td>\n",
       "      <td>17</td>\n",
       "      <td>7</td>\n",
       "      <td>0</td>\n",
       "    </tr>\n",
       "    <tr>\n",
       "      <th>2.0</th>\n",
       "      <td>17</td>\n",
       "      <td>12</td>\n",
       "      <td>18</td>\n",
       "      <td>19</td>\n",
       "      <td>1</td>\n",
       "    </tr>\n",
       "    <tr>\n",
       "      <th>3.0</th>\n",
       "      <td>20</td>\n",
       "      <td>11</td>\n",
       "      <td>24</td>\n",
       "      <td>16</td>\n",
       "      <td>0</td>\n",
       "    </tr>\n",
       "    <tr>\n",
       "      <th>4.0</th>\n",
       "      <td>78</td>\n",
       "      <td>63</td>\n",
       "      <td>90</td>\n",
       "      <td>50</td>\n",
       "      <td>4</td>\n",
       "    </tr>\n",
       "    <tr>\n",
       "      <th>5.0</th>\n",
       "      <td>87</td>\n",
       "      <td>76</td>\n",
       "      <td>82</td>\n",
       "      <td>58</td>\n",
       "      <td>8</td>\n",
       "    </tr>\n",
       "    <tr>\n",
       "      <th>6.0</th>\n",
       "      <td>96</td>\n",
       "      <td>85</td>\n",
       "      <td>103</td>\n",
       "      <td>54</td>\n",
       "      <td>6</td>\n",
       "    </tr>\n",
       "    <tr>\n",
       "      <th>7.0</th>\n",
       "      <td>74</td>\n",
       "      <td>43</td>\n",
       "      <td>56</td>\n",
       "      <td>44</td>\n",
       "      <td>4</td>\n",
       "    </tr>\n",
       "    <tr>\n",
       "      <th>8.0</th>\n",
       "      <td>128</td>\n",
       "      <td>96</td>\n",
       "      <td>87</td>\n",
       "      <td>56</td>\n",
       "      <td>6</td>\n",
       "    </tr>\n",
       "    <tr>\n",
       "      <th>9.0</th>\n",
       "      <td>40</td>\n",
       "      <td>27</td>\n",
       "      <td>50</td>\n",
       "      <td>23</td>\n",
       "      <td>3</td>\n",
       "    </tr>\n",
       "    <tr>\n",
       "      <th>10.0</th>\n",
       "      <td>24</td>\n",
       "      <td>22</td>\n",
       "      <td>13</td>\n",
       "      <td>12</td>\n",
       "      <td>1</td>\n",
       "    </tr>\n",
       "  </tbody>\n",
       "</table>\n",
       "</div>"
      ],
      "text/plain": [
       "Work_Life_balance              1.0  2.0  3.0  4.0  5.0\n",
       "Relationship_Status Pay_Scale                         \n",
       "0                   1.0          7    8    5    6    1\n",
       "                    2.0         14    8   10    6    1\n",
       "                    3.0         12    8    9    9    2\n",
       "                    4.0         41   32   38   24    2\n",
       "                    5.0         49   40   45   30    4\n",
       "                    6.0         53   36   60   38    5\n",
       "                    7.0         53   23   36   16    3\n",
       "                    8.0         59   51   53   31    5\n",
       "                    9.0         34   15   28   15    1\n",
       "                    10.0         9    5   10    8    0\n",
       "1                   1.0         13   10   17    7    0\n",
       "                    2.0         17   12   18   19    1\n",
       "                    3.0         20   11   24   16    0\n",
       "                    4.0         78   63   90   50    4\n",
       "                    5.0         87   76   82   58    8\n",
       "                    6.0         96   85  103   54    6\n",
       "                    7.0         74   43   56   44    4\n",
       "                    8.0        128   96   87   56    6\n",
       "                    9.0         40   27   50   23    3\n",
       "                    10.0        24   22   13   12    1"
      ]
     },
     "execution_count": 245,
     "metadata": {},
     "output_type": "execute_result"
    }
   ],
   "source": [
    "data_crosstab"
   ]
  },
  {
   "cell_type": "code",
   "execution_count": 246,
   "metadata": {},
   "outputs": [
    {
     "data": {
      "image/png": "[encoded data removed]",
      "text/plain": [
       "<Figure size 432x288 with 1 Axes>"
      ]
     },
     "metadata": {
      "needs_background": "light"
     },
     "output_type": "display_data"
    }
   ],
   "source": [
    "data_crosstab.plot.bar(stacked=True)\n",
    "plt.show()"
   ]
  },
  {
   "cell_type": "code",
   "execution_count": 247,
   "metadata": {},
   "outputs": [],
   "source": [
    "# The below histogram doesn't make much sense, work on this"
   ]
  },
  {
   "cell_type": "code",
   "execution_count": 248,
   "metadata": {},
   "outputs": [
    {
     "data": {
      "image/png": "[encoded data removed]",
      "text/plain": [
       "<Figure size 432x288 with 1 Axes>"
      ]
     },
     "metadata": {
      "needs_background": "light"
     },
     "output_type": "display_data"
    }
   ],
   "source": [
    "x = [data_3_list, data_4_list, data_5_list]\n",
    "plt.hist(x, bins = 1)\n",
    "plt.show()"
   ]
  }
 ],
 "metadata": {
  "kernelspec": {
   "display_name": "Python 3",
   "language": "python",
   "name": "python3"
  },
  "language_info": {
   "codemirror_mode": {
    "name": "ipython",
    "version": 3
   },
   "file_extension": ".py",
   "mimetype": "text/x-python",
   "name": "python",
   "nbconvert_exporter": "python",
   "pygments_lexer": "ipython3",
   "version": "3.8.2"
  }
 },
 "nbformat": 4,
 "nbformat_minor": 4
}
