{
 "cells": [
  {
   "cell_type": "code",
   "execution_count": 1,
   "metadata": {},
   "outputs": [],
   "source": [
    "import pandas as pd"
   ]
  },
  {
   "cell_type": "code",
   "execution_count": 2,
   "metadata": {},
   "outputs": [],
   "source": [
    "import numpy as np"
   ]
  },
  {
   "cell_type": "code",
   "execution_count": 3,
   "metadata": {},
   "outputs": [],
   "source": [
    "import matplotlib.pyplot as plt"
   ]
  },
  {
   "cell_type": "code",
   "execution_count": 4,
   "metadata": {},
   "outputs": [],
   "source": [
    "import seaborn as sns"
   ]
  },
  {
   "cell_type": "code",
   "execution_count": 5,
   "metadata": {},
   "outputs": [],
   "source": [
    "import itertools\n",
    "## used for concatenation"
   ]
  },
  {
   "cell_type": "code",
   "execution_count": 6,
   "metadata": {},
   "outputs": [],
   "source": [
    "from scipy import stats"
   ]
  },
  {
   "cell_type": "code",
   "execution_count": 7,
   "metadata": {},
   "outputs": [],
   "source": [
    "from numpy import percentile"
   ]
  },
  {
   "cell_type": "code",
   "execution_count": 8,
   "metadata": {},
   "outputs": [],
   "source": [
    "df=pd.read_csv(\"Test.csv\")"
   ]
  },
  {
   "cell_type": "code",
   "execution_count": 9,
   "metadata": {},
   "outputs": [
    {
     "name": "stdout",
     "output_type": "stream",
     "text": [
      "  Employee_ID Gender   Age  Education_Level Relationship_Status     Hometown  \\\n",
      "0   EID_22713      F  32.0                5              Single  Springfield   \n",
      "1    EID_9658      M  65.0                2              Single      Lebanon   \n",
      "2   EID_22203      M  52.0                3             Married  Springfield   \n",
      "3    EID_7652      M  50.0                5              Single   Washington   \n",
      "4    EID_6516      F  44.0                3             Married     Franklin   \n",
      "\n",
      "        Unit Decision_skill_possess  Time_of_service  Time_since_promotion  \\\n",
      "0        R&D             Conceptual              7.0                     4   \n",
      "1         IT              Directive             41.0                     2   \n",
      "2      Sales              Directive             21.0                     3   \n",
      "3  Marketing             Analytical             11.0                     4   \n",
      "4        R&D             Conceptual             12.0                     4   \n",
      "\n",
      "   ...  Pay_Scale  Compensation_and_Benefits  Work_Life_balance  VAR1    VAR2  \\\n",
      "0  ...        4.0                      type2                1.0     3 -0.9612   \n",
      "1  ...        1.0                      type2                1.0     4 -0.9612   \n",
      "2  ...        8.0                      type3                1.0     4 -0.1048   \n",
      "3  ...        2.0                      type0                4.0     3 -0.1048   \n",
      "4  ...        2.0                      type2                4.0     4  1.6081   \n",
      "\n",
      "     VAR3  VAR4  VAR5  VAR6  VAR7  \n",
      "0 -0.4537   2.0     1     8     4  \n",
      "1  0.7075   1.0     2     8     2  \n",
      "2  0.7075   2.0     1     9     3  \n",
      "3  0.7075   2.0     2     8     3  \n",
      "4  0.7075   2.0     2     7     4  \n",
      "\n",
      "[5 rows x 23 columns]\n"
     ]
    }
   ],
   "source": [
    "print(df.head())"
   ]
  },
  {
   "cell_type": "code",
   "execution_count": 10,
   "metadata": {},
   "outputs": [
    {
     "data": {
      "text/plain": [
       "Employee_ID                    0\n",
       "Gender                         0\n",
       "Age                          161\n",
       "Education_Level                0\n",
       "Relationship_Status            0\n",
       "Hometown                       0\n",
       "Unit                           0\n",
       "Decision_skill_possess         0\n",
       "Time_of_service               52\n",
       "Time_since_promotion           0\n",
       "growth_rate                    0\n",
       "Travel_Rate                    0\n",
       "Post_Level                     0\n",
       "Pay_Scale                      3\n",
       "Compensation_and_Benefits      0\n",
       "Work_Life_balance              5\n",
       "VAR1                           0\n",
       "VAR2                         217\n",
       "VAR3                           0\n",
       "VAR4                         298\n",
       "VAR5                           0\n",
       "VAR6                           0\n",
       "VAR7                           0\n",
       "dtype: int64"
      ]
     },
     "execution_count": 10,
     "metadata": {},
     "output_type": "execute_result"
    }
   ],
   "source": [
    "df.isnull().sum(axis = 0)"
   ]
  },
  {
   "cell_type": "code",
   "execution_count": 11,
   "metadata": {},
   "outputs": [
    {
     "name": "stdout",
     "output_type": "stream",
     "text": [
      "<class 'pandas.core.frame.DataFrame'>\n",
      "RangeIndex: 3000 entries, 0 to 2999\n",
      "Data columns (total 23 columns):\n",
      " #   Column                     Non-Null Count  Dtype  \n",
      "---  ------                     --------------  -----  \n",
      " 0   Employee_ID                3000 non-null   object \n",
      " 1   Gender                     3000 non-null   object \n",
      " 2   Age                        2839 non-null   float64\n",
      " 3   Education_Level            3000 non-null   int64  \n",
      " 4   Relationship_Status        3000 non-null   object \n",
      " 5   Hometown                   3000 non-null   object \n",
      " 6   Unit                       3000 non-null   object \n",
      " 7   Decision_skill_possess     3000 non-null   object \n",
      " 8   Time_of_service            2948 non-null   float64\n",
      " 9   Time_since_promotion       3000 non-null   int64  \n",
      " 10  growth_rate                3000 non-null   int64  \n",
      " 11  Travel_Rate                3000 non-null   int64  \n",
      " 12  Post_Level                 3000 non-null   int64  \n",
      " 13  Pay_Scale                  2997 non-null   float64\n",
      " 14  Compensation_and_Benefits  3000 non-null   object \n",
      " 15  Work_Life_balance          2995 non-null   float64\n",
      " 16  VAR1                       3000 non-null   int64  \n",
      " 17  VAR2                       2783 non-null   float64\n",
      " 18  VAR3                       3000 non-null   float64\n",
      " 19  VAR4                       2702 non-null   float64\n",
      " 20  VAR5                       3000 non-null   int64  \n",
      " 21  VAR6                       3000 non-null   int64  \n",
      " 22  VAR7                       3000 non-null   int64  \n",
      "dtypes: float64(7), int64(9), object(7)\n",
      "memory usage: 457.1+ KB\n"
     ]
    }
   ],
   "source": [
    "df.info()"
   ]
  },
  {
   "cell_type": "code",
   "execution_count": 12,
   "metadata": {},
   "outputs": [
    {
     "data": {
      "text/plain": [
       "Employee_ID                    0\n",
       "Gender                         0\n",
       "Age                          161\n",
       "Education_Level                0\n",
       "Relationship_Status            0\n",
       "Hometown                       0\n",
       "Unit                           0\n",
       "Decision_skill_possess         0\n",
       "Time_of_service               52\n",
       "Time_since_promotion           0\n",
       "growth_rate                    0\n",
       "Travel_Rate                    0\n",
       "Post_Level                     0\n",
       "Pay_Scale                      3\n",
       "Compensation_and_Benefits      0\n",
       "Work_Life_balance              5\n",
       "VAR1                           0\n",
       "VAR2                         217\n",
       "VAR3                           0\n",
       "VAR4                         298\n",
       "VAR5                           0\n",
       "VAR6                           0\n",
       "VAR7                           0\n",
       "dtype: int64"
      ]
     },
     "execution_count": 12,
     "metadata": {},
     "output_type": "execute_result"
    }
   ],
   "source": [
    "df.isnull().sum(axis = 0)"
   ]
  },
  {
   "cell_type": "code",
   "execution_count": 13,
   "metadata": {},
   "outputs": [
    {
     "name": "stdout",
     "output_type": "stream",
     "text": [
      "<class 'pandas.core.frame.DataFrame'>\n",
      "RangeIndex: 3000 entries, 0 to 2999\n",
      "Data columns (total 23 columns):\n",
      " #   Column                     Non-Null Count  Dtype  \n",
      "---  ------                     --------------  -----  \n",
      " 0   Employee_ID                3000 non-null   object \n",
      " 1   Gender                     3000 non-null   object \n",
      " 2   Age                        2839 non-null   float64\n",
      " 3   Education_Level            3000 non-null   int64  \n",
      " 4   Relationship_Status        3000 non-null   object \n",
      " 5   Hometown                   3000 non-null   object \n",
      " 6   Unit                       3000 non-null   object \n",
      " 7   Decision_skill_possess     3000 non-null   object \n",
      " 8   Time_of_service            2948 non-null   float64\n",
      " 9   Time_since_promotion       3000 non-null   int64  \n",
      " 10  growth_rate                3000 non-null   int64  \n",
      " 11  Travel_Rate                3000 non-null   int64  \n",
      " 12  Post_Level                 3000 non-null   int64  \n",
      " 13  Pay_Scale                  2997 non-null   float64\n",
      " 14  Compensation_and_Benefits  3000 non-null   object \n",
      " 15  Work_Life_balance          2995 non-null   float64\n",
      " 16  VAR1                       3000 non-null   int64  \n",
      " 17  VAR2                       2783 non-null   float64\n",
      " 18  VAR3                       3000 non-null   float64\n",
      " 19  VAR4                       2702 non-null   float64\n",
      " 20  VAR5                       3000 non-null   int64  \n",
      " 21  VAR6                       3000 non-null   int64  \n",
      " 22  VAR7                       3000 non-null   int64  \n",
      "dtypes: float64(7), int64(9), object(7)\n",
      "memory usage: 457.1+ KB\n"
     ]
    }
   ],
   "source": [
    "df.info()"
   ]
  },
  {
   "cell_type": "code",
   "execution_count": 14,
   "metadata": {},
   "outputs": [],
   "source": [
    "average_age=np.mean(df.Age)\n",
    "# = 39.797816132441"
   ]
  },
  {
   "cell_type": "code",
   "execution_count": 15,
   "metadata": {},
   "outputs": [
    {
     "name": "stdout",
     "output_type": "stream",
     "text": [
      "65.0\n"
     ]
    }
   ],
   "source": [
    "print(np.max(df.Age))\n",
    "# = 65"
   ]
  },
  {
   "cell_type": "code",
   "execution_count": 16,
   "metadata": {},
   "outputs": [],
   "source": [
    "older_ees=df[df['Age']>=50]\n",
    "# = 838"
   ]
  },
  {
   "cell_type": "code",
   "execution_count": 17,
   "metadata": {},
   "outputs": [],
   "source": [
    "younger_ees=df[df['Age']<=49]\n",
    "# = 2001"
   ]
  },
  {
   "cell_type": "code",
   "execution_count": 18,
   "metadata": {},
   "outputs": [],
   "source": [
    "older_ees_with_higher_pay=older_ees[older_ees['Pay_Scale']>=7]\n",
    "# = 377"
   ]
  },
  {
   "cell_type": "code",
   "execution_count": 19,
   "metadata": {},
   "outputs": [],
   "source": [
    "older_ees_with_higher_pay_pct=377/838\n",
    "# 0.4498806682577566\n",
    "# 44% of ees over 50 are at a higher pahy scale (7 or higher)"
   ]
  },
  {
   "cell_type": "code",
   "execution_count": 20,
   "metadata": {},
   "outputs": [
    {
     "data": {
      "text/plain": [
       "0.4498806682577566"
      ]
     },
     "execution_count": 20,
     "metadata": {},
     "output_type": "execute_result"
    }
   ],
   "source": [
    "older_ees_with_higher_pay_pct"
   ]
  },
  {
   "cell_type": "code",
   "execution_count": 21,
   "metadata": {},
   "outputs": [],
   "source": [
    "younger_ees_with_higher_pay=younger_ees[younger_ees['Pay_Scale']>=7]\n",
    "# = 824"
   ]
  },
  {
   "cell_type": "code",
   "execution_count": 22,
   "metadata": {},
   "outputs": [],
   "source": [
    "younger_ees_with_higher_pay_pct=824/2001"
   ]
  },
  {
   "cell_type": "code",
   "execution_count": 23,
   "metadata": {},
   "outputs": [
    {
     "data": {
      "text/plain": [
       "0.41179410294852575"
      ]
     },
     "execution_count": 23,
     "metadata": {},
     "output_type": "execute_result"
    }
   ],
   "source": [
    "younger_ees_with_higher_pay_pct\n",
    "# = 0.41179410294852575\n",
    "# 41% of ees under 50 are at a higher pahy scale (7 or higher)"
   ]
  },
  {
   "cell_type": "code",
   "execution_count": 24,
   "metadata": {},
   "outputs": [],
   "source": [
    "# single_female=gender_female.Relationship_Status==0"
   ]
  },
  {
   "cell_type": "code",
   "execution_count": 25,
   "metadata": {},
   "outputs": [],
   "source": [
    "import sqlite3"
   ]
  },
  {
   "cell_type": "code",
   "execution_count": 26,
   "metadata": {},
   "outputs": [],
   "source": [
    "connection = sqlite3.connect(\"da_project.db\")"
   ]
  },
  {
   "cell_type": "code",
   "execution_count": 27,
   "metadata": {},
   "outputs": [],
   "source": [
    "cursor =connection.cursor()"
   ]
  },
  {
   "cell_type": "code",
   "execution_count": 28,
   "metadata": {},
   "outputs": [
    {
     "data": {
      "text/plain": [
       "<sqlite3.Cursor at 0xf921860>"
      ]
     },
     "execution_count": 28,
     "metadata": {},
     "output_type": "execute_result"
    }
   ],
   "source": [
    "cursor.execute(\"select Age from Test\")"
   ]
  },
  {
   "cell_type": "code",
   "execution_count": 29,
   "metadata": {},
   "outputs": [],
   "source": [
    "#ans = cursor.fetchall() "
   ]
  },
  {
   "cell_type": "code",
   "execution_count": 30,
   "metadata": {},
   "outputs": [
    {
     "data": {
      "text/plain": [
       "<sqlite3.Cursor at 0xf921860>"
      ]
     },
     "execution_count": 30,
     "metadata": {},
     "output_type": "execute_result"
    }
   ],
   "source": [
    "cursor.execute(\"select Gender, count (*) from Test\")"
   ]
  },
  {
   "cell_type": "code",
   "execution_count": 31,
   "metadata": {},
   "outputs": [],
   "source": [
    "count=cursor.fetchall()"
   ]
  },
  {
   "cell_type": "code",
   "execution_count": 32,
   "metadata": {},
   "outputs": [
    {
     "name": "stdout",
     "output_type": "stream",
     "text": [
      "[('Gender', 3001)]\n"
     ]
    }
   ],
   "source": [
    "print(count)"
   ]
  },
  {
   "cell_type": "code",
   "execution_count": 33,
   "metadata": {},
   "outputs": [
    {
     "data": {
      "text/plain": [
       "<sqlite3.Cursor at 0xf921860>"
      ]
     },
     "execution_count": 33,
     "metadata": {},
     "output_type": "execute_result"
    }
   ],
   "source": [
    "cursor.execute(\"select sum(Age) from Test\")"
   ]
  },
  {
   "cell_type": "code",
   "execution_count": 34,
   "metadata": {},
   "outputs": [],
   "source": [
    "#sum=cursor.fetchall()"
   ]
  },
  {
   "cell_type": "code",
   "execution_count": 35,
   "metadata": {},
   "outputs": [
    {
     "data": {
      "text/plain": [
       "<sqlite3.Cursor at 0xf921860>"
      ]
     },
     "execution_count": 35,
     "metadata": {},
     "output_type": "execute_result"
    }
   ],
   "source": [
    "cursor.execute(\"select min(Age) from Test\")"
   ]
  },
  {
   "cell_type": "code",
   "execution_count": 36,
   "metadata": {},
   "outputs": [],
   "source": [
    "min=cursor.fetchall()\n",
    "# min =19"
   ]
  },
  {
   "cell_type": "code",
   "execution_count": 37,
   "metadata": {},
   "outputs": [
    {
     "data": {
      "text/plain": [
       "<sqlite3.Cursor at 0xf921860>"
      ]
     },
     "execution_count": 37,
     "metadata": {},
     "output_type": "execute_result"
    }
   ],
   "source": [
    "cursor.execute(\"select avg(Education_Level) from Test\")"
   ]
  },
  {
   "cell_type": "code",
   "execution_count": 38,
   "metadata": {},
   "outputs": [],
   "source": [
    "avg_Ed=cursor.fetchall()\n",
    "# [(3.2252582472509164,)]"
   ]
  },
  {
   "cell_type": "code",
   "execution_count": 39,
   "metadata": {},
   "outputs": [
    {
     "name": "stdout",
     "output_type": "stream",
     "text": [
      "('Relationship_Status',)\n",
      "('Single',)\n",
      "('Single',)\n",
      "('Married',)\n",
      "('Single',)\n",
      "('Married',)\n",
      "('Married',)\n",
      "('Married',)\n",
      "('Married',)\n",
      "('Single',)\n"
     ]
    }
   ],
   "source": [
    "for item in cursor.execute('SELECT Relationship_Status FROM Test limit 10'):\n",
    "    print(item)\n",
    "\n",
    "# Be sure to close the connection\n"
   ]
  },
  {
   "cell_type": "code",
   "execution_count": 40,
   "metadata": {},
   "outputs": [],
   "source": [
    "connection.close()"
   ]
  },
  {
   "cell_type": "code",
   "execution_count": 41,
   "metadata": {},
   "outputs": [],
   "source": [
    "df['Relationship_Status'] =df['Relationship_Status'].replace({'Single': 0, 'Married' :1})"
   ]
  },
  {
   "cell_type": "code",
   "execution_count": 42,
   "metadata": {},
   "outputs": [
    {
     "name": "stdout",
     "output_type": "stream",
     "text": [
      "  Employee_ID Gender   Age  Education_Level  Relationship_Status     Hometown  \\\n",
      "0   EID_22713      F  32.0                5                    0  Springfield   \n",
      "1    EID_9658      M  65.0                2                    0      Lebanon   \n",
      "2   EID_22203      M  52.0                3                    1  Springfield   \n",
      "3    EID_7652      M  50.0                5                    0   Washington   \n",
      "4    EID_6516      F  44.0                3                    1     Franklin   \n",
      "\n",
      "        Unit Decision_skill_possess  Time_of_service  Time_since_promotion  \\\n",
      "0        R&D             Conceptual              7.0                     4   \n",
      "1         IT              Directive             41.0                     2   \n",
      "2      Sales              Directive             21.0                     3   \n",
      "3  Marketing             Analytical             11.0                     4   \n",
      "4        R&D             Conceptual             12.0                     4   \n",
      "\n",
      "   ...  Pay_Scale  Compensation_and_Benefits  Work_Life_balance  VAR1    VAR2  \\\n",
      "0  ...        4.0                      type2                1.0     3 -0.9612   \n",
      "1  ...        1.0                      type2                1.0     4 -0.9612   \n",
      "2  ...        8.0                      type3                1.0     4 -0.1048   \n",
      "3  ...        2.0                      type0                4.0     3 -0.1048   \n",
      "4  ...        2.0                      type2                4.0     4  1.6081   \n",
      "\n",
      "     VAR3  VAR4  VAR5  VAR6  VAR7  \n",
      "0 -0.4537   2.0     1     8     4  \n",
      "1  0.7075   1.0     2     8     2  \n",
      "2  0.7075   2.0     1     9     3  \n",
      "3  0.7075   2.0     2     8     3  \n",
      "4  0.7075   2.0     2     7     4  \n",
      "\n",
      "[5 rows x 23 columns]\n"
     ]
    }
   ],
   "source": [
    "print(df.head())"
   ]
  },
  {
   "cell_type": "code",
   "execution_count": 43,
   "metadata": {},
   "outputs": [
    {
     "data": {
      "text/plain": [
       "1    1941\n",
       "0    1059\n",
       "Name: Relationship_Status, dtype: int64"
      ]
     },
     "execution_count": 43,
     "metadata": {},
     "output_type": "execute_result"
    }
   ],
   "source": [
    "df.Relationship_Status.value_counts()\n",
    "# single: 1059\n",
    "# Married: 1941"
   ]
  },
  {
   "cell_type": "code",
   "execution_count": 44,
   "metadata": {},
   "outputs": [],
   "source": [
    "df['Gender'] =df['Gender'].replace({'M': 0, 'F' :1})"
   ]
  },
  {
   "cell_type": "code",
   "execution_count": 45,
   "metadata": {},
   "outputs": [
    {
     "data": {
      "text/plain": [
       "1    1728\n",
       "0    1272\n",
       "Name: Gender, dtype: int64"
      ]
     },
     "execution_count": 45,
     "metadata": {},
     "output_type": "execute_result"
    }
   ],
   "source": [
    "df.Gender.value_counts()\n",
    "# .576% = Female\n",
    "# .424% = Male"
   ]
  },
  {
   "cell_type": "code",
   "execution_count": 46,
   "metadata": {},
   "outputs": [
    {
     "data": {
      "text/plain": [
       "3    1185\n",
       "4     942\n",
       "5     298\n",
       "2     291\n",
       "1     284\n",
       "Name: Education_Level, dtype: int64"
      ]
     },
     "execution_count": 46,
     "metadata": {},
     "output_type": "execute_result"
    }
   ],
   "source": [
    "df.Education_Level.value_counts()\n",
    "# 1 = 284  = 0.09466667%\n",
    "# 2 = 291  = 0.097%\n",
    "# 3 = 1185 = 0.395%\n",
    "# 4 = 942  = 0.314%\n",
    "# 5 = 298  = 0.09933333%"
   ]
  },
  {
   "cell_type": "code",
   "execution_count": 47,
   "metadata": {},
   "outputs": [
    {
     "data": {
      "text/plain": [
       "8.0     572\n",
       "6.0     536\n",
       "5.0     480\n",
       "4.0     422\n",
       "7.0     352\n",
       "9.0     239\n",
       "3.0     111\n",
       "2.0     106\n",
       "10.0    105\n",
       "1.0      74\n",
       "Name: Pay_Scale, dtype: int64"
      ]
     },
     "execution_count": 47,
     "metadata": {},
     "output_type": "execute_result"
    }
   ],
   "source": [
    "df.Pay_Scale.value_counts()\n",
    "# totals added up to 2997, but I divided each number by 3000 to get the pct\n",
    "# 8.0     572   =0.19066667%\n",
    "# 6.0     536   =0.17866667%\n",
    "# 5.0     480   =0.16%\n",
    "# 4.0     422   =0.14066667%\n",
    "# 7.0     352   =0.11733333%\n",
    "# 9.0     239   =0.07966667%\n",
    "# 3.0     111   =0.037%\n",
    "# 2.0     106   =0.03533333%\n",
    "# 10.0    105   =0.035%\n",
    "# 1.0      74   =0.0246667%"
   ]
  },
  {
   "cell_type": "code",
   "execution_count": 48,
   "metadata": {},
   "outputs": [
    {
     "data": {
      "text/plain": [
       "type2    1741\n",
       "type3     964\n",
       "type4     137\n",
       "type0      93\n",
       "type1      65\n",
       "Name: Compensation_and_Benefits, dtype: int64"
      ]
     },
     "execution_count": 48,
     "metadata": {},
     "output_type": "execute_result"
    }
   ],
   "source": [
    "df.Compensation_and_Benefits.value_counts()\n",
    "# type2    1741\n",
    "# type3     964\n",
    "# type4     137\n",
    "# type0      93\n",
    "# type1      65"
   ]
  },
  {
   "cell_type": "code",
   "execution_count": 49,
   "metadata": {},
   "outputs": [],
   "source": [
    "gender_male=df[df['Gender']==0]\n",
    "# 1272 Males"
   ]
  },
  {
   "cell_type": "code",
   "execution_count": 50,
   "metadata": {},
   "outputs": [],
   "source": [
    "gender_female=df[df['Gender']==1]\n",
    "# 1728 Females"
   ]
  },
  {
   "cell_type": "code",
   "execution_count": 51,
   "metadata": {},
   "outputs": [],
   "source": [
    "single_female=gender_female.Relationship_Status==0"
   ]
  },
  {
   "cell_type": "code",
   "execution_count": 52,
   "metadata": {},
   "outputs": [
    {
     "data": {
      "text/plain": [
       "False    1098\n",
       "True      630\n",
       "Name: Relationship_Status, dtype: int64"
      ]
     },
     "execution_count": 52,
     "metadata": {},
     "output_type": "execute_result"
    }
   ],
   "source": [
    "single_female.value_counts()\n",
    "#1098 False\n",
    "#630 True"
   ]
  },
  {
   "cell_type": "code",
   "execution_count": 53,
   "metadata": {},
   "outputs": [],
   "source": [
    "single_male=gender_male.Relationship_Status==1"
   ]
  },
  {
   "cell_type": "code",
   "execution_count": 54,
   "metadata": {},
   "outputs": [
    {
     "data": {
      "text/plain": [
       "True     843\n",
       "False    429\n",
       "Name: Relationship_Status, dtype: int64"
      ]
     },
     "execution_count": 54,
     "metadata": {},
     "output_type": "execute_result"
    }
   ],
   "source": [
    "single_male.value_counts()\n",
    "# True 843\n",
    "# False 429"
   ]
  },
  {
   "cell_type": "code",
   "execution_count": 55,
   "metadata": {},
   "outputs": [
    {
     "name": "stdout",
     "output_type": "stream",
     "text": [
      "10.0\n"
     ]
    }
   ],
   "source": [
    "print(max(df.Pay_Scale))"
   ]
  },
  {
   "cell_type": "code",
   "execution_count": 56,
   "metadata": {},
   "outputs": [],
   "source": [
    "high_pay=df[df['Pay_Scale']>=7]\n",
    "#Total of 1268"
   ]
  },
  {
   "cell_type": "code",
   "execution_count": 57,
   "metadata": {},
   "outputs": [],
   "source": [
    "female_high_pay=gender_female[gender_female['Pay_Scale']>=7]"
   ]
  },
  {
   "cell_type": "code",
   "execution_count": 228,
   "metadata": {},
   "outputs": [],
   "source": [
    "#female_high_pay.count()\n",
    "# = 722"
   ]
  },
  {
   "cell_type": "code",
   "execution_count": 59,
   "metadata": {},
   "outputs": [],
   "source": [
    "female_high_pay_pct=722/1728"
   ]
  },
  {
   "cell_type": "code",
   "execution_count": 60,
   "metadata": {},
   "outputs": [
    {
     "data": {
      "text/plain": [
       "0.41782407407407407"
      ]
     },
     "execution_count": 60,
     "metadata": {},
     "output_type": "execute_result"
    }
   ],
   "source": [
    "female_high_pay_pct\n",
    "# 42% of all females have pay scale at 7 or higher"
   ]
  },
  {
   "cell_type": "code",
   "execution_count": 61,
   "metadata": {},
   "outputs": [],
   "source": [
    "male_high_pay=gender_male[gender_male['Pay_Scale']>=7]"
   ]
  },
  {
   "cell_type": "code",
   "execution_count": 229,
   "metadata": {},
   "outputs": [
    {
     "data": {
      "text/plain": [
       "Employee_ID                  546\n",
       "Gender                       546\n",
       "Age                          520\n",
       "Education_Level              546\n",
       "Relationship_Status          546\n",
       "Hometown                     546\n",
       "Unit                         546\n",
       "Decision_skill_possess       546\n",
       "Time_of_service              530\n",
       "Time_since_promotion         546\n",
       "growth_rate                  546\n",
       "Travel_Rate                  546\n",
       "Post_Level                   546\n",
       "Pay_Scale                    546\n",
       "Compensation_and_Benefits    546\n",
       "Work_Life_balance            545\n",
       "VAR1                         546\n",
       "VAR2                         506\n",
       "VAR3                         546\n",
       "VAR4                         493\n",
       "VAR5                         546\n",
       "VAR6                         546\n",
       "VAR7                         546\n",
       "dtype: int64"
      ]
     },
     "execution_count": 229,
     "metadata": {},
     "output_type": "execute_result"
    }
   ],
   "source": [
    "#male_high_pay.count()\n",
    "# = 546"
   ]
  },
  {
   "cell_type": "code",
   "execution_count": 231,
   "metadata": {},
   "outputs": [],
   "source": [
    "male_high_pay_pct=546/1272\n",
    "# #43 % of all males have pay scale at 7 or higher"
   ]
  },
  {
   "cell_type": "code",
   "execution_count": 232,
   "metadata": {},
   "outputs": [
    {
     "data": {
      "text/plain": [
       "0.42924528301886794"
      ]
     },
     "execution_count": 232,
     "metadata": {},
     "output_type": "execute_result"
    }
   ],
   "source": [
    "male_high_pay_pct"
   ]
  },
  {
   "cell_type": "code",
   "execution_count": 233,
   "metadata": {},
   "outputs": [],
   "source": [
    "height =[0.41782407407407407, 0.42924528301886794]"
   ]
  },
  {
   "cell_type": "code",
   "execution_count": 234,
   "metadata": {},
   "outputs": [],
   "source": [
    "bars=('Female', 'Male')"
   ]
  },
  {
   "cell_type": "code",
   "execution_count": 263,
   "metadata": {},
   "outputs": [],
   "source": [
    "x_pos=[4,5]"
   ]
  },
  {
   "cell_type": "code",
   "execution_count": 266,
   "metadata": {},
   "outputs": [
    {
     "data": {
      "image/png": "[encoded data removed]",
      "text/plain": [
       "<Figure size 432x288 with 1 Axes>"
      ]
     },
     "metadata": {
      "needs_background": "light"
     },
     "output_type": "display_data"
    }
   ],
   "source": [
    "plt.bar(x_pos, height, width= [0.75, 0.75])\n",
    "plt.xticks(x_pos, bars)\n",
    "plt.ylabel(\"Pay Scale\")\n",
    "plt.title(\"% of Females and Males who are High Earners\")\n",
    "plt.show()"
   ]
  },
  {
   "cell_type": "code",
   "execution_count": 267,
   "metadata": {},
   "outputs": [],
   "source": [
    "age=df['Age']"
   ]
  },
  {
   "cell_type": "code",
   "execution_count": 272,
   "metadata": {},
   "outputs": [
    {
     "data": {
      "text/plain": [
       "0       32.0\n",
       "1       65.0\n",
       "2       52.0\n",
       "3       50.0\n",
       "4       44.0\n",
       "5       22.0\n",
       "6       42.0\n",
       "7       41.0\n",
       "8       31.0\n",
       "9       48.0\n",
       "10      31.0\n",
       "11      29.0\n",
       "12      28.0\n",
       "13      65.0\n",
       "14      54.0\n",
       "15      64.0\n",
       "16      42.0\n",
       "18      38.0\n",
       "19      32.0\n",
       "20      61.0\n",
       "21      60.0\n",
       "22      60.0\n",
       "23      42.0\n",
       "24      32.0\n",
       "25      47.0\n",
       "26      37.0\n",
       "27      27.0\n",
       "28      45.0\n",
       "29      29.0\n",
       "30      59.0\n",
       "31      50.0\n",
       "32      50.0\n",
       "33      49.0\n",
       "34      22.0\n",
       "35      64.0\n",
       "36      25.0\n",
       "37      51.0\n",
       "38      31.0\n",
       "39      47.0\n",
       "40      26.0\n",
       "41      33.0\n",
       "43      22.0\n",
       "44      62.0\n",
       "45      27.0\n",
       "46      59.0\n",
       "47      44.0\n",
       "48      47.0\n",
       "49      23.0\n",
       "51      24.0\n",
       "52      36.0\n",
       "53      21.0\n",
       "54      26.0\n",
       "55      42.0\n",
       "56      52.0\n",
       "57      27.0\n",
       "58      64.0\n",
       "59      24.0\n",
       "60      43.0\n",
       "61      27.0\n",
       "62      45.0\n",
       "63      28.0\n",
       "64      54.0\n",
       "65      22.0\n",
       "66      24.0\n",
       "67      54.0\n",
       "68      24.0\n",
       "69      42.0\n",
       "70      31.0\n",
       "71      40.0\n",
       "72      20.0\n",
       "73      19.0\n",
       "74      23.0\n",
       "75      46.0\n",
       "76      19.0\n",
       "77      27.0\n",
       "78      62.0\n",
       "79      22.0\n",
       "80      59.0\n",
       "81      37.0\n",
       "82      34.0\n",
       "83      52.0\n",
       "84      37.0\n",
       "85      24.0\n",
       "86      37.0\n",
       "88      65.0\n",
       "89      45.0\n",
       "90      49.0\n",
       "91      46.0\n",
       "92      37.0\n",
       "93      55.0\n",
       "94      25.0\n",
       "95      31.0\n",
       "96      54.0\n",
       "97      25.0\n",
       "98      61.0\n",
       "99      62.0\n",
       "100     37.0\n",
       "101     31.0\n",
       "102     45.0\n",
       "104     22.0\n",
       "105     41.0\n",
       "106     31.0\n",
       "107     43.0\n",
       "108     39.0\n",
       "109     32.0\n",
       "110     37.0\n",
       "111     22.0\n",
       "112     31.0\n",
       "113     50.0\n",
       "114     47.0\n",
       "115     58.0\n",
       "116     49.0\n",
       "117     65.0\n",
       "118     54.0\n",
       "119     42.0\n",
       "120     52.0\n",
       "121     25.0\n",
       "122     41.0\n",
       "123     54.0\n",
       "125     61.0\n",
       "126     30.0\n",
       "127     34.0\n",
       "128     21.0\n",
       "130     35.0\n",
       "131     30.0\n",
       "132     28.0\n",
       "133     47.0\n",
       "134     52.0\n",
       "135     35.0\n",
       "136     54.0\n",
       "137     49.0\n",
       "138     48.0\n",
       "139     51.0\n",
       "140     41.0\n",
       "141     30.0\n",
       "142     38.0\n",
       "143     37.0\n",
       "144     62.0\n",
       "145     61.0\n",
       "146     25.0\n",
       "147     35.0\n",
       "148     65.0\n",
       "149     40.0\n",
       "150     59.0\n",
       "151     42.0\n",
       "153     60.0\n",
       "154     48.0\n",
       "156     49.0\n",
       "157     32.0\n",
       "158     65.0\n",
       "159     33.0\n",
       "160     25.0\n",
       "161     60.0\n",
       "162     52.0\n",
       "163     53.0\n",
       "164     35.0\n",
       "165     57.0\n",
       "166     59.0\n",
       "167     53.0\n",
       "168     52.0\n",
       "169     61.0\n",
       "170     48.0\n",
       "171     27.0\n",
       "172     20.0\n",
       "173     44.0\n",
       "174     29.0\n",
       "175     32.0\n",
       "176     35.0\n",
       "177     54.0\n",
       "178     28.0\n",
       "179     48.0\n",
       "180     22.0\n",
       "181     32.0\n",
       "182     42.0\n",
       "183     45.0\n",
       "184     61.0\n",
       "185     34.0\n",
       "186     65.0\n",
       "187     59.0\n",
       "188     60.0\n",
       "189     43.0\n",
       "190     21.0\n",
       "191     40.0\n",
       "192     27.0\n",
       "193     22.0\n",
       "194     21.0\n",
       "195     48.0\n",
       "196     57.0\n",
       "197     60.0\n",
       "198     63.0\n",
       "199     33.0\n",
       "200     30.0\n",
       "201     36.0\n",
       "202     52.0\n",
       "203     54.0\n",
       "204     54.0\n",
       "205     22.0\n",
       "206     35.0\n",
       "207     29.0\n",
       "208     52.0\n",
       "209     52.0\n",
       "210     43.0\n",
       "211     53.0\n",
       "212     64.0\n",
       "213     28.0\n",
       "214     39.0\n",
       "215     25.0\n",
       "216     55.0\n",
       "217     25.0\n",
       "218     23.0\n",
       "219     59.0\n",
       "220     50.0\n",
       "221     39.0\n",
       "222     32.0\n",
       "223     21.0\n",
       "224     24.0\n",
       "225     32.0\n",
       "226     28.0\n",
       "227     42.0\n",
       "228     21.0\n",
       "229     58.0\n",
       "230     22.0\n",
       "231     26.0\n",
       "232     22.0\n",
       "233     30.0\n",
       "234     28.0\n",
       "235     22.0\n",
       "236     40.0\n",
       "237     23.0\n",
       "238     27.0\n",
       "239     30.0\n",
       "240     26.0\n",
       "241     25.0\n",
       "243     50.0\n",
       "244     56.0\n",
       "245     54.0\n",
       "246     42.0\n",
       "247     60.0\n",
       "248     28.0\n",
       "249     31.0\n",
       "250     26.0\n",
       "251     52.0\n",
       "252     55.0\n",
       "253     27.0\n",
       "254     25.0\n",
       "255     34.0\n",
       "256     24.0\n",
       "257     60.0\n",
       "258     37.0\n",
       "259     54.0\n",
       "260     31.0\n",
       "261     35.0\n",
       "262     59.0\n",
       "263     51.0\n",
       "264     62.0\n",
       "265     22.0\n",
       "266     40.0\n",
       "267     42.0\n",
       "268     25.0\n",
       "269     20.0\n",
       "270     37.0\n",
       "271     31.0\n",
       "272     21.0\n",
       "273     47.0\n",
       "274     27.0\n",
       "275     37.0\n",
       "276     22.0\n",
       "277     21.0\n",
       "278     37.0\n",
       "279     57.0\n",
       "280     22.0\n",
       "281     34.0\n",
       "282     44.0\n",
       "283     22.0\n",
       "284     41.0\n",
       "285     36.0\n",
       "286     28.0\n",
       "287     64.0\n",
       "288     33.0\n",
       "289     20.0\n",
       "290     23.0\n",
       "291     47.0\n",
       "292     54.0\n",
       "293     57.0\n",
       "294     60.0\n",
       "295     26.0\n",
       "296     56.0\n",
       "297     59.0\n",
       "298     56.0\n",
       "299     58.0\n",
       "300     38.0\n",
       "301     22.0\n",
       "303     46.0\n",
       "304     58.0\n",
       "305     20.0\n",
       "306     43.0\n",
       "307     26.0\n",
       "308     28.0\n",
       "309     64.0\n",
       "310     35.0\n",
       "311     25.0\n",
       "312     37.0\n",
       "313     27.0\n",
       "314     58.0\n",
       "315     26.0\n",
       "316     52.0\n",
       "317     24.0\n",
       "318     61.0\n",
       "319     58.0\n",
       "320     54.0\n",
       "321     62.0\n",
       "322     27.0\n",
       "323     50.0\n",
       "324     55.0\n",
       "325     58.0\n",
       "326     40.0\n",
       "327     27.0\n",
       "328     44.0\n",
       "329     37.0\n",
       "330     64.0\n",
       "331     49.0\n",
       "332     62.0\n",
       "334     42.0\n",
       "335     53.0\n",
       "336     36.0\n",
       "337     37.0\n",
       "338     22.0\n",
       "339     42.0\n",
       "340     28.0\n",
       "341     60.0\n",
       "342     26.0\n",
       "343     52.0\n",
       "344     52.0\n",
       "345     55.0\n",
       "346     22.0\n",
       "347     40.0\n",
       "348     33.0\n",
       "349     29.0\n",
       "350     26.0\n",
       "351     32.0\n",
       "352     47.0\n",
       "353     50.0\n",
       "354     60.0\n",
       "355     21.0\n",
       "356     27.0\n",
       "357     54.0\n",
       "359     32.0\n",
       "360     48.0\n",
       "361     25.0\n",
       "362     34.0\n",
       "363     54.0\n",
       "364     45.0\n",
       "365     42.0\n",
       "366     42.0\n",
       "367     59.0\n",
       "368     45.0\n",
       "370     25.0\n",
       "371     35.0\n",
       "372     60.0\n",
       "373     58.0\n",
       "374     28.0\n",
       "375     31.0\n",
       "376     52.0\n",
       "377     48.0\n",
       "378     41.0\n",
       "379     55.0\n",
       "380     26.0\n",
       "381     24.0\n",
       "382     63.0\n",
       "383     52.0\n",
       "384     34.0\n",
       "385     20.0\n",
       "386     51.0\n",
       "387     38.0\n",
       "388     36.0\n",
       "389     19.0\n",
       "390     25.0\n",
       "392     31.0\n",
       "393     52.0\n",
       "395     32.0\n",
       "396     20.0\n",
       "397     50.0\n",
       "398     37.0\n",
       "400     21.0\n",
       "401     58.0\n",
       "402     39.0\n",
       "403     65.0\n",
       "404     54.0\n",
       "405     53.0\n",
       "406     40.0\n",
       "407     54.0\n",
       "409     59.0\n",
       "410     60.0\n",
       "411     45.0\n",
       "412     21.0\n",
       "413     31.0\n",
       "415     40.0\n",
       "416     40.0\n",
       "417     65.0\n",
       "418     48.0\n",
       "419     52.0\n",
       "420     42.0\n",
       "421     24.0\n",
       "422     40.0\n",
       "423     47.0\n",
       "424     35.0\n",
       "425     26.0\n",
       "426     24.0\n",
       "427     62.0\n",
       "428     40.0\n",
       "429     38.0\n",
       "430     19.0\n",
       "431     42.0\n",
       "432     27.0\n",
       "433     37.0\n",
       "434     64.0\n",
       "435     21.0\n",
       "437     20.0\n",
       "438     37.0\n",
       "439     25.0\n",
       "440     30.0\n",
       "441     56.0\n",
       "442     22.0\n",
       "443     40.0\n",
       "444     27.0\n",
       "445     47.0\n",
       "446     35.0\n",
       "447     22.0\n",
       "448     53.0\n",
       "449     54.0\n",
       "450     28.0\n",
       "451     45.0\n",
       "452     37.0\n",
       "453     60.0\n",
       "454     47.0\n",
       "455     33.0\n",
       "456     24.0\n",
       "457     52.0\n",
       "458     32.0\n",
       "459     57.0\n",
       "460     46.0\n",
       "461     59.0\n",
       "462     27.0\n",
       "463     30.0\n",
       "464     56.0\n",
       "465     32.0\n",
       "466     37.0\n",
       "467     52.0\n",
       "468     47.0\n",
       "469     54.0\n",
       "470     56.0\n",
       "471     23.0\n",
       "472     51.0\n",
       "473     47.0\n",
       "474     21.0\n",
       "475     33.0\n",
       "476     40.0\n",
       "477     30.0\n",
       "478     65.0\n",
       "479     42.0\n",
       "480     35.0\n",
       "481     28.0\n",
       "482     41.0\n",
       "483     30.0\n",
       "484     37.0\n",
       "486     56.0\n",
       "487     41.0\n",
       "488     26.0\n",
       "489     61.0\n",
       "490     52.0\n",
       "491     52.0\n",
       "492     31.0\n",
       "493     21.0\n",
       "494     46.0\n",
       "495     21.0\n",
       "496     54.0\n",
       "498     27.0\n",
       "499     56.0\n",
       "500     44.0\n",
       "501     42.0\n",
       "503     27.0\n",
       "504     47.0\n",
       "505     37.0\n",
       "506     54.0\n",
       "507     32.0\n",
       "508     30.0\n",
       "509     24.0\n",
       "510     22.0\n",
       "511     41.0\n",
       "512     26.0\n",
       "513     49.0\n",
       "514     42.0\n",
       "515     37.0\n",
       "516     28.0\n",
       "517     46.0\n",
       "518     42.0\n",
       "519     60.0\n",
       "520     42.0\n",
       "521     26.0\n",
       "522     30.0\n",
       "523     64.0\n",
       "524     39.0\n",
       "525     27.0\n",
       "526     31.0\n",
       "527     45.0\n",
       "528     60.0\n",
       "529     20.0\n",
       "530     36.0\n",
       "531     53.0\n",
       "532     23.0\n",
       "533     19.0\n",
       "534     47.0\n",
       "535     37.0\n",
       "536     53.0\n",
       "537     35.0\n",
       "538     58.0\n",
       "539     59.0\n",
       "540     49.0\n",
       "541     30.0\n",
       "542     32.0\n",
       "543     26.0\n",
       "544     33.0\n",
       "545     20.0\n",
       "546     40.0\n",
       "547     28.0\n",
       "548     55.0\n",
       "549     21.0\n",
       "550     31.0\n",
       "551     55.0\n",
       "552     57.0\n",
       "553     24.0\n",
       "554     30.0\n",
       "555     23.0\n",
       "556     32.0\n",
       "557     57.0\n",
       "558     36.0\n",
       "559     39.0\n",
       "560     65.0\n",
       "561     31.0\n",
       "562     39.0\n",
       "563     62.0\n",
       "564     57.0\n",
       "565     31.0\n",
       "566     65.0\n",
       "569     35.0\n",
       "570     45.0\n",
       "571     56.0\n",
       "572     45.0\n",
       "573     31.0\n",
       "574     56.0\n",
       "575     65.0\n",
       "576     27.0\n",
       "577     65.0\n",
       "578     19.0\n",
       "579     65.0\n",
       "580     61.0\n",
       "581     49.0\n",
       "582     51.0\n",
       "583     21.0\n",
       "584     50.0\n",
       "585     29.0\n",
       "586     32.0\n",
       "587     51.0\n",
       "588     52.0\n",
       "589     21.0\n",
       "590     59.0\n",
       "591     25.0\n",
       "592     48.0\n",
       "593     20.0\n",
       "594     26.0\n",
       "595     35.0\n",
       "596     52.0\n",
       "597     31.0\n",
       "598     58.0\n",
       "599     32.0\n",
       "600     28.0\n",
       "601     65.0\n",
       "602     42.0\n",
       "603     19.0\n",
       "604     25.0\n",
       "605     25.0\n",
       "606     27.0\n",
       "607     58.0\n",
       "608     60.0\n",
       "609     26.0\n",
       "610     20.0\n",
       "611     35.0\n",
       "612     60.0\n",
       "613     28.0\n",
       "614     52.0\n",
       "615     37.0\n",
       "616     36.0\n",
       "617     22.0\n",
       "618     47.0\n",
       "619     25.0\n",
       "620     38.0\n",
       "621     55.0\n",
       "622     28.0\n",
       "623     62.0\n",
       "624     47.0\n",
       "625     52.0\n",
       "626     24.0\n",
       "627     53.0\n",
       "628     59.0\n",
       "630     45.0\n",
       "631     30.0\n",
       "632     27.0\n",
       "633     24.0\n",
       "634     27.0\n",
       "635     37.0\n",
       "636     23.0\n",
       "637     57.0\n",
       "639     27.0\n",
       "640     36.0\n",
       "641     35.0\n",
       "642     51.0\n",
       "643     34.0\n",
       "644     35.0\n",
       "645     50.0\n",
       "646     50.0\n",
       "647     45.0\n",
       "648     42.0\n",
       "649     19.0\n",
       "650     30.0\n",
       "651     60.0\n",
       "652     23.0\n",
       "653     27.0\n",
       "654     25.0\n",
       "655     26.0\n",
       "657     45.0\n",
       "658     47.0\n",
       "659     35.0\n",
       "660     57.0\n",
       "661     23.0\n",
       "662     19.0\n",
       "663     29.0\n",
       "664     46.0\n",
       "665     35.0\n",
       "666     27.0\n",
       "667     30.0\n",
       "668     30.0\n",
       "669     34.0\n",
       "670     53.0\n",
       "671     32.0\n",
       "672     27.0\n",
       "674     26.0\n",
       "675     62.0\n",
       "676     22.0\n",
       "677     46.0\n",
       "678     45.0\n",
       "679     29.0\n",
       "680     57.0\n",
       "681     58.0\n",
       "682     54.0\n",
       "683     24.0\n",
       "684     58.0\n",
       "685     28.0\n",
       "686     53.0\n",
       "687     38.0\n",
       "688     37.0\n",
       "689     62.0\n",
       "690     65.0\n",
       "691     25.0\n",
       "692     27.0\n",
       "693     47.0\n",
       "694     25.0\n",
       "695     20.0\n",
       "696     56.0\n",
       "697     50.0\n",
       "698     30.0\n",
       "699     22.0\n",
       "700     40.0\n",
       "701     30.0\n",
       "702     28.0\n",
       "704     63.0\n",
       "705     65.0\n",
       "706     38.0\n",
       "707     24.0\n",
       "709     48.0\n",
       "710     34.0\n",
       "711     47.0\n",
       "712     55.0\n",
       "713     52.0\n",
       "714     46.0\n",
       "715     24.0\n",
       "716     22.0\n",
       "717     34.0\n",
       "718     42.0\n",
       "719     46.0\n",
       "720     23.0\n",
       "721     45.0\n",
       "723     26.0\n",
       "725     45.0\n",
       "726     55.0\n",
       "727     47.0\n",
       "728     62.0\n",
       "729     24.0\n",
       "730     32.0\n",
       "731     50.0\n",
       "732     20.0\n",
       "733     29.0\n",
       "734     30.0\n",
       "735     37.0\n",
       "736     22.0\n",
       "737     22.0\n",
       "738     42.0\n",
       "739     61.0\n",
       "740     50.0\n",
       "741     54.0\n",
       "742     48.0\n",
       "743     60.0\n",
       "744     24.0\n",
       "745     19.0\n",
       "746     54.0\n",
       "747     39.0\n",
       "748     30.0\n",
       "749     34.0\n",
       "750     45.0\n",
       "751     22.0\n",
       "753     30.0\n",
       "754     33.0\n",
       "755     28.0\n",
       "756     22.0\n",
       "757     56.0\n",
       "758     30.0\n",
       "759     52.0\n",
       "760     45.0\n",
       "761     47.0\n",
       "762     35.0\n",
       "763     31.0\n",
       "764     64.0\n",
       "765     47.0\n",
       "766     52.0\n",
       "767     22.0\n",
       "769     37.0\n",
       "770     53.0\n",
       "771     47.0\n",
       "772     65.0\n",
       "773     34.0\n",
       "774     45.0\n",
       "775     52.0\n",
       "776     35.0\n",
       "777     55.0\n",
       "778     26.0\n",
       "779     56.0\n",
       "780     23.0\n",
       "781     21.0\n",
       "782     63.0\n",
       "783     47.0\n",
       "784     24.0\n",
       "785     47.0\n",
       "786     23.0\n",
       "787     62.0\n",
       "788     63.0\n",
       "789     42.0\n",
       "790     19.0\n",
       "791     27.0\n",
       "792     38.0\n",
       "793     65.0\n",
       "794     29.0\n",
       "795     61.0\n",
       "796     42.0\n",
       "797     58.0\n",
       "798     19.0\n",
       "799     28.0\n",
       "800     58.0\n",
       "801     32.0\n",
       "802     20.0\n",
       "803     65.0\n",
       "804     59.0\n",
       "805     39.0\n",
       "806     41.0\n",
       "807     53.0\n",
       "808     64.0\n",
       "809     41.0\n",
       "810     59.0\n",
       "812     52.0\n",
       "813     25.0\n",
       "814     64.0\n",
       "815     20.0\n",
       "816     42.0\n",
       "817     35.0\n",
       "818     37.0\n",
       "819     47.0\n",
       "820     19.0\n",
       "821     22.0\n",
       "822     44.0\n",
       "823     22.0\n",
       "824     57.0\n",
       "825     29.0\n",
       "826     63.0\n",
       "827     59.0\n",
       "828     42.0\n",
       "829     52.0\n",
       "830     39.0\n",
       "831     65.0\n",
       "832     54.0\n",
       "833     60.0\n",
       "835     49.0\n",
       "836     51.0\n",
       "837     47.0\n",
       "838     20.0\n",
       "839     60.0\n",
       "840     54.0\n",
       "843     44.0\n",
       "844     48.0\n",
       "845     41.0\n",
       "846     19.0\n",
       "847     55.0\n",
       "848     42.0\n",
       "849     63.0\n",
       "850     30.0\n",
       "851     24.0\n",
       "853     59.0\n",
       "854     35.0\n",
       "856     38.0\n",
       "857     48.0\n",
       "858     35.0\n",
       "859     28.0\n",
       "860     27.0\n",
       "861     43.0\n",
       "862     33.0\n",
       "864     42.0\n",
       "865     22.0\n",
       "866     27.0\n",
       "867     53.0\n",
       "868     23.0\n",
       "869     27.0\n",
       "870     44.0\n",
       "871     43.0\n",
       "872     32.0\n",
       "873     28.0\n",
       "874     53.0\n",
       "875     22.0\n",
       "876     57.0\n",
       "877     22.0\n",
       "880     24.0\n",
       "881     58.0\n",
       "882     23.0\n",
       "883     45.0\n",
       "884     65.0\n",
       "885     47.0\n",
       "886     22.0\n",
       "887     22.0\n",
       "888     60.0\n",
       "889     35.0\n",
       "890     47.0\n",
       "891     56.0\n",
       "892     65.0\n",
       "893     27.0\n",
       "894     25.0\n",
       "895     41.0\n",
       "896     53.0\n",
       "897     41.0\n",
       "898     23.0\n",
       "899     35.0\n",
       "900     54.0\n",
       "901     42.0\n",
       "902     33.0\n",
       "903     22.0\n",
       "904     24.0\n",
       "905     53.0\n",
       "906     26.0\n",
       "907     55.0\n",
       "908     48.0\n",
       "909     41.0\n",
       "910     54.0\n",
       "912     60.0\n",
       "913     52.0\n",
       "914     31.0\n",
       "915     56.0\n",
       "916     30.0\n",
       "917     59.0\n",
       "918     43.0\n",
       "919     32.0\n",
       "920     27.0\n",
       "922     32.0\n",
       "923     24.0\n",
       "924     35.0\n",
       "925     37.0\n",
       "927     32.0\n",
       "928     45.0\n",
       "930     52.0\n",
       "931     19.0\n",
       "932     60.0\n",
       "933     20.0\n",
       "934     27.0\n",
       "935     28.0\n",
       "936     38.0\n",
       "937     27.0\n",
       "938     38.0\n",
       "939     19.0\n",
       "940     50.0\n",
       "941     64.0\n",
       "942     54.0\n",
       "943     52.0\n",
       "944     40.0\n",
       "945     23.0\n",
       "946     59.0\n",
       "947     50.0\n",
       "948     19.0\n",
       "950     30.0\n",
       "952     25.0\n",
       "953     26.0\n",
       "954     30.0\n",
       "956     27.0\n",
       "957     49.0\n",
       "958     42.0\n",
       "959     52.0\n",
       "960     26.0\n",
       "961     59.0\n",
       "962     24.0\n",
       "963     22.0\n",
       "964     33.0\n",
       "965     42.0\n",
       "966     25.0\n",
       "967     30.0\n",
       "968     44.0\n",
       "969     52.0\n",
       "970     30.0\n",
       "971     42.0\n",
       "972     27.0\n",
       "973     60.0\n",
       "974     48.0\n",
       "975     60.0\n",
       "976     32.0\n",
       "977     50.0\n",
       "978     38.0\n",
       "979     24.0\n",
       "981     58.0\n",
       "983     63.0\n",
       "984     57.0\n",
       "985     48.0\n",
       "986     23.0\n",
       "987     28.0\n",
       "988     27.0\n",
       "989     24.0\n",
       "990     59.0\n",
       "992     38.0\n",
       "993     24.0\n",
       "994     36.0\n",
       "995     27.0\n",
       "996     43.0\n",
       "997     32.0\n",
       "999     59.0\n",
       "1000    29.0\n",
       "1002    22.0\n",
       "1003    48.0\n",
       "1004    63.0\n",
       "1005    52.0\n",
       "1006    56.0\n",
       "1007    60.0\n",
       "1008    45.0\n",
       "1009    42.0\n",
       "1010    52.0\n",
       "1011    24.0\n",
       "1012    40.0\n",
       "1013    40.0\n",
       "1014    47.0\n",
       "1015    48.0\n",
       "1016    43.0\n",
       "1017    42.0\n",
       "1018    57.0\n",
       "1019    55.0\n",
       "1020    56.0\n",
       "1021    54.0\n",
       "1022    22.0\n",
       "1023    62.0\n",
       "1024    48.0\n",
       "1025    46.0\n",
       "1026    26.0\n",
       "1027    22.0\n",
       "1028    63.0\n",
       "1029    26.0\n",
       "1030    48.0\n",
       "1031    54.0\n",
       "1033    35.0\n",
       "1034    38.0\n",
       "1035    23.0\n",
       "1036    23.0\n",
       "1037    21.0\n",
       "1038    21.0\n",
       "1039    53.0\n",
       "1040    25.0\n",
       "1041    50.0\n",
       "1042    41.0\n",
       "1043    28.0\n",
       "1044    59.0\n",
       "1045    37.0\n",
       "1046    45.0\n",
       "1047    61.0\n",
       "1048    43.0\n",
       "1049    35.0\n",
       "1050    63.0\n",
       "1051    29.0\n",
       "1052    45.0\n",
       "1053    26.0\n",
       "1054    20.0\n",
       "1055    55.0\n",
       "1056    25.0\n",
       "1057    53.0\n",
       "1058    26.0\n",
       "1059    45.0\n",
       "1060    62.0\n",
       "1061    22.0\n",
       "1062    26.0\n",
       "1063    30.0\n",
       "1065    23.0\n",
       "1066    64.0\n",
       "1067    20.0\n",
       "1068    30.0\n",
       "1069    35.0\n",
       "1070    48.0\n",
       "1071    40.0\n",
       "1072    45.0\n",
       "1073    60.0\n",
       "1074    39.0\n",
       "1075    35.0\n",
       "1076    55.0\n",
       "1077    45.0\n",
       "1078    45.0\n",
       "1079    22.0\n",
       "1080    46.0\n",
       "1081    30.0\n",
       "1082    53.0\n",
       "1083    58.0\n",
       "1084    48.0\n",
       "1085    38.0\n",
       "1086    40.0\n",
       "1087    23.0\n",
       "1088    26.0\n",
       "1089    32.0\n",
       "1091    30.0\n",
       "1092    58.0\n",
       "1093    54.0\n",
       "1094    36.0\n",
       "1095    59.0\n",
       "1096    54.0\n",
       "1097    50.0\n",
       "1098    52.0\n",
       "1099    20.0\n",
       "1100    44.0\n",
       "1101    28.0\n",
       "1102    42.0\n",
       "1103    26.0\n",
       "1104    45.0\n",
       "1105    47.0\n",
       "1106    56.0\n",
       "1107    65.0\n",
       "1108    27.0\n",
       "1109    45.0\n",
       "1110    19.0\n",
       "1111    30.0\n",
       "1112    34.0\n",
       "1113    52.0\n",
       "1114    53.0\n",
       "1115    42.0\n",
       "1117    39.0\n",
       "1118    37.0\n",
       "1119    41.0\n",
       "1120    22.0\n",
       "1121    42.0\n",
       "1123    19.0\n",
       "1124    22.0\n",
       "1125    25.0\n",
       "1126    35.0\n",
       "1127    56.0\n",
       "1128    26.0\n",
       "1129    51.0\n",
       "1131    28.0\n",
       "1132    63.0\n",
       "1133    54.0\n",
       "1134    52.0\n",
       "1135    30.0\n",
       "1136    40.0\n",
       "1137    35.0\n",
       "1138    45.0\n",
       "1139    25.0\n",
       "1140    27.0\n",
       "1141    32.0\n",
       "1143    19.0\n",
       "1145    28.0\n",
       "1146    50.0\n",
       "1147    45.0\n",
       "1148    65.0\n",
       "1149    45.0\n",
       "1150    35.0\n",
       "1151    19.0\n",
       "1152    21.0\n",
       "1153    19.0\n",
       "1154    24.0\n",
       "1155    45.0\n",
       "1156    42.0\n",
       "1157    57.0\n",
       "1158    50.0\n",
       "1159    58.0\n",
       "1160    29.0\n",
       "1162    50.0\n",
       "1163    46.0\n",
       "1164    37.0\n",
       "1165    32.0\n",
       "1166    23.0\n",
       "1167    27.0\n",
       "1168    32.0\n",
       "1169    64.0\n",
       "1170    46.0\n",
       "1171    27.0\n",
       "1172    35.0\n",
       "1173    44.0\n",
       "1174    50.0\n",
       "1175    31.0\n",
       "1176    44.0\n",
       "1177    41.0\n",
       "1178    63.0\n",
       "1179    37.0\n",
       "1180    60.0\n",
       "1181    25.0\n",
       "1182    28.0\n",
       "1183    43.0\n",
       "1184    33.0\n",
       "1185    45.0\n",
       "1186    30.0\n",
       "1187    62.0\n",
       "1188    58.0\n",
       "1189    19.0\n",
       "1190    59.0\n",
       "1192    29.0\n",
       "1193    41.0\n",
       "1194    46.0\n",
       "1195    27.0\n",
       "1196    26.0\n",
       "1197    28.0\n",
       "1198    60.0\n",
       "1199    29.0\n",
       "1200    42.0\n",
       "1201    34.0\n",
       "1202    24.0\n",
       "1203    24.0\n",
       "1204    32.0\n",
       "1205    53.0\n",
       "1206    49.0\n",
       "1207    45.0\n",
       "1208    24.0\n",
       "1209    21.0\n",
       "1210    33.0\n",
       "1211    57.0\n",
       "1212    40.0\n",
       "1213    37.0\n",
       "1214    42.0\n",
       "1215    32.0\n",
       "1216    33.0\n",
       "1217    63.0\n",
       "1218    24.0\n",
       "1219    24.0\n",
       "1220    52.0\n",
       "1221    28.0\n",
       "1222    30.0\n",
       "1223    45.0\n",
       "1224    20.0\n",
       "1225    32.0\n",
       "1226    23.0\n",
       "1227    52.0\n",
       "1228    52.0\n",
       "1229    31.0\n",
       "1230    55.0\n",
       "1231    27.0\n",
       "1232    64.0\n",
       "1233    60.0\n",
       "1234    34.0\n",
       "1235    31.0\n",
       "1237    37.0\n",
       "1238    52.0\n",
       "1239    40.0\n",
       "1240    58.0\n",
       "1241    22.0\n",
       "1242    60.0\n",
       "1243    25.0\n",
       "1244    45.0\n",
       "1245    29.0\n",
       "1246    59.0\n",
       "1247    43.0\n",
       "1248    23.0\n",
       "1249    50.0\n",
       "1250    51.0\n",
       "1251    28.0\n",
       "1252    21.0\n",
       "1253    60.0\n",
       "1254    53.0\n",
       "1255    23.0\n",
       "1256    45.0\n",
       "1257    25.0\n",
       "1258    33.0\n",
       "1259    30.0\n",
       "1260    62.0\n",
       "1261    52.0\n",
       "1262    30.0\n",
       "1263    58.0\n",
       "1264    58.0\n",
       "1265    58.0\n",
       "1266    32.0\n",
       "1267    21.0\n",
       "1269    63.0\n",
       "1270    24.0\n",
       "1271    19.0\n",
       "1272    22.0\n",
       "1273    29.0\n",
       "1274    46.0\n",
       "1275    25.0\n",
       "1276    25.0\n",
       "1277    41.0\n",
       "1278    40.0\n",
       "1279    60.0\n",
       "1280    36.0\n",
       "1281    47.0\n",
       "1282    29.0\n",
       "1283    20.0\n",
       "1284    29.0\n",
       "1285    31.0\n",
       "1286    64.0\n",
       "1287    35.0\n",
       "1288    22.0\n",
       "1289    65.0\n",
       "1290    20.0\n",
       "1291    30.0\n",
       "1292    36.0\n",
       "1293    45.0\n",
       "1294    41.0\n",
       "1295    38.0\n",
       "1296    47.0\n",
       "1298    37.0\n",
       "1299    26.0\n",
       "1300    54.0\n",
       "1301    19.0\n",
       "1302    45.0\n",
       "1303    56.0\n",
       "1304    54.0\n",
       "1305    25.0\n",
       "1306    35.0\n",
       "1307    24.0\n",
       "1308    22.0\n",
       "1309    31.0\n",
       "1310    65.0\n",
       "1311    51.0\n",
       "1312    43.0\n",
       "1313    48.0\n",
       "1314    48.0\n",
       "1315    28.0\n",
       "1316    22.0\n",
       "1317    51.0\n",
       "1318    28.0\n",
       "1319    21.0\n",
       "1320    52.0\n",
       "1321    40.0\n",
       "1322    61.0\n",
       "1323    19.0\n",
       "1324    45.0\n",
       "1325    63.0\n",
       "1326    20.0\n",
       "1327    60.0\n",
       "1328    31.0\n",
       "1329    41.0\n",
       "1330    25.0\n",
       "1331    29.0\n",
       "1332    42.0\n",
       "1333    31.0\n",
       "1334    20.0\n",
       "1335    39.0\n",
       "1336    35.0\n",
       "1337    24.0\n",
       "1338    24.0\n",
       "1339    60.0\n",
       "1340    34.0\n",
       "1341    37.0\n",
       "1342    24.0\n",
       "1343    36.0\n",
       "1344    56.0\n",
       "1345    53.0\n",
       "1346    36.0\n",
       "1347    34.0\n",
       "1348    57.0\n",
       "1349    19.0\n",
       "1350    51.0\n",
       "1351    31.0\n",
       "1352    52.0\n",
       "1353    57.0\n",
       "1354    29.0\n",
       "1355    23.0\n",
       "1356    53.0\n",
       "1357    36.0\n",
       "1358    63.0\n",
       "1359    32.0\n",
       "1360    21.0\n",
       "1361    49.0\n",
       "1362    54.0\n",
       "1363    43.0\n",
       "1364    64.0\n",
       "1365    41.0\n",
       "1366    45.0\n",
       "1367    26.0\n",
       "1368    51.0\n",
       "1369    59.0\n",
       "1370    37.0\n",
       "1371    28.0\n",
       "1372    22.0\n",
       "1373    29.0\n",
       "1374    22.0\n",
       "1375    44.0\n",
       "1376    22.0\n",
       "1377    47.0\n",
       "1378    36.0\n",
       "1379    38.0\n",
       "1380    60.0\n",
       "1381    26.0\n",
       "1382    30.0\n",
       "1383    45.0\n",
       "1384    21.0\n",
       "1385    52.0\n",
       "1386    24.0\n",
       "1387    30.0\n",
       "1388    32.0\n",
       "1389    32.0\n",
       "1390    58.0\n",
       "1391    53.0\n",
       "1392    29.0\n",
       "1393    48.0\n",
       "1394    23.0\n",
       "1395    43.0\n",
       "1396    45.0\n",
       "1398    37.0\n",
       "1399    49.0\n",
       "1400    46.0\n",
       "1401    21.0\n",
       "1402    24.0\n",
       "1403    51.0\n",
       "1404    22.0\n",
       "1405    60.0\n",
       "1406    23.0\n",
       "1407    60.0\n",
       "1408    47.0\n",
       "1409    26.0\n",
       "1410    44.0\n",
       "1411    45.0\n",
       "1412    43.0\n",
       "1413    22.0\n",
       "1414    51.0\n",
       "1415    40.0\n",
       "1416    23.0\n",
       "1417    29.0\n",
       "1418    50.0\n",
       "1420    25.0\n",
       "1421    30.0\n",
       "1422    51.0\n",
       "1423    20.0\n",
       "1424    32.0\n",
       "1425    24.0\n",
       "1426    37.0\n",
       "1427    37.0\n",
       "1429    27.0\n",
       "1430    46.0\n",
       "1431    54.0\n",
       "1432    34.0\n",
       "1433    44.0\n",
       "1434    65.0\n",
       "1435    37.0\n",
       "1436    28.0\n",
       "1437    22.0\n",
       "1438    38.0\n",
       "1440    21.0\n",
       "1441    32.0\n",
       "1442    59.0\n",
       "1443    28.0\n",
       "1444    52.0\n",
       "1445    47.0\n",
       "1446    42.0\n",
       "1447    40.0\n",
       "1448    44.0\n",
       "1449    62.0\n",
       "1450    35.0\n",
       "1451    32.0\n",
       "1452    58.0\n",
       "1453    41.0\n",
       "1454    56.0\n",
       "1455    52.0\n",
       "1457    47.0\n",
       "1458    50.0\n",
       "1459    47.0\n",
       "1460    27.0\n",
       "1461    59.0\n",
       "1462    52.0\n",
       "1463    25.0\n",
       "1464    20.0\n",
       "1465    34.0\n",
       "1466    56.0\n",
       "1467    45.0\n",
       "1468    43.0\n",
       "1470    58.0\n",
       "1471    47.0\n",
       "1472    22.0\n",
       "1473    58.0\n",
       "1474    43.0\n",
       "1475    60.0\n",
       "1476    64.0\n",
       "1477    42.0\n",
       "1478    34.0\n",
       "1479    36.0\n",
       "1480    54.0\n",
       "1481    30.0\n",
       "1482    20.0\n",
       "1483    19.0\n",
       "1484    32.0\n",
       "1485    25.0\n",
       "1486    60.0\n",
       "1487    56.0\n",
       "1488    46.0\n",
       "1489    28.0\n",
       "1490    25.0\n",
       "1491    58.0\n",
       "1492    55.0\n",
       "1493    47.0\n",
       "1494    28.0\n",
       "1495    19.0\n",
       "1496    58.0\n",
       "1497    32.0\n",
       "1498    35.0\n",
       "1499    61.0\n",
       "1500    61.0\n",
       "1501    57.0\n",
       "1502    62.0\n",
       "1503    60.0\n",
       "1504    31.0\n",
       "1505    53.0\n",
       "1506    28.0\n",
       "1507    42.0\n",
       "1509    22.0\n",
       "1510    33.0\n",
       "1512    27.0\n",
       "1513    58.0\n",
       "1514    65.0\n",
       "1515    20.0\n",
       "1516    23.0\n",
       "1517    36.0\n",
       "1518    37.0\n",
       "1520    65.0\n",
       "1521    47.0\n",
       "1522    59.0\n",
       "1523    57.0\n",
       "1524    61.0\n",
       "1525    60.0\n",
       "1526    50.0\n",
       "1527    57.0\n",
       "1528    26.0\n",
       "1529    54.0\n",
       "1530    31.0\n",
       "1531    57.0\n",
       "1532    30.0\n",
       "1533    19.0\n",
       "1534    35.0\n",
       "1535    54.0\n",
       "1536    22.0\n",
       "1537    26.0\n",
       "1538    19.0\n",
       "1539    26.0\n",
       "1540    44.0\n",
       "1541    41.0\n",
       "1542    35.0\n",
       "1543    27.0\n",
       "1544    40.0\n",
       "1545    24.0\n",
       "1546    38.0\n",
       "1547    38.0\n",
       "1548    52.0\n",
       "1549    49.0\n",
       "1550    38.0\n",
       "1551    22.0\n",
       "1552    28.0\n",
       "1553    43.0\n",
       "1554    48.0\n",
       "1555    56.0\n",
       "1556    60.0\n",
       "1557    19.0\n",
       "1558    60.0\n",
       "1559    60.0\n",
       "1560    54.0\n",
       "1561    22.0\n",
       "1562    24.0\n",
       "1563    60.0\n",
       "1564    31.0\n",
       "1565    52.0\n",
       "1566    33.0\n",
       "1567    44.0\n",
       "1568    49.0\n",
       "1569    60.0\n",
       "1570    39.0\n",
       "1571    23.0\n",
       "1572    38.0\n",
       "1573    35.0\n",
       "1574    27.0\n",
       "1575    22.0\n",
       "1576    40.0\n",
       "1577    57.0\n",
       "1578    22.0\n",
       "1579    42.0\n",
       "1580    62.0\n",
       "1581    34.0\n",
       "1582    19.0\n",
       "1583    52.0\n",
       "1584    52.0\n",
       "1585    22.0\n",
       "1586    27.0\n",
       "1587    47.0\n",
       "1588    32.0\n",
       "1589    43.0\n",
       "1590    38.0\n",
       "1591    35.0\n",
       "1593    63.0\n",
       "1594    65.0\n",
       "1595    46.0\n",
       "1596    24.0\n",
       "1597    53.0\n",
       "1598    43.0\n",
       "1599    50.0\n",
       "1600    61.0\n",
       "1601    21.0\n",
       "1602    47.0\n",
       "1603    57.0\n",
       "1604    38.0\n",
       "1605    22.0\n",
       "1606    19.0\n",
       "1607    30.0\n",
       "1608    37.0\n",
       "1609    28.0\n",
       "1610    32.0\n",
       "1611    35.0\n",
       "1612    45.0\n",
       "1613    26.0\n",
       "1615    59.0\n",
       "1616    24.0\n",
       "1617    49.0\n",
       "1618    53.0\n",
       "1620    23.0\n",
       "1621    38.0\n",
       "1622    39.0\n",
       "1623    30.0\n",
       "1624    25.0\n",
       "1625    40.0\n",
       "1626    52.0\n",
       "1627    50.0\n",
       "1629    37.0\n",
       "1630    49.0\n",
       "1631    50.0\n",
       "1632    58.0\n",
       "1633    51.0\n",
       "1634    24.0\n",
       "1635    63.0\n",
       "1636    34.0\n",
       "1637    22.0\n",
       "1638    54.0\n",
       "1639    54.0\n",
       "1640    32.0\n",
       "1641    25.0\n",
       "1642    47.0\n",
       "1643    54.0\n",
       "1644    35.0\n",
       "1645    21.0\n",
       "1646    46.0\n",
       "1647    52.0\n",
       "1649    23.0\n",
       "1650    54.0\n",
       "1651    60.0\n",
       "1652    33.0\n",
       "1653    37.0\n",
       "1655    21.0\n",
       "1656    58.0\n",
       "1657    45.0\n",
       "1658    27.0\n",
       "1659    24.0\n",
       "1660    30.0\n",
       "1661    21.0\n",
       "1662    60.0\n",
       "1663    46.0\n",
       "1664    41.0\n",
       "1665    38.0\n",
       "1666    60.0\n",
       "1667    39.0\n",
       "1668    27.0\n",
       "1669    30.0\n",
       "1670    30.0\n",
       "1671    30.0\n",
       "1672    60.0\n",
       "1673    28.0\n",
       "1674    19.0\n",
       "1675    42.0\n",
       "1676    31.0\n",
       "1677    50.0\n",
       "1678    44.0\n",
       "1679    38.0\n",
       "1680    31.0\n",
       "1681    21.0\n",
       "1682    45.0\n",
       "1683    45.0\n",
       "1684    26.0\n",
       "1685    24.0\n",
       "1686    59.0\n",
       "1687    27.0\n",
       "1688    22.0\n",
       "1689    35.0\n",
       "1690    52.0\n",
       "1691    22.0\n",
       "1692    27.0\n",
       "1693    64.0\n",
       "1694    39.0\n",
       "1695    27.0\n",
       "1696    47.0\n",
       "1697    43.0\n",
       "1698    21.0\n",
       "1699    20.0\n",
       "1700    26.0\n",
       "1701    43.0\n",
       "1702    26.0\n",
       "1703    56.0\n",
       "1704    45.0\n",
       "1705    44.0\n",
       "1706    27.0\n",
       "1707    56.0\n",
       "1708    26.0\n",
       "1709    25.0\n",
       "1710    45.0\n",
       "1711    49.0\n",
       "1712    60.0\n",
       "1714    34.0\n",
       "1715    39.0\n",
       "1716    34.0\n",
       "1717    39.0\n",
       "1718    53.0\n",
       "1719    30.0\n",
       "1720    22.0\n",
       "1721    22.0\n",
       "1722    31.0\n",
       "1723    57.0\n",
       "1724    19.0\n",
       "1725    39.0\n",
       "1726    25.0\n",
       "1727    56.0\n",
       "1728    31.0\n",
       "1729    34.0\n",
       "1730    22.0\n",
       "1731    22.0\n",
       "1732    41.0\n",
       "1733    23.0\n",
       "1735    56.0\n",
       "1736    25.0\n",
       "1737    57.0\n",
       "1738    54.0\n",
       "1739    32.0\n",
       "1740    29.0\n",
       "1741    47.0\n",
       "1742    28.0\n",
       "1743    37.0\n",
       "1744    29.0\n",
       "1746    49.0\n",
       "1747    54.0\n",
       "1748    44.0\n",
       "1749    42.0\n",
       "1750    31.0\n",
       "1751    52.0\n",
       "1753    49.0\n",
       "1754    57.0\n",
       "1755    31.0\n",
       "1756    30.0\n",
       "1757    27.0\n",
       "1758    36.0\n",
       "1759    52.0\n",
       "1761    19.0\n",
       "1762    26.0\n",
       "1763    26.0\n",
       "1764    23.0\n",
       "1765    27.0\n",
       "1766    37.0\n",
       "1767    39.0\n",
       "1768    47.0\n",
       "1769    31.0\n",
       "1770    29.0\n",
       "1771    26.0\n",
       "1772    20.0\n",
       "1773    60.0\n",
       "1774    50.0\n",
       "1775    65.0\n",
       "1776    47.0\n",
       "1777    30.0\n",
       "1778    37.0\n",
       "1779    41.0\n",
       "1780    33.0\n",
       "1781    24.0\n",
       "1782    47.0\n",
       "1783    23.0\n",
       "1784    57.0\n",
       "1785    59.0\n",
       "1786    40.0\n",
       "1787    37.0\n",
       "1788    31.0\n",
       "1789    55.0\n",
       "1790    27.0\n",
       "1791    45.0\n",
       "1792    45.0\n",
       "1793    58.0\n",
       "1794    48.0\n",
       "1795    31.0\n",
       "1796    32.0\n",
       "1797    43.0\n",
       "1798    54.0\n",
       "1799    60.0\n",
       "1800    45.0\n",
       "1801    42.0\n",
       "1802    36.0\n",
       "1803    42.0\n",
       "1804    22.0\n",
       "1805    32.0\n",
       "1806    27.0\n",
       "1807    20.0\n",
       "1808    60.0\n",
       "1809    49.0\n",
       "1810    33.0\n",
       "1811    41.0\n",
       "1812    32.0\n",
       "1814    34.0\n",
       "1815    23.0\n",
       "1817    37.0\n",
       "1818    26.0\n",
       "1819    19.0\n",
       "1820    30.0\n",
       "1821    27.0\n",
       "1822    52.0\n",
       "1823    21.0\n",
       "1824    37.0\n",
       "1825    21.0\n",
       "1826    43.0\n",
       "1827    62.0\n",
       "1828    45.0\n",
       "1829    20.0\n",
       "1830    48.0\n",
       "1831    58.0\n",
       "1832    39.0\n",
       "1834    30.0\n",
       "1835    57.0\n",
       "1836    35.0\n",
       "1837    49.0\n",
       "1838    22.0\n",
       "1839    60.0\n",
       "1840    26.0\n",
       "1842    27.0\n",
       "1843    49.0\n",
       "1844    37.0\n",
       "1845    25.0\n",
       "1846    41.0\n",
       "1847    25.0\n",
       "1849    32.0\n",
       "1850    41.0\n",
       "1851    54.0\n",
       "1852    50.0\n",
       "1853    47.0\n",
       "1854    52.0\n",
       "1855    27.0\n",
       "1856    39.0\n",
       "1857    23.0\n",
       "1858    28.0\n",
       "1860    55.0\n",
       "1861    58.0\n",
       "1863    26.0\n",
       "1864    26.0\n",
       "1865    41.0\n",
       "1866    33.0\n",
       "1867    38.0\n",
       "1868    58.0\n",
       "1869    47.0\n",
       "1870    54.0\n",
       "1871    26.0\n",
       "1872    50.0\n",
       "1873    26.0\n",
       "1874    37.0\n",
       "1875    55.0\n",
       "1876    20.0\n",
       "1877    27.0\n",
       "1878    34.0\n",
       "1879    49.0\n",
       "1880    52.0\n",
       "1881    52.0\n",
       "1882    47.0\n",
       "1883    26.0\n",
       "1884    27.0\n",
       "1885    57.0\n",
       "1886    39.0\n",
       "1887    29.0\n",
       "1888    46.0\n",
       "1889    22.0\n",
       "1890    65.0\n",
       "1891    43.0\n",
       "1892    40.0\n",
       "1893    59.0\n",
       "1894    30.0\n",
       "1895    29.0\n",
       "1896    26.0\n",
       "1897    20.0\n",
       "1898    23.0\n",
       "1899    22.0\n",
       "1900    19.0\n",
       "1901    63.0\n",
       "1902    38.0\n",
       "1903    54.0\n",
       "1904    65.0\n",
       "1905    21.0\n",
       "1906    42.0\n",
       "1907    54.0\n",
       "1908    27.0\n",
       "1909    56.0\n",
       "1910    55.0\n",
       "1911    45.0\n",
       "1913    41.0\n",
       "1914    41.0\n",
       "1915    52.0\n",
       "1916    27.0\n",
       "1917    28.0\n",
       "1918    54.0\n",
       "1919    28.0\n",
       "1920    47.0\n",
       "1921    32.0\n",
       "1922    39.0\n",
       "1923    21.0\n",
       "1924    54.0\n",
       "1925    60.0\n",
       "1926    46.0\n",
       "1927    35.0\n",
       "1928    55.0\n",
       "1929    37.0\n",
       "1930    64.0\n",
       "1931    22.0\n",
       "1933    43.0\n",
       "1934    50.0\n",
       "1935    42.0\n",
       "1936    54.0\n",
       "1937    55.0\n",
       "1938    42.0\n",
       "1939    38.0\n",
       "1940    49.0\n",
       "1941    51.0\n",
       "1942    33.0\n",
       "1943    48.0\n",
       "1944    28.0\n",
       "1945    37.0\n",
       "1946    42.0\n",
       "1947    49.0\n",
       "1948    27.0\n",
       "1949    43.0\n",
       "1950    65.0\n",
       "1951    50.0\n",
       "1952    54.0\n",
       "1953    59.0\n",
       "1954    31.0\n",
       "1955    27.0\n",
       "1956    30.0\n",
       "1957    20.0\n",
       "1958    51.0\n",
       "1959    52.0\n",
       "1960    65.0\n",
       "1961    55.0\n",
       "1962    60.0\n",
       "1964    27.0\n",
       "1965    54.0\n",
       "1966    25.0\n",
       "1967    52.0\n",
       "1968    30.0\n",
       "1969    65.0\n",
       "1970    48.0\n",
       "1971    61.0\n",
       "1972    23.0\n",
       "1973    60.0\n",
       "1974    52.0\n",
       "1975    37.0\n",
       "1976    25.0\n",
       "1977    32.0\n",
       "1978    45.0\n",
       "1979    30.0\n",
       "1980    37.0\n",
       "1982    50.0\n",
       "1983    60.0\n",
       "1984    30.0\n",
       "1986    40.0\n",
       "1987    53.0\n",
       "1988    58.0\n",
       "1989    44.0\n",
       "1990    49.0\n",
       "1991    19.0\n",
       "1992    64.0\n",
       "1993    41.0\n",
       "1994    30.0\n",
       "1995    45.0\n",
       "1996    61.0\n",
       "1997    60.0\n",
       "1998    31.0\n",
       "1999    35.0\n",
       "2000    32.0\n",
       "2001    30.0\n",
       "2002    63.0\n",
       "2003    65.0\n",
       "2004    57.0\n",
       "2005    29.0\n",
       "2006    28.0\n",
       "2007    28.0\n",
       "2008    33.0\n",
       "2009    60.0\n",
       "2010    22.0\n",
       "2011    60.0\n",
       "2012    45.0\n",
       "2013    19.0\n",
       "2014    54.0\n",
       "2015    56.0\n",
       "2016    54.0\n",
       "2017    55.0\n",
       "2018    24.0\n",
       "2019    48.0\n",
       "2020    32.0\n",
       "2021    24.0\n",
       "2022    65.0\n",
       "2023    45.0\n",
       "2024    55.0\n",
       "2025    60.0\n",
       "2026    29.0\n",
       "2027    22.0\n",
       "2028    27.0\n",
       "2029    26.0\n",
       "2030    52.0\n",
       "2031    41.0\n",
       "2033    60.0\n",
       "2034    41.0\n",
       "2036    45.0\n",
       "2037    45.0\n",
       "2038    35.0\n",
       "2039    22.0\n",
       "2040    37.0\n",
       "2041    20.0\n",
       "2042    60.0\n",
       "2043    22.0\n",
       "2044    42.0\n",
       "2045    45.0\n",
       "2046    65.0\n",
       "2047    51.0\n",
       "2048    42.0\n",
       "2049    32.0\n",
       "2050    30.0\n",
       "2051    29.0\n",
       "2052    50.0\n",
       "2053    37.0\n",
       "2054    61.0\n",
       "2055    19.0\n",
       "2056    54.0\n",
       "2057    63.0\n",
       "2058    52.0\n",
       "2059    41.0\n",
       "2060    23.0\n",
       "2061    25.0\n",
       "2062    52.0\n",
       "2063    46.0\n",
       "2064    27.0\n",
       "2065    26.0\n",
       "2066    50.0\n",
       "2068    19.0\n",
       "2069    59.0\n",
       "2070    24.0\n",
       "2072    19.0\n",
       "2073    46.0\n",
       "2074    60.0\n",
       "2075    60.0\n",
       "2076    37.0\n",
       "2077    56.0\n",
       "2078    54.0\n",
       "2079    27.0\n",
       "2080    41.0\n",
       "2082    32.0\n",
       "2083    21.0\n",
       "2084    24.0\n",
       "2085    50.0\n",
       "2086    35.0\n",
       "2087    59.0\n",
       "2088    26.0\n",
       "2089    51.0\n",
       "2090    30.0\n",
       "2091    56.0\n",
       "2092    29.0\n",
       "2093    23.0\n",
       "2094    19.0\n",
       "2095    37.0\n",
       "2096    47.0\n",
       "2097    22.0\n",
       "2098    43.0\n",
       "2099    43.0\n",
       "2100    44.0\n",
       "2101    35.0\n",
       "2102    37.0\n",
       "2103    28.0\n",
       "2104    32.0\n",
       "2105    23.0\n",
       "2106    56.0\n",
       "2107    60.0\n",
       "2108    31.0\n",
       "2109    33.0\n",
       "2110    25.0\n",
       "2111    52.0\n",
       "2113    61.0\n",
       "2114    59.0\n",
       "2115    52.0\n",
       "2116    25.0\n",
       "2117    65.0\n",
       "2118    22.0\n",
       "2119    39.0\n",
       "2120    30.0\n",
       "2121    39.0\n",
       "2122    58.0\n",
       "2123    45.0\n",
       "2124    61.0\n",
       "2125    26.0\n",
       "2126    35.0\n",
       "2127    47.0\n",
       "2128    38.0\n",
       "2129    53.0\n",
       "2130    56.0\n",
       "2131    64.0\n",
       "2133    42.0\n",
       "2134    35.0\n",
       "2135    39.0\n",
       "2136    30.0\n",
       "2137    25.0\n",
       "2138    33.0\n",
       "2139    42.0\n",
       "2140    20.0\n",
       "2141    52.0\n",
       "2142    57.0\n",
       "2143    63.0\n",
       "2144    53.0\n",
       "2145    21.0\n",
       "2146    48.0\n",
       "2147    60.0\n",
       "2148    40.0\n",
       "2150    65.0\n",
       "2151    42.0\n",
       "2152    52.0\n",
       "2153    33.0\n",
       "2154    22.0\n",
       "2156    27.0\n",
       "2157    46.0\n",
       "2158    39.0\n",
       "2159    40.0\n",
       "2160    39.0\n",
       "2161    38.0\n",
       "2162    26.0\n",
       "2163    26.0\n",
       "2164    30.0\n",
       "2165    50.0\n",
       "2166    28.0\n",
       "2167    52.0\n",
       "2168    21.0\n",
       "2169    28.0\n",
       "2170    51.0\n",
       "2171    40.0\n",
       "2172    28.0\n",
       "2173    20.0\n",
       "2174    19.0\n",
       "2175    60.0\n",
       "2176    33.0\n",
       "2178    60.0\n",
       "2179    37.0\n",
       "2180    51.0\n",
       "2181    38.0\n",
       "2182    36.0\n",
       "2184    43.0\n",
       "2185    54.0\n",
       "2186    60.0\n",
       "2187    33.0\n",
       "2188    32.0\n",
       "2189    26.0\n",
       "2190    51.0\n",
       "2191    21.0\n",
       "2192    29.0\n",
       "2193    38.0\n",
       "2194    51.0\n",
       "2195    19.0\n",
       "2196    27.0\n",
       "2197    37.0\n",
       "2198    27.0\n",
       "2199    28.0\n",
       "2200    50.0\n",
       "2201    32.0\n",
       "2202    49.0\n",
       "2204    23.0\n",
       "2206    25.0\n",
       "2207    27.0\n",
       "2208    45.0\n",
       "2209    36.0\n",
       "2211    27.0\n",
       "2212    34.0\n",
       "2213    54.0\n",
       "2214    59.0\n",
       "2215    33.0\n",
       "2216    21.0\n",
       "2217    22.0\n",
       "2219    26.0\n",
       "2220    34.0\n",
       "2221    23.0\n",
       "2222    22.0\n",
       "2224    31.0\n",
       "2226    60.0\n",
       "2227    47.0\n",
       "2229    23.0\n",
       "2230    41.0\n",
       "2231    33.0\n",
       "2232    33.0\n",
       "2233    50.0\n",
       "2234    39.0\n",
       "2235    45.0\n",
       "2236    52.0\n",
       "2237    65.0\n",
       "2238    60.0\n",
       "2239    21.0\n",
       "2240    30.0\n",
       "2241    57.0\n",
       "2242    30.0\n",
       "2243    50.0\n",
       "2244    32.0\n",
       "2245    31.0\n",
       "2247    53.0\n",
       "2248    53.0\n",
       "2249    34.0\n",
       "2250    54.0\n",
       "2252    22.0\n",
       "2253    33.0\n",
       "2254    52.0\n",
       "2255    21.0\n",
       "2256    36.0\n",
       "2257    63.0\n",
       "2258    29.0\n",
       "2260    35.0\n",
       "2261    54.0\n",
       "2262    33.0\n",
       "2263    54.0\n",
       "2264    42.0\n",
       "2265    32.0\n",
       "2266    22.0\n",
       "2267    30.0\n",
       "2268    26.0\n",
       "2269    59.0\n",
       "2270    33.0\n",
       "2271    20.0\n",
       "2272    49.0\n",
       "2273    19.0\n",
       "2274    24.0\n",
       "2275    22.0\n",
       "2276    39.0\n",
       "2277    23.0\n",
       "2278    51.0\n",
       "2279    42.0\n",
       "2280    45.0\n",
       "2281    28.0\n",
       "2282    60.0\n",
       "2283    62.0\n",
       "2284    65.0\n",
       "2285    27.0\n",
       "2286    25.0\n",
       "2287    58.0\n",
       "2288    63.0\n",
       "2289    42.0\n",
       "2290    25.0\n",
       "2291    60.0\n",
       "2292    54.0\n",
       "2293    56.0\n",
       "2294    49.0\n",
       "2296    28.0\n",
       "2297    21.0\n",
       "2298    35.0\n",
       "2299    49.0\n",
       "2301    31.0\n",
       "2302    43.0\n",
       "2303    38.0\n",
       "2305    52.0\n",
       "2306    21.0\n",
       "2307    27.0\n",
       "2308    28.0\n",
       "2309    42.0\n",
       "2310    62.0\n",
       "2312    34.0\n",
       "2313    28.0\n",
       "2314    58.0\n",
       "2315    59.0\n",
       "2316    57.0\n",
       "2317    19.0\n",
       "2318    28.0\n",
       "2319    25.0\n",
       "2320    28.0\n",
       "2321    62.0\n",
       "2322    37.0\n",
       "2323    37.0\n",
       "2325    35.0\n",
       "2326    27.0\n",
       "2327    21.0\n",
       "2328    60.0\n",
       "2329    50.0\n",
       "2330    47.0\n",
       "2331    45.0\n",
       "2332    33.0\n",
       "2333    55.0\n",
       "2335    54.0\n",
       "2336    53.0\n",
       "2337    26.0\n",
       "2338    50.0\n",
       "2339    25.0\n",
       "2340    64.0\n",
       "2341    38.0\n",
       "2342    56.0\n",
       "2343    47.0\n",
       "2344    27.0\n",
       "2345    41.0\n",
       "2346    44.0\n",
       "2347    51.0\n",
       "2348    20.0\n",
       "2349    26.0\n",
       "2350    42.0\n",
       "2351    34.0\n",
       "2352    51.0\n",
       "2353    56.0\n",
       "2354    47.0\n",
       "2355    64.0\n",
       "2356    26.0\n",
       "2357    58.0\n",
       "2358    34.0\n",
       "2359    37.0\n",
       "2361    19.0\n",
       "2362    34.0\n",
       "2363    52.0\n",
       "2364    47.0\n",
       "2365    54.0\n",
       "2366    45.0\n",
       "2367    35.0\n",
       "2368    24.0\n",
       "2369    19.0\n",
       "2370    48.0\n",
       "2371    24.0\n",
       "2372    34.0\n",
       "2373    27.0\n",
       "2375    45.0\n",
       "2376    25.0\n",
       "2377    64.0\n",
       "2378    31.0\n",
       "2379    45.0\n",
       "2380    49.0\n",
       "2381    25.0\n",
       "2382    19.0\n",
       "2383    27.0\n",
       "2385    30.0\n",
       "2386    65.0\n",
       "2387    38.0\n",
       "2388    45.0\n",
       "2389    27.0\n",
       "2390    22.0\n",
       "2391    31.0\n",
       "2392    22.0\n",
       "2393    52.0\n",
       "2394    43.0\n",
       "2395    48.0\n",
       "2396    60.0\n",
       "2397    37.0\n",
       "2398    54.0\n",
       "2399    37.0\n",
       "2400    45.0\n",
       "2401    30.0\n",
       "2402    52.0\n",
       "2403    26.0\n",
       "2404    37.0\n",
       "2405    25.0\n",
       "2406    30.0\n",
       "2407    53.0\n",
       "2408    38.0\n",
       "2409    59.0\n",
       "2410    34.0\n",
       "2411    57.0\n",
       "2412    44.0\n",
       "2413    32.0\n",
       "2414    22.0\n",
       "2415    32.0\n",
       "2416    61.0\n",
       "2417    30.0\n",
       "2418    59.0\n",
       "2419    28.0\n",
       "2420    25.0\n",
       "2421    30.0\n",
       "2422    45.0\n",
       "2423    27.0\n",
       "2424    30.0\n",
       "2425    45.0\n",
       "2426    37.0\n",
       "2427    53.0\n",
       "2428    51.0\n",
       "2430    21.0\n",
       "2431    37.0\n",
       "2432    26.0\n",
       "2433    38.0\n",
       "2434    30.0\n",
       "2435    22.0\n",
       "2436    32.0\n",
       "2437    20.0\n",
       "2438    24.0\n",
       "2439    54.0\n",
       "2440    52.0\n",
       "2441    32.0\n",
       "2442    45.0\n",
       "2443    55.0\n",
       "2444    38.0\n",
       "2445    59.0\n",
       "2446    26.0\n",
       "2447    24.0\n",
       "2448    62.0\n",
       "2449    26.0\n",
       "2450    44.0\n",
       "2451    53.0\n",
       "2452    45.0\n",
       "2453    45.0\n",
       "2454    20.0\n",
       "2455    43.0\n",
       "2456    25.0\n",
       "2457    28.0\n",
       "2458    26.0\n",
       "2459    38.0\n",
       "2460    23.0\n",
       "2461    50.0\n",
       "2462    59.0\n",
       "2463    55.0\n",
       "2465    35.0\n",
       "2466    28.0\n",
       "2467    47.0\n",
       "2468    20.0\n",
       "2469    35.0\n",
       "2470    31.0\n",
       "2471    59.0\n",
       "2472    42.0\n",
       "2473    65.0\n",
       "2474    52.0\n",
       "2475    38.0\n",
       "2476    32.0\n",
       "2477    55.0\n",
       "2478    21.0\n",
       "2479    26.0\n",
       "2480    24.0\n",
       "2481    34.0\n",
       "2482    46.0\n",
       "2483    26.0\n",
       "2484    48.0\n",
       "2485    24.0\n",
       "2486    32.0\n",
       "2487    25.0\n",
       "2488    22.0\n",
       "2489    27.0\n",
       "2490    37.0\n",
       "2491    44.0\n",
       "2492    65.0\n",
       "2493    47.0\n",
       "2494    36.0\n",
       "2495    30.0\n",
       "2496    48.0\n",
       "2497    42.0\n",
       "2498    54.0\n",
       "2499    21.0\n",
       "2500    55.0\n",
       "2501    35.0\n",
       "2502    43.0\n",
       "2503    54.0\n",
       "2504    22.0\n",
       "2505    45.0\n",
       "2506    47.0\n",
       "2507    65.0\n",
       "2508    36.0\n",
       "2509    26.0\n",
       "2510    50.0\n",
       "2511    27.0\n",
       "2512    37.0\n",
       "2513    37.0\n",
       "2514    26.0\n",
       "2515    54.0\n",
       "2516    54.0\n",
       "2517    44.0\n",
       "2518    64.0\n",
       "2519    42.0\n",
       "2520    53.0\n",
       "2521    28.0\n",
       "2522    28.0\n",
       "2523    26.0\n",
       "2524    47.0\n",
       "2525    25.0\n",
       "2526    27.0\n",
       "2527    65.0\n",
       "2528    43.0\n",
       "2529    48.0\n",
       "2530    21.0\n",
       "2531    63.0\n",
       "2532    27.0\n",
       "2533    46.0\n",
       "2534    61.0\n",
       "2535    65.0\n",
       "2536    57.0\n",
       "2537    48.0\n",
       "2538    52.0\n",
       "2539    42.0\n",
       "2540    54.0\n",
       "2541    41.0\n",
       "2542    51.0\n",
       "2543    35.0\n",
       "2544    34.0\n",
       "2545    45.0\n",
       "2546    31.0\n",
       "2547    43.0\n",
       "2548    54.0\n",
       "2549    55.0\n",
       "2551    56.0\n",
       "2552    28.0\n",
       "2553    54.0\n",
       "2554    32.0\n",
       "2555    59.0\n",
       "2556    61.0\n",
       "2557    30.0\n",
       "2558    48.0\n",
       "2559    31.0\n",
       "2561    35.0\n",
       "2563    20.0\n",
       "2564    22.0\n",
       "2565    28.0\n",
       "2566    26.0\n",
       "2567    31.0\n",
       "2568    49.0\n",
       "2569    53.0\n",
       "2570    35.0\n",
       "2571    57.0\n",
       "2572    34.0\n",
       "2573    44.0\n",
       "2574    25.0\n",
       "2575    52.0\n",
       "2576    43.0\n",
       "2577    49.0\n",
       "2578    22.0\n",
       "2579    23.0\n",
       "2581    26.0\n",
       "2582    62.0\n",
       "2583    22.0\n",
       "2584    41.0\n",
       "2585    55.0\n",
       "2586    36.0\n",
       "2587    31.0\n",
       "2588    25.0\n",
       "2589    54.0\n",
       "2590    25.0\n",
       "2591    20.0\n",
       "2592    63.0\n",
       "2593    27.0\n",
       "2594    55.0\n",
       "2595    43.0\n",
       "2596    27.0\n",
       "2597    23.0\n",
       "2598    20.0\n",
       "2599    52.0\n",
       "2600    28.0\n",
       "2601    36.0\n",
       "2602    35.0\n",
       "2603    50.0\n",
       "2604    31.0\n",
       "2605    23.0\n",
       "2606    25.0\n",
       "2607    28.0\n",
       "2608    31.0\n",
       "2609    21.0\n",
       "2610    60.0\n",
       "2611    24.0\n",
       "2612    34.0\n",
       "2613    24.0\n",
       "2614    63.0\n",
       "2615    35.0\n",
       "2616    19.0\n",
       "2618    25.0\n",
       "2619    31.0\n",
       "2620    20.0\n",
       "2621    28.0\n",
       "2622    55.0\n",
       "2623    42.0\n",
       "2625    28.0\n",
       "2626    53.0\n",
       "2627    21.0\n",
       "2628    26.0\n",
       "2629    23.0\n",
       "2630    51.0\n",
       "2631    44.0\n",
       "2632    65.0\n",
       "2633    27.0\n",
       "2634    57.0\n",
       "2635    21.0\n",
       "2637    36.0\n",
       "2638    47.0\n",
       "2639    59.0\n",
       "2640    55.0\n",
       "2641    27.0\n",
       "2643    58.0\n",
       "2644    44.0\n",
       "2645    24.0\n",
       "2646    24.0\n",
       "2647    26.0\n",
       "2648    42.0\n",
       "2650    26.0\n",
       "2651    47.0\n",
       "2652    31.0\n",
       "2653    26.0\n",
       "2654    19.0\n",
       "2655    35.0\n",
       "2657    31.0\n",
       "2658    30.0\n",
       "2659    25.0\n",
       "2660    43.0\n",
       "2661    37.0\n",
       "2662    19.0\n",
       "2663    56.0\n",
       "2664    35.0\n",
       "2665    26.0\n",
       "2666    50.0\n",
       "2667    31.0\n",
       "2668    21.0\n",
       "2669    42.0\n",
       "2670    47.0\n",
       "2671    26.0\n",
       "2672    64.0\n",
       "2673    33.0\n",
       "2674    21.0\n",
       "2676    57.0\n",
       "2677    19.0\n",
       "2678    41.0\n",
       "2679    28.0\n",
       "2680    40.0\n",
       "2681    22.0\n",
       "2682    47.0\n",
       "2683    22.0\n",
       "2684    26.0\n",
       "2685    42.0\n",
       "2686    25.0\n",
       "2687    24.0\n",
       "2688    44.0\n",
       "2689    51.0\n",
       "2690    28.0\n",
       "2691    42.0\n",
       "2692    57.0\n",
       "2693    21.0\n",
       "2694    57.0\n",
       "2695    42.0\n",
       "2696    62.0\n",
       "2697    36.0\n",
       "2699    19.0\n",
       "2700    30.0\n",
       "2701    32.0\n",
       "2702    19.0\n",
       "2703    50.0\n",
       "2704    58.0\n",
       "2705    53.0\n",
       "2706    48.0\n",
       "2707    37.0\n",
       "2708    33.0\n",
       "2709    52.0\n",
       "2710    45.0\n",
       "2711    22.0\n",
       "2712    55.0\n",
       "2713    45.0\n",
       "2714    42.0\n",
       "2715    62.0\n",
       "2716    47.0\n",
       "2717    47.0\n",
       "2718    37.0\n",
       "2719    35.0\n",
       "2720    24.0\n",
       "2721    21.0\n",
       "2722    54.0\n",
       "2723    46.0\n",
       "2724    22.0\n",
       "2725    40.0\n",
       "2726    62.0\n",
       "2727    54.0\n",
       "2728    40.0\n",
       "2729    28.0\n",
       "2730    26.0\n",
       "2733    47.0\n",
       "2734    32.0\n",
       "2735    24.0\n",
       "2736    42.0\n",
       "2737    65.0\n",
       "2738    39.0\n",
       "2739    24.0\n",
       "2740    48.0\n",
       "2741    40.0\n",
       "2742    42.0\n",
       "2743    21.0\n",
       "2745    60.0\n",
       "2746    24.0\n",
       "2747    33.0\n",
       "2748    58.0\n",
       "2749    37.0\n",
       "2750    27.0\n",
       "2751    23.0\n",
       "2752    58.0\n",
       "2753    37.0\n",
       "2754    61.0\n",
       "2755    47.0\n",
       "2756    62.0\n",
       "2757    23.0\n",
       "2758    30.0\n",
       "2759    56.0\n",
       "2760    32.0\n",
       "2761    25.0\n",
       "2762    20.0\n",
       "2763    19.0\n",
       "2764    52.0\n",
       "2766    54.0\n",
       "2769    65.0\n",
       "2770    60.0\n",
       "2771    46.0\n",
       "2772    27.0\n",
       "2773    49.0\n",
       "2774    59.0\n",
       "2775    52.0\n",
       "2776    49.0\n",
       "2777    28.0\n",
       "2778    27.0\n",
       "2779    46.0\n",
       "2780    65.0\n",
       "2781    37.0\n",
       "2782    32.0\n",
       "2783    38.0\n",
       "2784    35.0\n",
       "2785    21.0\n",
       "2786    51.0\n",
       "2787    30.0\n",
       "2788    60.0\n",
       "2789    25.0\n",
       "2790    22.0\n",
       "2791    21.0\n",
       "2792    56.0\n",
       "2793    54.0\n",
       "2794    54.0\n",
       "2795    22.0\n",
       "2796    37.0\n",
       "2797    24.0\n",
       "2798    44.0\n",
       "2799    21.0\n",
       "2800    45.0\n",
       "2801    24.0\n",
       "2802    27.0\n",
       "2803    59.0\n",
       "2804    50.0\n",
       "2805    42.0\n",
       "2806    24.0\n",
       "2807    45.0\n",
       "2808    55.0\n",
       "2809    35.0\n",
       "2810    25.0\n",
       "2812    41.0\n",
       "2813    30.0\n",
       "2814    46.0\n",
       "2815    26.0\n",
       "2816    23.0\n",
       "2818    47.0\n",
       "2819    23.0\n",
       "2820    65.0\n",
       "2821    32.0\n",
       "2822    60.0\n",
       "2823    51.0\n",
       "2824    30.0\n",
       "2825    60.0\n",
       "2826    27.0\n",
       "2827    22.0\n",
       "2828    36.0\n",
       "2829    57.0\n",
       "2830    26.0\n",
       "2831    27.0\n",
       "2832    43.0\n",
       "2833    54.0\n",
       "2834    29.0\n",
       "2835    37.0\n",
       "2836    22.0\n",
       "2837    49.0\n",
       "2838    27.0\n",
       "2839    56.0\n",
       "2841    26.0\n",
       "2842    44.0\n",
       "2843    32.0\n",
       "2844    28.0\n",
       "2845    59.0\n",
       "2846    41.0\n",
       "2847    52.0\n",
       "2848    36.0\n",
       "2849    29.0\n",
       "2850    47.0\n",
       "2851    55.0\n",
       "2852    35.0\n",
       "2853    65.0\n",
       "2854    37.0\n",
       "2855    52.0\n",
       "2856    63.0\n",
       "2857    39.0\n",
       "2858    19.0\n",
       "2859    35.0\n",
       "2860    20.0\n",
       "2861    26.0\n",
       "2862    54.0\n",
       "2863    32.0\n",
       "2864    43.0\n",
       "2865    49.0\n",
       "2866    21.0\n",
       "2867    52.0\n",
       "2868    26.0\n",
       "2869    31.0\n",
       "2870    20.0\n",
       "2871    54.0\n",
       "2872    32.0\n",
       "2873    33.0\n",
       "2874    61.0\n",
       "2875    49.0\n",
       "2876    42.0\n",
       "2877    30.0\n",
       "2878    53.0\n",
       "2879    22.0\n",
       "2880    44.0\n",
       "2881    25.0\n",
       "2882    23.0\n",
       "2883    65.0\n",
       "2884    64.0\n",
       "2885    56.0\n",
       "2886    31.0\n",
       "2887    52.0\n",
       "2888    50.0\n",
       "2889    30.0\n",
       "2890    24.0\n",
       "2891    24.0\n",
       "2892    28.0\n",
       "2893    35.0\n",
       "2894    37.0\n",
       "2895    59.0\n",
       "2896    37.0\n",
       "2897    21.0\n",
       "2898    65.0\n",
       "2899    19.0\n",
       "2900    21.0\n",
       "2901    63.0\n",
       "2902    30.0\n",
       "2903    52.0\n",
       "2904    37.0\n",
       "2906    25.0\n",
       "2908    40.0\n",
       "2909    65.0\n",
       "2910    25.0\n",
       "2911    21.0\n",
       "2912    25.0\n",
       "2913    43.0\n",
       "2914    30.0\n",
       "2915    27.0\n",
       "2916    45.0\n",
       "2917    54.0\n",
       "2918    35.0\n",
       "2919    42.0\n",
       "2920    20.0\n",
       "2921    47.0\n",
       "2922    57.0\n",
       "2923    21.0\n",
       "2924    20.0\n",
       "2925    61.0\n",
       "2926    24.0\n",
       "2927    44.0\n",
       "2928    52.0\n",
       "2929    37.0\n",
       "2930    35.0\n",
       "2931    42.0\n",
       "2933    38.0\n",
       "2934    51.0\n",
       "2935    37.0\n",
       "2936    39.0\n",
       "2937    44.0\n",
       "2938    53.0\n",
       "2939    22.0\n",
       "2940    30.0\n",
       "2941    41.0\n",
       "2942    26.0\n",
       "2943    29.0\n",
       "2944    64.0\n",
       "2945    30.0\n",
       "2946    35.0\n",
       "2948    46.0\n",
       "2949    59.0\n",
       "2950    25.0\n",
       "2951    25.0\n",
       "2952    50.0\n",
       "2953    54.0\n",
       "2954    51.0\n",
       "2956    28.0\n",
       "2957    28.0\n",
       "2958    35.0\n",
       "2959    41.0\n",
       "2960    39.0\n",
       "2961    56.0\n",
       "2962    59.0\n",
       "2963    52.0\n",
       "2964    25.0\n",
       "2965    39.0\n",
       "2966    37.0\n",
       "2967    59.0\n",
       "2968    30.0\n",
       "2969    41.0\n",
       "2970    56.0\n",
       "2971    59.0\n",
       "2972    25.0\n",
       "2973    19.0\n",
       "2974    37.0\n",
       "2975    23.0\n",
       "2976    33.0\n",
       "2977    60.0\n",
       "2978    32.0\n",
       "2979    32.0\n",
       "2980    30.0\n",
       "2981    35.0\n",
       "2983    31.0\n",
       "2984    21.0\n",
       "2985    48.0\n",
       "2986    22.0\n",
       "2987    38.0\n",
       "2988    52.0\n",
       "2989    35.0\n",
       "2990    54.0\n",
       "2991    65.0\n",
       "2992    47.0\n",
       "2993    35.0\n",
       "2994    62.0\n",
       "2995    32.0\n",
       "2997    60.0\n",
       "2998    51.0\n",
       "2999    45.0\n",
       "Name: Age, dtype: float64"
      ]
     },
     "execution_count": 272,
     "metadata": {},
     "output_type": "execute_result"
    }
   ],
   "source": [
    "age.dropna()\n",
    "# age.count() = 2839"
   ]
  },
  {
   "cell_type": "code",
   "execution_count": 276,
   "metadata": {},
   "outputs": [
    {
     "data": {
      "text/plain": [
       "39.797816132441"
      ]
     },
     "execution_count": 276,
     "metadata": {},
     "output_type": "execute_result"
    }
   ],
   "source": [
    "np.mean(age)\n",
    "## This is the mean age after dropping the null values in the age column"
   ]
  },
  {
   "cell_type": "code",
   "execution_count": 71,
   "metadata": {},
   "outputs": [],
   "source": [
    "from numpy import percentile"
   ]
  },
  {
   "cell_type": "code",
   "execution_count": 72,
   "metadata": {},
   "outputs": [],
   "source": [
    "age=df['Age']"
   ]
  },
  {
   "cell_type": "code",
   "execution_count": 73,
   "metadata": {},
   "outputs": [
    {
     "data": {
      "text/plain": [
       "0       32.0\n",
       "1       65.0\n",
       "2       52.0\n",
       "3       50.0\n",
       "4       44.0\n",
       "        ... \n",
       "2995    32.0\n",
       "2996     NaN\n",
       "2997    60.0\n",
       "2998    51.0\n",
       "2999    45.0\n",
       "Name: Age, Length: 3000, dtype: float64"
      ]
     },
     "execution_count": 73,
     "metadata": {},
     "output_type": "execute_result"
    }
   ],
   "source": [
    "age"
   ]
  },
  {
   "cell_type": "code",
   "execution_count": 74,
   "metadata": {},
   "outputs": [],
   "source": [
    "# data_4_list=data_4.to_numpy()"
   ]
  },
  {
   "cell_type": "code",
   "execution_count": 75,
   "metadata": {},
   "outputs": [],
   "source": [
    "age=df['Age']\n"
   ]
  },
  {
   "cell_type": "code",
   "execution_count": 76,
   "metadata": {},
   "outputs": [],
   "source": [
    "ages=age[~pd.isnull(age)]"
   ]
  },
  {
   "cell_type": "code",
   "execution_count": 77,
   "metadata": {},
   "outputs": [
    {
     "name": "stdout",
     "output_type": "stream",
     "text": [
      "Min: 19\n",
      "Q1: 27.000\n",
      "Median: 38\n",
      "Q3: 52\n",
      "Max: 65\n"
     ]
    }
   ],
   "source": [
    "# 5 number summary showing age of employees\n",
    "\n",
    "data_min, data_max = ages.min(), ages.max()\n",
    "quartiles = percentile(ages, [25, 50, 75])\n",
    "# print 5-number summary\n",
    "print('Min: %.0f' % data_min)\n",
    "print('Q1: %.3f' % quartiles[0])\n",
    "print('Median: %.0f' % quartiles[1])\n",
    "print('Q3: %.0f' % quartiles[2])\n",
    "print('Max: %.0f' % data_max)"
   ]
  },
  {
   "cell_type": "code",
   "execution_count": 78,
   "metadata": {},
   "outputs": [
    {
     "data": {
      "text/plain": [
       "3.2263333333333333"
      ]
     },
     "execution_count": 78,
     "metadata": {},
     "output_type": "execute_result"
    }
   ],
   "source": [
    "avg_education=np.mean(df.Education_Level)\n",
    "##avg_education = \n",
    "3.2263333333333333"
   ]
  },
  {
   "cell_type": "code",
   "execution_count": 79,
   "metadata": {},
   "outputs": [],
   "source": [
    "higher_ed=df.where(df['Education_Level']>=3)\n",
    "# = 2425\n",
    "# = .80833333%"
   ]
  },
  {
   "cell_type": "code",
   "execution_count": 80,
   "metadata": {},
   "outputs": [],
   "source": [
    "lower_ed=df.where(df['Education_Level']<3)\n",
    "# = 575\n",
    "# - 0.19575166667%"
   ]
  },
  {
   "cell_type": "code",
   "execution_count": 81,
   "metadata": {},
   "outputs": [
    {
     "data": {
      "text/html": [
       "<div>\n",
       "<style scoped>\n",
       "    .dataframe tbody tr th:only-of-type {\n",
       "        vertical-align: middle;\n",
       "    }\n",
       "\n",
       "    .dataframe tbody tr th {\n",
       "        vertical-align: top;\n",
       "    }\n",
       "\n",
       "    .dataframe thead tr th {\n",
       "        text-align: left;\n",
       "    }\n",
       "\n",
       "    .dataframe thead tr:last-of-type th {\n",
       "        text-align: right;\n",
       "    }\n",
       "</style>\n",
       "<table border=\"1\" class=\"dataframe\">\n",
       "  <thead>\n",
       "    <tr>\n",
       "      <th></th>\n",
       "      <th colspan=\"10\" halign=\"left\">Pay_Scale</th>\n",
       "    </tr>\n",
       "    <tr>\n",
       "      <th>Pay_Scale</th>\n",
       "      <th>1.0</th>\n",
       "      <th>2.0</th>\n",
       "      <th>3.0</th>\n",
       "      <th>4.0</th>\n",
       "      <th>5.0</th>\n",
       "      <th>6.0</th>\n",
       "      <th>7.0</th>\n",
       "      <th>8.0</th>\n",
       "      <th>9.0</th>\n",
       "      <th>10.0</th>\n",
       "    </tr>\n",
       "    <tr>\n",
       "      <th>Education_Level</th>\n",
       "      <th></th>\n",
       "      <th></th>\n",
       "      <th></th>\n",
       "      <th></th>\n",
       "      <th></th>\n",
       "      <th></th>\n",
       "      <th></th>\n",
       "      <th></th>\n",
       "      <th></th>\n",
       "      <th></th>\n",
       "    </tr>\n",
       "  </thead>\n",
       "  <tbody>\n",
       "    <tr>\n",
       "      <th>1</th>\n",
       "      <td>8</td>\n",
       "      <td>4</td>\n",
       "      <td>8</td>\n",
       "      <td>42</td>\n",
       "      <td>46</td>\n",
       "      <td>50</td>\n",
       "      <td>39</td>\n",
       "      <td>55</td>\n",
       "      <td>23</td>\n",
       "      <td>9</td>\n",
       "    </tr>\n",
       "    <tr>\n",
       "      <th>2</th>\n",
       "      <td>10</td>\n",
       "      <td>11</td>\n",
       "      <td>11</td>\n",
       "      <td>46</td>\n",
       "      <td>50</td>\n",
       "      <td>47</td>\n",
       "      <td>33</td>\n",
       "      <td>52</td>\n",
       "      <td>23</td>\n",
       "      <td>7</td>\n",
       "    </tr>\n",
       "    <tr>\n",
       "      <th>3</th>\n",
       "      <td>29</td>\n",
       "      <td>40</td>\n",
       "      <td>53</td>\n",
       "      <td>153</td>\n",
       "      <td>196</td>\n",
       "      <td>209</td>\n",
       "      <td>132</td>\n",
       "      <td>226</td>\n",
       "      <td>94</td>\n",
       "      <td>52</td>\n",
       "    </tr>\n",
       "    <tr>\n",
       "      <th>4</th>\n",
       "      <td>16</td>\n",
       "      <td>40</td>\n",
       "      <td>29</td>\n",
       "      <td>132</td>\n",
       "      <td>140</td>\n",
       "      <td>172</td>\n",
       "      <td>115</td>\n",
       "      <td>192</td>\n",
       "      <td>77</td>\n",
       "      <td>28</td>\n",
       "    </tr>\n",
       "    <tr>\n",
       "      <th>5</th>\n",
       "      <td>11</td>\n",
       "      <td>11</td>\n",
       "      <td>10</td>\n",
       "      <td>49</td>\n",
       "      <td>48</td>\n",
       "      <td>58</td>\n",
       "      <td>33</td>\n",
       "      <td>47</td>\n",
       "      <td>22</td>\n",
       "      <td>9</td>\n",
       "    </tr>\n",
       "  </tbody>\n",
       "</table>\n",
       "</div>"
      ],
      "text/plain": [
       "                Pay_Scale                                             \n",
       "Pay_Scale            1.0  2.0  3.0  4.0  5.0  6.0  7.0  8.0  9.0  10.0\n",
       "Education_Level                                                       \n",
       "1                       8    4    8   42   46   50   39   55   23    9\n",
       "2                      10   11   11   46   50   47   33   52   23    7\n",
       "3                      29   40   53  153  196  209  132  226   94   52\n",
       "4                      16   40   29  132  140  172  115  192   77   28\n",
       "5                      11   11   10   49   48   58   33   47   22    9"
      ]
     },
     "execution_count": 81,
     "metadata": {},
     "output_type": "execute_result"
    }
   ],
   "source": [
    "df.pivot_table(index='Education_Level', columns='Pay_Scale', aggfunc={'Pay_Scale':len}, fill_value=0)"
   ]
  },
  {
   "cell_type": "code",
   "execution_count": 82,
   "metadata": {},
   "outputs": [],
   "source": [
    "data_crosstab = pd.crosstab([df.Gender, df.Pay_Scale], \n",
    "                             df.Education_Level, margins = False)   "
   ]
  },
  {
   "cell_type": "code",
   "execution_count": 83,
   "metadata": {},
   "outputs": [
    {
     "data": {
      "image/png": "[encoded data removed]",
      "text/plain": [
       "<Figure size 432x288 with 1 Axes>"
      ]
     },
     "metadata": {
      "needs_background": "light"
     },
     "output_type": "display_data"
    },
    {
     "data": {
      "text/plain": [
       "<Figure size 432x288 with 0 Axes>"
      ]
     },
     "metadata": {},
     "output_type": "display_data"
    }
   ],
   "source": [
    "data_crosstab.plot.bar(stacked=True)\n",
    "plt.show()\n",
    "plt.clf()\n",
    "## too hard to read"
   ]
  },
  {
   "cell_type": "code",
   "execution_count": 84,
   "metadata": {},
   "outputs": [],
   "source": [
    "height =[575, 2425]"
   ]
  },
  {
   "cell_type": "code",
   "execution_count": 85,
   "metadata": {},
   "outputs": [],
   "source": [
    "bars=('Education Level < 3', 'Education Level >= 3')"
   ]
  },
  {
   "cell_type": "code",
   "execution_count": 86,
   "metadata": {},
   "outputs": [],
   "source": [
    "x_pos=[4,5]"
   ]
  },
  {
   "cell_type": "code",
   "execution_count": 87,
   "metadata": {},
   "outputs": [
    {
     "data": {
      "image/png": "[encoded data removed]",
      "text/plain": [
       "<Figure size 432x288 with 1 Axes>"
      ]
     },
     "metadata": {
      "needs_background": "light"
     },
     "output_type": "display_data"
    }
   ],
   "source": [
    "plt.bar(x_pos, height)\n",
    "plt.xticks(x_pos, bars)\n",
    "plt.ylabel(\"Number of Employees\")\n",
    "plt.title(\"Employees Education Level\")\n",
    "plt.show()"
   ]
  },
  {
   "cell_type": "code",
   "execution_count": 88,
   "metadata": {},
   "outputs": [],
   "source": [
    "educated=df.where(df['Education_Level']>=3)"
   ]
  },
  {
   "cell_type": "code",
   "execution_count": 89,
   "metadata": {},
   "outputs": [],
   "source": [
    "less_educated=df.where(df['Education_Level']<3)"
   ]
  },
  {
   "cell_type": "code",
   "execution_count": 90,
   "metadata": {},
   "outputs": [],
   "source": [
    "#educated.count()\n",
    "# 2425 "
   ]
  },
  {
   "cell_type": "code",
   "execution_count": 91,
   "metadata": {},
   "outputs": [],
   "source": [
    "#less_educated.count()\n",
    "# 575"
   ]
  },
  {
   "cell_type": "code",
   "execution_count": 92,
   "metadata": {},
   "outputs": [],
   "source": [
    "educated_female=educated.where(educated['Gender']==1)"
   ]
  },
  {
   "cell_type": "code",
   "execution_count": 93,
   "metadata": {},
   "outputs": [
    {
     "data": {
      "text/plain": [
       "Employee_ID                  1388\n",
       "Gender                       1388\n",
       "Age                          1320\n",
       "Education_Level              1388\n",
       "Relationship_Status          1388\n",
       "Hometown                     1388\n",
       "Unit                         1388\n",
       "Decision_skill_possess       1388\n",
       "Time_of_service              1370\n",
       "Time_since_promotion         1388\n",
       "growth_rate                  1388\n",
       "Travel_Rate                  1388\n",
       "Post_Level                   1388\n",
       "Pay_Scale                    1386\n",
       "Compensation_and_Benefits    1388\n",
       "Work_Life_balance            1386\n",
       "VAR1                         1388\n",
       "VAR2                         1289\n",
       "VAR3                         1388\n",
       "VAR4                         1247\n",
       "VAR5                         1388\n",
       "VAR6                         1388\n",
       "VAR7                         1388\n",
       "dtype: int64"
      ]
     },
     "execution_count": 93,
     "metadata": {},
     "output_type": "execute_result"
    }
   ],
   "source": [
    "educated_female.count()\n",
    "# =1388"
   ]
  },
  {
   "cell_type": "code",
   "execution_count": 94,
   "metadata": {},
   "outputs": [],
   "source": [
    "educated_male=educated.where(educated['Gender']==0)"
   ]
  },
  {
   "cell_type": "code",
   "execution_count": 95,
   "metadata": {},
   "outputs": [
    {
     "data": {
      "text/plain": [
       "Employee_ID                  1037\n",
       "Gender                       1037\n",
       "Age                           981\n",
       "Education_Level              1037\n",
       "Relationship_Status          1037\n",
       "Hometown                     1037\n",
       "Unit                         1037\n",
       "Decision_skill_possess       1037\n",
       "Time_of_service              1017\n",
       "Time_since_promotion         1037\n",
       "growth_rate                  1037\n",
       "Travel_Rate                  1037\n",
       "Post_Level                   1037\n",
       "Pay_Scale                    1037\n",
       "Compensation_and_Benefits    1037\n",
       "Work_Life_balance            1036\n",
       "VAR1                         1037\n",
       "VAR2                          964\n",
       "VAR3                         1037\n",
       "VAR4                          937\n",
       "VAR5                         1037\n",
       "VAR6                         1037\n",
       "VAR7                         1037\n",
       "dtype: int64"
      ]
     },
     "execution_count": 95,
     "metadata": {},
     "output_type": "execute_result"
    }
   ],
   "source": [
    "educated_male.count()\n",
    "# =1037"
   ]
  },
  {
   "cell_type": "code",
   "execution_count": 96,
   "metadata": {},
   "outputs": [
    {
     "name": "stdout",
     "output_type": "stream",
     "text": [
      "Gender                   1.000000\n",
      "Age                     39.625000\n",
      "Education_Level          3.621758\n",
      "Relationship_Status      0.631124\n",
      "Time_of_service         13.200000\n",
      "Time_since_promotion     2.417147\n",
      "growth_rate             47.250000\n",
      "Travel_Rate              0.805476\n",
      "Post_Level               2.768012\n",
      "Pay_Scale                6.045455\n",
      "Work_Life_balance        2.401154\n",
      "VAR1                     3.028818\n",
      "VAR2                     0.065958\n",
      "VAR3                    -0.024526\n",
      "VAR4                     1.917402\n",
      "VAR5                     2.823487\n",
      "VAR6                     7.121758\n",
      "VAR7                     3.242795\n",
      "dtype: float64\n"
     ]
    }
   ],
   "source": [
    "print(np.mean(educated_female))"
   ]
  },
  {
   "cell_type": "code",
   "execution_count": 97,
   "metadata": {},
   "outputs": [
    {
     "name": "stdout",
     "output_type": "stream",
     "text": [
      "Gender                   0.000000\n",
      "Age                     39.422018\n",
      "Education_Level          3.650916\n",
      "Relationship_Status      0.662488\n",
      "Time_of_service         13.187807\n",
      "Time_since_promotion     2.387657\n",
      "growth_rate             46.505304\n",
      "Travel_Rate              0.848602\n",
      "Post_Level               2.778206\n",
      "Pay_Scale                6.106075\n",
      "Work_Life_balance        2.386100\n",
      "VAR1                     3.125362\n",
      "VAR2                    -0.036389\n",
      "VAR3                     0.044597\n",
      "VAR4                     1.880470\n",
      "VAR5                     2.840887\n",
      "VAR6                     7.132112\n",
      "VAR7                     3.220829\n",
      "dtype: float64\n"
     ]
    }
   ],
   "source": [
    "print(np.mean(educated_male))"
   ]
  },
  {
   "cell_type": "code",
   "execution_count": 98,
   "metadata": {},
   "outputs": [],
   "source": [
    "female_ed_pct=1388/1728"
   ]
  },
  {
   "cell_type": "code",
   "execution_count": 99,
   "metadata": {},
   "outputs": [
    {
     "name": "stdout",
     "output_type": "stream",
     "text": [
      "0.8032407407407407\n"
     ]
    }
   ],
   "source": [
    "print(female_ed_pct)"
   ]
  },
  {
   "cell_type": "code",
   "execution_count": 100,
   "metadata": {},
   "outputs": [],
   "source": [
    "male_ed_pct=1037/1272"
   ]
  },
  {
   "cell_type": "code",
   "execution_count": 101,
   "metadata": {},
   "outputs": [
    {
     "name": "stdout",
     "output_type": "stream",
     "text": [
      "0.815251572327044\n"
     ]
    }
   ],
   "source": [
    "print(male_ed_pct)"
   ]
  },
  {
   "cell_type": "code",
   "execution_count": 102,
   "metadata": {},
   "outputs": [],
   "source": [
    "male_ed_count=1341"
   ]
  },
  {
   "cell_type": "code",
   "execution_count": 103,
   "metadata": {},
   "outputs": [
    {
     "data": {
      "text/plain": [
       "<Figure size 432x288 with 0 Axes>"
      ]
     },
     "metadata": {},
     "output_type": "display_data"
    }
   ],
   "source": [
    "plt.clf()"
   ]
  },
  {
   "cell_type": "code",
   "execution_count": 104,
   "metadata": {},
   "outputs": [],
   "source": [
    "heights =[0.815251572327044, \n",
    "0.8032407407407407]"
   ]
  },
  {
   "cell_type": "code",
   "execution_count": 105,
   "metadata": {},
   "outputs": [],
   "source": [
    "bars=('Male', 'Female')"
   ]
  },
  {
   "cell_type": "code",
   "execution_count": 106,
   "metadata": {},
   "outputs": [],
   "source": [
    "x_pos=[4,5]"
   ]
  },
  {
   "cell_type": "code",
   "execution_count": 107,
   "metadata": {},
   "outputs": [],
   "source": [
    "#below shows the percentage of female and male highly educated employees"
   ]
  },
  {
   "cell_type": "code",
   "execution_count": 108,
   "metadata": {},
   "outputs": [
    {
     "data": {
      "image/png": "[encoded data removed]",
      "text/plain": [
       "<Figure size 432x288 with 1 Axes>"
      ]
     },
     "metadata": {
      "needs_background": "light"
     },
     "output_type": "display_data"
    }
   ],
   "source": [
    "plt.bar(x_pos, heights)\n",
    "plt.xticks(x_pos, bars)\n",
    "plt.title(\"Highly Educated Employees\")\n",
    "plt.ylabel(\"Percentage\")\n",
    "plt.show()"
   ]
  },
  {
   "cell_type": "code",
   "execution_count": 109,
   "metadata": {},
   "outputs": [],
   "source": [
    "analytical_skill=df[df['Decision_skill_possess']==\"Analytical\"]"
   ]
  },
  {
   "cell_type": "code",
   "execution_count": 110,
   "metadata": {},
   "outputs": [
    {
     "data": {
      "text/plain": [
       "Employee_ID                  746\n",
       "Gender                       746\n",
       "Age                          702\n",
       "Education_Level              746\n",
       "Relationship_Status          746\n",
       "Hometown                     746\n",
       "Unit                         746\n",
       "Decision_skill_possess       746\n",
       "Time_of_service              731\n",
       "Time_since_promotion         746\n",
       "growth_rate                  746\n",
       "Travel_Rate                  746\n",
       "Post_Level                   746\n",
       "Pay_Scale                    746\n",
       "Compensation_and_Benefits    746\n",
       "Work_Life_balance            745\n",
       "VAR1                         746\n",
       "VAR2                         687\n",
       "VAR3                         746\n",
       "VAR4                         669\n",
       "VAR5                         746\n",
       "VAR6                         746\n",
       "VAR7                         746\n",
       "dtype: int64"
      ]
     },
     "execution_count": 110,
     "metadata": {},
     "output_type": "execute_result"
    }
   ],
   "source": [
    "analytical_skill.count()"
   ]
  },
  {
   "cell_type": "code",
   "execution_count": 111,
   "metadata": {},
   "outputs": [],
   "source": [
    "behavioral_skill=df[df['Decision_skill_possess']==\"Behavioral\"]"
   ]
  },
  {
   "cell_type": "code",
   "execution_count": 112,
   "metadata": {},
   "outputs": [
    {
     "data": {
      "text/plain": [
       "Employee_ID                  799\n",
       "Gender                       799\n",
       "Age                          761\n",
       "Education_Level              799\n",
       "Relationship_Status          799\n",
       "Hometown                     799\n",
       "Unit                         799\n",
       "Decision_skill_possess       799\n",
       "Time_of_service              783\n",
       "Time_since_promotion         799\n",
       "growth_rate                  799\n",
       "Travel_Rate                  799\n",
       "Post_Level                   799\n",
       "Pay_Scale                    799\n",
       "Compensation_and_Benefits    799\n",
       "Work_Life_balance            798\n",
       "VAR1                         799\n",
       "VAR2                         742\n",
       "VAR3                         799\n",
       "VAR4                         721\n",
       "VAR5                         799\n",
       "VAR6                         799\n",
       "VAR7                         799\n",
       "dtype: int64"
      ]
     },
     "execution_count": 112,
     "metadata": {},
     "output_type": "execute_result"
    }
   ],
   "source": [
    "behavioral_skill.count()"
   ]
  },
  {
   "cell_type": "code",
   "execution_count": 113,
   "metadata": {},
   "outputs": [],
   "source": [
    "conceptual_skill=df[df['Decision_skill_possess']==\"Conceptual\"]"
   ]
  },
  {
   "cell_type": "code",
   "execution_count": 114,
   "metadata": {},
   "outputs": [
    {
     "data": {
      "text/plain": [
       "Employee_ID                  720\n",
       "Gender                       720\n",
       "Age                          682\n",
       "Education_Level              720\n",
       "Relationship_Status          720\n",
       "Hometown                     720\n",
       "Unit                         720\n",
       "Decision_skill_possess       720\n",
       "Time_of_service              711\n",
       "Time_since_promotion         720\n",
       "growth_rate                  720\n",
       "Travel_Rate                  720\n",
       "Post_Level                   720\n",
       "Pay_Scale                    719\n",
       "Compensation_and_Benefits    720\n",
       "Work_Life_balance            717\n",
       "VAR1                         720\n",
       "VAR2                         671\n",
       "VAR3                         720\n",
       "VAR4                         644\n",
       "VAR5                         720\n",
       "VAR6                         720\n",
       "VAR7                         720\n",
       "dtype: int64"
      ]
     },
     "execution_count": 114,
     "metadata": {},
     "output_type": "execute_result"
    }
   ],
   "source": [
    "conceptual_skill.count()"
   ]
  },
  {
   "cell_type": "code",
   "execution_count": 115,
   "metadata": {},
   "outputs": [],
   "source": [
    "directive_skill=df[df['Decision_skill_possess']==\"Directive\"]"
   ]
  },
  {
   "cell_type": "code",
   "execution_count": 116,
   "metadata": {},
   "outputs": [
    {
     "data": {
      "text/plain": [
       "Employee_ID                  735\n",
       "Gender                       735\n",
       "Age                          694\n",
       "Education_Level              735\n",
       "Relationship_Status          735\n",
       "Hometown                     735\n",
       "Unit                         735\n",
       "Decision_skill_possess       735\n",
       "Time_of_service              723\n",
       "Time_since_promotion         735\n",
       "growth_rate                  735\n",
       "Travel_Rate                  735\n",
       "Post_Level                   735\n",
       "Pay_Scale                    733\n",
       "Compensation_and_Benefits    735\n",
       "Work_Life_balance            735\n",
       "VAR1                         735\n",
       "VAR2                         683\n",
       "VAR3                         735\n",
       "VAR4                         668\n",
       "VAR5                         735\n",
       "VAR6                         735\n",
       "VAR7                         735\n",
       "dtype: int64"
      ]
     },
     "execution_count": 116,
     "metadata": {},
     "output_type": "execute_result"
    }
   ],
   "source": [
    "directive_skill.count()"
   ]
  },
  {
   "cell_type": "code",
   "execution_count": 117,
   "metadata": {},
   "outputs": [],
   "source": [
    "analytical_skill_high_pay=analytical_skill[analytical_skill['Pay_Scale']>=7]"
   ]
  },
  {
   "cell_type": "code",
   "execution_count": 118,
   "metadata": {},
   "outputs": [
    {
     "data": {
      "text/plain": [
       "Employee_ID                  320\n",
       "Gender                       320\n",
       "Age                          306\n",
       "Education_Level              320\n",
       "Relationship_Status          320\n",
       "Hometown                     320\n",
       "Unit                         320\n",
       "Decision_skill_possess       320\n",
       "Time_of_service              313\n",
       "Time_since_promotion         320\n",
       "growth_rate                  320\n",
       "Travel_Rate                  320\n",
       "Post_Level                   320\n",
       "Pay_Scale                    320\n",
       "Compensation_and_Benefits    320\n",
       "Work_Life_balance            319\n",
       "VAR1                         320\n",
       "VAR2                         294\n",
       "VAR3                         320\n",
       "VAR4                         282\n",
       "VAR5                         320\n",
       "VAR6                         320\n",
       "VAR7                         320\n",
       "dtype: int64"
      ]
     },
     "execution_count": 118,
     "metadata": {},
     "output_type": "execute_result"
    }
   ],
   "source": [
    "analytical_skill_high_pay.count()"
   ]
  },
  {
   "cell_type": "code",
   "execution_count": 119,
   "metadata": {},
   "outputs": [],
   "source": [
    "behavioral_skill_high_pay=behavioral_skill[behavioral_skill['Pay_Scale']>=7]"
   ]
  },
  {
   "cell_type": "code",
   "execution_count": 120,
   "metadata": {},
   "outputs": [
    {
     "data": {
      "text/plain": [
       "Employee_ID                  348\n",
       "Gender                       348\n",
       "Age                          330\n",
       "Education_Level              348\n",
       "Relationship_Status          348\n",
       "Hometown                     348\n",
       "Unit                         348\n",
       "Decision_skill_possess       348\n",
       "Time_of_service              340\n",
       "Time_since_promotion         348\n",
       "growth_rate                  348\n",
       "Travel_Rate                  348\n",
       "Post_Level                   348\n",
       "Pay_Scale                    348\n",
       "Compensation_and_Benefits    348\n",
       "Work_Life_balance            347\n",
       "VAR1                         348\n",
       "VAR2                         323\n",
       "VAR3                         348\n",
       "VAR4                         320\n",
       "VAR5                         348\n",
       "VAR6                         348\n",
       "VAR7                         348\n",
       "dtype: int64"
      ]
     },
     "execution_count": 120,
     "metadata": {},
     "output_type": "execute_result"
    }
   ],
   "source": [
    "behavioral_skill_high_pay.count()"
   ]
  },
  {
   "cell_type": "code",
   "execution_count": 121,
   "metadata": {},
   "outputs": [],
   "source": [
    "conceptual_skill_high_pay=conceptual_skill[conceptual_skill['Pay_Scale']>=7]"
   ]
  },
  {
   "cell_type": "code",
   "execution_count": 122,
   "metadata": {},
   "outputs": [
    {
     "data": {
      "text/plain": [
       "Employee_ID                  294\n",
       "Gender                       294\n",
       "Age                          277\n",
       "Education_Level              294\n",
       "Relationship_Status          294\n",
       "Hometown                     294\n",
       "Unit                         294\n",
       "Decision_skill_possess       294\n",
       "Time_of_service              291\n",
       "Time_since_promotion         294\n",
       "growth_rate                  294\n",
       "Travel_Rate                  294\n",
       "Post_Level                   294\n",
       "Pay_Scale                    294\n",
       "Compensation_and_Benefits    294\n",
       "Work_Life_balance            292\n",
       "VAR1                         294\n",
       "VAR2                         270\n",
       "VAR3                         294\n",
       "VAR4                         260\n",
       "VAR5                         294\n",
       "VAR6                         294\n",
       "VAR7                         294\n",
       "dtype: int64"
      ]
     },
     "execution_count": 122,
     "metadata": {},
     "output_type": "execute_result"
    }
   ],
   "source": [
    "conceptual_skill_high_pay.count()"
   ]
  },
  {
   "cell_type": "code",
   "execution_count": 123,
   "metadata": {},
   "outputs": [],
   "source": [
    "directive_skill_high_pay=directive_skill[directive_skill['Pay_Scale']>=7]"
   ]
  },
  {
   "cell_type": "code",
   "execution_count": 124,
   "metadata": {},
   "outputs": [
    {
     "data": {
      "text/plain": [
       "Employee_ID                  306\n",
       "Gender                       306\n",
       "Age                          288\n",
       "Education_Level              306\n",
       "Relationship_Status          306\n",
       "Hometown                     306\n",
       "Unit                         306\n",
       "Decision_skill_possess       306\n",
       "Time_of_service              301\n",
       "Time_since_promotion         306\n",
       "growth_rate                  306\n",
       "Travel_Rate                  306\n",
       "Post_Level                   306\n",
       "Pay_Scale                    306\n",
       "Compensation_and_Benefits    306\n",
       "Work_Life_balance            306\n",
       "VAR1                         306\n",
       "VAR2                         284\n",
       "VAR3                         306\n",
       "VAR4                         274\n",
       "VAR5                         306\n",
       "VAR6                         306\n",
       "VAR7                         306\n",
       "dtype: int64"
      ]
     },
     "execution_count": 124,
     "metadata": {},
     "output_type": "execute_result"
    }
   ],
   "source": [
    "directive_skill_high_pay.count()"
   ]
  },
  {
   "cell_type": "code",
   "execution_count": 125,
   "metadata": {},
   "outputs": [],
   "source": [
    "skills=[294,306,320,348]"
   ]
  },
  {
   "cell_type": "code",
   "execution_count": 126,
   "metadata": {},
   "outputs": [],
   "source": [
    "pos=[2,4,6,8]"
   ]
  },
  {
   "cell_type": "code",
   "execution_count": 127,
   "metadata": {},
   "outputs": [],
   "source": [
    "bars=('Conceptual', 'Directive', 'Analytical', 'Behavioral')"
   ]
  },
  {
   "cell_type": "code",
   "execution_count": 128,
   "metadata": {},
   "outputs": [
    {
     "data": {
      "image/png": "[encoded data removed]",
      "text/plain": [
       "<Figure size 432x288 with 1 Axes>"
      ]
     },
     "metadata": {
      "needs_background": "light"
     },
     "output_type": "display_data"
    }
   ],
   "source": [
    "plt.bar(pos, skills)\n",
    "plt.xticks(pos, bars)\n",
    "plt.ylabel(\"# of Employees\")\n",
    "plt.title(\"Highly Paid Employees by Skill\")\n",
    "plt.show()\n",
    "#Behavioral is the only one that stands out"
   ]
  },
  {
   "cell_type": "code",
   "execution_count": 129,
   "metadata": {},
   "outputs": [
    {
     "data": {
      "text/html": [
       "<div>\n",
       "<style scoped>\n",
       "    .dataframe tbody tr th:only-of-type {\n",
       "        vertical-align: middle;\n",
       "    }\n",
       "\n",
       "    .dataframe tbody tr th {\n",
       "        vertical-align: top;\n",
       "    }\n",
       "\n",
       "    .dataframe thead th {\n",
       "        text-align: right;\n",
       "    }\n",
       "</style>\n",
       "<table border=\"1\" class=\"dataframe\">\n",
       "  <thead>\n",
       "    <tr style=\"text-align: right;\">\n",
       "      <th></th>\n",
       "      <th>Employee_ID</th>\n",
       "      <th>Gender</th>\n",
       "      <th>Age</th>\n",
       "      <th>Education_Level</th>\n",
       "      <th>Relationship_Status</th>\n",
       "      <th>Hometown</th>\n",
       "      <th>Unit</th>\n",
       "      <th>Decision_skill_possess</th>\n",
       "      <th>Time_of_service</th>\n",
       "      <th>Time_since_promotion</th>\n",
       "      <th>...</th>\n",
       "      <th>Pay_Scale</th>\n",
       "      <th>Compensation_and_Benefits</th>\n",
       "      <th>Work_Life_balance</th>\n",
       "      <th>VAR1</th>\n",
       "      <th>VAR2</th>\n",
       "      <th>VAR3</th>\n",
       "      <th>VAR4</th>\n",
       "      <th>VAR5</th>\n",
       "      <th>VAR6</th>\n",
       "      <th>VAR7</th>\n",
       "    </tr>\n",
       "  </thead>\n",
       "  <tbody>\n",
       "    <tr>\n",
       "      <th>2</th>\n",
       "      <td>EID_22203</td>\n",
       "      <td>0</td>\n",
       "      <td>52.0</td>\n",
       "      <td>3</td>\n",
       "      <td>1</td>\n",
       "      <td>Springfield</td>\n",
       "      <td>Sales</td>\n",
       "      <td>Directive</td>\n",
       "      <td>21.0</td>\n",
       "      <td>3</td>\n",
       "      <td>...</td>\n",
       "      <td>8.0</td>\n",
       "      <td>type3</td>\n",
       "      <td>1.0</td>\n",
       "      <td>4</td>\n",
       "      <td>-0.1048</td>\n",
       "      <td>0.7075</td>\n",
       "      <td>2.0</td>\n",
       "      <td>1</td>\n",
       "      <td>9</td>\n",
       "      <td>3</td>\n",
       "    </tr>\n",
       "    <tr>\n",
       "      <th>8</th>\n",
       "      <td>EID_13232</td>\n",
       "      <td>0</td>\n",
       "      <td>31.0</td>\n",
       "      <td>1</td>\n",
       "      <td>0</td>\n",
       "      <td>Springfield</td>\n",
       "      <td>IT</td>\n",
       "      <td>Analytical</td>\n",
       "      <td>7.0</td>\n",
       "      <td>3</td>\n",
       "      <td>...</td>\n",
       "      <td>8.0</td>\n",
       "      <td>type2</td>\n",
       "      <td>3.0</td>\n",
       "      <td>3</td>\n",
       "      <td>1.6081</td>\n",
       "      <td>0.7075</td>\n",
       "      <td>2.0</td>\n",
       "      <td>2</td>\n",
       "      <td>7</td>\n",
       "      <td>4</td>\n",
       "    </tr>\n",
       "    <tr>\n",
       "      <th>11</th>\n",
       "      <td>EID_14669</td>\n",
       "      <td>0</td>\n",
       "      <td>29.0</td>\n",
       "      <td>4</td>\n",
       "      <td>0</td>\n",
       "      <td>Washington</td>\n",
       "      <td>IT</td>\n",
       "      <td>Directive</td>\n",
       "      <td>7.0</td>\n",
       "      <td>2</td>\n",
       "      <td>...</td>\n",
       "      <td>9.0</td>\n",
       "      <td>type2</td>\n",
       "      <td>4.0</td>\n",
       "      <td>4</td>\n",
       "      <td>0.7516</td>\n",
       "      <td>-0.4537</td>\n",
       "      <td>1.0</td>\n",
       "      <td>3</td>\n",
       "      <td>5</td>\n",
       "      <td>4</td>\n",
       "    </tr>\n",
       "    <tr>\n",
       "      <th>14</th>\n",
       "      <td>EID_20157</td>\n",
       "      <td>0</td>\n",
       "      <td>54.0</td>\n",
       "      <td>3</td>\n",
       "      <td>0</td>\n",
       "      <td>Washington</td>\n",
       "      <td>IT</td>\n",
       "      <td>Analytical</td>\n",
       "      <td>18.0</td>\n",
       "      <td>4</td>\n",
       "      <td>...</td>\n",
       "      <td>7.0</td>\n",
       "      <td>type2</td>\n",
       "      <td>5.0</td>\n",
       "      <td>2</td>\n",
       "      <td>0.7516</td>\n",
       "      <td>-0.4537</td>\n",
       "      <td>2.0</td>\n",
       "      <td>2</td>\n",
       "      <td>7</td>\n",
       "      <td>4</td>\n",
       "    </tr>\n",
       "    <tr>\n",
       "      <th>18</th>\n",
       "      <td>EID_12838</td>\n",
       "      <td>0</td>\n",
       "      <td>38.0</td>\n",
       "      <td>3</td>\n",
       "      <td>1</td>\n",
       "      <td>Washington</td>\n",
       "      <td>Logistics</td>\n",
       "      <td>Directive</td>\n",
       "      <td>12.0</td>\n",
       "      <td>1</td>\n",
       "      <td>...</td>\n",
       "      <td>8.0</td>\n",
       "      <td>type3</td>\n",
       "      <td>1.0</td>\n",
       "      <td>3</td>\n",
       "      <td>-1.8176</td>\n",
       "      <td>-0.4537</td>\n",
       "      <td>NaN</td>\n",
       "      <td>2</td>\n",
       "      <td>7</td>\n",
       "      <td>3</td>\n",
       "    </tr>\n",
       "    <tr>\n",
       "      <th>...</th>\n",
       "      <td>...</td>\n",
       "      <td>...</td>\n",
       "      <td>...</td>\n",
       "      <td>...</td>\n",
       "      <td>...</td>\n",
       "      <td>...</td>\n",
       "      <td>...</td>\n",
       "      <td>...</td>\n",
       "      <td>...</td>\n",
       "      <td>...</td>\n",
       "      <td>...</td>\n",
       "      <td>...</td>\n",
       "      <td>...</td>\n",
       "      <td>...</td>\n",
       "      <td>...</td>\n",
       "      <td>...</td>\n",
       "      <td>...</td>\n",
       "      <td>...</td>\n",
       "      <td>...</td>\n",
       "      <td>...</td>\n",
       "      <td>...</td>\n",
       "    </tr>\n",
       "    <tr>\n",
       "      <th>2970</th>\n",
       "      <td>EID_1668</td>\n",
       "      <td>0</td>\n",
       "      <td>56.0</td>\n",
       "      <td>5</td>\n",
       "      <td>1</td>\n",
       "      <td>Washington</td>\n",
       "      <td>R&amp;D</td>\n",
       "      <td>Conceptual</td>\n",
       "      <td>19.0</td>\n",
       "      <td>1</td>\n",
       "      <td>...</td>\n",
       "      <td>7.0</td>\n",
       "      <td>type2</td>\n",
       "      <td>1.0</td>\n",
       "      <td>3</td>\n",
       "      <td>NaN</td>\n",
       "      <td>-1.6150</td>\n",
       "      <td>NaN</td>\n",
       "      <td>2</td>\n",
       "      <td>7</td>\n",
       "      <td>3</td>\n",
       "    </tr>\n",
       "    <tr>\n",
       "      <th>2975</th>\n",
       "      <td>EID_16121</td>\n",
       "      <td>0</td>\n",
       "      <td>23.0</td>\n",
       "      <td>3</td>\n",
       "      <td>1</td>\n",
       "      <td>Franklin</td>\n",
       "      <td>Quality</td>\n",
       "      <td>Conceptual</td>\n",
       "      <td>4.0</td>\n",
       "      <td>1</td>\n",
       "      <td>...</td>\n",
       "      <td>10.0</td>\n",
       "      <td>type3</td>\n",
       "      <td>1.0</td>\n",
       "      <td>4</td>\n",
       "      <td>-1.8176</td>\n",
       "      <td>-0.4537</td>\n",
       "      <td>NaN</td>\n",
       "      <td>1</td>\n",
       "      <td>8</td>\n",
       "      <td>3</td>\n",
       "    </tr>\n",
       "    <tr>\n",
       "      <th>2976</th>\n",
       "      <td>EID_14662</td>\n",
       "      <td>0</td>\n",
       "      <td>33.0</td>\n",
       "      <td>5</td>\n",
       "      <td>0</td>\n",
       "      <td>Franklin</td>\n",
       "      <td>Operarions</td>\n",
       "      <td>Behavioral</td>\n",
       "      <td>4.0</td>\n",
       "      <td>3</td>\n",
       "      <td>...</td>\n",
       "      <td>9.0</td>\n",
       "      <td>type3</td>\n",
       "      <td>5.0</td>\n",
       "      <td>3</td>\n",
       "      <td>-0.9612</td>\n",
       "      <td>-0.4537</td>\n",
       "      <td>1.0</td>\n",
       "      <td>2</td>\n",
       "      <td>7</td>\n",
       "      <td>5</td>\n",
       "    </tr>\n",
       "    <tr>\n",
       "      <th>2985</th>\n",
       "      <td>EID_4693</td>\n",
       "      <td>0</td>\n",
       "      <td>48.0</td>\n",
       "      <td>3</td>\n",
       "      <td>1</td>\n",
       "      <td>Springfield</td>\n",
       "      <td>Marketing</td>\n",
       "      <td>Analytical</td>\n",
       "      <td>17.0</td>\n",
       "      <td>2</td>\n",
       "      <td>...</td>\n",
       "      <td>8.0</td>\n",
       "      <td>type3</td>\n",
       "      <td>3.0</td>\n",
       "      <td>5</td>\n",
       "      <td>1.6081</td>\n",
       "      <td>-0.4537</td>\n",
       "      <td>1.0</td>\n",
       "      <td>2</td>\n",
       "      <td>7</td>\n",
       "      <td>3</td>\n",
       "    </tr>\n",
       "    <tr>\n",
       "      <th>2992</th>\n",
       "      <td>EID_6891</td>\n",
       "      <td>0</td>\n",
       "      <td>47.0</td>\n",
       "      <td>3</td>\n",
       "      <td>1</td>\n",
       "      <td>Franklin</td>\n",
       "      <td>Operarions</td>\n",
       "      <td>Behavioral</td>\n",
       "      <td>15.0</td>\n",
       "      <td>2</td>\n",
       "      <td>...</td>\n",
       "      <td>9.0</td>\n",
       "      <td>type2</td>\n",
       "      <td>3.0</td>\n",
       "      <td>3</td>\n",
       "      <td>-0.9612</td>\n",
       "      <td>0.7075</td>\n",
       "      <td>2.0</td>\n",
       "      <td>2</td>\n",
       "      <td>6</td>\n",
       "      <td>4</td>\n",
       "    </tr>\n",
       "  </tbody>\n",
       "</table>\n",
       "<p>546 rows × 23 columns</p>\n",
       "</div>"
      ],
      "text/plain": [
       "     Employee_ID  Gender   Age  Education_Level  Relationship_Status  \\\n",
       "2      EID_22203       0  52.0                3                    1   \n",
       "8      EID_13232       0  31.0                1                    0   \n",
       "11     EID_14669       0  29.0                4                    0   \n",
       "14     EID_20157       0  54.0                3                    0   \n",
       "18     EID_12838       0  38.0                3                    1   \n",
       "...          ...     ...   ...              ...                  ...   \n",
       "2970    EID_1668       0  56.0                5                    1   \n",
       "2975   EID_16121       0  23.0                3                    1   \n",
       "2976   EID_14662       0  33.0                5                    0   \n",
       "2985    EID_4693       0  48.0                3                    1   \n",
       "2992    EID_6891       0  47.0                3                    1   \n",
       "\n",
       "         Hometown        Unit Decision_skill_possess  Time_of_service  \\\n",
       "2     Springfield       Sales              Directive             21.0   \n",
       "8     Springfield          IT             Analytical              7.0   \n",
       "11     Washington          IT              Directive              7.0   \n",
       "14     Washington          IT             Analytical             18.0   \n",
       "18     Washington   Logistics              Directive             12.0   \n",
       "...           ...         ...                    ...              ...   \n",
       "2970   Washington         R&D             Conceptual             19.0   \n",
       "2975     Franklin     Quality             Conceptual              4.0   \n",
       "2976     Franklin  Operarions             Behavioral              4.0   \n",
       "2985  Springfield   Marketing             Analytical             17.0   \n",
       "2992     Franklin  Operarions             Behavioral             15.0   \n",
       "\n",
       "      Time_since_promotion  ...  Pay_Scale  Compensation_and_Benefits  \\\n",
       "2                        3  ...        8.0                      type3   \n",
       "8                        3  ...        8.0                      type2   \n",
       "11                       2  ...        9.0                      type2   \n",
       "14                       4  ...        7.0                      type2   \n",
       "18                       1  ...        8.0                      type3   \n",
       "...                    ...  ...        ...                        ...   \n",
       "2970                     1  ...        7.0                      type2   \n",
       "2975                     1  ...       10.0                      type3   \n",
       "2976                     3  ...        9.0                      type3   \n",
       "2985                     2  ...        8.0                      type3   \n",
       "2992                     2  ...        9.0                      type2   \n",
       "\n",
       "      Work_Life_balance  VAR1    VAR2    VAR3  VAR4  VAR5  VAR6  VAR7  \n",
       "2                   1.0     4 -0.1048  0.7075   2.0     1     9     3  \n",
       "8                   3.0     3  1.6081  0.7075   2.0     2     7     4  \n",
       "11                  4.0     4  0.7516 -0.4537   1.0     3     5     4  \n",
       "14                  5.0     2  0.7516 -0.4537   2.0     2     7     4  \n",
       "18                  1.0     3 -1.8176 -0.4537   NaN     2     7     3  \n",
       "...                 ...   ...     ...     ...   ...   ...   ...   ...  \n",
       "2970                1.0     3     NaN -1.6150   NaN     2     7     3  \n",
       "2975                1.0     4 -1.8176 -0.4537   NaN     1     8     3  \n",
       "2976                5.0     3 -0.9612 -0.4537   1.0     2     7     5  \n",
       "2985                3.0     5  1.6081 -0.4537   1.0     2     7     3  \n",
       "2992                3.0     3 -0.9612  0.7075   2.0     2     6     4  \n",
       "\n",
       "[546 rows x 23 columns]"
      ]
     },
     "execution_count": 129,
     "metadata": {},
     "output_type": "execute_result"
    }
   ],
   "source": [
    "male_high_pay"
   ]
  },
  {
   "cell_type": "code",
   "execution_count": 130,
   "metadata": {},
   "outputs": [
    {
     "data": {
      "text/plain": [
       "array(['R&D', 'IT', 'Sales', 'Marketing', 'Purchasing', 'Operarions',\n",
       "       'Human Resource Management', 'Logistics', 'Accounting and Finance',\n",
       "       'Security', 'Quality', 'Production'], dtype=object)"
      ]
     },
     "execution_count": 130,
     "metadata": {},
     "output_type": "execute_result"
    }
   ],
   "source": [
    "df.Unit.unique()"
   ]
  },
  {
   "cell_type": "code",
   "execution_count": 131,
   "metadata": {},
   "outputs": [],
   "source": [
    "RandD_high_pay=high_pay[high_pay['Unit']=='R&D']\n",
    "# RandD_high_pay.count()  =113"
   ]
  },
  {
   "cell_type": "code",
   "execution_count": 132,
   "metadata": {},
   "outputs": [],
   "source": [
    "IT_high_pay=high_pay[high_pay['Unit']=='IT']\n",
    "# IT_high_pay.count() =195"
   ]
  },
  {
   "cell_type": "code",
   "execution_count": 133,
   "metadata": {},
   "outputs": [],
   "source": [
    "sales_high_pay=high_pay[high_pay['Unit']=='Sales']\n",
    "# sales_high_pay.count()  =201"
   ]
  },
  {
   "cell_type": "code",
   "execution_count": 134,
   "metadata": {},
   "outputs": [],
   "source": [
    "marketing_high_pay=high_pay[high_pay['Unit']=='Marketing']\n",
    "# marketing_high_pay.count()  =46"
   ]
  },
  {
   "cell_type": "code",
   "execution_count": 135,
   "metadata": {},
   "outputs": [],
   "source": [
    "Purchasing_high_pay=high_pay[high_pay['Unit']=='Purchasing']\n",
    "# Purchasing_high_pay.count()  =64"
   ]
  },
  {
   "cell_type": "code",
   "execution_count": 136,
   "metadata": {},
   "outputs": [],
   "source": [
    "Operations_high_pay=high_pay[high_pay['Unit']=='Operarions']\n",
    "# Operations_high_pay.count()  =105    fix spelling of Operations"
   ]
  },
  {
   "cell_type": "code",
   "execution_count": 137,
   "metadata": {},
   "outputs": [],
   "source": [
    "Logistics_high_pay=high_pay[high_pay['Unit']=='Logistics']\n",
    "# Logistics_high_pay.count()  =142"
   ]
  },
  {
   "cell_type": "code",
   "execution_count": 138,
   "metadata": {},
   "outputs": [],
   "source": [
    "HR_high_pay=high_pay[high_pay['Unit']=='Human Resource Management']\n",
    "# HR_high_pay.count()  =45"
   ]
  },
  {
   "cell_type": "code",
   "execution_count": 139,
   "metadata": {},
   "outputs": [],
   "source": [
    "accounting_and_finance_high_pay=high_pay[high_pay['Unit']=='Accounting and Finance']\n",
    "# accounting_and_finance_high_pay.count()   =63"
   ]
  },
  {
   "cell_type": "code",
   "execution_count": 140,
   "metadata": {},
   "outputs": [],
   "source": [
    "security_high_pay=high_pay[high_pay['Unit']=='Security']\n",
    "# security_high_pay.count()  =16"
   ]
  },
  {
   "cell_type": "code",
   "execution_count": 141,
   "metadata": {},
   "outputs": [],
   "source": [
    "production_high_pay=high_pay[high_pay['Unit']=='Production']\n",
    "# production_high_pay.count()   =27"
   ]
  },
  {
   "cell_type": "code",
   "execution_count": 142,
   "metadata": {},
   "outputs": [],
   "source": [
    "quality_high_pay=high_pay[high_pay['Unit']=='Quality']\n",
    "# quality_high_pay.count()  =30"
   ]
  },
  {
   "cell_type": "code",
   "execution_count": 143,
   "metadata": {},
   "outputs": [],
   "source": [
    "high_pay_by_unit=[16,27,30,45,46,63,64,105,113, 142,195, 201]"
   ]
  },
  {
   "cell_type": "code",
   "execution_count": 144,
   "metadata": {},
   "outputs": [],
   "source": [
    "pos=[2,4,6,8,10,12,14,16,18,20,22,24]"
   ]
  },
  {
   "cell_type": "code",
   "execution_count": 145,
   "metadata": {},
   "outputs": [],
   "source": [
    "bars=('Security', 'Production', 'Quality', 'HR', 'Marketing', 'Acct & Finance', 'Purchasing', 'Operations', 'R & D', 'Logistics', 'IT', 'Sales')"
   ]
  },
  {
   "cell_type": "code",
   "execution_count": 146,
   "metadata": {},
   "outputs": [
    {
     "data": {
      "image/png": "[encoded data removed]",
      "text/plain": [
       "<Figure size 432x288 with 1 Axes>"
      ]
     },
     "metadata": {
      "needs_background": "light"
     },
     "output_type": "display_data"
    }
   ],
   "source": [
    "plt.clf()\n",
    "plt.bar(pos, high_pay_by_unit)\n",
    "plt.xticks(pos, bars, rotation=90, fontsize=10)\n",
    "plt.ylabel(\"# of Employees\")\n",
    "plt.title(\"Highly Paid Employees by Unit\")\n",
    "plt.savefig(\"pay_by_unit.jpg\")\n",
    "plt.show()"
   ]
  },
  {
   "cell_type": "code",
   "execution_count": 147,
   "metadata": {},
   "outputs": [],
   "source": [
    "wlb_1=df[df['Work_Life_balance']==1]\n",
    "# 909"
   ]
  },
  {
   "cell_type": "code",
   "execution_count": 148,
   "metadata": {},
   "outputs": [],
   "source": [
    "wlb_2=df[df['Work_Life_balance']==2]\n",
    "# 672"
   ]
  },
  {
   "cell_type": "code",
   "execution_count": 149,
   "metadata": {},
   "outputs": [],
   "source": [
    "wlb_3=df[df['Work_Life_balance']==3]\n",
    "# 6835"
   ]
  },
  {
   "cell_type": "code",
   "execution_count": 150,
   "metadata": {},
   "outputs": [],
   "source": [
    "wlb_4=df[df['Work_Life_balance']==4]\n",
    "# 522"
   ]
  },
  {
   "cell_type": "code",
   "execution_count": 151,
   "metadata": {},
   "outputs": [],
   "source": [
    "wlb_5=df[df['Work_Life_balance']==5]\n",
    "# 57"
   ]
  },
  {
   "cell_type": "code",
   "execution_count": 152,
   "metadata": {},
   "outputs": [
    {
     "data": {
      "text/plain": [
       "1.0    909\n",
       "3.0    835\n",
       "2.0    672\n",
       "4.0    522\n",
       "5.0     57\n",
       "Name: Work_Life_balance, dtype: int64"
      ]
     },
     "execution_count": 152,
     "metadata": {},
     "output_type": "execute_result"
    }
   ],
   "source": [
    "df.Work_Life_balance.value_counts()\n",
    "# Total count is 2995, which is correct, 5 = null"
   ]
  },
  {
   "cell_type": "code",
   "execution_count": 153,
   "metadata": {},
   "outputs": [],
   "source": [
    "#high_pay.count()\n",
    "# 1268"
   ]
  },
  {
   "cell_type": "code",
   "execution_count": 154,
   "metadata": {},
   "outputs": [],
   "source": [
    "high_pay_wlb_1=high_pay[high_pay['Work_Life_balance']==1]\n",
    "# 421   "
   ]
  },
  {
   "cell_type": "code",
   "execution_count": 155,
   "metadata": {},
   "outputs": [],
   "source": [
    "high_pay_wlb_1_pct=421/1268\n",
    "# percentage of wlb_1 that are highly paid employees = 0.33201892744479494"
   ]
  },
  {
   "cell_type": "code",
   "execution_count": 156,
   "metadata": {},
   "outputs": [],
   "source": [
    "high_pay_wlb_2=high_pay[high_pay['Work_Life_balance']==2]\n",
    "# 282    "
   ]
  },
  {
   "cell_type": "code",
   "execution_count": 157,
   "metadata": {},
   "outputs": [],
   "source": [
    "high_pay_wlb_2_pct=282/1268\n",
    "# percentage of wlb_2 that are highly paid employees = 0.222397476340694"
   ]
  },
  {
   "cell_type": "code",
   "execution_count": 158,
   "metadata": {},
   "outputs": [],
   "source": [
    "high_pay_wlb_3=high_pay[high_pay['Work_Life_balance']==3]\n",
    "# 333   "
   ]
  },
  {
   "cell_type": "code",
   "execution_count": 159,
   "metadata": {},
   "outputs": [],
   "source": [
    "high_pay_wlb_3_pct = 333/1268\n",
    "# percentage of wlb_3 that are highly paid employees = 0.26261829652996843"
   ]
  },
  {
   "cell_type": "code",
   "execution_count": 160,
   "metadata": {},
   "outputs": [],
   "source": [
    "high_pay_wlb_4=high_pay[high_pay['Work_Life_balance']==4]\n",
    "# 205    "
   ]
  },
  {
   "cell_type": "code",
   "execution_count": 161,
   "metadata": {},
   "outputs": [],
   "source": [
    "high_pay_wlb_4_pct=205/1268\n",
    "# percentage of wlb_4 that are highly paid employees = 0.16167192429022081"
   ]
  },
  {
   "cell_type": "code",
   "execution_count": 162,
   "metadata": {},
   "outputs": [],
   "source": [
    "high_pay_wlb_5=high_pay[high_pay['Work_Life_balance']==5]\n",
    "# 23   "
   ]
  },
  {
   "cell_type": "code",
   "execution_count": 163,
   "metadata": {},
   "outputs": [],
   "source": [
    "high_pay_wlb_5_pct=23/1268\n",
    "#  percentage of wlb_5 that are highly paid employees = 0.018138801261829655"
   ]
  },
  {
   "cell_type": "code",
   "execution_count": 164,
   "metadata": {},
   "outputs": [
    {
     "data": {
      "text/plain": [
       "0.018138801261829655"
      ]
     },
     "execution_count": 164,
     "metadata": {},
     "output_type": "execute_result"
    }
   ],
   "source": [
    "high_pay_wlb_5_pct"
   ]
  },
  {
   "cell_type": "code",
   "execution_count": 165,
   "metadata": {},
   "outputs": [],
   "source": [
    "all_high_paid_wlb=(421, 282, 333, 205, 23)"
   ]
  },
  {
   "cell_type": "code",
   "execution_count": 166,
   "metadata": {},
   "outputs": [],
   "source": [
    "pct_high_paid_ees_by_wlb=[0.33201892744479494, 0.222397476340694, 0.26261829652996843, 0.16167192429022081, 0.018138801261829655]"
   ]
  },
  {
   "cell_type": "code",
   "execution_count": 167,
   "metadata": {},
   "outputs": [],
   "source": [
    "pos=[2,4,6,8,10]"
   ]
  },
  {
   "cell_type": "code",
   "execution_count": 168,
   "metadata": {},
   "outputs": [],
   "source": [
    "bars=('Work Life Bal = 1', 'Work Life Bal = 2', 'Work Life Bal = 3', 'Work Life Bal = 4', 'Work Life Bal =5 ') "
   ]
  },
  {
   "cell_type": "code",
   "execution_count": 169,
   "metadata": {},
   "outputs": [
    {
     "data": {
      "image/png": "[encoded data removed]",
      "text/plain": [
       "<Figure size 432x288 with 1 Axes>"
      ]
     },
     "metadata": {
      "needs_background": "light"
     },
     "output_type": "display_data"
    }
   ],
   "source": [
    "plt.clf()\n",
    "plt.bar(pos, pct_high_paid_ees_by_wlb, color=['deepskyblue', 'lightskyblue', 'lightskyblue', 'lightskyblue', 'lightskyblue'])\n",
    "plt.xticks(pos, bars, rotation=90, fontsize=10)\n",
    "plt.ylabel(\"By Percentage\")\n",
    "plt.title(\"Highly Paid Employees by Work Life Balance Rating\")\n",
    "plt.savefig(\"high_paid_by_wlb.jpg\")\n",
    "plt.show()"
   ]
  },
  {
   "cell_type": "code",
   "execution_count": 170,
   "metadata": {},
   "outputs": [
    {
     "data": {
      "text/html": [
       "<div>\n",
       "<style scoped>\n",
       "    .dataframe tbody tr th:only-of-type {\n",
       "        vertical-align: middle;\n",
       "    }\n",
       "\n",
       "    .dataframe tbody tr th {\n",
       "        vertical-align: top;\n",
       "    }\n",
       "\n",
       "    .dataframe thead tr th {\n",
       "        text-align: left;\n",
       "    }\n",
       "\n",
       "    .dataframe thead tr:last-of-type th {\n",
       "        text-align: right;\n",
       "    }\n",
       "</style>\n",
       "<table border=\"1\" class=\"dataframe\">\n",
       "  <thead>\n",
       "    <tr>\n",
       "      <th></th>\n",
       "      <th colspan=\"4\" halign=\"left\">Pay_Scale</th>\n",
       "    </tr>\n",
       "    <tr>\n",
       "      <th>Pay_Scale</th>\n",
       "      <th>7.0</th>\n",
       "      <th>8.0</th>\n",
       "      <th>9.0</th>\n",
       "      <th>10.0</th>\n",
       "    </tr>\n",
       "    <tr>\n",
       "      <th>Work_Life_balance</th>\n",
       "      <th></th>\n",
       "      <th></th>\n",
       "      <th></th>\n",
       "      <th></th>\n",
       "    </tr>\n",
       "  </thead>\n",
       "  <tbody>\n",
       "    <tr>\n",
       "      <th>1.0</th>\n",
       "      <td>127</td>\n",
       "      <td>187</td>\n",
       "      <td>74</td>\n",
       "      <td>33</td>\n",
       "    </tr>\n",
       "    <tr>\n",
       "      <th>2.0</th>\n",
       "      <td>66</td>\n",
       "      <td>147</td>\n",
       "      <td>42</td>\n",
       "      <td>27</td>\n",
       "    </tr>\n",
       "    <tr>\n",
       "      <th>3.0</th>\n",
       "      <td>92</td>\n",
       "      <td>140</td>\n",
       "      <td>78</td>\n",
       "      <td>23</td>\n",
       "    </tr>\n",
       "    <tr>\n",
       "      <th>4.0</th>\n",
       "      <td>60</td>\n",
       "      <td>87</td>\n",
       "      <td>38</td>\n",
       "      <td>20</td>\n",
       "    </tr>\n",
       "    <tr>\n",
       "      <th>5.0</th>\n",
       "      <td>7</td>\n",
       "      <td>11</td>\n",
       "      <td>4</td>\n",
       "      <td>1</td>\n",
       "    </tr>\n",
       "  </tbody>\n",
       "</table>\n",
       "</div>"
      ],
      "text/plain": [
       "                  Pay_Scale               \n",
       "Pay_Scale              7.0  8.0  9.0  10.0\n",
       "Work_Life_balance                         \n",
       "1.0                     127  187   74   33\n",
       "2.0                      66  147   42   27\n",
       "3.0                      92  140   78   23\n",
       "4.0                      60   87   38   20\n",
       "5.0                       7   11    4    1"
      ]
     },
     "execution_count": 170,
     "metadata": {},
     "output_type": "execute_result"
    }
   ],
   "source": [
    "high_pay.pivot_table(index='Work_Life_balance', columns='Pay_Scale', aggfunc={'Pay_Scale':len}, fill_value=0)"
   ]
  },
  {
   "cell_type": "code",
   "execution_count": 171,
   "metadata": {},
   "outputs": [],
   "source": [
    "high_pay.to_csv('high_pay.csv')"
   ]
  },
  {
   "cell_type": "code",
   "execution_count": 172,
   "metadata": {},
   "outputs": [],
   "source": [
    "high_pay_educated_3=high_pay[high_pay['Education_Level']==3]\n",
    "# 504   "
   ]
  },
  {
   "cell_type": "code",
   "execution_count": 173,
   "metadata": {},
   "outputs": [],
   "source": [
    "pd.set_option(\"display.max_rows\", None)\n",
    "pd.set_option(\"display.max_columns\", None)"
   ]
  },
  {
   "cell_type": "code",
   "execution_count": 174,
   "metadata": {},
   "outputs": [],
   "source": [
    "##Below let's look at education level 3 by age and create a box plot"
   ]
  },
  {
   "cell_type": "code",
   "execution_count": 175,
   "metadata": {},
   "outputs": [],
   "source": [
    "data_3=high_pay_educated_3['Age']"
   ]
  },
  {
   "cell_type": "code",
   "execution_count": 176,
   "metadata": {},
   "outputs": [
    {
     "data": {
      "text/plain": [
       "40.5678496868476"
      ]
     },
     "execution_count": 176,
     "metadata": {},
     "output_type": "execute_result"
    }
   ],
   "source": [
    "np.mean(data_3)"
   ]
  },
  {
   "cell_type": "code",
   "execution_count": 177,
   "metadata": {},
   "outputs": [],
   "source": [
    "data_3_list=data_3.to_numpy()"
   ]
  },
  {
   "cell_type": "code",
   "execution_count": 178,
   "metadata": {},
   "outputs": [],
   "source": [
    "data_3_list = data_3_list[~pd.isnull(data_3_list)]\n",
    "#remove null values"
   ]
  },
  {
   "cell_type": "code",
   "execution_count": 179,
   "metadata": {},
   "outputs": [
    {
     "name": "stdout",
     "output_type": "stream",
     "text": [
      "40.5678496868476\n"
     ]
    }
   ],
   "source": [
    "print(np.mean(data_3_list))\n",
    "# 40.5678496868476\n",
    "# This is the average age of highly paid employees with education level 3"
   ]
  },
  {
   "cell_type": "code",
   "execution_count": 180,
   "metadata": {},
   "outputs": [],
   "source": [
    "high_pay_educated_4=high_pay[high_pay['Education_Level']==4]\n",
    "# 412"
   ]
  },
  {
   "cell_type": "code",
   "execution_count": 181,
   "metadata": {},
   "outputs": [],
   "source": [
    "data_4=high_pay_educated_4['Age']"
   ]
  },
  {
   "cell_type": "code",
   "execution_count": 182,
   "metadata": {},
   "outputs": [],
   "source": [
    "data_4_list=data_4.to_numpy()"
   ]
  },
  {
   "cell_type": "code",
   "execution_count": 183,
   "metadata": {},
   "outputs": [],
   "source": [
    "data_4_list = data_4_list[~pd.isnull(data_4_list)]"
   ]
  },
  {
   "cell_type": "code",
   "execution_count": 184,
   "metadata": {},
   "outputs": [
    {
     "name": "stdout",
     "output_type": "stream",
     "text": [
      "39.3359173126615\n"
     ]
    }
   ],
   "source": [
    "print(np.mean(data_4_list))\n",
    "# 39.3359173126615 \n",
    "# This is the average age of highly paid employees with education level 4"
   ]
  },
  {
   "cell_type": "code",
   "execution_count": 185,
   "metadata": {},
   "outputs": [],
   "source": [
    "high_pay_educated_5=high_pay[high_pay['Education_Level']==5]\n",
    "# 111"
   ]
  },
  {
   "cell_type": "code",
   "execution_count": 186,
   "metadata": {},
   "outputs": [],
   "source": [
    "data_5=high_pay_educated_5['Age']"
   ]
  },
  {
   "cell_type": "code",
   "execution_count": 187,
   "metadata": {},
   "outputs": [],
   "source": [
    "data_5_list=data_5.to_numpy()"
   ]
  },
  {
   "cell_type": "code",
   "execution_count": 188,
   "metadata": {},
   "outputs": [],
   "source": [
    "data_5_list = data_5_list[~pd.isnull(data_5_list)]"
   ]
  },
  {
   "cell_type": "code",
   "execution_count": 189,
   "metadata": {},
   "outputs": [
    {
     "name": "stdout",
     "output_type": "stream",
     "text": [
      "41.083333333333336\n"
     ]
    }
   ],
   "source": [
    "print(np.mean(data_5_list))\n",
    "# 41.083333333333336\n",
    "# This is the average age of highly paid employees with education level 5"
   ]
  },
  {
   "cell_type": "code",
   "execution_count": 190,
   "metadata": {},
   "outputs": [
    {
     "data": {
      "text/plain": [
       "<Figure size 432x288 with 0 Axes>"
      ]
     },
     "metadata": {},
     "output_type": "display_data"
    },
    {
     "data": {
      "image/png": "[encoded data removed]",
      "text/plain": [
       "<Figure size 720x504 with 1 Axes>"
      ]
     },
     "metadata": {
      "needs_background": "light"
     },
     "output_type": "display_data"
    }
   ],
   "source": [
    "  \n",
    "plt.clf()\n",
    "\n",
    "data = [data_3_list, data_4_list, data_5_list]\n",
    "  \n",
    "fig = plt.figure(figsize =(10, 7))\n",
    "  \n",
    "# Creating axes instance\n",
    "ax = fig.add_axes([0, 0, 0.65, 0.65])\n",
    "  \n",
    "# Creating plot\n",
    "bp = ax.boxplot(data)\n",
    "#plt.boxplot(data, notch=None, vert=None, patch_artist=None, widths=None)\n",
    "plt.title(\"The five-number summary for Highly Paid, Highly Educated Employees\")\n",
    "plt.ylabel(\"Age\")\n",
    "plt.xticks([1, 2, 3], ['Educ Level 3', 'Educ Level 4', 'Educ Level 5'])\n",
    "\n",
    "for box in bp['boxes']:\n",
    "    box.set(color='slategray', linewidth=5)\n",
    "\n",
    "plt.show()"
   ]
  },
  {
   "cell_type": "code",
   "execution_count": 191,
   "metadata": {},
   "outputs": [
    {
     "name": "stdout",
     "output_type": "stream",
     "text": [
      "Min: 19\n",
      "Q1: 28.000\n",
      "Median: 40\n",
      "Q3: 54\n",
      "Max: 65\n"
     ]
    }
   ],
   "source": [
    "#5 number summary showing ages of highly paid, educated employees\n",
    "### Highly Paid, Education Level 3\n",
    "\n",
    "data_min, data_max = data_3_list.min(), data_3_list.max()\n",
    "quartiles = percentile(data_3_list, [25, 50, 75])\n",
    "# print 5-number summary\n",
    "print('Min: %.0f' % data_min)\n",
    "print('Q1: %.3f' % quartiles[0])\n",
    "print('Median: %.0f' % quartiles[1])\n",
    "print('Q3: %.0f' % quartiles[2])\n",
    "print('Max: %.0f' % data_max)"
   ]
  },
  {
   "cell_type": "code",
   "execution_count": 192,
   "metadata": {},
   "outputs": [
    {
     "name": "stdout",
     "output_type": "stream",
     "text": [
      "Min: 19\n",
      "Q1: 27.000\n",
      "Median: 37\n",
      "Q3: 52\n",
      "Max: 65\n"
     ]
    }
   ],
   "source": [
    "#5 number summary showing ages of highly paid, educated employees\n",
    "### Highly Paid, Education Level 4\n",
    "\n",
    "data_min, data_max = data_4_list.min(), data_4_list.max()\n",
    "quartiles = percentile(data_4_list, [25, 50, 75])\n",
    "# print 5-number summary\n",
    "print('Min: %.0f' % data_min)\n",
    "print('Q1: %.3f' % quartiles[0])\n",
    "print('Median: %.0f' % quartiles[1])\n",
    "print('Q3: %.0f' % quartiles[2])\n",
    "print('Max: %.0f' % data_max)"
   ]
  },
  {
   "cell_type": "code",
   "execution_count": 193,
   "metadata": {},
   "outputs": [
    {
     "name": "stdout",
     "output_type": "stream",
     "text": [
      "Min: 19\n",
      "Q1: 30.000\n",
      "Median: 42\n",
      "Q3: 52\n",
      "Max: 65\n"
     ]
    }
   ],
   "source": [
    "#5 number summary showing ages of highly paid, educated employees\n",
    "### Highly Paid, Education Level 5\n",
    "\n",
    "data_min, data_max = data_5_list.min(), data_5_list.max()\n",
    "quartiles = percentile(data_5_list, [25, 50, 75])\n",
    "# print 5-number summary\n",
    "print('Min: %.0f' % data_min)\n",
    "print('Q1: %.3f' % quartiles[0])\n",
    "print('Median: %.0f' % quartiles[1])\n",
    "print('Q3: %.0f' % quartiles[2])\n",
    "print('Max: %.0f' % data_max)"
   ]
  },
  {
   "cell_type": "code",
   "execution_count": 194,
   "metadata": {},
   "outputs": [],
   "source": [
    "data_3_4_5_list=list(itertools.chain(data_3_list, data_4_list, data_5_list))"
   ]
  },
  {
   "cell_type": "code",
   "execution_count": 195,
   "metadata": {},
   "outputs": [
    {
     "data": {
      "text/plain": [
       "DescribeResult(nobs=479, minmax=(19.0, 65.0), mean=40.5678496868476, variance=188.35888051292355, skewness=0.10220277184229817, kurtosis=-1.3284419125278346)"
      ]
     },
     "execution_count": 195,
     "metadata": {},
     "output_type": "execute_result"
    }
   ],
   "source": [
    "stats.describe(data_3_list)"
   ]
  },
  {
   "cell_type": "code",
   "execution_count": 196,
   "metadata": {},
   "outputs": [],
   "source": [
    "quartiles = percentile(data_3_list, [25, 50, 75])"
   ]
  },
  {
   "cell_type": "code",
   "execution_count": 197,
   "metadata": {},
   "outputs": [
    {
     "data": {
      "text/plain": [
       "array([28., 40., 54.])"
      ]
     },
     "execution_count": 197,
     "metadata": {},
     "output_type": "execute_result"
    }
   ],
   "source": [
    "quartiles"
   ]
  },
  {
   "cell_type": "code",
   "execution_count": 198,
   "metadata": {},
   "outputs": [],
   "source": [
    "age=df['Age']"
   ]
  },
  {
   "cell_type": "code",
   "execution_count": 199,
   "metadata": {},
   "outputs": [
    {
     "name": "stdout",
     "output_type": "stream",
     "text": [
      "Min: 19.000\n",
      "Q1: 28.000\n",
      "Median: 40.000\n",
      "Q3: 54.000\n",
      "Max: 65.000\n"
     ]
    }
   ],
   "source": [
    "# 5 number summary showing age of employees\n",
    "\n",
    "data_min, data_max = age.min(), age.max()\n",
    "# print 5-number summary\n",
    "print('Min: %.3f' % data_min)\n",
    "print('Q1: %.3f' % quartiles[0])\n",
    "print('Median: %.3f' % quartiles[1])\n",
    "print('Q3: %.3f' % quartiles[2])\n",
    "print('Max: %.3f' % data_max)"
   ]
  },
  {
   "cell_type": "code",
   "execution_count": 200,
   "metadata": {},
   "outputs": [
    {
     "data": {
      "text/plain": [
       "DescribeResult(nobs=387, minmax=(19.0, 65.0), mean=39.3359173126615, variance=187.7107014231969, skewness=0.24089949963326548, kurtosis=-1.2774685483919945)"
      ]
     },
     "execution_count": 200,
     "metadata": {},
     "output_type": "execute_result"
    }
   ],
   "source": [
    "stats.describe(data_4_list)"
   ]
  },
  {
   "cell_type": "code",
   "execution_count": 201,
   "metadata": {},
   "outputs": [
    {
     "data": {
      "text/plain": [
       "DescribeResult(nobs=108, minmax=(19.0, 65.0), mean=41.083333333333336, variance=181.2172897196262, skewness=0.1079284823688218, kurtosis=-1.1730766254299174)"
      ]
     },
     "execution_count": 201,
     "metadata": {},
     "output_type": "execute_result"
    }
   ],
   "source": [
    "stats.describe(data_5_list)"
   ]
  },
  {
   "cell_type": "code",
   "execution_count": 202,
   "metadata": {},
   "outputs": [
    {
     "data": {
      "text/plain": [
       "DescribeResult(nobs=974, minmax=(19.0, 65.0), mean=40.13552361396304, variance=187.37524242852712, skewness=0.15678013489932646, kurtosis=-1.2986668485275505)"
      ]
     },
     "execution_count": 202,
     "metadata": {},
     "output_type": "execute_result"
    }
   ],
   "source": [
    "stats.describe(data_3_4_5_list)"
   ]
  },
  {
   "cell_type": "code",
   "execution_count": 203,
   "metadata": {},
   "outputs": [
    {
     "data": {
      "text/html": [
       "<div>\n",
       "<style scoped>\n",
       "    .dataframe tbody tr th:only-of-type {\n",
       "        vertical-align: middle;\n",
       "    }\n",
       "\n",
       "    .dataframe tbody tr th {\n",
       "        vertical-align: top;\n",
       "    }\n",
       "\n",
       "    .dataframe thead tr th {\n",
       "        text-align: left;\n",
       "    }\n",
       "\n",
       "    .dataframe thead tr:last-of-type th {\n",
       "        text-align: right;\n",
       "    }\n",
       "</style>\n",
       "<table border=\"1\" class=\"dataframe\">\n",
       "  <thead>\n",
       "    <tr>\n",
       "      <th></th>\n",
       "      <th colspan=\"4\" halign=\"left\">Pay_Scale</th>\n",
       "    </tr>\n",
       "    <tr>\n",
       "      <th>Pay_Scale</th>\n",
       "      <th>7.0</th>\n",
       "      <th>8.0</th>\n",
       "      <th>9.0</th>\n",
       "      <th>10.0</th>\n",
       "    </tr>\n",
       "    <tr>\n",
       "      <th>Education_Level</th>\n",
       "      <th></th>\n",
       "      <th></th>\n",
       "      <th></th>\n",
       "      <th></th>\n",
       "    </tr>\n",
       "  </thead>\n",
       "  <tbody>\n",
       "    <tr>\n",
       "      <th>1</th>\n",
       "      <td>39</td>\n",
       "      <td>55</td>\n",
       "      <td>23</td>\n",
       "      <td>9</td>\n",
       "    </tr>\n",
       "    <tr>\n",
       "      <th>2</th>\n",
       "      <td>33</td>\n",
       "      <td>52</td>\n",
       "      <td>23</td>\n",
       "      <td>7</td>\n",
       "    </tr>\n",
       "    <tr>\n",
       "      <th>3</th>\n",
       "      <td>132</td>\n",
       "      <td>226</td>\n",
       "      <td>94</td>\n",
       "      <td>52</td>\n",
       "    </tr>\n",
       "    <tr>\n",
       "      <th>4</th>\n",
       "      <td>115</td>\n",
       "      <td>192</td>\n",
       "      <td>77</td>\n",
       "      <td>28</td>\n",
       "    </tr>\n",
       "    <tr>\n",
       "      <th>5</th>\n",
       "      <td>33</td>\n",
       "      <td>47</td>\n",
       "      <td>22</td>\n",
       "      <td>9</td>\n",
       "    </tr>\n",
       "  </tbody>\n",
       "</table>\n",
       "</div>"
      ],
      "text/plain": [
       "                Pay_Scale               \n",
       "Pay_Scale            7.0  8.0  9.0  10.0\n",
       "Education_Level                         \n",
       "1                      39   55   23    9\n",
       "2                      33   52   23    7\n",
       "3                     132  226   94   52\n",
       "4                     115  192   77   28\n",
       "5                      33   47   22    9"
      ]
     },
     "execution_count": 203,
     "metadata": {},
     "output_type": "execute_result"
    }
   ],
   "source": [
    "high_pay.pivot_table(index='Education_Level', columns='Pay_Scale', aggfunc={'Pay_Scale':len}, fill_value=0)"
   ]
  },
  {
   "cell_type": "code",
   "execution_count": 204,
   "metadata": {},
   "outputs": [],
   "source": [
    "# high_pay.count() =1268"
   ]
  },
  {
   "cell_type": "code",
   "execution_count": 205,
   "metadata": {},
   "outputs": [],
   "source": [
    "# pct_high_pay_ed_3=504/1268  = 0.39747634069400634"
   ]
  },
  {
   "cell_type": "code",
   "execution_count": 206,
   "metadata": {},
   "outputs": [],
   "source": [
    "# pct_high_pay_ed_4= 412/1268   = 0.3249211356466877"
   ]
  },
  {
   "cell_type": "code",
   "execution_count": 207,
   "metadata": {},
   "outputs": [],
   "source": [
    "# pct_high_pay_ed_5 = 111/1268  = 0.08753943217665615"
   ]
  },
  {
   "cell_type": "code",
   "execution_count": 208,
   "metadata": {},
   "outputs": [],
   "source": [
    "pct_high_pay_high_ed=[0.39747634069400634,0.3249211356466877, 0.08753943217665615]"
   ]
  },
  {
   "cell_type": "code",
   "execution_count": 209,
   "metadata": {},
   "outputs": [],
   "source": [
    "pos=[2,4,6]"
   ]
  },
  {
   "cell_type": "code",
   "execution_count": 210,
   "metadata": {},
   "outputs": [],
   "source": [
    "bars=('Educ Level 3', 'Educ Level 4', 'Educ Level 5') "
   ]
  },
  {
   "cell_type": "code",
   "execution_count": 211,
   "metadata": {},
   "outputs": [
    {
     "data": {
      "image/png": "[encoded data removed]",
      "text/plain": [
       "<Figure size 432x288 with 1 Axes>"
      ]
     },
     "metadata": {
      "needs_background": "light"
     },
     "output_type": "display_data"
    }
   ],
   "source": [
    "plt.clf()\n",
    "plt.bar(pos, pct_high_pay_high_ed, color=['deepskyblue', 'lightskyblue', 'lightskyblue'])\n",
    "plt.xticks(pos, bars, rotation=90, fontsize=10)\n",
    "plt.ylabel(\"By Percentage\")\n",
    "plt.title(\"Highly Paid Employees by Education Level\")\n",
    "plt.savefig(\"high_paid_by_Ed.jpg\")\n",
    "plt.show()"
   ]
  },
  {
   "cell_type": "code",
   "execution_count": 212,
   "metadata": {},
   "outputs": [
    {
     "data": {
      "text/plain": [
       "1    1941\n",
       "0    1059\n",
       "Name: Relationship_Status, dtype: int64"
      ]
     },
     "execution_count": 212,
     "metadata": {},
     "output_type": "execute_result"
    }
   ],
   "source": [
    "df.Relationship_Status.value_counts()\n",
    "# single =0, married =1"
   ]
  },
  {
   "cell_type": "code",
   "execution_count": 213,
   "metadata": {},
   "outputs": [],
   "source": [
    "# Below let's find the relationship between relationship status and wlb"
   ]
  },
  {
   "cell_type": "code",
   "execution_count": 214,
   "metadata": {},
   "outputs": [],
   "source": [
    "data_crosstab = pd.crosstab(df['Relationship_Status'],\n",
    "                            df['Work_Life_balance'], \n",
    "                               margins = False)"
   ]
  },
  {
   "cell_type": "code",
   "execution_count": 215,
   "metadata": {},
   "outputs": [
    {
     "data": {
      "text/html": [
       "<div>\n",
       "<style scoped>\n",
       "    .dataframe tbody tr th:only-of-type {\n",
       "        vertical-align: middle;\n",
       "    }\n",
       "\n",
       "    .dataframe tbody tr th {\n",
       "        vertical-align: top;\n",
       "    }\n",
       "\n",
       "    .dataframe thead th {\n",
       "        text-align: right;\n",
       "    }\n",
       "</style>\n",
       "<table border=\"1\" class=\"dataframe\">\n",
       "  <thead>\n",
       "    <tr style=\"text-align: right;\">\n",
       "      <th>Work_Life_balance</th>\n",
       "      <th>1.0</th>\n",
       "      <th>2.0</th>\n",
       "      <th>3.0</th>\n",
       "      <th>4.0</th>\n",
       "      <th>5.0</th>\n",
       "    </tr>\n",
       "    <tr>\n",
       "      <th>Relationship_Status</th>\n",
       "      <th></th>\n",
       "      <th></th>\n",
       "      <th></th>\n",
       "      <th></th>\n",
       "      <th></th>\n",
       "    </tr>\n",
       "  </thead>\n",
       "  <tbody>\n",
       "    <tr>\n",
       "      <th>0</th>\n",
       "      <td>332</td>\n",
       "      <td>226</td>\n",
       "      <td>294</td>\n",
       "      <td>183</td>\n",
       "      <td>24</td>\n",
       "    </tr>\n",
       "    <tr>\n",
       "      <th>1</th>\n",
       "      <td>577</td>\n",
       "      <td>446</td>\n",
       "      <td>541</td>\n",
       "      <td>339</td>\n",
       "      <td>33</td>\n",
       "    </tr>\n",
       "  </tbody>\n",
       "</table>\n",
       "</div>"
      ],
      "text/plain": [
       "Work_Life_balance    1.0  2.0  3.0  4.0  5.0\n",
       "Relationship_Status                         \n",
       "0                    332  226  294  183   24\n",
       "1                    577  446  541  339   33"
      ]
     },
     "execution_count": 215,
     "metadata": {},
     "output_type": "execute_result"
    }
   ],
   "source": [
    "data_crosstab"
   ]
  },
  {
   "cell_type": "code",
   "execution_count": 216,
   "metadata": {},
   "outputs": [],
   "source": [
    "#######Need to account for % of employees who are single vs married to accuratlely view relationship"
   ]
  },
  {
   "cell_type": "code",
   "execution_count": 217,
   "metadata": {},
   "outputs": [],
   "source": [
    "#data_crosstab = pd.crosstab([data.grade, data.purpose], \n",
    "#                             data.loan_status, margins = False)"
   ]
  },
  {
   "cell_type": "code",
   "execution_count": 218,
   "metadata": {},
   "outputs": [],
   "source": [
    "data_crosstab = pd.crosstab([df.Relationship_Status, df.Work_Life_balance], \n",
    "                             df.Pay_Scale, margins = False)"
   ]
  },
  {
   "cell_type": "code",
   "execution_count": 219,
   "metadata": {},
   "outputs": [
    {
     "data": {
      "text/html": [
       "<div>\n",
       "<style scoped>\n",
       "    .dataframe tbody tr th:only-of-type {\n",
       "        vertical-align: middle;\n",
       "    }\n",
       "\n",
       "    .dataframe tbody tr th {\n",
       "        vertical-align: top;\n",
       "    }\n",
       "\n",
       "    .dataframe thead th {\n",
       "        text-align: right;\n",
       "    }\n",
       "</style>\n",
       "<table border=\"1\" class=\"dataframe\">\n",
       "  <thead>\n",
       "    <tr style=\"text-align: right;\">\n",
       "      <th></th>\n",
       "      <th>Pay_Scale</th>\n",
       "      <th>1.0</th>\n",
       "      <th>2.0</th>\n",
       "      <th>3.0</th>\n",
       "      <th>4.0</th>\n",
       "      <th>5.0</th>\n",
       "      <th>6.0</th>\n",
       "      <th>7.0</th>\n",
       "      <th>8.0</th>\n",
       "      <th>9.0</th>\n",
       "      <th>10.0</th>\n",
       "    </tr>\n",
       "    <tr>\n",
       "      <th>Relationship_Status</th>\n",
       "      <th>Work_Life_balance</th>\n",
       "      <th></th>\n",
       "      <th></th>\n",
       "      <th></th>\n",
       "      <th></th>\n",
       "      <th></th>\n",
       "      <th></th>\n",
       "      <th></th>\n",
       "      <th></th>\n",
       "      <th></th>\n",
       "      <th></th>\n",
       "    </tr>\n",
       "  </thead>\n",
       "  <tbody>\n",
       "    <tr>\n",
       "      <th rowspan=\"5\" valign=\"top\">0</th>\n",
       "      <th>1.0</th>\n",
       "      <td>7</td>\n",
       "      <td>14</td>\n",
       "      <td>12</td>\n",
       "      <td>41</td>\n",
       "      <td>49</td>\n",
       "      <td>53</td>\n",
       "      <td>53</td>\n",
       "      <td>59</td>\n",
       "      <td>34</td>\n",
       "      <td>9</td>\n",
       "    </tr>\n",
       "    <tr>\n",
       "      <th>2.0</th>\n",
       "      <td>8</td>\n",
       "      <td>8</td>\n",
       "      <td>8</td>\n",
       "      <td>32</td>\n",
       "      <td>40</td>\n",
       "      <td>36</td>\n",
       "      <td>23</td>\n",
       "      <td>51</td>\n",
       "      <td>15</td>\n",
       "      <td>5</td>\n",
       "    </tr>\n",
       "    <tr>\n",
       "      <th>3.0</th>\n",
       "      <td>5</td>\n",
       "      <td>10</td>\n",
       "      <td>9</td>\n",
       "      <td>38</td>\n",
       "      <td>45</td>\n",
       "      <td>60</td>\n",
       "      <td>36</td>\n",
       "      <td>53</td>\n",
       "      <td>28</td>\n",
       "      <td>10</td>\n",
       "    </tr>\n",
       "    <tr>\n",
       "      <th>4.0</th>\n",
       "      <td>6</td>\n",
       "      <td>6</td>\n",
       "      <td>9</td>\n",
       "      <td>24</td>\n",
       "      <td>30</td>\n",
       "      <td>38</td>\n",
       "      <td>16</td>\n",
       "      <td>31</td>\n",
       "      <td>15</td>\n",
       "      <td>8</td>\n",
       "    </tr>\n",
       "    <tr>\n",
       "      <th>5.0</th>\n",
       "      <td>1</td>\n",
       "      <td>1</td>\n",
       "      <td>2</td>\n",
       "      <td>2</td>\n",
       "      <td>4</td>\n",
       "      <td>5</td>\n",
       "      <td>3</td>\n",
       "      <td>5</td>\n",
       "      <td>1</td>\n",
       "      <td>0</td>\n",
       "    </tr>\n",
       "    <tr>\n",
       "      <th rowspan=\"5\" valign=\"top\">1</th>\n",
       "      <th>1.0</th>\n",
       "      <td>13</td>\n",
       "      <td>17</td>\n",
       "      <td>20</td>\n",
       "      <td>78</td>\n",
       "      <td>87</td>\n",
       "      <td>96</td>\n",
       "      <td>74</td>\n",
       "      <td>128</td>\n",
       "      <td>40</td>\n",
       "      <td>24</td>\n",
       "    </tr>\n",
       "    <tr>\n",
       "      <th>2.0</th>\n",
       "      <td>10</td>\n",
       "      <td>12</td>\n",
       "      <td>11</td>\n",
       "      <td>63</td>\n",
       "      <td>76</td>\n",
       "      <td>85</td>\n",
       "      <td>43</td>\n",
       "      <td>96</td>\n",
       "      <td>27</td>\n",
       "      <td>22</td>\n",
       "    </tr>\n",
       "    <tr>\n",
       "      <th>3.0</th>\n",
       "      <td>17</td>\n",
       "      <td>18</td>\n",
       "      <td>24</td>\n",
       "      <td>90</td>\n",
       "      <td>82</td>\n",
       "      <td>103</td>\n",
       "      <td>56</td>\n",
       "      <td>87</td>\n",
       "      <td>50</td>\n",
       "      <td>13</td>\n",
       "    </tr>\n",
       "    <tr>\n",
       "      <th>4.0</th>\n",
       "      <td>7</td>\n",
       "      <td>19</td>\n",
       "      <td>16</td>\n",
       "      <td>50</td>\n",
       "      <td>58</td>\n",
       "      <td>54</td>\n",
       "      <td>44</td>\n",
       "      <td>56</td>\n",
       "      <td>23</td>\n",
       "      <td>12</td>\n",
       "    </tr>\n",
       "    <tr>\n",
       "      <th>5.0</th>\n",
       "      <td>0</td>\n",
       "      <td>1</td>\n",
       "      <td>0</td>\n",
       "      <td>4</td>\n",
       "      <td>8</td>\n",
       "      <td>6</td>\n",
       "      <td>4</td>\n",
       "      <td>6</td>\n",
       "      <td>3</td>\n",
       "      <td>1</td>\n",
       "    </tr>\n",
       "  </tbody>\n",
       "</table>\n",
       "</div>"
      ],
      "text/plain": [
       "Pay_Scale                              1.0   2.0   3.0   4.0   5.0   6.0   \\\n",
       "Relationship_Status Work_Life_balance                                       \n",
       "0                   1.0                   7    14    12    41    49    53   \n",
       "                    2.0                   8     8     8    32    40    36   \n",
       "                    3.0                   5    10     9    38    45    60   \n",
       "                    4.0                   6     6     9    24    30    38   \n",
       "                    5.0                   1     1     2     2     4     5   \n",
       "1                   1.0                  13    17    20    78    87    96   \n",
       "                    2.0                  10    12    11    63    76    85   \n",
       "                    3.0                  17    18    24    90    82   103   \n",
       "                    4.0                   7    19    16    50    58    54   \n",
       "                    5.0                   0     1     0     4     8     6   \n",
       "\n",
       "Pay_Scale                              7.0   8.0   9.0   10.0  \n",
       "Relationship_Status Work_Life_balance                          \n",
       "0                   1.0                  53    59    34     9  \n",
       "                    2.0                  23    51    15     5  \n",
       "                    3.0                  36    53    28    10  \n",
       "                    4.0                  16    31    15     8  \n",
       "                    5.0                   3     5     1     0  \n",
       "1                   1.0                  74   128    40    24  \n",
       "                    2.0                  43    96    27    22  \n",
       "                    3.0                  56    87    50    13  \n",
       "                    4.0                  44    56    23    12  \n",
       "                    5.0                   4     6     3     1  "
      ]
     },
     "execution_count": 219,
     "metadata": {},
     "output_type": "execute_result"
    }
   ],
   "source": [
    "data_crosstab"
   ]
  },
  {
   "cell_type": "code",
   "execution_count": 220,
   "metadata": {},
   "outputs": [],
   "source": [
    "data_crosstab = pd.crosstab([df.Relationship_Status, df.Pay_Scale], \n",
    "                             df.Work_Life_balance, margins = False)   "
   ]
  },
  {
   "cell_type": "code",
   "execution_count": 221,
   "metadata": {},
   "outputs": [
    {
     "data": {
      "text/html": [
       "<div>\n",
       "<style scoped>\n",
       "    .dataframe tbody tr th:only-of-type {\n",
       "        vertical-align: middle;\n",
       "    }\n",
       "\n",
       "    .dataframe tbody tr th {\n",
       "        vertical-align: top;\n",
       "    }\n",
       "\n",
       "    .dataframe thead th {\n",
       "        text-align: right;\n",
       "    }\n",
       "</style>\n",
       "<table border=\"1\" class=\"dataframe\">\n",
       "  <thead>\n",
       "    <tr style=\"text-align: right;\">\n",
       "      <th></th>\n",
       "      <th>Work_Life_balance</th>\n",
       "      <th>1.0</th>\n",
       "      <th>2.0</th>\n",
       "      <th>3.0</th>\n",
       "      <th>4.0</th>\n",
       "      <th>5.0</th>\n",
       "    </tr>\n",
       "    <tr>\n",
       "      <th>Relationship_Status</th>\n",
       "      <th>Pay_Scale</th>\n",
       "      <th></th>\n",
       "      <th></th>\n",
       "      <th></th>\n",
       "      <th></th>\n",
       "      <th></th>\n",
       "    </tr>\n",
       "  </thead>\n",
       "  <tbody>\n",
       "    <tr>\n",
       "      <th rowspan=\"10\" valign=\"top\">0</th>\n",
       "      <th>1.0</th>\n",
       "      <td>7</td>\n",
       "      <td>8</td>\n",
       "      <td>5</td>\n",
       "      <td>6</td>\n",
       "      <td>1</td>\n",
       "    </tr>\n",
       "    <tr>\n",
       "      <th>2.0</th>\n",
       "      <td>14</td>\n",
       "      <td>8</td>\n",
       "      <td>10</td>\n",
       "      <td>6</td>\n",
       "      <td>1</td>\n",
       "    </tr>\n",
       "    <tr>\n",
       "      <th>3.0</th>\n",
       "      <td>12</td>\n",
       "      <td>8</td>\n",
       "      <td>9</td>\n",
       "      <td>9</td>\n",
       "      <td>2</td>\n",
       "    </tr>\n",
       "    <tr>\n",
       "      <th>4.0</th>\n",
       "      <td>41</td>\n",
       "      <td>32</td>\n",
       "      <td>38</td>\n",
       "      <td>24</td>\n",
       "      <td>2</td>\n",
       "    </tr>\n",
       "    <tr>\n",
       "      <th>5.0</th>\n",
       "      <td>49</td>\n",
       "      <td>40</td>\n",
       "      <td>45</td>\n",
       "      <td>30</td>\n",
       "      <td>4</td>\n",
       "    </tr>\n",
       "    <tr>\n",
       "      <th>6.0</th>\n",
       "      <td>53</td>\n",
       "      <td>36</td>\n",
       "      <td>60</td>\n",
       "      <td>38</td>\n",
       "      <td>5</td>\n",
       "    </tr>\n",
       "    <tr>\n",
       "      <th>7.0</th>\n",
       "      <td>53</td>\n",
       "      <td>23</td>\n",
       "      <td>36</td>\n",
       "      <td>16</td>\n",
       "      <td>3</td>\n",
       "    </tr>\n",
       "    <tr>\n",
       "      <th>8.0</th>\n",
       "      <td>59</td>\n",
       "      <td>51</td>\n",
       "      <td>53</td>\n",
       "      <td>31</td>\n",
       "      <td>5</td>\n",
       "    </tr>\n",
       "    <tr>\n",
       "      <th>9.0</th>\n",
       "      <td>34</td>\n",
       "      <td>15</td>\n",
       "      <td>28</td>\n",
       "      <td>15</td>\n",
       "      <td>1</td>\n",
       "    </tr>\n",
       "    <tr>\n",
       "      <th>10.0</th>\n",
       "      <td>9</td>\n",
       "      <td>5</td>\n",
       "      <td>10</td>\n",
       "      <td>8</td>\n",
       "      <td>0</td>\n",
       "    </tr>\n",
       "    <tr>\n",
       "      <th rowspan=\"10\" valign=\"top\">1</th>\n",
       "      <th>1.0</th>\n",
       "      <td>13</td>\n",
       "      <td>10</td>\n",
       "      <td>17</td>\n",
       "      <td>7</td>\n",
       "      <td>0</td>\n",
       "    </tr>\n",
       "    <tr>\n",
       "      <th>2.0</th>\n",
       "      <td>17</td>\n",
       "      <td>12</td>\n",
       "      <td>18</td>\n",
       "      <td>19</td>\n",
       "      <td>1</td>\n",
       "    </tr>\n",
       "    <tr>\n",
       "      <th>3.0</th>\n",
       "      <td>20</td>\n",
       "      <td>11</td>\n",
       "      <td>24</td>\n",
       "      <td>16</td>\n",
       "      <td>0</td>\n",
       "    </tr>\n",
       "    <tr>\n",
       "      <th>4.0</th>\n",
       "      <td>78</td>\n",
       "      <td>63</td>\n",
       "      <td>90</td>\n",
       "      <td>50</td>\n",
       "      <td>4</td>\n",
       "    </tr>\n",
       "    <tr>\n",
       "      <th>5.0</th>\n",
       "      <td>87</td>\n",
       "      <td>76</td>\n",
       "      <td>82</td>\n",
       "      <td>58</td>\n",
       "      <td>8</td>\n",
       "    </tr>\n",
       "    <tr>\n",
       "      <th>6.0</th>\n",
       "      <td>96</td>\n",
       "      <td>85</td>\n",
       "      <td>103</td>\n",
       "      <td>54</td>\n",
       "      <td>6</td>\n",
       "    </tr>\n",
       "    <tr>\n",
       "      <th>7.0</th>\n",
       "      <td>74</td>\n",
       "      <td>43</td>\n",
       "      <td>56</td>\n",
       "      <td>44</td>\n",
       "      <td>4</td>\n",
       "    </tr>\n",
       "    <tr>\n",
       "      <th>8.0</th>\n",
       "      <td>128</td>\n",
       "      <td>96</td>\n",
       "      <td>87</td>\n",
       "      <td>56</td>\n",
       "      <td>6</td>\n",
       "    </tr>\n",
       "    <tr>\n",
       "      <th>9.0</th>\n",
       "      <td>40</td>\n",
       "      <td>27</td>\n",
       "      <td>50</td>\n",
       "      <td>23</td>\n",
       "      <td>3</td>\n",
       "    </tr>\n",
       "    <tr>\n",
       "      <th>10.0</th>\n",
       "      <td>24</td>\n",
       "      <td>22</td>\n",
       "      <td>13</td>\n",
       "      <td>12</td>\n",
       "      <td>1</td>\n",
       "    </tr>\n",
       "  </tbody>\n",
       "</table>\n",
       "</div>"
      ],
      "text/plain": [
       "Work_Life_balance              1.0  2.0  3.0  4.0  5.0\n",
       "Relationship_Status Pay_Scale                         \n",
       "0                   1.0          7    8    5    6    1\n",
       "                    2.0         14    8   10    6    1\n",
       "                    3.0         12    8    9    9    2\n",
       "                    4.0         41   32   38   24    2\n",
       "                    5.0         49   40   45   30    4\n",
       "                    6.0         53   36   60   38    5\n",
       "                    7.0         53   23   36   16    3\n",
       "                    8.0         59   51   53   31    5\n",
       "                    9.0         34   15   28   15    1\n",
       "                    10.0         9    5   10    8    0\n",
       "1                   1.0         13   10   17    7    0\n",
       "                    2.0         17   12   18   19    1\n",
       "                    3.0         20   11   24   16    0\n",
       "                    4.0         78   63   90   50    4\n",
       "                    5.0         87   76   82   58    8\n",
       "                    6.0         96   85  103   54    6\n",
       "                    7.0         74   43   56   44    4\n",
       "                    8.0        128   96   87   56    6\n",
       "                    9.0         40   27   50   23    3\n",
       "                    10.0        24   22   13   12    1"
      ]
     },
     "execution_count": 221,
     "metadata": {},
     "output_type": "execute_result"
    }
   ],
   "source": [
    "data_crosstab"
   ]
  },
  {
   "cell_type": "code",
   "execution_count": 222,
   "metadata": {},
   "outputs": [
    {
     "data": {
      "image/png": "[encoded data removed]",
      "text/plain": [
       "<Figure size 432x288 with 1 Axes>"
      ]
     },
     "metadata": {
      "needs_background": "light"
     },
     "output_type": "display_data"
    }
   ],
   "source": [
    "data_crosstab.plot.bar(stacked=True)\n",
    "plt.show()"
   ]
  },
  {
   "cell_type": "code",
   "execution_count": 223,
   "metadata": {},
   "outputs": [],
   "source": [
    "# The below histogram doesn't make much sense, work on this"
   ]
  },
  {
   "cell_type": "code",
   "execution_count": 224,
   "metadata": {},
   "outputs": [
    {
     "data": {
      "image/png": "[encoded data removed]",
      "text/plain": [
       "<Figure size 432x288 with 1 Axes>"
      ]
     },
     "metadata": {
      "needs_background": "light"
     },
     "output_type": "display_data"
    }
   ],
   "source": [
    "x = [data_3_list, data_4_list, data_5_list]\n",
    "plt.hist(x, bins = 1)\n",
    "plt.show()"
   ]
  }
 ],
 "metadata": {
  "kernelspec": {
   "display_name": "Python 3",
   "language": "python",
   "name": "python3"
  },
  "language_info": {
   "codemirror_mode": {
    "name": "ipython",
    "version": 3
   },
   "file_extension": ".py",
   "mimetype": "text/x-python",
   "name": "python",
   "nbconvert_exporter": "python",
   "pygments_lexer": "ipython3",
   "version": "3.8.2"
  }
 },
 "nbformat": 4,
 "nbformat_minor": 4
}
