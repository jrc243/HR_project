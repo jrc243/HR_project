{
 "cells": [
  {
   "cell_type": "markdown",
   "metadata": {},
   "source": [
    "This project focuses on a company dataset found on the data website Kaggle"
   ]
  },
  {
   "cell_type": "markdown",
   "metadata": {},
   "source": [
    "We will explore relationships between several variables including age, gender, education level, skill lebel and business unit. "
   ]
  },
  {
   "cell_type": "markdown",
   "metadata": {},
   "source": [
    "As a beginning data analyst hobbyist I utilized the tools that I felt most effectively visualizes the various relationships in the data. \n",
    "Feel free to leave any comments or suggestions on my project. Thanks for viewing! "
   ]
  },
  {
   "cell_type": "code",
   "execution_count": 1,
   "metadata": {},
   "outputs": [],
   "source": [
    "import pandas as pd"
   ]
  },
  {
   "cell_type": "code",
   "execution_count": 2,
   "metadata": {},
   "outputs": [],
   "source": [
    "import numpy as np"
   ]
  },
  {
   "cell_type": "code",
   "execution_count": 3,
   "metadata": {},
   "outputs": [],
   "source": [
    "import matplotlib.pyplot as plt"
   ]
  },
  {
   "cell_type": "code",
   "execution_count": 4,
   "metadata": {},
   "outputs": [],
   "source": [
    "import seaborn as sns"
   ]
  },
  {
   "cell_type": "code",
   "execution_count": 5,
   "metadata": {},
   "outputs": [],
   "source": [
    "import itertools\n",
    "## used for concatenation"
   ]
  },
  {
   "cell_type": "code",
   "execution_count": 6,
   "metadata": {},
   "outputs": [],
   "source": [
    "from scipy import stats"
   ]
  },
  {
   "cell_type": "code",
   "execution_count": 7,
   "metadata": {},
   "outputs": [],
   "source": [
    "from numpy import percentile"
   ]
  },
  {
   "cell_type": "code",
   "execution_count": 8,
   "metadata": {},
   "outputs": [],
   "source": [
    "df=pd.read_csv(\"Test.csv\")"
   ]
  },
  {
   "cell_type": "markdown",
   "metadata": {},
   "source": [
    "Let's take a look at our dataset"
   ]
  },
  {
   "cell_type": "code",
   "execution_count": 9,
   "metadata": {},
   "outputs": [
    {
     "name": "stdout",
     "output_type": "stream",
     "text": [
      "  Employee_ID Gender   Age  Education_Level Relationship_Status     Hometown  \\\n",
      "0   EID_22713      F  32.0                5              Single  Springfield   \n",
      "1    EID_9658      M  65.0                2              Single      Lebanon   \n",
      "2   EID_22203      M  52.0                3             Married  Springfield   \n",
      "3    EID_7652      M  50.0                5              Single   Washington   \n",
      "4    EID_6516      F  44.0                3             Married     Franklin   \n",
      "\n",
      "        Unit Decision_skill_possess  Time_of_service  Time_since_promotion  \\\n",
      "0        R&D             Conceptual              7.0                     4   \n",
      "1         IT              Directive             41.0                     2   \n",
      "2      Sales              Directive             21.0                     3   \n",
      "3  Marketing             Analytical             11.0                     4   \n",
      "4        R&D             Conceptual             12.0                     4   \n",
      "\n",
      "   ...  Pay_Scale  Compensation_and_Benefits  Work_Life_balance  VAR1    VAR2  \\\n",
      "0  ...        4.0                      type2                1.0     3 -0.9612   \n",
      "1  ...        1.0                      type2                1.0     4 -0.9612   \n",
      "2  ...        8.0                      type3                1.0     4 -0.1048   \n",
      "3  ...        2.0                      type0                4.0     3 -0.1048   \n",
      "4  ...        2.0                      type2                4.0     4  1.6081   \n",
      "\n",
      "     VAR3  VAR4  VAR5  VAR6  VAR7  \n",
      "0 -0.4537   2.0     1     8     4  \n",
      "1  0.7075   1.0     2     8     2  \n",
      "2  0.7075   2.0     1     9     3  \n",
      "3  0.7075   2.0     2     8     3  \n",
      "4  0.7075   2.0     2     7     4  \n",
      "\n",
      "[5 rows x 23 columns]\n"
     ]
    }
   ],
   "source": [
    "print(df.head())"
   ]
  },
  {
   "cell_type": "code",
   "execution_count": 10,
   "metadata": {},
   "outputs": [
    {
     "name": "stdout",
     "output_type": "stream",
     "text": [
      "<class 'pandas.core.frame.DataFrame'>\n",
      "RangeIndex: 3000 entries, 0 to 2999\n",
      "Data columns (total 23 columns):\n",
      " #   Column                     Non-Null Count  Dtype  \n",
      "---  ------                     --------------  -----  \n",
      " 0   Employee_ID                3000 non-null   object \n",
      " 1   Gender                     3000 non-null   object \n",
      " 2   Age                        2839 non-null   float64\n",
      " 3   Education_Level            3000 non-null   int64  \n",
      " 4   Relationship_Status        3000 non-null   object \n",
      " 5   Hometown                   3000 non-null   object \n",
      " 6   Unit                       3000 non-null   object \n",
      " 7   Decision_skill_possess     3000 non-null   object \n",
      " 8   Time_of_service            2948 non-null   float64\n",
      " 9   Time_since_promotion       3000 non-null   int64  \n",
      " 10  growth_rate                3000 non-null   int64  \n",
      " 11  Travel_Rate                3000 non-null   int64  \n",
      " 12  Post_Level                 3000 non-null   int64  \n",
      " 13  Pay_Scale                  2997 non-null   float64\n",
      " 14  Compensation_and_Benefits  3000 non-null   object \n",
      " 15  Work_Life_balance          2995 non-null   float64\n",
      " 16  VAR1                       3000 non-null   int64  \n",
      " 17  VAR2                       2783 non-null   float64\n",
      " 18  VAR3                       3000 non-null   float64\n",
      " 19  VAR4                       2702 non-null   float64\n",
      " 20  VAR5                       3000 non-null   int64  \n",
      " 21  VAR6                       3000 non-null   int64  \n",
      " 22  VAR7                       3000 non-null   int64  \n",
      "dtypes: float64(7), int64(9), object(7)\n",
      "memory usage: 457.1+ KB\n"
     ]
    }
   ],
   "source": [
    "df.info()"
   ]
  },
  {
   "cell_type": "code",
   "execution_count": 11,
   "metadata": {},
   "outputs": [
    {
     "data": {
      "text/plain": [
       "Employee_ID                    0\n",
       "Gender                         0\n",
       "Age                          161\n",
       "Education_Level                0\n",
       "Relationship_Status            0\n",
       "Hometown                       0\n",
       "Unit                           0\n",
       "Decision_skill_possess         0\n",
       "Time_of_service               52\n",
       "Time_since_promotion           0\n",
       "growth_rate                    0\n",
       "Travel_Rate                    0\n",
       "Post_Level                     0\n",
       "Pay_Scale                      3\n",
       "Compensation_and_Benefits      0\n",
       "Work_Life_balance              5\n",
       "VAR1                           0\n",
       "VAR2                         217\n",
       "VAR3                           0\n",
       "VAR4                         298\n",
       "VAR5                           0\n",
       "VAR6                           0\n",
       "VAR7                           0\n",
       "dtype: int64"
      ]
     },
     "execution_count": 11,
     "metadata": {},
     "output_type": "execute_result"
    }
   ],
   "source": [
    "df.isnull().sum(axis = 0)\n",
    "# a view of columns with null values"
   ]
  },
  {
   "cell_type": "code",
   "execution_count": 12,
   "metadata": {},
   "outputs": [
    {
     "data": {
      "text/html": [
       "<div>\n",
       "<style scoped>\n",
       "    .dataframe tbody tr th:only-of-type {\n",
       "        vertical-align: middle;\n",
       "    }\n",
       "\n",
       "    .dataframe tbody tr th {\n",
       "        vertical-align: top;\n",
       "    }\n",
       "\n",
       "    .dataframe thead th {\n",
       "        text-align: right;\n",
       "    }\n",
       "</style>\n",
       "<table border=\"1\" class=\"dataframe\">\n",
       "  <thead>\n",
       "    <tr style=\"text-align: right;\">\n",
       "      <th></th>\n",
       "      <th>Age</th>\n",
       "      <th>Education_Level</th>\n",
       "      <th>Time_of_service</th>\n",
       "      <th>Time_since_promotion</th>\n",
       "      <th>growth_rate</th>\n",
       "      <th>Travel_Rate</th>\n",
       "      <th>Post_Level</th>\n",
       "      <th>Pay_Scale</th>\n",
       "      <th>Work_Life_balance</th>\n",
       "      <th>VAR1</th>\n",
       "      <th>VAR2</th>\n",
       "      <th>VAR3</th>\n",
       "      <th>VAR4</th>\n",
       "      <th>VAR5</th>\n",
       "      <th>VAR6</th>\n",
       "      <th>VAR7</th>\n",
       "    </tr>\n",
       "  </thead>\n",
       "  <tbody>\n",
       "    <tr>\n",
       "      <th>count</th>\n",
       "      <td>2839.000000</td>\n",
       "      <td>3000.000000</td>\n",
       "      <td>2948.000000</td>\n",
       "      <td>3000.000000</td>\n",
       "      <td>3000.000000</td>\n",
       "      <td>3000.000000</td>\n",
       "      <td>3000.000000</td>\n",
       "      <td>2997.000000</td>\n",
       "      <td>2995.000000</td>\n",
       "      <td>3000.000000</td>\n",
       "      <td>2783.000000</td>\n",
       "      <td>3000.000000</td>\n",
       "      <td>2702.000000</td>\n",
       "      <td>3000.000000</td>\n",
       "      <td>3000.000000</td>\n",
       "      <td>3000.000000</td>\n",
       "    </tr>\n",
       "    <tr>\n",
       "      <th>mean</th>\n",
       "      <td>39.797816</td>\n",
       "      <td>3.226333</td>\n",
       "      <td>13.403664</td>\n",
       "      <td>2.405333</td>\n",
       "      <td>46.878000</td>\n",
       "      <td>0.827333</td>\n",
       "      <td>2.794667</td>\n",
       "      <td>6.060727</td>\n",
       "      <td>2.380968</td>\n",
       "      <td>3.067000</td>\n",
       "      <td>0.027530</td>\n",
       "      <td>0.012328</td>\n",
       "      <td>1.907476</td>\n",
       "      <td>2.836333</td>\n",
       "      <td>7.130333</td>\n",
       "      <td>3.232333</td>\n",
       "    </tr>\n",
       "    <tr>\n",
       "      <th>std</th>\n",
       "      <td>13.501754</td>\n",
       "      <td>1.065904</td>\n",
       "      <td>10.189245</td>\n",
       "      <td>1.150426</td>\n",
       "      <td>16.051947</td>\n",
       "      <td>0.642643</td>\n",
       "      <td>1.188125</td>\n",
       "      <td>2.096866</td>\n",
       "      <td>1.142826</td>\n",
       "      <td>0.821017</td>\n",
       "      <td>0.999799</td>\n",
       "      <td>0.999734</td>\n",
       "      <td>0.544526</td>\n",
       "      <td>0.940837</td>\n",
       "      <td>1.152876</td>\n",
       "      <td>0.903305</td>\n",
       "    </tr>\n",
       "    <tr>\n",
       "      <th>min</th>\n",
       "      <td>19.000000</td>\n",
       "      <td>1.000000</td>\n",
       "      <td>0.000000</td>\n",
       "      <td>0.000000</td>\n",
       "      <td>20.000000</td>\n",
       "      <td>0.000000</td>\n",
       "      <td>1.000000</td>\n",
       "      <td>1.000000</td>\n",
       "      <td>1.000000</td>\n",
       "      <td>1.000000</td>\n",
       "      <td>-1.817600</td>\n",
       "      <td>-2.776200</td>\n",
       "      <td>1.000000</td>\n",
       "      <td>1.000000</td>\n",
       "      <td>5.000000</td>\n",
       "      <td>1.000000</td>\n",
       "    </tr>\n",
       "    <tr>\n",
       "      <th>25%</th>\n",
       "      <td>27.000000</td>\n",
       "      <td>3.000000</td>\n",
       "      <td>5.000000</td>\n",
       "      <td>1.000000</td>\n",
       "      <td>33.000000</td>\n",
       "      <td>0.000000</td>\n",
       "      <td>2.000000</td>\n",
       "      <td>5.000000</td>\n",
       "      <td>1.000000</td>\n",
       "      <td>3.000000</td>\n",
       "      <td>-0.961200</td>\n",
       "      <td>-0.453700</td>\n",
       "      <td>2.000000</td>\n",
       "      <td>2.000000</td>\n",
       "      <td>6.000000</td>\n",
       "      <td>3.000000</td>\n",
       "    </tr>\n",
       "    <tr>\n",
       "      <th>50%</th>\n",
       "      <td>38.000000</td>\n",
       "      <td>3.000000</td>\n",
       "      <td>10.000000</td>\n",
       "      <td>2.000000</td>\n",
       "      <td>47.000000</td>\n",
       "      <td>1.000000</td>\n",
       "      <td>3.000000</td>\n",
       "      <td>6.000000</td>\n",
       "      <td>2.000000</td>\n",
       "      <td>3.000000</td>\n",
       "      <td>-0.104800</td>\n",
       "      <td>-0.453700</td>\n",
       "      <td>2.000000</td>\n",
       "      <td>3.000000</td>\n",
       "      <td>7.000000</td>\n",
       "      <td>3.000000</td>\n",
       "    </tr>\n",
       "    <tr>\n",
       "      <th>75%</th>\n",
       "      <td>52.000000</td>\n",
       "      <td>4.000000</td>\n",
       "      <td>21.000000</td>\n",
       "      <td>3.000000</td>\n",
       "      <td>60.000000</td>\n",
       "      <td>1.000000</td>\n",
       "      <td>4.000000</td>\n",
       "      <td>8.000000</td>\n",
       "      <td>3.000000</td>\n",
       "      <td>3.000000</td>\n",
       "      <td>0.751600</td>\n",
       "      <td>0.707500</td>\n",
       "      <td>2.000000</td>\n",
       "      <td>3.000000</td>\n",
       "      <td>8.000000</td>\n",
       "      <td>4.000000</td>\n",
       "    </tr>\n",
       "    <tr>\n",
       "      <th>max</th>\n",
       "      <td>65.000000</td>\n",
       "      <td>5.000000</td>\n",
       "      <td>43.000000</td>\n",
       "      <td>4.000000</td>\n",
       "      <td>74.000000</td>\n",
       "      <td>2.000000</td>\n",
       "      <td>5.000000</td>\n",
       "      <td>10.000000</td>\n",
       "      <td>5.000000</td>\n",
       "      <td>5.000000</td>\n",
       "      <td>1.608100</td>\n",
       "      <td>1.868800</td>\n",
       "      <td>3.000000</td>\n",
       "      <td>5.000000</td>\n",
       "      <td>9.000000</td>\n",
       "      <td>5.000000</td>\n",
       "    </tr>\n",
       "  </tbody>\n",
       "</table>\n",
       "</div>"
      ],
      "text/plain": [
       "               Age  Education_Level  Time_of_service  Time_since_promotion  \\\n",
       "count  2839.000000      3000.000000      2948.000000           3000.000000   \n",
       "mean     39.797816         3.226333        13.403664              2.405333   \n",
       "std      13.501754         1.065904        10.189245              1.150426   \n",
       "min      19.000000         1.000000         0.000000              0.000000   \n",
       "25%      27.000000         3.000000         5.000000              1.000000   \n",
       "50%      38.000000         3.000000        10.000000              2.000000   \n",
       "75%      52.000000         4.000000        21.000000              3.000000   \n",
       "max      65.000000         5.000000        43.000000              4.000000   \n",
       "\n",
       "       growth_rate  Travel_Rate   Post_Level    Pay_Scale  Work_Life_balance  \\\n",
       "count  3000.000000  3000.000000  3000.000000  2997.000000        2995.000000   \n",
       "mean     46.878000     0.827333     2.794667     6.060727           2.380968   \n",
       "std      16.051947     0.642643     1.188125     2.096866           1.142826   \n",
       "min      20.000000     0.000000     1.000000     1.000000           1.000000   \n",
       "25%      33.000000     0.000000     2.000000     5.000000           1.000000   \n",
       "50%      47.000000     1.000000     3.000000     6.000000           2.000000   \n",
       "75%      60.000000     1.000000     4.000000     8.000000           3.000000   \n",
       "max      74.000000     2.000000     5.000000    10.000000           5.000000   \n",
       "\n",
       "              VAR1         VAR2         VAR3         VAR4         VAR5  \\\n",
       "count  3000.000000  2783.000000  3000.000000  2702.000000  3000.000000   \n",
       "mean      3.067000     0.027530     0.012328     1.907476     2.836333   \n",
       "std       0.821017     0.999799     0.999734     0.544526     0.940837   \n",
       "min       1.000000    -1.817600    -2.776200     1.000000     1.000000   \n",
       "25%       3.000000    -0.961200    -0.453700     2.000000     2.000000   \n",
       "50%       3.000000    -0.104800    -0.453700     2.000000     3.000000   \n",
       "75%       3.000000     0.751600     0.707500     2.000000     3.000000   \n",
       "max       5.000000     1.608100     1.868800     3.000000     5.000000   \n",
       "\n",
       "              VAR6         VAR7  \n",
       "count  3000.000000  3000.000000  \n",
       "mean      7.130333     3.232333  \n",
       "std       1.152876     0.903305  \n",
       "min       5.000000     1.000000  \n",
       "25%       6.000000     3.000000  \n",
       "50%       7.000000     3.000000  \n",
       "75%       8.000000     4.000000  \n",
       "max       9.000000     5.000000  "
      ]
     },
     "execution_count": 12,
     "metadata": {},
     "output_type": "execute_result"
    }
   ],
   "source": [
    "df.describe()"
   ]
  },
  {
   "cell_type": "markdown",
   "metadata": {},
   "source": [
    "  Let's view some data on age of company employees"
   ]
  },
  {
   "cell_type": "code",
   "execution_count": 13,
   "metadata": {},
   "outputs": [],
   "source": [
    "age=df['Age']"
   ]
  },
  {
   "cell_type": "code",
   "execution_count": 14,
   "metadata": {},
   "outputs": [],
   "source": [
    "ages=age[~pd.isnull(age)]\n",
    "# This looks at the age column, ignoring the null values."
   ]
  },
  {
   "cell_type": "code",
   "execution_count": 15,
   "metadata": {},
   "outputs": [
    {
     "name": "stdout",
     "output_type": "stream",
     "text": [
      "Min: 19\n",
      "Q1: 27.000\n",
      "Median: 38\n",
      "Q3: 52\n",
      "Max: 65\n"
     ]
    }
   ],
   "source": [
    "# 5 number summary showing age of employees\n",
    "\n",
    "data_min, data_max = ages.min(), ages.max()\n",
    "quartiles = percentile(ages, [25, 50, 75])\n",
    "# print 5-number summary\n",
    "print('Min: %.0f' % data_min)\n",
    "print('Q1: %.3f' % quartiles[0])\n",
    "print('Median: %.0f' % quartiles[1])\n",
    "print('Q3: %.0f' % quartiles[2])\n",
    "print('Max: %.0f' % data_max)"
   ]
  },
  {
   "cell_type": "code",
   "execution_count": 16,
   "metadata": {},
   "outputs": [],
   "source": [
    "# df.Age.value_counts(ascending=True)\n",
    "# Shows number of employees at each age, I will use this data for creating the age groups below"
   ]
  },
  {
   "cell_type": "code",
   "execution_count": 17,
   "metadata": {},
   "outputs": [],
   "source": [
    "## To find percentages, divide each age group by 2839 (total employees 300 -162 null values)"
   ]
  },
  {
   "cell_type": "code",
   "execution_count": 18,
   "metadata": {},
   "outputs": [
    {
     "data": {
      "text/plain": [
       "112986.0"
      ]
     },
     "execution_count": 18,
     "metadata": {},
     "output_type": "execute_result"
    }
   ],
   "source": [
    "np.sum(df.Age)"
   ]
  },
  {
   "cell_type": "code",
   "execution_count": 19,
   "metadata": {},
   "outputs": [],
   "source": [
    "age_19_to_24=[62,54,71,112,60,79]\n",
    "# sum 438  #438/2839 = 0.15427968"
   ]
  },
  {
   "cell_type": "code",
   "execution_count": 20,
   "metadata": {},
   "outputs": [],
   "source": [
    "age_25_to_34=[85,95,105,83,39,95,65,81,41,41]\n",
    "# sum =730  # 730/2839 = 0.25713279"
   ]
  },
  {
   "cell_type": "code",
   "execution_count": 21,
   "metadata": {},
   "outputs": [],
   "source": [
    "age_35_to_44=[83,32,94,46,37,42,49,84,44,38]\n",
    "# sum =549  # 549/2839 =0.19337795"
   ]
  },
  {
   "cell_type": "code",
   "execution_count": 22,
   "metadata": {},
   "outputs": [],
   "source": [
    "age_45_to_54=[90,34,77,43,40,55,39,100,45,92]\n",
    "# sum =615  # 615/2839 = 0.211662557"
   ]
  },
  {
   "cell_type": "code",
   "execution_count": 23,
   "metadata": {},
   "outputs": [],
   "source": [
    "age_55_and_over=[41,46,44,48,58,89,28,32,30,30,61]\n",
    "# sum =507  # 507/2839 = 0.17858401"
   ]
  },
  {
   "cell_type": "code",
   "execution_count": 24,
   "metadata": {},
   "outputs": [],
   "source": [
    "#by pct\n",
    "ee_age_group_pcts=[0.154,0.257,0.193,0.212,0.179]"
   ]
  },
  {
   "cell_type": "code",
   "execution_count": 25,
   "metadata": {},
   "outputs": [],
   "source": [
    "#2019 US Labor force data: \n",
    "us_age_group_pcts=[0.129,0.227,0.208,0.201,0.234]"
   ]
  },
  {
   "cell_type": "code",
   "execution_count": 26,
   "metadata": {},
   "outputs": [],
   "source": [
    "pos=[2,4,6,8,10]"
   ]
  },
  {
   "cell_type": "code",
   "execution_count": 27,
   "metadata": {},
   "outputs": [],
   "source": [
    "bars=('19 to 24', '25 to 34', '35 to 44', '45 to 54', '55 and older')"
   ]
  },
  {
   "cell_type": "code",
   "execution_count": 28,
   "metadata": {},
   "outputs": [
    {
     "data": {
      "text/plain": [
       "<Figure size 432x288 with 0 Axes>"
      ]
     },
     "metadata": {},
     "output_type": "display_data"
    },
    {
     "data": {
      "image/png": "[encoded data removed]",
      "text/plain": [
       "<Figure size 576x576 with 1 Axes>"
      ]
     },
     "metadata": {
      "needs_background": "light"
     },
     "output_type": "display_data"
    }
   ],
   "source": [
    "plt.clf()\n",
    "fig= plt.figure(figsize=(8,8))\n",
    "plt.bar(pos, ee_age_group_pcts)\n",
    "plt.xticks(pos, bars)\n",
    "plt.ylabel(\"(By Percentage)\")\n",
    "plt.title(\"Company Employeess by Age Group\")\n",
    "plt.savefig(\"ees_by_age_group.jpg\")\n",
    "plt.show()\n"
   ]
  },
  {
   "cell_type": "markdown",
   "metadata": {},
   "source": [
    "We can view the US Labor statistics for employment by age groups for comparison: https://www.bls.gov/emp/graphics/2019/labor-force-share-by-age-group.htm"
   ]
  },
  {
   "cell_type": "markdown",
   "metadata": {},
   "source": [
    "It appears that this company has a slightly younger employee base vs. the US labor pool"
   ]
  },
  {
   "cell_type": "code",
   "execution_count": 29,
   "metadata": {},
   "outputs": [
    {
     "data": {
      "text/plain": [
       "<Figure size 432x288 with 0 Axes>"
      ]
     },
     "metadata": {},
     "output_type": "display_data"
    },
    {
     "data": {
      "image/png": "[encoded data removed]",
      "text/plain": [
       "<Figure size 576x576 with 1 Axes>"
      ]
     },
     "metadata": {
      "needs_background": "light"
     },
     "output_type": "display_data"
    }
   ],
   "source": [
    "plt.clf()\n",
    "width = 0.8\n",
    "\n",
    "ee_age_group_pcts=[0.154,0.257,0.193,0.212,0.179]\n",
    "us_age_group_pcts=[0.129,0.227,0.208,0.201,0.234]\n",
    "\n",
    "pos=[2, 4, 6, 8, 10]\n",
    "bars=('19 to 24', '25 to 34', '35 to 44', '45 to 54', '55 and older')\n",
    "fig= plt.figure(figsize=(8,8))\n",
    "\n",
    "plt.bar(pos, ee_age_group_pcts, width=width, \n",
    "        color='royalblue', label='Company')\n",
    "plt.bar([i+0.25*width for i in pos], us_age_group_pcts, \n",
    "       width=0.5*width, color='r', alpha=0.5, label='US')\n",
    "plt.ylabel(\"(By Percentage)\")\n",
    "plt.title(\"Company Vs. U.S. labor by Age Group\")\n",
    "plt.xticks(pos, bars )\n",
    "\n",
    "\n",
    "plt.legend()\n",
    "plt.savefig(\"Company_vs_US_labor_by_age.jpg\")\n",
    "plt.show()"
   ]
  },
  {
   "cell_type": "markdown",
   "metadata": {},
   "source": [
    "---------------------------------------------------"
   ]
  },
  {
   "cell_type": "markdown",
   "metadata": {},
   "source": [
    "How about the gender ratio at the company? There are significantly more females than males"
   ]
  },
  {
   "cell_type": "code",
   "execution_count": 30,
   "metadata": {},
   "outputs": [],
   "source": [
    "df['Gender'] =df['Gender'].replace({'M': 0, 'F' :1})"
   ]
  },
  {
   "cell_type": "code",
   "execution_count": 31,
   "metadata": {},
   "outputs": [
    {
     "data": {
      "text/plain": [
       "1    1728\n",
       "0    1272\n",
       "Name: Gender, dtype: int64"
      ]
     },
     "execution_count": 31,
     "metadata": {},
     "output_type": "execute_result"
    }
   ],
   "source": [
    "df.Gender.value_counts()\n",
    "# 1728: 57.6% = Female\n",
    "# 1272: 42.4% = Male"
   ]
  },
  {
   "cell_type": "code",
   "execution_count": 32,
   "metadata": {},
   "outputs": [
    {
     "data": {
      "text/plain": [
       "<Figure size 432x288 with 0 Axes>"
      ]
     },
     "metadata": {},
     "output_type": "display_data"
    },
    {
     "data": {
      "image/png": "[encoded data removed]",
      "text/plain": [
       "<Figure size 576x576 with 1 Axes>"
      ]
     },
     "metadata": {
      "needs_background": "light"
     },
     "output_type": "display_data"
    }
   ],
   "source": [
    "ee_gender_pcts=[0.576, 0.424]\n",
    "x_pos=[1,2]\n",
    "bars=('Female', 'Male')\n",
    "\n",
    "plt.clf()\n",
    "fig= plt.figure(figsize=(8,8))\n",
    "plt.bar(x_pos, ee_gender_pcts, color = ['lightpink', 'steelblue'], width= [0.75, 0.75])\n",
    "plt.xticks(x_pos, bars)\n",
    "plt.ylabel(\"(By Percentage)\")\n",
    "plt.title(\"Company Employees by Gender\")\n",
    "plt.savefig(\"ees_by_gender.jpg\")\n",
    "plt.show()"
   ]
  },
  {
   "cell_type": "markdown",
   "metadata": {},
   "source": [
    "----------------------------------------------------------"
   ]
  },
  {
   "cell_type": "markdown",
   "metadata": {},
   "source": [
    "Looking at realationship status can be helpful to gain insight into the group dynamics within a company. We can see that approximately 65% of employees are married."
   ]
  },
  {
   "cell_type": "code",
   "execution_count": 33,
   "metadata": {},
   "outputs": [
    {
     "data": {
      "text/plain": [
       "Married    1941\n",
       "Single     1059\n",
       "Name: Relationship_Status, dtype: int64"
      ]
     },
     "execution_count": 33,
     "metadata": {},
     "output_type": "execute_result"
    }
   ],
   "source": [
    "df.Relationship_Status.value_counts()\n",
    "# single: 1059:  =35.3% of employees are single\n",
    "# Married: 1941:  =64.7% of employees are married"
   ]
  },
  {
   "cell_type": "code",
   "execution_count": 34,
   "metadata": {},
   "outputs": [
    {
     "data": {
      "text/plain": [
       "<Figure size 432x288 with 0 Axes>"
      ]
     },
     "metadata": {},
     "output_type": "display_data"
    },
    {
     "data": {
      "image/png": "[encoded data removed]",
      "text/plain": [
       "<Figure size 576x576 with 1 Axes>"
      ]
     },
     "metadata": {
      "needs_background": "light"
     },
     "output_type": "display_data"
    }
   ],
   "source": [
    "ee_relationship_pcts=[0.353, 0.647]\n",
    "x_pos=[1,2]\n",
    "bars=('Single', 'Married')\n",
    "\n",
    "plt.clf()\n",
    "fig= plt.figure(figsize=(8,8))\n",
    "plt.bar(x_pos, ee_relationship_pcts, color = ['lightblue', 'steelblue'], width= [0.75, 0.75])\n",
    "plt.xticks(x_pos, bars)\n",
    "plt.ylabel(\"(By Percentage)\")\n",
    "plt.title(\"Company Employees by Relationship Status\")\n",
    "plt.savefig(\"ees_by_relationship_status.jpg\")\n",
    "plt.show()"
   ]
  },
  {
   "cell_type": "markdown",
   "metadata": {},
   "source": [
    "--------------------------------------------"
   ]
  },
  {
   "cell_type": "code",
   "execution_count": 35,
   "metadata": {},
   "outputs": [],
   "source": [
    "# We will create a male and female dataframes below which we can use for later data analysis\n",
    "df['Relationship_Status'] =df['Relationship_Status'].replace({'Single': 0, 'Married' :1})"
   ]
  },
  {
   "cell_type": "code",
   "execution_count": 36,
   "metadata": {},
   "outputs": [],
   "source": [
    "gender_male=df[df['Gender']==0]\n",
    "# gender_male.count() =1272 Males"
   ]
  },
  {
   "cell_type": "code",
   "execution_count": 37,
   "metadata": {},
   "outputs": [],
   "source": [
    "gender_female=df[df['Gender']==1]\n",
    "# gender_female.count() = 1728"
   ]
  },
  {
   "cell_type": "markdown",
   "metadata": {},
   "source": [
    "--------------------------------------------"
   ]
  },
  {
   "cell_type": "markdown",
   "metadata": {},
   "source": [
    "Now let's take a look at the Pay Scale at the company."
   ]
  },
  {
   "cell_type": "code",
   "execution_count": 38,
   "metadata": {},
   "outputs": [
    {
     "data": {
      "text/plain": [
       "count    2997.000000\n",
       "mean        6.060727\n",
       "std         2.096866\n",
       "min         1.000000\n",
       "25%         5.000000\n",
       "50%         6.000000\n",
       "75%         8.000000\n",
       "max        10.000000\n",
       "Name: Pay_Scale, dtype: float64"
      ]
     },
     "execution_count": 38,
     "metadata": {},
     "output_type": "execute_result"
    }
   ],
   "source": [
    "df.Pay_Scale.describe()"
   ]
  },
  {
   "cell_type": "code",
   "execution_count": 39,
   "metadata": {},
   "outputs": [
    {
     "data": {
      "text/plain": [
       "8.0     572\n",
       "6.0     536\n",
       "5.0     480\n",
       "4.0     422\n",
       "7.0     352\n",
       "9.0     239\n",
       "3.0     111\n",
       "2.0     106\n",
       "10.0    105\n",
       "1.0      74\n",
       "Name: Pay_Scale, dtype: int64"
      ]
     },
     "execution_count": 39,
     "metadata": {},
     "output_type": "execute_result"
    }
   ],
   "source": [
    "df.Pay_Scale.value_counts()\n",
    "# totals added up to 2997, but I divided each number by 3000 to get the pct\n",
    "# 8.0     572   =0.19066667%\n",
    "# 6.0     536   =0.17866667%\n",
    "# 5.0     480   =0.16%\n",
    "# 4.0     422   =0.14066667%\n",
    "# 7.0     352   =0.11733333%\n",
    "# 9.0     239   =0.07966667%\n",
    "# 3.0     111   =0.037%\n",
    "# 2.0     106   =0.03533333%\n",
    "# 10.0    105   =0.035%\n",
    "# 1.0      74   =0.0246667%\n"
   ]
  },
  {
   "cell_type": "markdown",
   "metadata": {},
   "source": [
    "The Pay Scale distribution looks fairly normal, however we can see that the highest pay scale by percentage is towards the uppper end at level 8."
   ]
  },
  {
   "cell_type": "code",
   "execution_count": 40,
   "metadata": {},
   "outputs": [
    {
     "data": {
      "text/plain": [
       "<Figure size 432x288 with 0 Axes>"
      ]
     },
     "metadata": {},
     "output_type": "display_data"
    },
    {
     "data": {
      "image/png": "[encoded data removed]",
      "text/plain": [
       "<Figure size 576x576 with 1 Axes>"
      ]
     },
     "metadata": {
      "needs_background": "light"
     },
     "output_type": "display_data"
    }
   ],
   "source": [
    "employee_payscale_by_pct =[0.0246667, 0.03533333, 0.037, 0.14066667, 0.16, 0.17866667, 0.11733333, 0.19066667, 0.07966667, 0.035]\n",
    "bars=('1', '2', '3', '4', '5', '6', '7', '8', '9', '10')\n",
    "x_pos=[1,2,3,4,5,6,7,8,9,10]\n",
    "\n",
    "plt.clf()\n",
    "fig= plt.figure(figsize=(8,8))\n",
    "plt.bar(x_pos, employee_payscale_by_pct)\n",
    "plt.xticks(x_pos, bars)\n",
    "plt.ylabel(\"By Percentage\")\n",
    "plt.title(\"Company Employees by Pay Scale\")\n",
    "plt.savefig(\"ees_by_payscale.jpg\")\n",
    "plt.show()"
   ]
  },
  {
   "cell_type": "markdown",
   "metadata": {},
   "source": [
    "------------------------------------------------------------------------------------------------------------------"
   ]
  },
  {
   "cell_type": "markdown",
   "metadata": {},
   "source": [
    "We will create a dataframe where high pay is equal to a pay scale of 7 or greater for further analysis."
   ]
  },
  {
   "cell_type": "code",
   "execution_count": 41,
   "metadata": {},
   "outputs": [],
   "source": [
    "high_pay=df[df['Pay_Scale']>=7]\n",
    "# high_pay.count() =1268\n",
    "# 1268/2997 = 42.3% of all employees are highly paid"
   ]
  },
  {
   "cell_type": "markdown",
   "metadata": {},
   "source": [
    "We will now take a look at pay equity between males and females. It appears to be pretty balanced with 42.9% of males earning a high salary vs. 41.7% of females."
   ]
  },
  {
   "cell_type": "code",
   "execution_count": 42,
   "metadata": {},
   "outputs": [],
   "source": [
    "female_high_pay=gender_female[gender_female['Pay_Scale']>=7]\n",
    "# female_high_pay.count() =722\n",
    "# 722/1728 = 0.41782407\n",
    "# 41.7% of female employees are highly paid"
   ]
  },
  {
   "cell_type": "code",
   "execution_count": 43,
   "metadata": {},
   "outputs": [],
   "source": [
    "male_high_pay=gender_male[gender_male['Pay_Scale']>=7]\n",
    "# male_high_pay.count() =546\n",
    "# 546/1272 = 0.42924528\n",
    "# 42.9% of male employees are highly paid"
   ]
  },
  {
   "cell_type": "code",
   "execution_count": 44,
   "metadata": {},
   "outputs": [
    {
     "data": {
      "text/plain": [
       "<Figure size 432x288 with 0 Axes>"
      ]
     },
     "metadata": {},
     "output_type": "display_data"
    },
    {
     "data": {
      "image/png": "[encoded data removed]",
      "text/plain": [
       "<Figure size 576x576 with 1 Axes>"
      ]
     },
     "metadata": {
      "needs_background": "light"
     },
     "output_type": "display_data"
    }
   ],
   "source": [
    "height =[0.41782407407407407, 0.42924528301886794]\n",
    "bars=('Female', 'Male')\n",
    "x_pos=[4,5]\n",
    "\n",
    "plt.clf()\n",
    "fig= plt.figure(figsize=(8,8))\n",
    "plt.bar(x_pos, height, color = ['lightpink', 'steelblue'], width= [0.75, 0.75])\n",
    "plt.xticks(x_pos, bars)\n",
    "plt.ylabel(\"Pay Scale\")\n",
    "plt.title(\"% of Company Females and Males who are High Earners\")\n",
    "plt.savefig(\"pct_ees_by_gender_high_earners\")\n",
    "plt.show()"
   ]
  },
  {
   "cell_type": "markdown",
   "metadata": {},
   "source": [
    "-------------------------------------------------------------------------------------------"
   ]
  },
  {
   "cell_type": "markdown",
   "metadata": {},
   "source": [
    "Let's break down company employees by age two age groups: younger and older employees."
   ]
  },
  {
   "cell_type": "markdown",
   "metadata": {},
   "source": [
    "39.5% of all company employees are 45 or older."
   ]
  },
  {
   "cell_type": "code",
   "execution_count": 45,
   "metadata": {},
   "outputs": [],
   "source": [
    "older_ees=df[df['Age']>=45]\n",
    "# older_ees.describe()\n",
    "# count = 1122  \n",
    "# remove null values from age: 1122/2839:\n",
    "# = 39.5% "
   ]
  },
  {
   "cell_type": "markdown",
   "metadata": {},
   "source": [
    "43% of employees age 45 and over are at a higher pay scale (7 or higher)."
   ]
  },
  {
   "cell_type": "code",
   "execution_count": 46,
   "metadata": {},
   "outputs": [],
   "source": [
    "older_ees_with_higher_pay=older_ees[older_ees['Pay_Scale']>=7]\n",
    "# older_ees_with_higher_pay.describe()\n",
    "# count = 483    (483/1122 = 0.43048128)\n",
    "# 43% of ees age 45 and over are at a higher pay scale (7 or higher)"
   ]
  },
  {
   "cell_type": "markdown",
   "metadata": {},
   "source": [
    "60.5% of all company employees are 44 or younger."
   ]
  },
  {
   "cell_type": "code",
   "execution_count": 47,
   "metadata": {},
   "outputs": [],
   "source": [
    "younger_ees=df[df['Age']<=44]\n",
    "# younger_ees.describe()\n",
    "# count = 1717\n",
    "# remove null values from age: 1717/2839\n",
    "# = 0.60479042"
   ]
  },
  {
   "cell_type": "markdown",
   "metadata": {},
   "source": [
    "42% of employees age 44 and younger are at a higher pay scale (7 or higher)"
   ]
  },
  {
   "cell_type": "code",
   "execution_count": 48,
   "metadata": {},
   "outputs": [],
   "source": [
    "younger_ees_with_higher_pay=younger_ees[younger_ees['Pay_Scale']>=7]\n",
    "# younger_ees_with_higher_pay.describe()\n",
    "# count = 718"
   ]
  },
  {
   "cell_type": "code",
   "execution_count": 49,
   "metadata": {},
   "outputs": [],
   "source": [
    "younger_ees_with_higher_pay_pct=718/1717\n",
    "# = 0.4181712288875946"
   ]
  },
  {
   "cell_type": "markdown",
   "metadata": {},
   "source": [
    "--------------------------------------------"
   ]
  },
  {
   "cell_type": "markdown",
   "metadata": {},
   "source": [
    "Next let's look at Education levels at the Company."
   ]
  },
  {
   "cell_type": "code",
   "execution_count": 50,
   "metadata": {},
   "outputs": [
    {
     "data": {
      "text/plain": [
       "count    3000.000000\n",
       "mean        3.226333\n",
       "std         1.065904\n",
       "min         1.000000\n",
       "25%         3.000000\n",
       "50%         3.000000\n",
       "75%         4.000000\n",
       "max         5.000000\n",
       "Name: Education_Level, dtype: float64"
      ]
     },
     "execution_count": 50,
     "metadata": {},
     "output_type": "execute_result"
    }
   ],
   "source": [
    "df.Education_Level.describe()"
   ]
  },
  {
   "cell_type": "code",
   "execution_count": 51,
   "metadata": {},
   "outputs": [
    {
     "data": {
      "text/plain": [
       "3    1185\n",
       "4     942\n",
       "5     298\n",
       "2     291\n",
       "1     284\n",
       "Name: Education_Level, dtype: int64"
      ]
     },
     "execution_count": 51,
     "metadata": {},
     "output_type": "execute_result"
    }
   ],
   "source": [
    "df.Education_Level.value_counts()\n",
    "# divide each value by 3000\n",
    "# 1 = 284  = 0.09466667%\n",
    "# 2 = 291  = 0.097%\n",
    "# 3 = 1185 = 0.395%\n",
    "# 4 = 942  = 0.314%\n",
    "# 5 = 298  = 0.09933333%"
   ]
  },
  {
   "cell_type": "code",
   "execution_count": 52,
   "metadata": {},
   "outputs": [
    {
     "data": {
      "image/png": "[encoded data removed]",
      "text/plain": [
       "<Figure size 432x288 with 1 Axes>"
      ]
     },
     "metadata": {},
     "output_type": "display_data"
    }
   ],
   "source": [
    "# We can also view the education levels of company employees\n",
    "# It looks like a good portion of employees have an edujcation level of 3 followed by education level 4\n",
    "labels = 'Educ Level 1', 'Eduic Level 2', 'Educ Level 3', 'Educ Level 4', 'Educ Level 5'\n",
    "sizes = [0.09466667, 0.097, 0.395, 0.314, 0.09933333]\n",
    "explode = (0, 0, 0.1, 0, 0) \n",
    "\n",
    "fig1, ax1 = plt.subplots()\n",
    "ax1.pie(sizes, explode=explode, labels=labels, autopct='%1.1f%%',\n",
    "        shadow=True, startangle=90)\n",
    "ax1.axis('equal')  # Equal aspect ratio ensures that pie is drawn as a circle.\n",
    "plt.savefig(\"ees_by_education_level.jpg\")\n",
    "plt.show()"
   ]
  },
  {
   "cell_type": "code",
   "execution_count": 53,
   "metadata": {},
   "outputs": [
    {
     "data": {
      "text/html": [
       "<div>\n",
       "<style scoped>\n",
       "    .dataframe tbody tr th:only-of-type {\n",
       "        vertical-align: middle;\n",
       "    }\n",
       "\n",
       "    .dataframe tbody tr th {\n",
       "        vertical-align: top;\n",
       "    }\n",
       "\n",
       "    .dataframe thead tr th {\n",
       "        text-align: left;\n",
       "    }\n",
       "\n",
       "    .dataframe thead tr:last-of-type th {\n",
       "        text-align: right;\n",
       "    }\n",
       "</style>\n",
       "<table border=\"1\" class=\"dataframe\">\n",
       "  <thead>\n",
       "    <tr>\n",
       "      <th></th>\n",
       "      <th colspan=\"10\" halign=\"left\">Pay_Scale</th>\n",
       "    </tr>\n",
       "    <tr>\n",
       "      <th>Pay_Scale</th>\n",
       "      <th>1.0</th>\n",
       "      <th>2.0</th>\n",
       "      <th>3.0</th>\n",
       "      <th>4.0</th>\n",
       "      <th>5.0</th>\n",
       "      <th>6.0</th>\n",
       "      <th>7.0</th>\n",
       "      <th>8.0</th>\n",
       "      <th>9.0</th>\n",
       "      <th>10.0</th>\n",
       "    </tr>\n",
       "    <tr>\n",
       "      <th>Education_Level</th>\n",
       "      <th></th>\n",
       "      <th></th>\n",
       "      <th></th>\n",
       "      <th></th>\n",
       "      <th></th>\n",
       "      <th></th>\n",
       "      <th></th>\n",
       "      <th></th>\n",
       "      <th></th>\n",
       "      <th></th>\n",
       "    </tr>\n",
       "  </thead>\n",
       "  <tbody>\n",
       "    <tr>\n",
       "      <th>1</th>\n",
       "      <td>8</td>\n",
       "      <td>4</td>\n",
       "      <td>8</td>\n",
       "      <td>42</td>\n",
       "      <td>46</td>\n",
       "      <td>50</td>\n",
       "      <td>39</td>\n",
       "      <td>55</td>\n",
       "      <td>23</td>\n",
       "      <td>9</td>\n",
       "    </tr>\n",
       "    <tr>\n",
       "      <th>2</th>\n",
       "      <td>10</td>\n",
       "      <td>11</td>\n",
       "      <td>11</td>\n",
       "      <td>46</td>\n",
       "      <td>50</td>\n",
       "      <td>47</td>\n",
       "      <td>33</td>\n",
       "      <td>52</td>\n",
       "      <td>23</td>\n",
       "      <td>7</td>\n",
       "    </tr>\n",
       "    <tr>\n",
       "      <th>3</th>\n",
       "      <td>29</td>\n",
       "      <td>40</td>\n",
       "      <td>53</td>\n",
       "      <td>153</td>\n",
       "      <td>196</td>\n",
       "      <td>209</td>\n",
       "      <td>132</td>\n",
       "      <td>226</td>\n",
       "      <td>94</td>\n",
       "      <td>52</td>\n",
       "    </tr>\n",
       "    <tr>\n",
       "      <th>4</th>\n",
       "      <td>16</td>\n",
       "      <td>40</td>\n",
       "      <td>29</td>\n",
       "      <td>132</td>\n",
       "      <td>140</td>\n",
       "      <td>172</td>\n",
       "      <td>115</td>\n",
       "      <td>192</td>\n",
       "      <td>77</td>\n",
       "      <td>28</td>\n",
       "    </tr>\n",
       "    <tr>\n",
       "      <th>5</th>\n",
       "      <td>11</td>\n",
       "      <td>11</td>\n",
       "      <td>10</td>\n",
       "      <td>49</td>\n",
       "      <td>48</td>\n",
       "      <td>58</td>\n",
       "      <td>33</td>\n",
       "      <td>47</td>\n",
       "      <td>22</td>\n",
       "      <td>9</td>\n",
       "    </tr>\n",
       "  </tbody>\n",
       "</table>\n",
       "</div>"
      ],
      "text/plain": [
       "                Pay_Scale                                             \n",
       "Pay_Scale            1.0  2.0  3.0  4.0  5.0  6.0  7.0  8.0  9.0  10.0\n",
       "Education_Level                                                       \n",
       "1                       8    4    8   42   46   50   39   55   23    9\n",
       "2                      10   11   11   46   50   47   33   52   23    7\n",
       "3                      29   40   53  153  196  209  132  226   94   52\n",
       "4                      16   40   29  132  140  172  115  192   77   28\n",
       "5                      11   11   10   49   48   58   33   47   22    9"
      ]
     },
     "execution_count": 53,
     "metadata": {},
     "output_type": "execute_result"
    }
   ],
   "source": [
    "df.pivot_table(index='Education_Level', columns='Pay_Scale', aggfunc={'Pay_Scale':len}, fill_value=0)"
   ]
  },
  {
   "cell_type": "markdown",
   "metadata": {},
   "source": [
    "------------------------------------"
   ]
  },
  {
   "cell_type": "markdown",
   "metadata": {},
   "source": [
    "We will create a dataframe where higher education is an Education Level of 3 or greater."
   ]
  },
  {
   "cell_type": "code",
   "execution_count": 54,
   "metadata": {},
   "outputs": [],
   "source": [
    "higher_ed=df.where(df['Education_Level']>=3)\n",
    "# higher_ed.count() = 2425/3000\n",
    "# = 80.8% of all company employees are highly educated"
   ]
  },
  {
   "cell_type": "code",
   "execution_count": 55,
   "metadata": {},
   "outputs": [],
   "source": [
    "lower_ed=df.where(df['Education_Level']<3)\n",
    "# lower_ed.count() =575/3000 = \n",
    "# = 575\n",
    "# = 19.2% pf all company employees have an education level lower than 3"
   ]
  },
  {
   "cell_type": "code",
   "execution_count": 56,
   "metadata": {},
   "outputs": [
    {
     "data": {
      "image/png": "[encoded data removed]",
      "text/plain": [
       "<Figure size 576x576 with 1 Axes>"
      ]
     },
     "metadata": {
      "needs_background": "light"
     },
     "output_type": "display_data"
    }
   ],
   "source": [
    "height =[575, 2425]\n",
    "bars=('Education Level < 3', 'Education Level >= 3')\n",
    "x_pos=[4,5]\n",
    "fig= plt.figure(figsize=(8,8))\n",
    "plt.bar(x_pos, height, color = ['lightskyblue', 'deepskyblue'])\n",
    "plt.xticks(x_pos, bars)\n",
    "plt.ylabel(\"Number of Employees\")\n",
    "plt.title(\" All Company Employees by Education Level\")\n",
    "plt.savefig(\"ees_education_levels_by_group.jpg\")\n",
    "plt.show()"
   ]
  },
  {
   "cell_type": "markdown",
   "metadata": {},
   "source": [
    "-----------------------------------------------------"
   ]
  },
  {
   "cell_type": "markdown",
   "metadata": {},
   "source": [
    "We can also see higher Education Levels by Gender, as you can see it is pretty balanced."
   ]
  },
  {
   "cell_type": "code",
   "execution_count": 57,
   "metadata": {},
   "outputs": [],
   "source": [
    "educated_female=higher_ed.where(higher_ed['Gender']==1)\n",
    "# educated_female.count() =1388 /1728= 80.3% of\n",
    "# 1388/1728 = 0.80324074\n",
    "# 80.3% of female company employees are highly educated"
   ]
  },
  {
   "cell_type": "code",
   "execution_count": 58,
   "metadata": {},
   "outputs": [
    {
     "name": "stdout",
     "output_type": "stream",
     "text": [
      "Gender                   1.000000\n",
      "Age                     39.625000\n",
      "Education_Level          3.621758\n",
      "Relationship_Status      0.631124\n",
      "Time_of_service         13.200000\n",
      "Time_since_promotion     2.417147\n",
      "growth_rate             47.250000\n",
      "Travel_Rate              0.805476\n",
      "Post_Level               2.768012\n",
      "Pay_Scale                6.045455\n",
      "Work_Life_balance        2.401154\n",
      "VAR1                     3.028818\n",
      "VAR2                     0.065958\n",
      "VAR3                    -0.024526\n",
      "VAR4                     1.917402\n",
      "VAR5                     2.823487\n",
      "VAR6                     7.121758\n",
      "VAR7                     3.242795\n",
      "dtype: float64\n"
     ]
    }
   ],
   "source": [
    "print(np.mean(educated_female))"
   ]
  },
  {
   "cell_type": "code",
   "execution_count": 59,
   "metadata": {},
   "outputs": [],
   "source": [
    "educated_male=higher_ed.where(higher_ed['Gender']==0)\n",
    "# educated_male.count() =1037\n",
    "# 1037 /1272 = 0.81525157\n",
    "# 81.5% of male company employees are highly educated"
   ]
  },
  {
   "cell_type": "code",
   "execution_count": 60,
   "metadata": {},
   "outputs": [
    {
     "name": "stdout",
     "output_type": "stream",
     "text": [
      "Gender                   0.000000\n",
      "Age                     39.422018\n",
      "Education_Level          3.650916\n",
      "Relationship_Status      0.662488\n",
      "Time_of_service         13.187807\n",
      "Time_since_promotion     2.387657\n",
      "growth_rate             46.505304\n",
      "Travel_Rate              0.848602\n",
      "Post_Level               2.778206\n",
      "Pay_Scale                6.106075\n",
      "Work_Life_balance        2.386100\n",
      "VAR1                     3.125362\n",
      "VAR2                    -0.036389\n",
      "VAR3                     0.044597\n",
      "VAR4                     1.880470\n",
      "VAR5                     2.840887\n",
      "VAR6                     7.132112\n",
      "VAR7                     3.220829\n",
      "dtype: float64\n"
     ]
    }
   ],
   "source": [
    "print(np.mean(educated_male))"
   ]
  },
  {
   "cell_type": "code",
   "execution_count": 61,
   "metadata": {},
   "outputs": [
    {
     "data": {
      "text/plain": [
       "<Figure size 432x288 with 0 Axes>"
      ]
     },
     "metadata": {},
     "output_type": "display_data"
    },
    {
     "data": {
      "image/png": "[encoded data removed]",
      "text/plain": [
       "<Figure size 576x576 with 1 Axes>"
      ]
     },
     "metadata": {
      "needs_background": "light"
     },
     "output_type": "display_data"
    }
   ],
   "source": [
    "plt.clf()\n",
    "\n",
    "heights =[0.80324074,\n",
    "    0.81525157]\n",
    "bars=('Female', 'Male')\n",
    "x_pos=[4,5]\n",
    "fig= plt.figure(figsize=(8,8))\n",
    "plt.bar(x_pos, heights, color = ['lightpink', 'steelblue'])\n",
    "plt.xticks(x_pos, bars)\n",
    "plt.title(\"Company Employees that are Highly Educated by Gender\")\n",
    "plt.ylabel(\"Percentage\")\n",
    "plt.savefig(\"high_paid_&_high_ed_by_gender.jpg\")\n",
    "plt.show()"
   ]
  },
  {
   "cell_type": "markdown",
   "metadata": {},
   "source": [
    "--------------------------------"
   ]
  },
  {
   "cell_type": "markdown",
   "metadata": {},
   "source": [
    "Let's take a look at the relationship between Pay Scale and Education Level."
   ]
  },
  {
   "cell_type": "code",
   "execution_count": 62,
   "metadata": {},
   "outputs": [
    {
     "data": {
      "text/html": [
       "<div>\n",
       "<style scoped>\n",
       "    .dataframe tbody tr th:only-of-type {\n",
       "        vertical-align: middle;\n",
       "    }\n",
       "\n",
       "    .dataframe tbody tr th {\n",
       "        vertical-align: top;\n",
       "    }\n",
       "\n",
       "    .dataframe thead tr th {\n",
       "        text-align: left;\n",
       "    }\n",
       "\n",
       "    .dataframe thead tr:last-of-type th {\n",
       "        text-align: right;\n",
       "    }\n",
       "</style>\n",
       "<table border=\"1\" class=\"dataframe\">\n",
       "  <thead>\n",
       "    <tr>\n",
       "      <th></th>\n",
       "      <th colspan=\"10\" halign=\"left\">Pay_Scale</th>\n",
       "    </tr>\n",
       "    <tr>\n",
       "      <th>Pay_Scale</th>\n",
       "      <th>1.0</th>\n",
       "      <th>2.0</th>\n",
       "      <th>3.0</th>\n",
       "      <th>4.0</th>\n",
       "      <th>5.0</th>\n",
       "      <th>6.0</th>\n",
       "      <th>7.0</th>\n",
       "      <th>8.0</th>\n",
       "      <th>9.0</th>\n",
       "      <th>10.0</th>\n",
       "    </tr>\n",
       "    <tr>\n",
       "      <th>Education_Level</th>\n",
       "      <th></th>\n",
       "      <th></th>\n",
       "      <th></th>\n",
       "      <th></th>\n",
       "      <th></th>\n",
       "      <th></th>\n",
       "      <th></th>\n",
       "      <th></th>\n",
       "      <th></th>\n",
       "      <th></th>\n",
       "    </tr>\n",
       "  </thead>\n",
       "  <tbody>\n",
       "    <tr>\n",
       "      <th>1</th>\n",
       "      <td>8</td>\n",
       "      <td>4</td>\n",
       "      <td>8</td>\n",
       "      <td>42</td>\n",
       "      <td>46</td>\n",
       "      <td>50</td>\n",
       "      <td>39</td>\n",
       "      <td>55</td>\n",
       "      <td>23</td>\n",
       "      <td>9</td>\n",
       "    </tr>\n",
       "    <tr>\n",
       "      <th>2</th>\n",
       "      <td>10</td>\n",
       "      <td>11</td>\n",
       "      <td>11</td>\n",
       "      <td>46</td>\n",
       "      <td>50</td>\n",
       "      <td>47</td>\n",
       "      <td>33</td>\n",
       "      <td>52</td>\n",
       "      <td>23</td>\n",
       "      <td>7</td>\n",
       "    </tr>\n",
       "    <tr>\n",
       "      <th>3</th>\n",
       "      <td>29</td>\n",
       "      <td>40</td>\n",
       "      <td>53</td>\n",
       "      <td>153</td>\n",
       "      <td>196</td>\n",
       "      <td>209</td>\n",
       "      <td>132</td>\n",
       "      <td>226</td>\n",
       "      <td>94</td>\n",
       "      <td>52</td>\n",
       "    </tr>\n",
       "    <tr>\n",
       "      <th>4</th>\n",
       "      <td>16</td>\n",
       "      <td>40</td>\n",
       "      <td>29</td>\n",
       "      <td>132</td>\n",
       "      <td>140</td>\n",
       "      <td>172</td>\n",
       "      <td>115</td>\n",
       "      <td>192</td>\n",
       "      <td>77</td>\n",
       "      <td>28</td>\n",
       "    </tr>\n",
       "    <tr>\n",
       "      <th>5</th>\n",
       "      <td>11</td>\n",
       "      <td>11</td>\n",
       "      <td>10</td>\n",
       "      <td>49</td>\n",
       "      <td>48</td>\n",
       "      <td>58</td>\n",
       "      <td>33</td>\n",
       "      <td>47</td>\n",
       "      <td>22</td>\n",
       "      <td>9</td>\n",
       "    </tr>\n",
       "  </tbody>\n",
       "</table>\n",
       "</div>"
      ],
      "text/plain": [
       "                Pay_Scale                                             \n",
       "Pay_Scale            1.0  2.0  3.0  4.0  5.0  6.0  7.0  8.0  9.0  10.0\n",
       "Education_Level                                                       \n",
       "1                       8    4    8   42   46   50   39   55   23    9\n",
       "2                      10   11   11   46   50   47   33   52   23    7\n",
       "3                      29   40   53  153  196  209  132  226   94   52\n",
       "4                      16   40   29  132  140  172  115  192   77   28\n",
       "5                      11   11   10   49   48   58   33   47   22    9"
      ]
     },
     "execution_count": 62,
     "metadata": {},
     "output_type": "execute_result"
    }
   ],
   "source": [
    "df.pivot_table(index='Education_Level', columns='Pay_Scale', aggfunc={'Pay_Scale':len}, fill_value=0)"
   ]
  },
  {
   "cell_type": "markdown",
   "metadata": {},
   "source": [
    "-----------------------"
   ]
  },
  {
   "cell_type": "markdown",
   "metadata": {},
   "source": [
    "We can also view Pay Scale and Education level by Gender."
   ]
  },
  {
   "cell_type": "code",
   "execution_count": 63,
   "metadata": {},
   "outputs": [],
   "source": [
    "data_crosstab = pd.crosstab([df.Gender, df.Pay_Scale], \n",
    "                             df.Education_Level, margins = False)   "
   ]
  },
  {
   "cell_type": "code",
   "execution_count": 64,
   "metadata": {},
   "outputs": [
    {
     "data": {
      "text/plain": [
       "<Figure size 432x288 with 0 Axes>"
      ]
     },
     "metadata": {},
     "output_type": "display_data"
    },
    {
     "data": {
      "image/png": "[encoded data removed]",
      "text/plain": [
       "<Figure size 720x720 with 1 Axes>"
      ]
     },
     "metadata": {
      "needs_background": "light"
     },
     "output_type": "display_data"
    }
   ],
   "source": [
    "plt.clf()\n",
    "data_crosstab.plot.bar(figsize=(10,10),stacked=True)\n",
    "plt.savefig(\"gender_&_pay_scale_by_Ed_Level.jpg\")\n",
    "plt.show()\n",
    "\n"
   ]
  },
  {
   "cell_type": "markdown",
   "metadata": {},
   "source": [
    "-------------------------------"
   ]
  },
  {
   "cell_type": "markdown",
   "metadata": {},
   "source": [
    "Here is a count of employees by their Decision Skills."
   ]
  },
  {
   "cell_type": "code",
   "execution_count": 65,
   "metadata": {},
   "outputs": [
    {
     "data": {
      "text/plain": [
       "Behavioral    799\n",
       "Analytical    746\n",
       "Directive     735\n",
       "Conceptual    720\n",
       "Name: Decision_skill_possess, dtype: int64"
      ]
     },
     "execution_count": 65,
     "metadata": {},
     "output_type": "execute_result"
    }
   ],
   "source": [
    "df.Decision_skill_possess.value_counts()"
   ]
  },
  {
   "cell_type": "code",
   "execution_count": 66,
   "metadata": {},
   "outputs": [],
   "source": [
    "analytical_skill=df[df['Decision_skill_possess']==\"Analytical\"]"
   ]
  },
  {
   "cell_type": "code",
   "execution_count": 67,
   "metadata": {},
   "outputs": [],
   "source": [
    "behavioral_skill=df[df['Decision_skill_possess']==\"Behavioral\"]"
   ]
  },
  {
   "cell_type": "code",
   "execution_count": 68,
   "metadata": {},
   "outputs": [],
   "source": [
    "conceptual_skill=df[df['Decision_skill_possess']==\"Conceptual\"]"
   ]
  },
  {
   "cell_type": "code",
   "execution_count": 69,
   "metadata": {},
   "outputs": [],
   "source": [
    "directive_skill=df[df['Decision_skill_possess']==\"Directive\"]"
   ]
  },
  {
   "cell_type": "markdown",
   "metadata": {},
   "source": [
    "--------------------------------------------------"
   ]
  },
  {
   "cell_type": "markdown",
   "metadata": {},
   "source": [
    "Next we will take a look at highly paid employees by skill level. Can we determine which skills lead to higher pay?"
   ]
  },
  {
   "cell_type": "code",
   "execution_count": 70,
   "metadata": {},
   "outputs": [],
   "source": [
    "analytical_skill_high_pay=analytical_skill[analytical_skill['Pay_Scale']>=7]\n",
    "# analytical_skill_high_pay.count() = 320"
   ]
  },
  {
   "cell_type": "code",
   "execution_count": 71,
   "metadata": {},
   "outputs": [],
   "source": [
    "behavioral_skill_high_pay=behavioral_skill[behavioral_skill['Pay_Scale']>=7]\n",
    "# behavioral_skill_high_pay.count() =348"
   ]
  },
  {
   "cell_type": "code",
   "execution_count": 72,
   "metadata": {},
   "outputs": [],
   "source": [
    "conceptual_skill_high_pay=conceptual_skill[conceptual_skill['Pay_Scale']>=7] \n",
    "# conceptual_skill_high_pay.count() = 294"
   ]
  },
  {
   "cell_type": "code",
   "execution_count": 73,
   "metadata": {},
   "outputs": [],
   "source": [
    "directive_skill_high_pay=directive_skill[directive_skill['Pay_Scale']>=7]\n",
    "# directive_skill_high_pay.count() =306"
   ]
  },
  {
   "cell_type": "code",
   "execution_count": 74,
   "metadata": {},
   "outputs": [
    {
     "data": {
      "text/plain": [
       "<Figure size 432x288 with 0 Axes>"
      ]
     },
     "metadata": {},
     "output_type": "display_data"
    },
    {
     "data": {
      "image/png": "[encoded data removed]",
      "text/plain": [
       "<Figure size 576x576 with 1 Axes>"
      ]
     },
     "metadata": {
      "needs_background": "light"
     },
     "output_type": "display_data"
    }
   ],
   "source": [
    "skills=[294,306,320,348]\n",
    "pos=[2,4,6,8]\n",
    "bars=('Conceptual', 'Directive', 'Analytical', 'Behavioral')\n",
    "\n",
    "plt.clf()\n",
    "fig= plt.figure(figsize=(8,8))\n",
    "plt.bar(pos, skills)\n",
    "plt.xticks(pos, bars)\n",
    "plt.ylabel(\"# of Employees\")\n",
    "plt.title(\"Highly Paid Employees by Skill\")\n",
    "plt.savefig(\"high_paid_ees_by_skill.jpg\")\n",
    "plt.show()\n",
    "#Behavioral is the only one that stands out"
   ]
  },
  {
   "cell_type": "markdown",
   "metadata": {},
   "source": [
    "-----------------------"
   ]
  },
  {
   "cell_type": "markdown",
   "metadata": {},
   "source": [
    "How many highly paid employees work in each business unit? Let's find out. This can tell us a lot about allocation of salaries and could allow us to look at industry benchmarking analytics for comparison purposes."
   ]
  },
  {
   "cell_type": "markdown",
   "metadata": {},
   "source": [
    "df.Unit.unique()"
   ]
  },
  {
   "cell_type": "code",
   "execution_count": 75,
   "metadata": {},
   "outputs": [],
   "source": [
    "RandD_high_pay=high_pay[high_pay['Unit']=='R&D']\n",
    "# RandD_high_pay.count()  =113"
   ]
  },
  {
   "cell_type": "code",
   "execution_count": 76,
   "metadata": {},
   "outputs": [],
   "source": [
    "IT_high_pay=high_pay[high_pay['Unit']=='IT']\n",
    "# IT_high_pay.count() =195"
   ]
  },
  {
   "cell_type": "code",
   "execution_count": 77,
   "metadata": {},
   "outputs": [],
   "source": [
    "sales_high_pay=high_pay[high_pay['Unit']=='Sales']\n",
    "# sales_high_pay.count()  =201"
   ]
  },
  {
   "cell_type": "code",
   "execution_count": 78,
   "metadata": {},
   "outputs": [],
   "source": [
    "marketing_high_pay=high_pay[high_pay['Unit']=='Marketing']\n",
    "# marketing_high_pay.count()  =46"
   ]
  },
  {
   "cell_type": "code",
   "execution_count": 79,
   "metadata": {},
   "outputs": [],
   "source": [
    "Purchasing_high_pay=high_pay[high_pay['Unit']=='Purchasing']\n",
    "# Purchasing_high_pay.count()  =64"
   ]
  },
  {
   "cell_type": "code",
   "execution_count": 80,
   "metadata": {},
   "outputs": [],
   "source": [
    "Operations_high_pay=high_pay[high_pay['Unit']=='Operarions']\n",
    "# Operations_high_pay.count()  =105    fix spelling of Operations"
   ]
  },
  {
   "cell_type": "code",
   "execution_count": 81,
   "metadata": {},
   "outputs": [],
   "source": [
    "Logistics_high_pay=high_pay[high_pay['Unit']=='Logistics']\n",
    "# Logistics_high_pay.count()  =142"
   ]
  },
  {
   "cell_type": "code",
   "execution_count": 82,
   "metadata": {},
   "outputs": [],
   "source": [
    "HR_high_pay=high_pay[high_pay['Unit']=='Human Resource Management']\n",
    "# HR_high_pay.count()  =45"
   ]
  },
  {
   "cell_type": "code",
   "execution_count": 83,
   "metadata": {},
   "outputs": [],
   "source": [
    "accounting_and_finance_high_pay=high_pay[high_pay['Unit']=='Accounting and Finance']\n",
    "# accounting_and_finance_high_pay.count()   =63"
   ]
  },
  {
   "cell_type": "code",
   "execution_count": 84,
   "metadata": {},
   "outputs": [],
   "source": [
    "security_high_pay=high_pay[high_pay['Unit']=='Security']\n",
    "# security_high_pay.count()  =16"
   ]
  },
  {
   "cell_type": "code",
   "execution_count": 85,
   "metadata": {},
   "outputs": [],
   "source": [
    "production_high_pay=high_pay[high_pay['Unit']=='Production']\n",
    "# production_high_pay.count()   =27"
   ]
  },
  {
   "cell_type": "code",
   "execution_count": 86,
   "metadata": {},
   "outputs": [],
   "source": [
    "quality_high_pay=high_pay[high_pay['Unit']=='Quality']\n",
    "# quality_high_pay.count()  =30"
   ]
  },
  {
   "cell_type": "code",
   "execution_count": 87,
   "metadata": {},
   "outputs": [
    {
     "data": {
      "text/plain": [
       "<Figure size 432x288 with 0 Axes>"
      ]
     },
     "metadata": {},
     "output_type": "display_data"
    },
    {
     "data": {
      "image/png": "[encoded data removed]",
      "text/plain": [
       "<Figure size 576x576 with 1 Axes>"
      ]
     },
     "metadata": {
      "needs_background": "light"
     },
     "output_type": "display_data"
    }
   ],
   "source": [
    "high_pay_by_unit=[16,27,30,45,46,63,64,105,113, 142,195, 201]\n",
    "pos=[2,4,6,8,10,12,14,16,18,20,22,24]\n",
    "bars=('Security', 'Production', 'Quality', 'HR', 'Marketing', 'Acct & Fin', 'Purchasing', 'Operations', 'R & D', 'Logistics', 'IT', 'Sales')\n",
    "\n",
    "plt.clf()\n",
    "fig= plt.figure(figsize=(8,8))\n",
    "plt.bar(pos, high_pay_by_unit)\n",
    "plt.xticks(pos, bars, rotation=90, fontsize=10)\n",
    "plt.ylabel(\"# of Employees\")\n",
    "plt.title(\"Highly Paid Employees by Unit\")\n",
    "plt.savefig(\"high_paid_ees_by_bus_unit.jpg\")\n",
    "plt.show()"
   ]
  },
  {
   "cell_type": "markdown",
   "metadata": {},
   "source": [
    "As you can see, IT and Sales lead the way in the highest paying business units."
   ]
  },
  {
   "cell_type": "markdown",
   "metadata": {},
   "source": [
    "----------------------------------"
   ]
  },
  {
   "cell_type": "markdown",
   "metadata": {},
   "source": [
    "Now let's view a count of employees by how they rated Work Life Balance at the Company on a scale of 1-5 (5 is the highest rating)."
   ]
  },
  {
   "cell_type": "code",
   "execution_count": 88,
   "metadata": {},
   "outputs": [],
   "source": [
    "wlb_1=df[df['Work_Life_balance']==1]\n",
    "# 909"
   ]
  },
  {
   "cell_type": "code",
   "execution_count": 89,
   "metadata": {},
   "outputs": [],
   "source": [
    "wlb_2=df[df['Work_Life_balance']==2]\n",
    "# 672"
   ]
  },
  {
   "cell_type": "code",
   "execution_count": 90,
   "metadata": {},
   "outputs": [],
   "source": [
    "wlb_3=df[df['Work_Life_balance']==3]\n",
    "# 6835"
   ]
  },
  {
   "cell_type": "code",
   "execution_count": 91,
   "metadata": {},
   "outputs": [],
   "source": [
    "wlb_4=df[df['Work_Life_balance']==4]\n",
    "# 522"
   ]
  },
  {
   "cell_type": "code",
   "execution_count": 92,
   "metadata": {},
   "outputs": [],
   "source": [
    "wlb_5=df[df['Work_Life_balance']==5]\n",
    "# 57"
   ]
  },
  {
   "cell_type": "code",
   "execution_count": 93,
   "metadata": {},
   "outputs": [
    {
     "data": {
      "text/plain": [
       "1.0    909\n",
       "3.0    835\n",
       "2.0    672\n",
       "4.0    522\n",
       "5.0     57\n",
       "Name: Work_Life_balance, dtype: int64"
      ]
     },
     "execution_count": 93,
     "metadata": {},
     "output_type": "execute_result"
    }
   ],
   "source": [
    "df.Work_Life_balance.value_counts()\n",
    "# Total count is 2995, which is correct, 5 = null"
   ]
  },
  {
   "cell_type": "markdown",
   "metadata": {},
   "source": [
    "__________________________"
   ]
  },
  {
   "cell_type": "markdown",
   "metadata": {},
   "source": [
    "Can we identify any correlation between Work Life Balance rating and being a higly paid employee?"
   ]
  },
  {
   "cell_type": "code",
   "execution_count": 94,
   "metadata": {},
   "outputs": [
    {
     "data": {
      "text/plain": [
       "count    2995.000000\n",
       "mean        2.380968\n",
       "std         1.142826\n",
       "min         1.000000\n",
       "25%         1.000000\n",
       "50%         2.000000\n",
       "75%         3.000000\n",
       "max         5.000000\n",
       "Name: Work_Life_balance, dtype: float64"
      ]
     },
     "execution_count": 94,
     "metadata": {},
     "output_type": "execute_result"
    }
   ],
   "source": [
    "df.Work_Life_balance.describe()"
   ]
  },
  {
   "cell_type": "code",
   "execution_count": 95,
   "metadata": {},
   "outputs": [
    {
     "data": {
      "text/plain": [
       "Employee_ID                  1268\n",
       "Gender                       1268\n",
       "Age                          1201\n",
       "Education_Level              1268\n",
       "Relationship_Status          1268\n",
       "Hometown                     1268\n",
       "Unit                         1268\n",
       "Decision_skill_possess       1268\n",
       "Time_of_service              1245\n",
       "Time_since_promotion         1268\n",
       "growth_rate                  1268\n",
       "Travel_Rate                  1268\n",
       "Post_Level                   1268\n",
       "Pay_Scale                    1268\n",
       "Compensation_and_Benefits    1268\n",
       "Work_Life_balance            1264\n",
       "VAR1                         1268\n",
       "VAR2                         1171\n",
       "VAR3                         1268\n",
       "VAR4                         1136\n",
       "VAR5                         1268\n",
       "VAR6                         1268\n",
       "VAR7                         1268\n",
       "dtype: int64"
      ]
     },
     "execution_count": 95,
     "metadata": {},
     "output_type": "execute_result"
    }
   ],
   "source": [
    "high_pay.count()\n",
    "# =1268 total highly paid employees \n",
    "# =1264 total highly paid employees that provided a WLB score"
   ]
  },
  {
   "cell_type": "markdown",
   "metadata": {},
   "source": [
    "First we will create objects for highly paid employees at each Work Life Balance rating."
   ]
  },
  {
   "cell_type": "code",
   "execution_count": 96,
   "metadata": {},
   "outputs": [],
   "source": [
    "high_pay_wlb_1=high_pay[high_pay['Work_Life_balance']==1]\n",
    "# 421   "
   ]
  },
  {
   "cell_type": "code",
   "execution_count": 97,
   "metadata": {},
   "outputs": [],
   "source": [
    "high_pay_wlb_1_pct=421/1264\n",
    "# percentage of wlb_1 that are highly paid employees = 0.33306962025316456"
   ]
  },
  {
   "cell_type": "code",
   "execution_count": 98,
   "metadata": {},
   "outputs": [],
   "source": [
    "high_pay_wlb_2=high_pay[high_pay['Work_Life_balance']==2]\n",
    "# 282    "
   ]
  },
  {
   "cell_type": "code",
   "execution_count": 99,
   "metadata": {},
   "outputs": [],
   "source": [
    "high_pay_wlb_2_pct=282/1264\n",
    "# percentage of wlb_2 that are highly paid employees = 0.2231012658227848"
   ]
  },
  {
   "cell_type": "code",
   "execution_count": 100,
   "metadata": {},
   "outputs": [],
   "source": [
    "high_pay_wlb_3=high_pay[high_pay['Work_Life_balance']==3]\n",
    "# 333   "
   ]
  },
  {
   "cell_type": "code",
   "execution_count": 101,
   "metadata": {},
   "outputs": [],
   "source": [
    "high_pay_wlb_3_pct = 333/1264\n",
    "# percentage of wlb_3 that are highly paid employees = 0.2634493670886076"
   ]
  },
  {
   "cell_type": "code",
   "execution_count": 102,
   "metadata": {},
   "outputs": [],
   "source": [
    "high_pay_wlb_4=high_pay[high_pay['Work_Life_balance']==4]\n",
    "# 205    "
   ]
  },
  {
   "cell_type": "code",
   "execution_count": 103,
   "metadata": {},
   "outputs": [],
   "source": [
    "high_pay_wlb_4_pct=205/1264\n",
    "# percentage of wlb_4 that are highly paid employees = 0.16218354430379747"
   ]
  },
  {
   "cell_type": "code",
   "execution_count": 104,
   "metadata": {},
   "outputs": [],
   "source": [
    "high_pay_wlb_5=high_pay[high_pay['Work_Life_balance']==5]\n",
    "# 23   "
   ]
  },
  {
   "cell_type": "code",
   "execution_count": 105,
   "metadata": {},
   "outputs": [],
   "source": [
    "high_pay_wlb_5_pct=23/1264\n",
    "# high_pay_wlb_5_pct = 0.018138801261829655\n",
    "#  percentage of wlb_5 that are highly paid employees = 0.01819620253164557"
   ]
  },
  {
   "cell_type": "code",
   "execution_count": 106,
   "metadata": {},
   "outputs": [],
   "source": [
    "all_high_paid_wlb=(421, 282, 333, 205, 23)"
   ]
  },
  {
   "cell_type": "code",
   "execution_count": 107,
   "metadata": {},
   "outputs": [],
   "source": [
    "pct_high_paid_ees_by_wlb=[0.33306962025316456, 0.2231012658227848, 0.2634493670886076, 0.16218354430379747, 0.01819620253164557]"
   ]
  },
  {
   "cell_type": "code",
   "execution_count": 108,
   "metadata": {},
   "outputs": [],
   "source": [
    "pos=[2,4,6,8,10]"
   ]
  },
  {
   "cell_type": "code",
   "execution_count": 109,
   "metadata": {},
   "outputs": [],
   "source": [
    "bars=('Work Life Bal = 1', 'Work Life Bal = 2', 'Work Life Bal = 3', 'Work Life Bal = 4', 'Work Life Bal =5 ') "
   ]
  },
  {
   "cell_type": "code",
   "execution_count": 110,
   "metadata": {},
   "outputs": [
    {
     "data": {
      "text/plain": [
       "<Figure size 432x288 with 0 Axes>"
      ]
     },
     "metadata": {},
     "output_type": "display_data"
    },
    {
     "data": {
      "image/png": "[encoded data removed]",
      "text/plain": [
       "<Figure size 576x576 with 1 Axes>"
      ]
     },
     "metadata": {
      "needs_background": "light"
     },
     "output_type": "display_data"
    }
   ],
   "source": [
    "pct_high_paid_ees_by_wlb=[0.33306962025316456, 0.2231012658227848, 0.2634493670886076, 0.16218354430379747, 0.01819620253164557]\n",
    "pos=[2,4,6,8,10]\n",
    "bars=('WLB = 1', 'WLB = 2', 'WLB = 3', 'WLB = 4', 'WLB =5 ')\n",
    "\n",
    "plt.clf()\n",
    "fig= plt.figure(figsize=(8,8))\n",
    "plt.bar(pos, pct_high_paid_ees_by_wlb, color=['deepskyblue', 'lightskyblue', 'lightskyblue', 'lightskyblue', 'lightskyblue'])\n",
    "plt.xticks(pos, bars, rotation=90, fontsize=10)\n",
    "plt.ylabel(\"By Percentage\")\n",
    "plt.title(\"Highly Paid Employees by Work Life Balance (WLB) Rating\")\n",
    "plt.savefig(\"high_paid_by_wlb.jpg\")\n",
    "plt.show()"
   ]
  },
  {
   "cell_type": "markdown",
   "metadata": {},
   "source": [
    "It may come as litte surprise that the highest percentage of highly paid employees rated their Work Life Balance as 1. However, all work and no play does not sum up all high earners at this company. Over 25% rated their Work Life balance as 3, higher than those with a rating of 2."
   ]
  },
  {
   "cell_type": "markdown",
   "metadata": {},
   "source": [
    "We can also use a pivot table to look at Highly Paid Employees by Work Life Balance Rating:"
   ]
  },
  {
   "cell_type": "code",
   "execution_count": 111,
   "metadata": {},
   "outputs": [
    {
     "data": {
      "text/html": [
       "<div>\n",
       "<style scoped>\n",
       "    .dataframe tbody tr th:only-of-type {\n",
       "        vertical-align: middle;\n",
       "    }\n",
       "\n",
       "    .dataframe tbody tr th {\n",
       "        vertical-align: top;\n",
       "    }\n",
       "\n",
       "    .dataframe thead tr th {\n",
       "        text-align: left;\n",
       "    }\n",
       "\n",
       "    .dataframe thead tr:last-of-type th {\n",
       "        text-align: right;\n",
       "    }\n",
       "</style>\n",
       "<table border=\"1\" class=\"dataframe\">\n",
       "  <thead>\n",
       "    <tr>\n",
       "      <th></th>\n",
       "      <th colspan=\"4\" halign=\"left\">Pay_Scale</th>\n",
       "    </tr>\n",
       "    <tr>\n",
       "      <th>Pay_Scale</th>\n",
       "      <th>7.0</th>\n",
       "      <th>8.0</th>\n",
       "      <th>9.0</th>\n",
       "      <th>10.0</th>\n",
       "    </tr>\n",
       "    <tr>\n",
       "      <th>Work_Life_balance</th>\n",
       "      <th></th>\n",
       "      <th></th>\n",
       "      <th></th>\n",
       "      <th></th>\n",
       "    </tr>\n",
       "  </thead>\n",
       "  <tbody>\n",
       "    <tr>\n",
       "      <th>1.0</th>\n",
       "      <td>127</td>\n",
       "      <td>187</td>\n",
       "      <td>74</td>\n",
       "      <td>33</td>\n",
       "    </tr>\n",
       "    <tr>\n",
       "      <th>2.0</th>\n",
       "      <td>66</td>\n",
       "      <td>147</td>\n",
       "      <td>42</td>\n",
       "      <td>27</td>\n",
       "    </tr>\n",
       "    <tr>\n",
       "      <th>3.0</th>\n",
       "      <td>92</td>\n",
       "      <td>140</td>\n",
       "      <td>78</td>\n",
       "      <td>23</td>\n",
       "    </tr>\n",
       "    <tr>\n",
       "      <th>4.0</th>\n",
       "      <td>60</td>\n",
       "      <td>87</td>\n",
       "      <td>38</td>\n",
       "      <td>20</td>\n",
       "    </tr>\n",
       "    <tr>\n",
       "      <th>5.0</th>\n",
       "      <td>7</td>\n",
       "      <td>11</td>\n",
       "      <td>4</td>\n",
       "      <td>1</td>\n",
       "    </tr>\n",
       "  </tbody>\n",
       "</table>\n",
       "</div>"
      ],
      "text/plain": [
       "                  Pay_Scale               \n",
       "Pay_Scale              7.0  8.0  9.0  10.0\n",
       "Work_Life_balance                         \n",
       "1.0                     127  187   74   33\n",
       "2.0                      66  147   42   27\n",
       "3.0                      92  140   78   23\n",
       "4.0                      60   87   38   20\n",
       "5.0                       7   11    4    1"
      ]
     },
     "execution_count": 111,
     "metadata": {},
     "output_type": "execute_result"
    }
   ],
   "source": [
    "high_pay.pivot_table(index='Work_Life_balance', columns='Pay_Scale', aggfunc={'Pay_Scale':len}, fill_value=0)"
   ]
  },
  {
   "cell_type": "markdown",
   "metadata": {},
   "source": [
    "__________________"
   ]
  },
  {
   "cell_type": "markdown",
   "metadata": {},
   "source": [
    "let's look at the realtionship between highly paid employees and higher education where we will view Education Levels of 3 or higher."
   ]
  },
  {
   "cell_type": "code",
   "execution_count": 112,
   "metadata": {},
   "outputs": [],
   "source": [
    "high_pay.to_csv('high_pay.csv')"
   ]
  },
  {
   "cell_type": "code",
   "execution_count": 113,
   "metadata": {},
   "outputs": [],
   "source": [
    "high_pay_educated_3=high_pay[high_pay['Education_Level']==3]\n",
    "# 504   "
   ]
  },
  {
   "cell_type": "markdown",
   "metadata": {},
   "source": [
    "We can view this same data by age of employees."
   ]
  },
  {
   "cell_type": "code",
   "execution_count": 114,
   "metadata": {},
   "outputs": [],
   "source": [
    "data_3=high_pay_educated_3['Age']"
   ]
  },
  {
   "cell_type": "code",
   "execution_count": 115,
   "metadata": {},
   "outputs": [
    {
     "data": {
      "text/plain": [
       "count    479.00000\n",
       "mean      40.56785\n",
       "std       13.72439\n",
       "min       19.00000\n",
       "25%       28.00000\n",
       "50%       40.00000\n",
       "75%       54.00000\n",
       "max       65.00000\n",
       "Name: Age, dtype: float64"
      ]
     },
     "execution_count": 115,
     "metadata": {},
     "output_type": "execute_result"
    }
   ],
   "source": [
    "data_3.describe()\n",
    "# 479 employees are highly educated with education level of 3 and an average age of 40.56"
   ]
  },
  {
   "cell_type": "code",
   "execution_count": 116,
   "metadata": {},
   "outputs": [],
   "source": [
    "# I will now convert the data_3 object into a numpy array for further analysis\n",
    "data_3_list=data_3.to_numpy()"
   ]
  },
  {
   "cell_type": "code",
   "execution_count": 117,
   "metadata": {},
   "outputs": [],
   "source": [
    "# Let's remove the null values\n",
    "data_3_list = data_3_list[~pd.isnull(data_3_list)]"
   ]
  },
  {
   "cell_type": "code",
   "execution_count": 118,
   "metadata": {},
   "outputs": [],
   "source": [
    "# I will repeat the same steps for education levels 4 and 5 below:"
   ]
  },
  {
   "cell_type": "code",
   "execution_count": 119,
   "metadata": {},
   "outputs": [],
   "source": [
    "high_pay_educated_4=high_pay[high_pay['Education_Level']==4]\n",
    "# 412"
   ]
  },
  {
   "cell_type": "code",
   "execution_count": 120,
   "metadata": {},
   "outputs": [],
   "source": [
    "data_4=high_pay_educated_4['Age']"
   ]
  },
  {
   "cell_type": "code",
   "execution_count": 121,
   "metadata": {},
   "outputs": [
    {
     "data": {
      "text/plain": [
       "count    387.000000\n",
       "mean      39.335917\n",
       "std       13.700756\n",
       "min       19.000000\n",
       "25%       27.000000\n",
       "50%       37.000000\n",
       "75%       52.000000\n",
       "max       65.000000\n",
       "Name: Age, dtype: float64"
      ]
     },
     "execution_count": 121,
     "metadata": {},
     "output_type": "execute_result"
    }
   ],
   "source": [
    "data_4.describe()\n",
    "# 387 employees are highly educated with education level of 4 and an average age of 39.33"
   ]
  },
  {
   "cell_type": "code",
   "execution_count": 122,
   "metadata": {},
   "outputs": [],
   "source": [
    "data_4_list=data_4.to_numpy()"
   ]
  },
  {
   "cell_type": "code",
   "execution_count": 123,
   "metadata": {},
   "outputs": [],
   "source": [
    "# Remove null values\n",
    "data_4_list = data_4_list[~pd.isnull(data_4_list)]"
   ]
  },
  {
   "cell_type": "code",
   "execution_count": 124,
   "metadata": {},
   "outputs": [],
   "source": [
    "high_pay_educated_5=high_pay[high_pay['Education_Level']==5]\n",
    "# 111"
   ]
  },
  {
   "cell_type": "code",
   "execution_count": 125,
   "metadata": {},
   "outputs": [],
   "source": [
    "data_5=high_pay_educated_5['Age']"
   ]
  },
  {
   "cell_type": "code",
   "execution_count": 126,
   "metadata": {},
   "outputs": [
    {
     "data": {
      "text/plain": [
       "count    108.000000\n",
       "mean      41.083333\n",
       "std       13.461697\n",
       "min       19.000000\n",
       "25%       30.000000\n",
       "50%       41.500000\n",
       "75%       52.000000\n",
       "max       65.000000\n",
       "Name: Age, dtype: float64"
      ]
     },
     "execution_count": 126,
     "metadata": {},
     "output_type": "execute_result"
    }
   ],
   "source": [
    "data_5.describe()\n",
    "# 108 employees are highly educated with education level of 5 and an average age of 41.08"
   ]
  },
  {
   "cell_type": "code",
   "execution_count": 127,
   "metadata": {},
   "outputs": [],
   "source": [
    "data_5_list=data_5.to_numpy()"
   ]
  },
  {
   "cell_type": "code",
   "execution_count": 128,
   "metadata": {},
   "outputs": [],
   "source": [
    "# Remove null values\n",
    "data_5_list = data_5_list[~pd.isnull(data_5_list)]"
   ]
  },
  {
   "cell_type": "markdown",
   "metadata": {},
   "source": [
    "---------------------------------------"
   ]
  },
  {
   "cell_type": "markdown",
   "metadata": {},
   "source": [
    "A boxplot below will show highly paid employees and education levels 3-5 by age."
   ]
  },
  {
   "cell_type": "code",
   "execution_count": 156,
   "metadata": {},
   "outputs": [
    {
     "data": {
      "text/plain": [
       "<Figure size 432x288 with 0 Axes>"
      ]
     },
     "metadata": {},
     "output_type": "display_data"
    },
    {
     "data": {
      "image/png": "[encoded data removed]",
      "text/plain": [
       "<Figure size 720x360 with 1 Axes>"
      ]
     },
     "metadata": {
      "needs_background": "light"
     },
     "output_type": "display_data"
    }
   ],
   "source": [
    "plt.clf()\n",
    "\n",
    "data = [data_3_list, data_4_list, data_5_list]\n",
    "  \n",
    "fig = plt.figure(figsize =(10, 5))\n",
    "\n",
    "ax = fig.add_subplot(111)\n",
    "\n",
    "bp=ax.boxplot(data)\n",
    "plt.boxplot(data)\n",
    "plt.title(\"Boxplot for Highly Paid, Highly Educated Employees\")\n",
    "plt.ylabel(\"Age\")\n",
    "plt.xticks([1, 2, 3], ['Educ Level 3', 'Educ Level 4', 'Educ Level 5'])\n",
    "\n",
    "for box in bp['boxes']:\n",
    "    box.set(color='slategray', linewidth=5)\n",
    "plt.savefig(\"summary_high_paid_high_ed.jpg\")\n",
    "plt.show()"
   ]
  },
  {
   "cell_type": "markdown",
   "metadata": {},
   "source": [
    "Below are the 5 number summaries for each of the Education Levels 3, 4 and 5 in this boxplot.\n",
    "The summaries show the following in the age category: minimum, maximum, median, first quartile, and third quartile. A vertical line goes through the box at the median."
   ]
  },
  {
   "cell_type": "markdown",
   "metadata": {},
   "source": [
    "Age of Highly Paid employees with Education Level 3:"
   ]
  },
  {
   "cell_type": "code",
   "execution_count": 130,
   "metadata": {},
   "outputs": [
    {
     "name": "stdout",
     "output_type": "stream",
     "text": [
      "Min: 19\n",
      "Q1: 28.000\n",
      "Median: 40\n",
      "Q3: 54\n",
      "Max: 65\n"
     ]
    }
   ],
   "source": [
    "data_min, data_max = data_3_list.min(), data_3_list.max()\n",
    "quartiles = percentile(data_3_list, [25, 50, 75])\n",
    "# print 5-number summary\n",
    "print('Min: %.0f' % data_min)\n",
    "print('Q1: %.3f' % quartiles[0])\n",
    "print('Median: %.0f' % quartiles[1])\n",
    "print('Q3: %.0f' % quartiles[2])\n",
    "print('Max: %.0f' % data_max)"
   ]
  },
  {
   "cell_type": "markdown",
   "metadata": {},
   "source": [
    "-------------------------"
   ]
  },
  {
   "cell_type": "markdown",
   "metadata": {},
   "source": [
    "Age of Highly Paid employees with Education Level 4:"
   ]
  },
  {
   "cell_type": "code",
   "execution_count": 131,
   "metadata": {},
   "outputs": [
    {
     "name": "stdout",
     "output_type": "stream",
     "text": [
      "Min: 19\n",
      "Q1: 27.000\n",
      "Median: 37\n",
      "Q3: 52\n",
      "Max: 65\n"
     ]
    }
   ],
   "source": [
    "data_min, data_max = data_4_list.min(), data_4_list.max()\n",
    "quartiles = percentile(data_4_list, [25, 50, 75])\n",
    "# print 5-number summary\n",
    "print('Min: %.0f' % data_min)\n",
    "print('Q1: %.3f' % quartiles[0])\n",
    "print('Median: %.0f' % quartiles[1])\n",
    "print('Q3: %.0f' % quartiles[2])\n",
    "print('Max: %.0f' % data_max)"
   ]
  },
  {
   "cell_type": "markdown",
   "metadata": {},
   "source": [
    "------------------------------"
   ]
  },
  {
   "cell_type": "markdown",
   "metadata": {},
   "source": [
    "Age of Highly Paid employees with Education Level 5:"
   ]
  },
  {
   "cell_type": "code",
   "execution_count": 132,
   "metadata": {},
   "outputs": [
    {
     "name": "stdout",
     "output_type": "stream",
     "text": [
      "Min: 19\n",
      "Q1: 30.000\n",
      "Median: 42\n",
      "Q3: 52\n",
      "Max: 65\n"
     ]
    }
   ],
   "source": [
    "data_min, data_max = data_5_list.min(), data_5_list.max()\n",
    "quartiles = percentile(data_5_list, [25, 50, 75])\n",
    "# print 5-number summary\n",
    "print('Min: %.0f' % data_min)\n",
    "print('Q1: %.3f' % quartiles[0])\n",
    "print('Median: %.0f' % quartiles[1])\n",
    "print('Q3: %.0f' % quartiles[2])\n",
    "print('Max: %.0f' % data_max)"
   ]
  },
  {
   "cell_type": "markdown",
   "metadata": {},
   "source": [
    "Interesting to know that highly paid employees with an Education Level of 4 have a median age of 5 years younger than Education Level 5 and three years younger than Education Level 3. \n",
    "It will be important to keep developing the careers and hold on to these highly education employees as they progress toward their professional goals. "
   ]
  },
  {
   "cell_type": "markdown",
   "metadata": {},
   "source": [
    "---------------------------------------------------------"
   ]
  },
  {
   "cell_type": "markdown",
   "metadata": {},
   "source": [
    "Let's combine education levels 3-5 into one data set and take another look at the 5 number summary."
   ]
  },
  {
   "cell_type": "code",
   "execution_count": 160,
   "metadata": {},
   "outputs": [],
   "source": [
    "data_3_4_5=np.concatenate((data_3_list, data_4_list, data_5_list))"
   ]
  },
  {
   "cell_type": "code",
   "execution_count": 161,
   "metadata": {},
   "outputs": [
    {
     "data": {
      "text/plain": [
       "DescribeResult(nobs=974, minmax=(19.0, 65.0), mean=40.13552361396304, variance=187.37524242852712, skewness=0.15678013489932646, kurtosis=-1.2986668485275505)"
      ]
     },
     "execution_count": 161,
     "metadata": {},
     "output_type": "execute_result"
    }
   ],
   "source": [
    "stats.describe(data_3_4_5)\n",
    "# The average age of highly paid employees with education levels 3 or higher is 40.14"
   ]
  },
  {
   "cell_type": "code",
   "execution_count": 162,
   "metadata": {},
   "outputs": [],
   "source": [
    "quartiles = percentile(data_3_4_5, [25, 50, 75])"
   ]
  },
  {
   "cell_type": "code",
   "execution_count": 163,
   "metadata": {},
   "outputs": [
    {
     "data": {
      "text/plain": [
       "array([28., 39., 52.])"
      ]
     },
     "execution_count": 163,
     "metadata": {},
     "output_type": "execute_result"
    }
   ],
   "source": [
    "quartiles"
   ]
  },
  {
   "cell_type": "code",
   "execution_count": 139,
   "metadata": {},
   "outputs": [
    {
     "name": "stdout",
     "output_type": "stream",
     "text": [
      "Min: 19.000\n",
      "Q1: 28.000\n",
      "Median: 39.000\n",
      "Q3: 52.000\n",
      "Max: 65.000\n"
     ]
    }
   ],
   "source": [
    "# 5 number summary showing age of employees\n",
    "\n",
    "data_min, data_max = data_3_4_5.min(), data_3_4_5.max()\n",
    "# print 5-number summary\n",
    "print('Min: %.3f' % data_min)\n",
    "print('Q1: %.3f' % quartiles[0])\n",
    "print('Median: %.3f' % quartiles[1])\n",
    "print('Q3: %.3f' % quartiles[2])\n",
    "print('Max: %.3f' % data_max)"
   ]
  },
  {
   "cell_type": "markdown",
   "metadata": {},
   "source": [
    "The median age for all highly paid, highly educated employees is 39, which falls in line with the median age of all company employees. This tells us that there is a good balance in the company. If the median for highly paid, highly educated employees was far above the median, this would tell us that the company has an aging work force in some critical company positions. Balance is important as you don't want to lose too many critical employees to retirement in a short time span without having replacements ready to move into these roles."
   ]
  },
  {
   "cell_type": "code",
   "execution_count": 140,
   "metadata": {},
   "outputs": [
    {
     "data": {
      "text/html": [
       "<div>\n",
       "<style scoped>\n",
       "    .dataframe tbody tr th:only-of-type {\n",
       "        vertical-align: middle;\n",
       "    }\n",
       "\n",
       "    .dataframe tbody tr th {\n",
       "        vertical-align: top;\n",
       "    }\n",
       "\n",
       "    .dataframe thead tr th {\n",
       "        text-align: left;\n",
       "    }\n",
       "\n",
       "    .dataframe thead tr:last-of-type th {\n",
       "        text-align: right;\n",
       "    }\n",
       "</style>\n",
       "<table border=\"1\" class=\"dataframe\">\n",
       "  <thead>\n",
       "    <tr>\n",
       "      <th></th>\n",
       "      <th colspan=\"4\" halign=\"left\">Pay_Scale</th>\n",
       "    </tr>\n",
       "    <tr>\n",
       "      <th>Pay_Scale</th>\n",
       "      <th>7.0</th>\n",
       "      <th>8.0</th>\n",
       "      <th>9.0</th>\n",
       "      <th>10.0</th>\n",
       "    </tr>\n",
       "    <tr>\n",
       "      <th>Education_Level</th>\n",
       "      <th></th>\n",
       "      <th></th>\n",
       "      <th></th>\n",
       "      <th></th>\n",
       "    </tr>\n",
       "  </thead>\n",
       "  <tbody>\n",
       "    <tr>\n",
       "      <th>1</th>\n",
       "      <td>39</td>\n",
       "      <td>55</td>\n",
       "      <td>23</td>\n",
       "      <td>9</td>\n",
       "    </tr>\n",
       "    <tr>\n",
       "      <th>2</th>\n",
       "      <td>33</td>\n",
       "      <td>52</td>\n",
       "      <td>23</td>\n",
       "      <td>7</td>\n",
       "    </tr>\n",
       "    <tr>\n",
       "      <th>3</th>\n",
       "      <td>132</td>\n",
       "      <td>226</td>\n",
       "      <td>94</td>\n",
       "      <td>52</td>\n",
       "    </tr>\n",
       "    <tr>\n",
       "      <th>4</th>\n",
       "      <td>115</td>\n",
       "      <td>192</td>\n",
       "      <td>77</td>\n",
       "      <td>28</td>\n",
       "    </tr>\n",
       "    <tr>\n",
       "      <th>5</th>\n",
       "      <td>33</td>\n",
       "      <td>47</td>\n",
       "      <td>22</td>\n",
       "      <td>9</td>\n",
       "    </tr>\n",
       "  </tbody>\n",
       "</table>\n",
       "</div>"
      ],
      "text/plain": [
       "                Pay_Scale               \n",
       "Pay_Scale            7.0  8.0  9.0  10.0\n",
       "Education_Level                         \n",
       "1                      39   55   23    9\n",
       "2                      33   52   23    7\n",
       "3                     132  226   94   52\n",
       "4                     115  192   77   28\n",
       "5                      33   47   22    9"
      ]
     },
     "execution_count": 140,
     "metadata": {},
     "output_type": "execute_result"
    }
   ],
   "source": [
    "# Let's view high pay and education level in a pivot table\n",
    "high_pay.pivot_table(index='Education_Level', columns='Pay_Scale', aggfunc={'Pay_Scale':len}, fill_value=0)"
   ]
  },
  {
   "cell_type": "code",
   "execution_count": 141,
   "metadata": {},
   "outputs": [],
   "source": [
    "# high_pay.count() \n",
    "# =1268"
   ]
  },
  {
   "cell_type": "markdown",
   "metadata": {},
   "source": [
    "We can also view the percentage of highly paid employees by education levels 3, 4 and 5"
   ]
  },
  {
   "cell_type": "code",
   "execution_count": 142,
   "metadata": {},
   "outputs": [],
   "source": [
    "# pct_high_pay_ed_3=504/1268  \n",
    "# = 0.39747634069400634"
   ]
  },
  {
   "cell_type": "code",
   "execution_count": 143,
   "metadata": {},
   "outputs": [],
   "source": [
    "# pct_high_pay_ed_4= 412/1268   \n",
    "# = 0.3249211356466877"
   ]
  },
  {
   "cell_type": "code",
   "execution_count": 144,
   "metadata": {},
   "outputs": [],
   "source": [
    "# pct_high_pay_ed_5 = 111/1268  \n",
    "# = 0.08753943217665615"
   ]
  },
  {
   "cell_type": "markdown",
   "metadata": {},
   "source": [
    "Interesting to note that a much higher percentage of highly paid employees had an education level of 3 vs education level of 5"
   ]
  },
  {
   "cell_type": "code",
   "execution_count": 145,
   "metadata": {},
   "outputs": [
    {
     "data": {
      "text/plain": [
       "<Figure size 432x288 with 0 Axes>"
      ]
     },
     "metadata": {},
     "output_type": "display_data"
    },
    {
     "data": {
      "image/png": "[encoded data removed]",
      "text/plain": [
       "<Figure size 576x576 with 1 Axes>"
      ]
     },
     "metadata": {
      "needs_background": "light"
     },
     "output_type": "display_data"
    }
   ],
   "source": [
    "plt.clf()\n",
    "pct_high_pay_high_ed=[0.39747634069400634,0.3249211356466877, 0.08753943217665615]\n",
    "pos=[2,4,6]\n",
    "bars=('Ed Level 3', 'Ed Level 4', 'Ed Level 5') \n",
    "\n",
    "fig= plt.figure(figsize=(8,8))\n",
    "plt.bar(pos, pct_high_pay_high_ed, color=['deepskyblue', 'lightskyblue', 'lightskyblue'])\n",
    "plt.xticks(pos, bars, rotation=90, fontsize=10)\n",
    "plt.ylabel(\"By Percentage\")\n",
    "plt.title(\"Highly Paid Employees by Education Level\")\n",
    "plt.savefig(\"high_paid_by_Ed.jpg\")\n",
    "plt.show()"
   ]
  },
  {
   "cell_type": "markdown",
   "metadata": {},
   "source": [
    "Below let's find the relationship between relationship status and work life balance"
   ]
  },
  {
   "cell_type": "code",
   "execution_count": 146,
   "metadata": {},
   "outputs": [],
   "source": [
    "data_crosstab = pd.crosstab(df['Relationship_Status'],\n",
    "                            df['Work_Life_balance'], \n",
    "                               margins = False)"
   ]
  },
  {
   "cell_type": "code",
   "execution_count": 147,
   "metadata": {},
   "outputs": [
    {
     "data": {
      "text/html": [
       "<div>\n",
       "<style scoped>\n",
       "    .dataframe tbody tr th:only-of-type {\n",
       "        vertical-align: middle;\n",
       "    }\n",
       "\n",
       "    .dataframe tbody tr th {\n",
       "        vertical-align: top;\n",
       "    }\n",
       "\n",
       "    .dataframe thead th {\n",
       "        text-align: right;\n",
       "    }\n",
       "</style>\n",
       "<table border=\"1\" class=\"dataframe\">\n",
       "  <thead>\n",
       "    <tr style=\"text-align: right;\">\n",
       "      <th>Work_Life_balance</th>\n",
       "      <th>1.0</th>\n",
       "      <th>2.0</th>\n",
       "      <th>3.0</th>\n",
       "      <th>4.0</th>\n",
       "      <th>5.0</th>\n",
       "    </tr>\n",
       "    <tr>\n",
       "      <th>Relationship_Status</th>\n",
       "      <th></th>\n",
       "      <th></th>\n",
       "      <th></th>\n",
       "      <th></th>\n",
       "      <th></th>\n",
       "    </tr>\n",
       "  </thead>\n",
       "  <tbody>\n",
       "    <tr>\n",
       "      <th>0</th>\n",
       "      <td>332</td>\n",
       "      <td>226</td>\n",
       "      <td>294</td>\n",
       "      <td>183</td>\n",
       "      <td>24</td>\n",
       "    </tr>\n",
       "    <tr>\n",
       "      <th>1</th>\n",
       "      <td>577</td>\n",
       "      <td>446</td>\n",
       "      <td>541</td>\n",
       "      <td>339</td>\n",
       "      <td>33</td>\n",
       "    </tr>\n",
       "  </tbody>\n",
       "</table>\n",
       "</div>"
      ],
      "text/plain": [
       "Work_Life_balance    1.0  2.0  3.0  4.0  5.0\n",
       "Relationship_Status                         \n",
       "0                    332  226  294  183   24\n",
       "1                    577  446  541  339   33"
      ]
     },
     "execution_count": 147,
     "metadata": {},
     "output_type": "execute_result"
    }
   ],
   "source": [
    "data_crosstab\n",
    "# Work Life Balalnce by Relationship Status (single=0, married=1)"
   ]
  },
  {
   "cell_type": "code",
   "execution_count": 148,
   "metadata": {},
   "outputs": [],
   "source": [
    "#######Need to account for % of employees who are single vs married to accurately view relationship"
   ]
  },
  {
   "cell_type": "code",
   "execution_count": 149,
   "metadata": {},
   "outputs": [],
   "source": [
    "data_crosstab = pd.crosstab([df.Relationship_Status, df.Work_Life_balance], \n",
    "                             df.Pay_Scale, margins = False)"
   ]
  },
  {
   "cell_type": "code",
   "execution_count": 150,
   "metadata": {},
   "outputs": [
    {
     "data": {
      "text/html": [
       "<div>\n",
       "<style scoped>\n",
       "    .dataframe tbody tr th:only-of-type {\n",
       "        vertical-align: middle;\n",
       "    }\n",
       "\n",
       "    .dataframe tbody tr th {\n",
       "        vertical-align: top;\n",
       "    }\n",
       "\n",
       "    .dataframe thead th {\n",
       "        text-align: right;\n",
       "    }\n",
       "</style>\n",
       "<table border=\"1\" class=\"dataframe\">\n",
       "  <thead>\n",
       "    <tr style=\"text-align: right;\">\n",
       "      <th></th>\n",
       "      <th>Pay_Scale</th>\n",
       "      <th>1.0</th>\n",
       "      <th>2.0</th>\n",
       "      <th>3.0</th>\n",
       "      <th>4.0</th>\n",
       "      <th>5.0</th>\n",
       "      <th>6.0</th>\n",
       "      <th>7.0</th>\n",
       "      <th>8.0</th>\n",
       "      <th>9.0</th>\n",
       "      <th>10.0</th>\n",
       "    </tr>\n",
       "    <tr>\n",
       "      <th>Relationship_Status</th>\n",
       "      <th>Work_Life_balance</th>\n",
       "      <th></th>\n",
       "      <th></th>\n",
       "      <th></th>\n",
       "      <th></th>\n",
       "      <th></th>\n",
       "      <th></th>\n",
       "      <th></th>\n",
       "      <th></th>\n",
       "      <th></th>\n",
       "      <th></th>\n",
       "    </tr>\n",
       "  </thead>\n",
       "  <tbody>\n",
       "    <tr>\n",
       "      <th rowspan=\"5\" valign=\"top\">0</th>\n",
       "      <th>1.0</th>\n",
       "      <td>7</td>\n",
       "      <td>14</td>\n",
       "      <td>12</td>\n",
       "      <td>41</td>\n",
       "      <td>49</td>\n",
       "      <td>53</td>\n",
       "      <td>53</td>\n",
       "      <td>59</td>\n",
       "      <td>34</td>\n",
       "      <td>9</td>\n",
       "    </tr>\n",
       "    <tr>\n",
       "      <th>2.0</th>\n",
       "      <td>8</td>\n",
       "      <td>8</td>\n",
       "      <td>8</td>\n",
       "      <td>32</td>\n",
       "      <td>40</td>\n",
       "      <td>36</td>\n",
       "      <td>23</td>\n",
       "      <td>51</td>\n",
       "      <td>15</td>\n",
       "      <td>5</td>\n",
       "    </tr>\n",
       "    <tr>\n",
       "      <th>3.0</th>\n",
       "      <td>5</td>\n",
       "      <td>10</td>\n",
       "      <td>9</td>\n",
       "      <td>38</td>\n",
       "      <td>45</td>\n",
       "      <td>60</td>\n",
       "      <td>36</td>\n",
       "      <td>53</td>\n",
       "      <td>28</td>\n",
       "      <td>10</td>\n",
       "    </tr>\n",
       "    <tr>\n",
       "      <th>4.0</th>\n",
       "      <td>6</td>\n",
       "      <td>6</td>\n",
       "      <td>9</td>\n",
       "      <td>24</td>\n",
       "      <td>30</td>\n",
       "      <td>38</td>\n",
       "      <td>16</td>\n",
       "      <td>31</td>\n",
       "      <td>15</td>\n",
       "      <td>8</td>\n",
       "    </tr>\n",
       "    <tr>\n",
       "      <th>5.0</th>\n",
       "      <td>1</td>\n",
       "      <td>1</td>\n",
       "      <td>2</td>\n",
       "      <td>2</td>\n",
       "      <td>4</td>\n",
       "      <td>5</td>\n",
       "      <td>3</td>\n",
       "      <td>5</td>\n",
       "      <td>1</td>\n",
       "      <td>0</td>\n",
       "    </tr>\n",
       "    <tr>\n",
       "      <th rowspan=\"5\" valign=\"top\">1</th>\n",
       "      <th>1.0</th>\n",
       "      <td>13</td>\n",
       "      <td>17</td>\n",
       "      <td>20</td>\n",
       "      <td>78</td>\n",
       "      <td>87</td>\n",
       "      <td>96</td>\n",
       "      <td>74</td>\n",
       "      <td>128</td>\n",
       "      <td>40</td>\n",
       "      <td>24</td>\n",
       "    </tr>\n",
       "    <tr>\n",
       "      <th>2.0</th>\n",
       "      <td>10</td>\n",
       "      <td>12</td>\n",
       "      <td>11</td>\n",
       "      <td>63</td>\n",
       "      <td>76</td>\n",
       "      <td>85</td>\n",
       "      <td>43</td>\n",
       "      <td>96</td>\n",
       "      <td>27</td>\n",
       "      <td>22</td>\n",
       "    </tr>\n",
       "    <tr>\n",
       "      <th>3.0</th>\n",
       "      <td>17</td>\n",
       "      <td>18</td>\n",
       "      <td>24</td>\n",
       "      <td>90</td>\n",
       "      <td>82</td>\n",
       "      <td>103</td>\n",
       "      <td>56</td>\n",
       "      <td>87</td>\n",
       "      <td>50</td>\n",
       "      <td>13</td>\n",
       "    </tr>\n",
       "    <tr>\n",
       "      <th>4.0</th>\n",
       "      <td>7</td>\n",
       "      <td>19</td>\n",
       "      <td>16</td>\n",
       "      <td>50</td>\n",
       "      <td>58</td>\n",
       "      <td>54</td>\n",
       "      <td>44</td>\n",
       "      <td>56</td>\n",
       "      <td>23</td>\n",
       "      <td>12</td>\n",
       "    </tr>\n",
       "    <tr>\n",
       "      <th>5.0</th>\n",
       "      <td>0</td>\n",
       "      <td>1</td>\n",
       "      <td>0</td>\n",
       "      <td>4</td>\n",
       "      <td>8</td>\n",
       "      <td>6</td>\n",
       "      <td>4</td>\n",
       "      <td>6</td>\n",
       "      <td>3</td>\n",
       "      <td>1</td>\n",
       "    </tr>\n",
       "  </tbody>\n",
       "</table>\n",
       "</div>"
      ],
      "text/plain": [
       "Pay_Scale                              1.0   2.0   3.0   4.0   5.0   6.0   \\\n",
       "Relationship_Status Work_Life_balance                                       \n",
       "0                   1.0                   7    14    12    41    49    53   \n",
       "                    2.0                   8     8     8    32    40    36   \n",
       "                    3.0                   5    10     9    38    45    60   \n",
       "                    4.0                   6     6     9    24    30    38   \n",
       "                    5.0                   1     1     2     2     4     5   \n",
       "1                   1.0                  13    17    20    78    87    96   \n",
       "                    2.0                  10    12    11    63    76    85   \n",
       "                    3.0                  17    18    24    90    82   103   \n",
       "                    4.0                   7    19    16    50    58    54   \n",
       "                    5.0                   0     1     0     4     8     6   \n",
       "\n",
       "Pay_Scale                              7.0   8.0   9.0   10.0  \n",
       "Relationship_Status Work_Life_balance                          \n",
       "0                   1.0                  53    59    34     9  \n",
       "                    2.0                  23    51    15     5  \n",
       "                    3.0                  36    53    28    10  \n",
       "                    4.0                  16    31    15     8  \n",
       "                    5.0                   3     5     1     0  \n",
       "1                   1.0                  74   128    40    24  \n",
       "                    2.0                  43    96    27    22  \n",
       "                    3.0                  56    87    50    13  \n",
       "                    4.0                  44    56    23    12  \n",
       "                    5.0                   4     6     3     1  "
      ]
     },
     "execution_count": 150,
     "metadata": {},
     "output_type": "execute_result"
    }
   ],
   "source": [
    "data_crosstab\n",
    "# Here we see the relationship of Pay Scale and relationship status by Work Life Balance; (single=0, married=1)"
   ]
  },
  {
   "cell_type": "code",
   "execution_count": 151,
   "metadata": {},
   "outputs": [],
   "source": [
    "data_crosstab = pd.crosstab([df.Relationship_Status, df.Pay_Scale], \n",
    "                             df.Work_Life_balance, margins = False)   "
   ]
  },
  {
   "cell_type": "code",
   "execution_count": 152,
   "metadata": {},
   "outputs": [
    {
     "data": {
      "text/html": [
       "<div>\n",
       "<style scoped>\n",
       "    .dataframe tbody tr th:only-of-type {\n",
       "        vertical-align: middle;\n",
       "    }\n",
       "\n",
       "    .dataframe tbody tr th {\n",
       "        vertical-align: top;\n",
       "    }\n",
       "\n",
       "    .dataframe thead th {\n",
       "        text-align: right;\n",
       "    }\n",
       "</style>\n",
       "<table border=\"1\" class=\"dataframe\">\n",
       "  <thead>\n",
       "    <tr style=\"text-align: right;\">\n",
       "      <th></th>\n",
       "      <th>Work_Life_balance</th>\n",
       "      <th>1.0</th>\n",
       "      <th>2.0</th>\n",
       "      <th>3.0</th>\n",
       "      <th>4.0</th>\n",
       "      <th>5.0</th>\n",
       "    </tr>\n",
       "    <tr>\n",
       "      <th>Relationship_Status</th>\n",
       "      <th>Pay_Scale</th>\n",
       "      <th></th>\n",
       "      <th></th>\n",
       "      <th></th>\n",
       "      <th></th>\n",
       "      <th></th>\n",
       "    </tr>\n",
       "  </thead>\n",
       "  <tbody>\n",
       "    <tr>\n",
       "      <th rowspan=\"10\" valign=\"top\">0</th>\n",
       "      <th>1.0</th>\n",
       "      <td>7</td>\n",
       "      <td>8</td>\n",
       "      <td>5</td>\n",
       "      <td>6</td>\n",
       "      <td>1</td>\n",
       "    </tr>\n",
       "    <tr>\n",
       "      <th>2.0</th>\n",
       "      <td>14</td>\n",
       "      <td>8</td>\n",
       "      <td>10</td>\n",
       "      <td>6</td>\n",
       "      <td>1</td>\n",
       "    </tr>\n",
       "    <tr>\n",
       "      <th>3.0</th>\n",
       "      <td>12</td>\n",
       "      <td>8</td>\n",
       "      <td>9</td>\n",
       "      <td>9</td>\n",
       "      <td>2</td>\n",
       "    </tr>\n",
       "    <tr>\n",
       "      <th>4.0</th>\n",
       "      <td>41</td>\n",
       "      <td>32</td>\n",
       "      <td>38</td>\n",
       "      <td>24</td>\n",
       "      <td>2</td>\n",
       "    </tr>\n",
       "    <tr>\n",
       "      <th>5.0</th>\n",
       "      <td>49</td>\n",
       "      <td>40</td>\n",
       "      <td>45</td>\n",
       "      <td>30</td>\n",
       "      <td>4</td>\n",
       "    </tr>\n",
       "    <tr>\n",
       "      <th>6.0</th>\n",
       "      <td>53</td>\n",
       "      <td>36</td>\n",
       "      <td>60</td>\n",
       "      <td>38</td>\n",
       "      <td>5</td>\n",
       "    </tr>\n",
       "    <tr>\n",
       "      <th>7.0</th>\n",
       "      <td>53</td>\n",
       "      <td>23</td>\n",
       "      <td>36</td>\n",
       "      <td>16</td>\n",
       "      <td>3</td>\n",
       "    </tr>\n",
       "    <tr>\n",
       "      <th>8.0</th>\n",
       "      <td>59</td>\n",
       "      <td>51</td>\n",
       "      <td>53</td>\n",
       "      <td>31</td>\n",
       "      <td>5</td>\n",
       "    </tr>\n",
       "    <tr>\n",
       "      <th>9.0</th>\n",
       "      <td>34</td>\n",
       "      <td>15</td>\n",
       "      <td>28</td>\n",
       "      <td>15</td>\n",
       "      <td>1</td>\n",
       "    </tr>\n",
       "    <tr>\n",
       "      <th>10.0</th>\n",
       "      <td>9</td>\n",
       "      <td>5</td>\n",
       "      <td>10</td>\n",
       "      <td>8</td>\n",
       "      <td>0</td>\n",
       "    </tr>\n",
       "    <tr>\n",
       "      <th rowspan=\"10\" valign=\"top\">1</th>\n",
       "      <th>1.0</th>\n",
       "      <td>13</td>\n",
       "      <td>10</td>\n",
       "      <td>17</td>\n",
       "      <td>7</td>\n",
       "      <td>0</td>\n",
       "    </tr>\n",
       "    <tr>\n",
       "      <th>2.0</th>\n",
       "      <td>17</td>\n",
       "      <td>12</td>\n",
       "      <td>18</td>\n",
       "      <td>19</td>\n",
       "      <td>1</td>\n",
       "    </tr>\n",
       "    <tr>\n",
       "      <th>3.0</th>\n",
       "      <td>20</td>\n",
       "      <td>11</td>\n",
       "      <td>24</td>\n",
       "      <td>16</td>\n",
       "      <td>0</td>\n",
       "    </tr>\n",
       "    <tr>\n",
       "      <th>4.0</th>\n",
       "      <td>78</td>\n",
       "      <td>63</td>\n",
       "      <td>90</td>\n",
       "      <td>50</td>\n",
       "      <td>4</td>\n",
       "    </tr>\n",
       "    <tr>\n",
       "      <th>5.0</th>\n",
       "      <td>87</td>\n",
       "      <td>76</td>\n",
       "      <td>82</td>\n",
       "      <td>58</td>\n",
       "      <td>8</td>\n",
       "    </tr>\n",
       "    <tr>\n",
       "      <th>6.0</th>\n",
       "      <td>96</td>\n",
       "      <td>85</td>\n",
       "      <td>103</td>\n",
       "      <td>54</td>\n",
       "      <td>6</td>\n",
       "    </tr>\n",
       "    <tr>\n",
       "      <th>7.0</th>\n",
       "      <td>74</td>\n",
       "      <td>43</td>\n",
       "      <td>56</td>\n",
       "      <td>44</td>\n",
       "      <td>4</td>\n",
       "    </tr>\n",
       "    <tr>\n",
       "      <th>8.0</th>\n",
       "      <td>128</td>\n",
       "      <td>96</td>\n",
       "      <td>87</td>\n",
       "      <td>56</td>\n",
       "      <td>6</td>\n",
       "    </tr>\n",
       "    <tr>\n",
       "      <th>9.0</th>\n",
       "      <td>40</td>\n",
       "      <td>27</td>\n",
       "      <td>50</td>\n",
       "      <td>23</td>\n",
       "      <td>3</td>\n",
       "    </tr>\n",
       "    <tr>\n",
       "      <th>10.0</th>\n",
       "      <td>24</td>\n",
       "      <td>22</td>\n",
       "      <td>13</td>\n",
       "      <td>12</td>\n",
       "      <td>1</td>\n",
       "    </tr>\n",
       "  </tbody>\n",
       "</table>\n",
       "</div>"
      ],
      "text/plain": [
       "Work_Life_balance              1.0  2.0  3.0  4.0  5.0\n",
       "Relationship_Status Pay_Scale                         \n",
       "0                   1.0          7    8    5    6    1\n",
       "                    2.0         14    8   10    6    1\n",
       "                    3.0         12    8    9    9    2\n",
       "                    4.0         41   32   38   24    2\n",
       "                    5.0         49   40   45   30    4\n",
       "                    6.0         53   36   60   38    5\n",
       "                    7.0         53   23   36   16    3\n",
       "                    8.0         59   51   53   31    5\n",
       "                    9.0         34   15   28   15    1\n",
       "                    10.0         9    5   10    8    0\n",
       "1                   1.0         13   10   17    7    0\n",
       "                    2.0         17   12   18   19    1\n",
       "                    3.0         20   11   24   16    0\n",
       "                    4.0         78   63   90   50    4\n",
       "                    5.0         87   76   82   58    8\n",
       "                    6.0         96   85  103   54    6\n",
       "                    7.0         74   43   56   44    4\n",
       "                    8.0        128   96   87   56    6\n",
       "                    9.0         40   27   50   23    3\n",
       "                    10.0        24   22   13   12    1"
      ]
     },
     "execution_count": 152,
     "metadata": {},
     "output_type": "execute_result"
    }
   ],
   "source": [
    "data_crosstab\n",
    "# Another view of the data: Work Life balance and relationship status by Payscale; (single=0, married=1)"
   ]
  },
  {
   "cell_type": "code",
   "execution_count": 153,
   "metadata": {},
   "outputs": [
    {
     "data": {
      "image/png": "[encoded data removed]",
      "text/plain": [
       "<Figure size 720x720 with 1 Axes>"
      ]
     },
     "metadata": {
      "needs_background": "light"
     },
     "output_type": "display_data"
    }
   ],
   "source": [
    "data_crosstab.plot.bar(figsize=(10,10),stacked=True)\n",
    "plt.title(\"Relationship Stauts and Pay Scale by Work Life Balance\")\n",
    "plt.xlabel(\"Relationship Status: 0=Single / Married=1, and Pay Scale 1-10\")\n",
    "plt.ylabel(\"Number of Employees\")\n",
    "plt.savefig(\"relationship_status_&_payscale_by_wlb.jpg\")\n",
    "plt.show()"
   ]
  },
  {
   "cell_type": "code",
   "execution_count": 154,
   "metadata": {},
   "outputs": [],
   "source": [
    "# The below histogram doesn't make much sense, work on this"
   ]
  },
  {
   "cell_type": "code",
   "execution_count": 155,
   "metadata": {},
   "outputs": [
    {
     "data": {
      "image/png": "[encoded data removed]",
      "text/plain": [
       "<Figure size 432x288 with 1 Axes>"
      ]
     },
     "metadata": {
      "needs_background": "light"
     },
     "output_type": "display_data"
    }
   ],
   "source": [
    "plt.clf()\n",
    "x = [data_3_list, data_4_list, data_5_list]\n",
    "plt.hist(x, bins = 1)\n",
    "plt.show()"
   ]
  }
 ],
 "metadata": {
  "kernelspec": {
   "display_name": "Python 3",
   "language": "python",
   "name": "python3"
  },
  "language_info": {
   "codemirror_mode": {
    "name": "ipython",
    "version": 3
   },
   "file_extension": ".py",
   "mimetype": "text/x-python",
   "name": "python",
   "nbconvert_exporter": "python",
   "pygments_lexer": "ipython3",
   "version": "3.8.2"
  }
 },
 "nbformat": 4,
 "nbformat_minor": 4
}
